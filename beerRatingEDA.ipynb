{
 "cells": [
  {
   "cell_type": "markdown",
   "metadata": {},
   "source": [
    "# Exploratory Data analysis , Data cleaning , Data Visualization "
   ]
  },
  {
   "cell_type": "code",
   "execution_count": null,
   "metadata": {},
   "outputs": [],
   "source": [
    "import pandas as pd\n",
    "import csv\n",
    "# Importing libraries.\n",
    "\n",
    "import numpy as np # linear algebra\n",
    "import pandas as pd # data processing, CSV file I/O (e.g. pd.read_csv)\n",
    "import matplotlib.pyplot as plt\n",
    "import seaborn as sns\n",
    "from wordcloud import WordCloud, STOPWORDS\n",
    "import nltk\n",
    "from sklearn.preprocessing import OneHotEncoder\n",
    "import scipy as sp\n"
   ]
  },
  {
   "cell_type": "code",
   "execution_count": 2,
   "metadata": {},
   "outputs": [],
   "source": [
    "#import the dataset\n",
    "df=pd.read_csv(\"train.csv\")"
   ]
  },
  {
   "cell_type": "code",
   "execution_count": 3,
   "metadata": {},
   "outputs": [
    {
     "data": {
      "text/html": [
       "<div>\n",
       "<style scoped>\n",
       "    .dataframe tbody tr th:only-of-type {\n",
       "        vertical-align: middle;\n",
       "    }\n",
       "\n",
       "    .dataframe tbody tr th {\n",
       "        vertical-align: top;\n",
       "    }\n",
       "\n",
       "    .dataframe thead th {\n",
       "        text-align: right;\n",
       "    }\n",
       "</style>\n",
       "<table border=\"1\" class=\"dataframe\">\n",
       "  <thead>\n",
       "    <tr style=\"text-align: right;\">\n",
       "      <th></th>\n",
       "      <th>index</th>\n",
       "      <th>beer/ABV</th>\n",
       "      <th>beer/beerId</th>\n",
       "      <th>beer/brewerId</th>\n",
       "      <th>beer/name</th>\n",
       "      <th>beer/style</th>\n",
       "      <th>review/appearance</th>\n",
       "      <th>review/aroma</th>\n",
       "      <th>review/overall</th>\n",
       "      <th>review/palate</th>\n",
       "      <th>review/taste</th>\n",
       "      <th>review/text</th>\n",
       "      <th>review/timeStruct</th>\n",
       "      <th>review/timeUnix</th>\n",
       "      <th>user/ageInSeconds</th>\n",
       "      <th>user/birthdayRaw</th>\n",
       "      <th>user/birthdayUnix</th>\n",
       "      <th>user/gender</th>\n",
       "      <th>user/profileName</th>\n",
       "    </tr>\n",
       "  </thead>\n",
       "  <tbody>\n",
       "    <tr>\n",
       "      <th>0</th>\n",
       "      <td>40163</td>\n",
       "      <td>5.0</td>\n",
       "      <td>46634</td>\n",
       "      <td>14338</td>\n",
       "      <td>Chiostro</td>\n",
       "      <td>Herbed / Spiced Beer</td>\n",
       "      <td>4.0</td>\n",
       "      <td>4.0</td>\n",
       "      <td>4.0</td>\n",
       "      <td>4.0</td>\n",
       "      <td>4.0</td>\n",
       "      <td>Pours a clouded gold with a thin white head. N...</td>\n",
       "      <td>{'min': 38, 'hour': 3, 'mday': 16, 'sec': 10, ...</td>\n",
       "      <td>1229398690</td>\n",
       "      <td>NaN</td>\n",
       "      <td>NaN</td>\n",
       "      <td>NaN</td>\n",
       "      <td>NaN</td>\n",
       "      <td>RblWthACoz</td>\n",
       "    </tr>\n",
       "    <tr>\n",
       "      <th>1</th>\n",
       "      <td>8135</td>\n",
       "      <td>11.0</td>\n",
       "      <td>3003</td>\n",
       "      <td>395</td>\n",
       "      <td>Bearded Pat's Barleywine</td>\n",
       "      <td>American Barleywine</td>\n",
       "      <td>4.0</td>\n",
       "      <td>3.5</td>\n",
       "      <td>3.5</td>\n",
       "      <td>3.5</td>\n",
       "      <td>3.0</td>\n",
       "      <td>12oz bottle into 8oz snifter.\\t\\tDeep ruby red...</td>\n",
       "      <td>{'min': 38, 'hour': 23, 'mday': 8, 'sec': 58, ...</td>\n",
       "      <td>1218238738</td>\n",
       "      <td>NaN</td>\n",
       "      <td>NaN</td>\n",
       "      <td>NaN</td>\n",
       "      <td>NaN</td>\n",
       "      <td>BeerSox</td>\n",
       "    </tr>\n",
       "    <tr>\n",
       "      <th>2</th>\n",
       "      <td>10529</td>\n",
       "      <td>4.7</td>\n",
       "      <td>961</td>\n",
       "      <td>365</td>\n",
       "      <td>Naughty Nellie's Ale</td>\n",
       "      <td>American Pale Ale (APA)</td>\n",
       "      <td>3.5</td>\n",
       "      <td>4.0</td>\n",
       "      <td>3.5</td>\n",
       "      <td>3.5</td>\n",
       "      <td>3.5</td>\n",
       "      <td>First enjoyed at the brewpub about 2 years ago...</td>\n",
       "      <td>{'min': 7, 'hour': 18, 'mday': 26, 'sec': 2, '...</td>\n",
       "      <td>1101492422</td>\n",
       "      <td>NaN</td>\n",
       "      <td>NaN</td>\n",
       "      <td>NaN</td>\n",
       "      <td>Male</td>\n",
       "      <td>mschofield</td>\n",
       "    </tr>\n",
       "    <tr>\n",
       "      <th>3</th>\n",
       "      <td>44610</td>\n",
       "      <td>4.4</td>\n",
       "      <td>429</td>\n",
       "      <td>1</td>\n",
       "      <td>Pilsner Urquell</td>\n",
       "      <td>Czech Pilsener</td>\n",
       "      <td>3.0</td>\n",
       "      <td>3.0</td>\n",
       "      <td>2.5</td>\n",
       "      <td>3.0</td>\n",
       "      <td>3.0</td>\n",
       "      <td>First thing I noticed after pouring from green...</td>\n",
       "      <td>{'min': 7, 'hour': 1, 'mday': 20, 'sec': 5, 'y...</td>\n",
       "      <td>1308532025</td>\n",
       "      <td>1.209827e+09</td>\n",
       "      <td>Aug 10, 1976</td>\n",
       "      <td>208508400.0</td>\n",
       "      <td>Male</td>\n",
       "      <td>molegar76</td>\n",
       "    </tr>\n",
       "    <tr>\n",
       "      <th>4</th>\n",
       "      <td>37062</td>\n",
       "      <td>4.4</td>\n",
       "      <td>4904</td>\n",
       "      <td>1417</td>\n",
       "      <td>Black Sheep Ale (Special)</td>\n",
       "      <td>English Pale Ale</td>\n",
       "      <td>4.0</td>\n",
       "      <td>3.0</td>\n",
       "      <td>3.0</td>\n",
       "      <td>3.5</td>\n",
       "      <td>2.5</td>\n",
       "      <td>A: pours an amber with a one finger head but o...</td>\n",
       "      <td>{'min': 51, 'hour': 6, 'mday': 12, 'sec': 48, ...</td>\n",
       "      <td>1299912708</td>\n",
       "      <td>NaN</td>\n",
       "      <td>NaN</td>\n",
       "      <td>NaN</td>\n",
       "      <td>NaN</td>\n",
       "      <td>Brewbro000</td>\n",
       "    </tr>\n",
       "  </tbody>\n",
       "</table>\n",
       "</div>"
      ],
      "text/plain": [
       "   index  beer/ABV  beer/beerId  beer/brewerId                  beer/name  \\\n",
       "0  40163       5.0        46634          14338                   Chiostro   \n",
       "1   8135      11.0         3003            395   Bearded Pat's Barleywine   \n",
       "2  10529       4.7          961            365       Naughty Nellie's Ale   \n",
       "3  44610       4.4          429              1            Pilsner Urquell   \n",
       "4  37062       4.4         4904           1417  Black Sheep Ale (Special)   \n",
       "\n",
       "                beer/style  review/appearance  review/aroma  review/overall  \\\n",
       "0     Herbed / Spiced Beer                4.0           4.0             4.0   \n",
       "1      American Barleywine                4.0           3.5             3.5   \n",
       "2  American Pale Ale (APA)                3.5           4.0             3.5   \n",
       "3           Czech Pilsener                3.0           3.0             2.5   \n",
       "4         English Pale Ale                4.0           3.0             3.0   \n",
       "\n",
       "   review/palate  review/taste  \\\n",
       "0            4.0           4.0   \n",
       "1            3.5           3.0   \n",
       "2            3.5           3.5   \n",
       "3            3.0           3.0   \n",
       "4            3.5           2.5   \n",
       "\n",
       "                                         review/text  \\\n",
       "0  Pours a clouded gold with a thin white head. N...   \n",
       "1  12oz bottle into 8oz snifter.\\t\\tDeep ruby red...   \n",
       "2  First enjoyed at the brewpub about 2 years ago...   \n",
       "3  First thing I noticed after pouring from green...   \n",
       "4  A: pours an amber with a one finger head but o...   \n",
       "\n",
       "                                   review/timeStruct  review/timeUnix  \\\n",
       "0  {'min': 38, 'hour': 3, 'mday': 16, 'sec': 10, ...       1229398690   \n",
       "1  {'min': 38, 'hour': 23, 'mday': 8, 'sec': 58, ...       1218238738   \n",
       "2  {'min': 7, 'hour': 18, 'mday': 26, 'sec': 2, '...       1101492422   \n",
       "3  {'min': 7, 'hour': 1, 'mday': 20, 'sec': 5, 'y...       1308532025   \n",
       "4  {'min': 51, 'hour': 6, 'mday': 12, 'sec': 48, ...       1299912708   \n",
       "\n",
       "   user/ageInSeconds user/birthdayRaw  user/birthdayUnix user/gender  \\\n",
       "0                NaN              NaN                NaN         NaN   \n",
       "1                NaN              NaN                NaN         NaN   \n",
       "2                NaN              NaN                NaN        Male   \n",
       "3       1.209827e+09     Aug 10, 1976        208508400.0        Male   \n",
       "4                NaN              NaN                NaN         NaN   \n",
       "\n",
       "  user/profileName  \n",
       "0       RblWthACoz  \n",
       "1          BeerSox  \n",
       "2       mschofield  \n",
       "3        molegar76  \n",
       "4       Brewbro000  "
      ]
     },
     "execution_count": 3,
     "metadata": {},
     "output_type": "execute_result"
    }
   ],
   "source": [
    "df.head()"
   ]
  },
  {
   "cell_type": "code",
   "execution_count": 4,
   "metadata": {},
   "outputs": [
    {
     "data": {
      "text/plain": [
       "(37500, 19)"
      ]
     },
     "execution_count": 4,
     "metadata": {},
     "output_type": "execute_result"
    }
   ],
   "source": [
    "df.shape\n"
   ]
  },
  {
   "cell_type": "code",
   "execution_count": 5,
   "metadata": {},
   "outputs": [
    {
     "name": "stdout",
     "output_type": "stream",
     "text": [
      "<class 'pandas.core.frame.DataFrame'>\n",
      "RangeIndex: 37500 entries, 0 to 37499\n",
      "Data columns (total 19 columns):\n",
      " #   Column             Non-Null Count  Dtype  \n",
      "---  ------             --------------  -----  \n",
      " 0   index              37500 non-null  int64  \n",
      " 1   beer/ABV           37500 non-null  float64\n",
      " 2   beer/beerId        37500 non-null  int64  \n",
      " 3   beer/brewerId      37500 non-null  int64  \n",
      " 4   beer/name          37500 non-null  object \n",
      " 5   beer/style         37500 non-null  object \n",
      " 6   review/appearance  37500 non-null  float64\n",
      " 7   review/aroma       37500 non-null  float64\n",
      " 8   review/overall     37500 non-null  float64\n",
      " 9   review/palate      37500 non-null  float64\n",
      " 10  review/taste       37500 non-null  float64\n",
      " 11  review/text        37490 non-null  object \n",
      " 12  review/timeStruct  37500 non-null  object \n",
      " 13  review/timeUnix    37500 non-null  int64  \n",
      " 14  user/ageInSeconds  7856 non-null   float64\n",
      " 15  user/birthdayRaw   7856 non-null   object \n",
      " 16  user/birthdayUnix  7856 non-null   float64\n",
      " 17  user/gender        15314 non-null  object \n",
      " 18  user/profileName   37495 non-null  object \n",
      "dtypes: float64(8), int64(4), object(7)\n",
      "memory usage: 5.4+ MB\n"
     ]
    }
   ],
   "source": [
    "df.info()"
   ]
  },
  {
   "cell_type": "code",
   "execution_count": 6,
   "metadata": {},
   "outputs": [
    {
     "data": {
      "text/plain": [
       "index                37500\n",
       "beer/ABV             37500\n",
       "beer/beerId          37500\n",
       "beer/brewerId        37500\n",
       "beer/name            37500\n",
       "beer/style           37500\n",
       "review/appearance    37500\n",
       "review/aroma         37500\n",
       "review/overall       37500\n",
       "review/palate        37500\n",
       "review/taste         37500\n",
       "review/text          37490\n",
       "review/timeStruct    37500\n",
       "review/timeUnix      37500\n",
       "user/ageInSeconds     7856\n",
       "user/birthdayRaw      7856\n",
       "user/birthdayUnix     7856\n",
       "user/gender          15314\n",
       "user/profileName     37495\n",
       "dtype: int64"
      ]
     },
     "execution_count": 6,
     "metadata": {},
     "output_type": "execute_result"
    }
   ],
   "source": [
    "df.count()"
   ]
  },
  {
   "cell_type": "markdown",
   "metadata": {},
   "source": [
    "### The dataset now contains a mix of numeric and categorical variables."
   ]
  },
  {
   "cell_type": "code",
   "execution_count": 7,
   "metadata": {},
   "outputs": [
    {
     "name": "stdout",
     "output_type": "stream",
     "text": [
      "<class 'pandas.core.frame.DataFrame'>\n",
      "RangeIndex: 37500 entries, 0 to 37499\n",
      "Data columns (total 19 columns):\n",
      " #   Column             Non-Null Count  Dtype   \n",
      "---  ------             --------------  -----   \n",
      " 0   index              37500 non-null  int64   \n",
      " 1   beer/ABV           37500 non-null  float64 \n",
      " 2   beer/beerId        37500 non-null  int64   \n",
      " 3   beer/brewerId      37500 non-null  int64   \n",
      " 4   beer/name          37500 non-null  category\n",
      " 5   beer/style         37500 non-null  category\n",
      " 6   review/appearance  37500 non-null  float64 \n",
      " 7   review/aroma       37500 non-null  float64 \n",
      " 8   review/overall     37500 non-null  float64 \n",
      " 9   review/palate      37500 non-null  float64 \n",
      " 10  review/taste       37500 non-null  float64 \n",
      " 11  review/text        37490 non-null  category\n",
      " 12  review/timeStruct  37500 non-null  category\n",
      " 13  review/timeUnix    37500 non-null  int64   \n",
      " 14  user/ageInSeconds  7856 non-null   float64 \n",
      " 15  user/birthdayRaw   7856 non-null   category\n",
      " 16  user/birthdayUnix  7856 non-null   float64 \n",
      " 17  user/gender        15314 non-null  category\n",
      " 18  user/profileName   37495 non-null  category\n",
      "dtypes: category(7), float64(8), int64(4)\n",
      "memory usage: 7.6 MB\n"
     ]
    }
   ],
   "source": [
    "# Types of data\n",
    "df[df.select_dtypes(['object']).columns] = df.select_dtypes(['object']).apply(lambda x: x.astype('category'))\n",
    "\n",
    "# Examine structure \n",
    "df.info()"
   ]
  },
  {
   "cell_type": "markdown",
   "metadata": {},
   "source": [
    "### DATA CLEANING\n",
    "\n",
    "1. Missing data\n",
    "2. Duplicate data\n",
    "3. Unsuitable data"
   ]
  },
  {
   "cell_type": "markdown",
   "metadata": {},
   "source": [
    "1. Missing data"
   ]
  },
  {
   "cell_type": "code",
   "execution_count": 8,
   "metadata": {},
   "outputs": [
    {
     "name": "stdout",
     "output_type": "stream",
     "text": [
      "index                    0\n",
      "beer/ABV                 0\n",
      "beer/beerId              0\n",
      "beer/brewerId            0\n",
      "beer/name                0\n",
      "beer/style               0\n",
      "review/appearance        0\n",
      "review/aroma             0\n",
      "review/overall           0\n",
      "review/palate            0\n",
      "review/taste             0\n",
      "review/text             10\n",
      "review/timeStruct        0\n",
      "review/timeUnix          0\n",
      "user/ageInSeconds    29644\n",
      "user/birthdayRaw     29644\n",
      "user/birthdayUnix    29644\n",
      "user/gender          22186\n",
      "user/profileName         5\n",
      "dtype: int64\n"
     ]
    }
   ],
   "source": [
    "# Check for null values\n",
    "print(df.isnull().sum())"
   ]
  },
  {
   "cell_type": "code",
   "execution_count": 9,
   "metadata": {},
   "outputs": [
    {
     "name": "stdout",
     "output_type": "stream",
     "text": [
      "<class 'pandas.core.frame.DataFrame'>\n",
      "Int64Index: 7709 entries, 3 to 37492\n",
      "Data columns (total 19 columns):\n",
      " #   Column             Non-Null Count  Dtype   \n",
      "---  ------             --------------  -----   \n",
      " 0   index              7709 non-null   int64   \n",
      " 1   beer/ABV           7709 non-null   float64 \n",
      " 2   beer/beerId        7709 non-null   int64   \n",
      " 3   beer/brewerId      7709 non-null   int64   \n",
      " 4   beer/name          7709 non-null   category\n",
      " 5   beer/style         7709 non-null   category\n",
      " 6   review/appearance  7709 non-null   float64 \n",
      " 7   review/aroma       7709 non-null   float64 \n",
      " 8   review/overall     7709 non-null   float64 \n",
      " 9   review/palate      7709 non-null   float64 \n",
      " 10  review/taste       7709 non-null   float64 \n",
      " 11  review/text        7709 non-null   category\n",
      " 12  review/timeStruct  7709 non-null   category\n",
      " 13  review/timeUnix    7709 non-null   int64   \n",
      " 14  user/ageInSeconds  7709 non-null   float64 \n",
      " 15  user/birthdayRaw   7709 non-null   category\n",
      " 16  user/birthdayUnix  7709 non-null   float64 \n",
      " 17  user/gender        7709 non-null   category\n",
      " 18  user/profileName   7709 non-null   category\n",
      "dtypes: category(7), float64(8), int64(4)\n",
      "memory usage: 4.5 MB\n"
     ]
    }
   ],
   "source": [
    "# Drop null row values\n",
    "df = df.dropna()\n",
    "df.info()\n"
   ]
  },
  {
   "cell_type": "code",
   "execution_count": 10,
   "metadata": {},
   "outputs": [
    {
     "name": "stdout",
     "output_type": "stream",
     "text": [
      "index                0\n",
      "beer/ABV             0\n",
      "beer/beerId          0\n",
      "beer/brewerId        0\n",
      "beer/name            0\n",
      "beer/style           0\n",
      "review/appearance    0\n",
      "review/aroma         0\n",
      "review/overall       0\n",
      "review/palate        0\n",
      "review/taste         0\n",
      "review/text          0\n",
      "review/timeStruct    0\n",
      "review/timeUnix      0\n",
      "user/ageInSeconds    0\n",
      "user/birthdayRaw     0\n",
      "user/birthdayUnix    0\n",
      "user/gender          0\n",
      "user/profileName     0\n",
      "dtype: int64\n"
     ]
    }
   ],
   "source": [
    "# Check for null values\n",
    "print(df.isnull().sum())"
   ]
  },
  {
   "cell_type": "code",
   "execution_count": 11,
   "metadata": {},
   "outputs": [
    {
     "data": {
      "image/png": "[encoded data removed]",
      "text/plain": [
       "<Figure size 1008x1008 with 12 Axes>"
      ]
     },
     "metadata": {
      "needs_background": "light"
     },
     "output_type": "display_data"
    }
   ],
   "source": [
    "import matplotlib.pyplot as plt\n",
    "\n",
    "df.hist(figsize=(14,14))\n",
    "\n",
    "plt.show()"
   ]
  },
  {
   "cell_type": "markdown",
   "metadata": {},
   "source": [
    "2. Duplicate Data : If a user has rated the same beer more than once, then only keep their highest rating."
   ]
  },
  {
   "cell_type": "code",
   "execution_count": 12,
   "metadata": {},
   "outputs": [],
   "source": [
    "df = df.sort_values(\"review/overall\",ascending=False)\n",
    "df = df.drop_duplicates(subset = ['user/profileName','beer/beerId'],keep='first')\n",
    "df = df.drop_duplicates(subset = ['user/profileName','beer/name'],keep='first')"
   ]
  },
  {
   "cell_type": "code",
   "execution_count": 13,
   "metadata": {},
   "outputs": [
    {
     "name": "stdout",
     "output_type": "stream",
     "text": [
      "<class 'pandas.core.frame.DataFrame'>\n",
      "Int64Index: 7657 entries, 18824 to 11836\n",
      "Data columns (total 19 columns):\n",
      " #   Column             Non-Null Count  Dtype   \n",
      "---  ------             --------------  -----   \n",
      " 0   index              7657 non-null   int64   \n",
      " 1   beer/ABV           7657 non-null   float64 \n",
      " 2   beer/beerId        7657 non-null   int64   \n",
      " 3   beer/brewerId      7657 non-null   int64   \n",
      " 4   beer/name          7657 non-null   category\n",
      " 5   beer/style         7657 non-null   category\n",
      " 6   review/appearance  7657 non-null   float64 \n",
      " 7   review/aroma       7657 non-null   float64 \n",
      " 8   review/overall     7657 non-null   float64 \n",
      " 9   review/palate      7657 non-null   float64 \n",
      " 10  review/taste       7657 non-null   float64 \n",
      " 11  review/text        7657 non-null   category\n",
      " 12  review/timeStruct  7657 non-null   category\n",
      " 13  review/timeUnix    7657 non-null   int64   \n",
      " 14  user/ageInSeconds  7657 non-null   float64 \n",
      " 15  user/birthdayRaw   7657 non-null   category\n",
      " 16  user/birthdayUnix  7657 non-null   float64 \n",
      " 17  user/gender        7657 non-null   category\n",
      " 18  user/profileName   7657 non-null   category\n",
      "dtypes: category(7), float64(8), int64(4)\n",
      "memory usage: 4.5 MB\n"
     ]
    }
   ],
   "source": [
    "df.info()"
   ]
  },
  {
   "cell_type": "code",
   "execution_count": 14,
   "metadata": {},
   "outputs": [
    {
     "data": {
      "text/html": [
       "<div>\n",
       "<style scoped>\n",
       "    .dataframe tbody tr th:only-of-type {\n",
       "        vertical-align: middle;\n",
       "    }\n",
       "\n",
       "    .dataframe tbody tr th {\n",
       "        vertical-align: top;\n",
       "    }\n",
       "\n",
       "    .dataframe thead th {\n",
       "        text-align: right;\n",
       "    }\n",
       "</style>\n",
       "<table border=\"1\" class=\"dataframe\">\n",
       "  <thead>\n",
       "    <tr style=\"text-align: right;\">\n",
       "      <th></th>\n",
       "      <th>index</th>\n",
       "      <th>beer/ABV</th>\n",
       "      <th>beer/beerId</th>\n",
       "      <th>beer/brewerId</th>\n",
       "      <th>review/appearance</th>\n",
       "      <th>review/aroma</th>\n",
       "      <th>review/overall</th>\n",
       "      <th>review/palate</th>\n",
       "      <th>review/taste</th>\n",
       "      <th>review/timeUnix</th>\n",
       "      <th>user/ageInSeconds</th>\n",
       "      <th>user/birthdayUnix</th>\n",
       "    </tr>\n",
       "  </thead>\n",
       "  <tbody>\n",
       "    <tr>\n",
       "      <th>count</th>\n",
       "      <td>7657.00</td>\n",
       "      <td>7657.00</td>\n",
       "      <td>7657.00</td>\n",
       "      <td>7657.00</td>\n",
       "      <td>7657.00</td>\n",
       "      <td>7657.00</td>\n",
       "      <td>7657.00</td>\n",
       "      <td>7657.00</td>\n",
       "      <td>7657.00</td>\n",
       "      <td>7.657000e+03</td>\n",
       "      <td>7.657000e+03</td>\n",
       "      <td>7.657000e+03</td>\n",
       "    </tr>\n",
       "    <tr>\n",
       "      <th>mean</th>\n",
       "      <td>24834.81</td>\n",
       "      <td>7.47</td>\n",
       "      <td>21874.32</td>\n",
       "      <td>3073.65</td>\n",
       "      <td>3.91</td>\n",
       "      <td>3.90</td>\n",
       "      <td>3.91</td>\n",
       "      <td>3.87</td>\n",
       "      <td>3.95</td>\n",
       "      <td>1.236717e+09</td>\n",
       "      <td>1.167129e+09</td>\n",
       "      <td>2.512066e+08</td>\n",
       "    </tr>\n",
       "    <tr>\n",
       "      <th>std</th>\n",
       "      <td>14378.74</td>\n",
       "      <td>2.31</td>\n",
       "      <td>18555.70</td>\n",
       "      <td>5189.05</td>\n",
       "      <td>0.59</td>\n",
       "      <td>0.67</td>\n",
       "      <td>0.70</td>\n",
       "      <td>0.67</td>\n",
       "      <td>0.71</td>\n",
       "      <td>6.562689e+07</td>\n",
       "      <td>3.077347e+08</td>\n",
       "      <td>3.077347e+08</td>\n",
       "    </tr>\n",
       "    <tr>\n",
       "      <th>min</th>\n",
       "      <td>4.00</td>\n",
       "      <td>0.50</td>\n",
       "      <td>175.00</td>\n",
       "      <td>1.00</td>\n",
       "      <td>1.00</td>\n",
       "      <td>1.00</td>\n",
       "      <td>1.00</td>\n",
       "      <td>1.00</td>\n",
       "      <td>1.00</td>\n",
       "      <td>9.932515e+08</td>\n",
       "      <td>7.034366e+08</td>\n",
       "      <td>-2.176387e+09</td>\n",
       "    </tr>\n",
       "    <tr>\n",
       "      <th>25%</th>\n",
       "      <td>12308.00</td>\n",
       "      <td>5.50</td>\n",
       "      <td>5441.00</td>\n",
       "      <td>395.00</td>\n",
       "      <td>3.50</td>\n",
       "      <td>3.50</td>\n",
       "      <td>3.50</td>\n",
       "      <td>3.50</td>\n",
       "      <td>3.50</td>\n",
       "      <td>1.198126e+09</td>\n",
       "      <td>9.779258e+08</td>\n",
       "      <td>1.443132e+08</td>\n",
       "    </tr>\n",
       "    <tr>\n",
       "      <th>50%</th>\n",
       "      <td>24928.00</td>\n",
       "      <td>7.00</td>\n",
       "      <td>19960.00</td>\n",
       "      <td>1199.00</td>\n",
       "      <td>4.00</td>\n",
       "      <td>4.00</td>\n",
       "      <td>4.00</td>\n",
       "      <td>4.00</td>\n",
       "      <td>4.00</td>\n",
       "      <td>1.248134e+09</td>\n",
       "      <td>1.096639e+09</td>\n",
       "      <td>3.216960e+08</td>\n",
       "    </tr>\n",
       "    <tr>\n",
       "      <th>75%</th>\n",
       "      <td>36950.00</td>\n",
       "      <td>9.40</td>\n",
       "      <td>34146.00</td>\n",
       "      <td>1315.00</td>\n",
       "      <td>4.50</td>\n",
       "      <td>4.50</td>\n",
       "      <td>4.50</td>\n",
       "      <td>4.50</td>\n",
       "      <td>4.50</td>\n",
       "      <td>1.289368e+09</td>\n",
       "      <td>1.274022e+09</td>\n",
       "      <td>4.404096e+08</td>\n",
       "    </tr>\n",
       "    <tr>\n",
       "      <th>max</th>\n",
       "      <td>49974.00</td>\n",
       "      <td>39.44</td>\n",
       "      <td>77207.00</td>\n",
       "      <td>26990.00</td>\n",
       "      <td>5.00</td>\n",
       "      <td>5.00</td>\n",
       "      <td>5.00</td>\n",
       "      <td>5.00</td>\n",
       "      <td>5.00</td>\n",
       "      <td>1.326257e+09</td>\n",
       "      <td>3.594723e+09</td>\n",
       "      <td>7.148988e+08</td>\n",
       "    </tr>\n",
       "  </tbody>\n",
       "</table>\n",
       "</div>"
      ],
      "text/plain": [
       "          index  beer/ABV  beer/beerId  beer/brewerId  review/appearance  \\\n",
       "count   7657.00   7657.00      7657.00        7657.00            7657.00   \n",
       "mean   24834.81      7.47     21874.32        3073.65               3.91   \n",
       "std    14378.74      2.31     18555.70        5189.05               0.59   \n",
       "min        4.00      0.50       175.00           1.00               1.00   \n",
       "25%    12308.00      5.50      5441.00         395.00               3.50   \n",
       "50%    24928.00      7.00     19960.00        1199.00               4.00   \n",
       "75%    36950.00      9.40     34146.00        1315.00               4.50   \n",
       "max    49974.00     39.44     77207.00       26990.00               5.00   \n",
       "\n",
       "       review/aroma  review/overall  review/palate  review/taste  \\\n",
       "count       7657.00         7657.00        7657.00       7657.00   \n",
       "mean           3.90            3.91           3.87          3.95   \n",
       "std            0.67            0.70           0.67          0.71   \n",
       "min            1.00            1.00           1.00          1.00   \n",
       "25%            3.50            3.50           3.50          3.50   \n",
       "50%            4.00            4.00           4.00          4.00   \n",
       "75%            4.50            4.50           4.50          4.50   \n",
       "max            5.00            5.00           5.00          5.00   \n",
       "\n",
       "       review/timeUnix  user/ageInSeconds  user/birthdayUnix  \n",
       "count     7.657000e+03       7.657000e+03       7.657000e+03  \n",
       "mean      1.236717e+09       1.167129e+09       2.512066e+08  \n",
       "std       6.562689e+07       3.077347e+08       3.077347e+08  \n",
       "min       9.932515e+08       7.034366e+08      -2.176387e+09  \n",
       "25%       1.198126e+09       9.779258e+08       1.443132e+08  \n",
       "50%       1.248134e+09       1.096639e+09       3.216960e+08  \n",
       "75%       1.289368e+09       1.274022e+09       4.404096e+08  \n",
       "max       1.326257e+09       3.594723e+09       7.148988e+08  "
      ]
     },
     "execution_count": 14,
     "metadata": {},
     "output_type": "execute_result"
    }
   ],
   "source": [
    "round(df.describe(),2)  #Upto 2 decimal places"
   ]
  },
  {
   "cell_type": "markdown",
   "metadata": {},
   "source": [
    "3. Removing Outliers :The rating score should be scaled between 1 to 5,however,in the data frame described above, we can find that there are reviews with a score below 1 in the column review_overall and review_apperance. Therefore, we should remove the outliers.\n",
    "\n"
   ]
  },
  {
   "cell_type": "code",
   "execution_count": 15,
   "metadata": {},
   "outputs": [
    {
     "data": {
      "text/html": [
       "<div>\n",
       "<style scoped>\n",
       "    .dataframe tbody tr th:only-of-type {\n",
       "        vertical-align: middle;\n",
       "    }\n",
       "\n",
       "    .dataframe tbody tr th {\n",
       "        vertical-align: top;\n",
       "    }\n",
       "\n",
       "    .dataframe thead th {\n",
       "        text-align: right;\n",
       "    }\n",
       "</style>\n",
       "<table border=\"1\" class=\"dataframe\">\n",
       "  <thead>\n",
       "    <tr style=\"text-align: right;\">\n",
       "      <th></th>\n",
       "      <th>index</th>\n",
       "      <th>beer/ABV</th>\n",
       "      <th>beer/beerId</th>\n",
       "      <th>beer/brewerId</th>\n",
       "      <th>beer/name</th>\n",
       "      <th>beer/style</th>\n",
       "      <th>review/appearance</th>\n",
       "      <th>review/aroma</th>\n",
       "      <th>review/overall</th>\n",
       "      <th>review/palate</th>\n",
       "      <th>review/taste</th>\n",
       "      <th>review/text</th>\n",
       "      <th>review/timeStruct</th>\n",
       "      <th>review/timeUnix</th>\n",
       "      <th>user/ageInSeconds</th>\n",
       "      <th>user/birthdayRaw</th>\n",
       "      <th>user/birthdayUnix</th>\n",
       "      <th>user/gender</th>\n",
       "      <th>user/profileName</th>\n",
       "    </tr>\n",
       "  </thead>\n",
       "  <tbody>\n",
       "    <tr>\n",
       "      <th>18824</th>\n",
       "      <td>32762</td>\n",
       "      <td>11.2</td>\n",
       "      <td>19960</td>\n",
       "      <td>1199</td>\n",
       "      <td>Founders KBS (Kentucky Breakfast Stout)</td>\n",
       "      <td>American Double / Imperial Stout</td>\n",
       "      <td>4.5</td>\n",
       "      <td>5.0</td>\n",
       "      <td>5.0</td>\n",
       "      <td>4.5</td>\n",
       "      <td>5.0</td>\n",
       "      <td>On tap @ TPH 5/24/06. Huge thanks on this one....</td>\n",
       "      <td>{'min': 18, 'hour': 6, 'mday': 24, 'sec': 38, ...</td>\n",
       "      <td>1148451518</td>\n",
       "      <td>9.583166e+08</td>\n",
       "      <td>Jul 30, 1984</td>\n",
       "      <td>460018800.0</td>\n",
       "      <td>Male</td>\n",
       "      <td>bignick</td>\n",
       "    </tr>\n",
       "    <tr>\n",
       "      <th>4590</th>\n",
       "      <td>20871</td>\n",
       "      <td>8.3</td>\n",
       "      <td>11757</td>\n",
       "      <td>1199</td>\n",
       "      <td>Founders Breakfast Stout</td>\n",
       "      <td>American Double / Imperial Stout</td>\n",
       "      <td>5.0</td>\n",
       "      <td>5.0</td>\n",
       "      <td>5.0</td>\n",
       "      <td>4.5</td>\n",
       "      <td>5.0</td>\n",
       "      <td>Unbelievable on tap, first time I've ever seen...</td>\n",
       "      <td>{'min': 27, 'hour': 7, 'mday': 22, 'sec': 28, ...</td>\n",
       "      <td>1227338848</td>\n",
       "      <td>8.907518e+08</td>\n",
       "      <td>Sep 20, 1986</td>\n",
       "      <td>527583600.0</td>\n",
       "      <td>Male</td>\n",
       "      <td>kiddynamite920</td>\n",
       "    </tr>\n",
       "    <tr>\n",
       "      <th>4441</th>\n",
       "      <td>5184</td>\n",
       "      <td>9.4</td>\n",
       "      <td>33644</td>\n",
       "      <td>14879</td>\n",
       "      <td>B.O.R.I.S. The Crusher Oatmeal-Imperial Stout</td>\n",
       "      <td>Russian Imperial Stout</td>\n",
       "      <td>4.5</td>\n",
       "      <td>4.5</td>\n",
       "      <td>5.0</td>\n",
       "      <td>4.0</td>\n",
       "      <td>4.5</td>\n",
       "      <td>Picked this badboy up at Jungle's in Fairlfiel...</td>\n",
       "      <td>{'min': 5, 'hour': 3, 'mday': 5, 'sec': 6, 'ye...</td>\n",
       "      <td>1225854306</td>\n",
       "      <td>1.256739e+09</td>\n",
       "      <td>Feb 14, 1975</td>\n",
       "      <td>161596800.0</td>\n",
       "      <td>Male</td>\n",
       "      <td>beachbum1975</td>\n",
       "    </tr>\n",
       "    <tr>\n",
       "      <th>30630</th>\n",
       "      <td>4948</td>\n",
       "      <td>9.4</td>\n",
       "      <td>33644</td>\n",
       "      <td>14879</td>\n",
       "      <td>B.O.R.I.S. The Crusher Oatmeal-Imperial Stout</td>\n",
       "      <td>Russian Imperial Stout</td>\n",
       "      <td>4.5</td>\n",
       "      <td>4.5</td>\n",
       "      <td>5.0</td>\n",
       "      <td>4.5</td>\n",
       "      <td>4.5</td>\n",
       "      <td>A/dark choclate like\\t\\tS/ it smells like whis...</td>\n",
       "      <td>{'min': 22, 'hour': 17, 'mday': 27, 'sec': 5, ...</td>\n",
       "      <td>1261934525</td>\n",
       "      <td>1.426777e+09</td>\n",
       "      <td>Sep 25, 1969</td>\n",
       "      <td>-8442000.0</td>\n",
       "      <td>Male</td>\n",
       "      <td>redsonja</td>\n",
       "    </tr>\n",
       "    <tr>\n",
       "      <th>30647</th>\n",
       "      <td>33375</td>\n",
       "      <td>11.2</td>\n",
       "      <td>19960</td>\n",
       "      <td>1199</td>\n",
       "      <td>Founders KBS (Kentucky Breakfast Stout)</td>\n",
       "      <td>American Double / Imperial Stout</td>\n",
       "      <td>4.5</td>\n",
       "      <td>5.0</td>\n",
       "      <td>5.0</td>\n",
       "      <td>4.5</td>\n",
       "      <td>5.0</td>\n",
       "      <td>2010 release, poured into a glass.\\tAppearance...</td>\n",
       "      <td>{'min': 12, 'hour': 4, 'mday': 6, 'sec': 55, '...</td>\n",
       "      <td>1283746375</td>\n",
       "      <td>1.118157e+09</td>\n",
       "      <td>Jul 7, 1979</td>\n",
       "      <td>300178800.0</td>\n",
       "      <td>Male</td>\n",
       "      <td>phillybeer7779</td>\n",
       "    </tr>\n",
       "  </tbody>\n",
       "</table>\n",
       "</div>"
      ],
      "text/plain": [
       "       index  beer/ABV  beer/beerId  beer/brewerId  \\\n",
       "18824  32762      11.2        19960           1199   \n",
       "4590   20871       8.3        11757           1199   \n",
       "4441    5184       9.4        33644          14879   \n",
       "30630   4948       9.4        33644          14879   \n",
       "30647  33375      11.2        19960           1199   \n",
       "\n",
       "                                           beer/name  \\\n",
       "18824        Founders KBS (Kentucky Breakfast Stout)   \n",
       "4590                        Founders Breakfast Stout   \n",
       "4441   B.O.R.I.S. The Crusher Oatmeal-Imperial Stout   \n",
       "30630  B.O.R.I.S. The Crusher Oatmeal-Imperial Stout   \n",
       "30647        Founders KBS (Kentucky Breakfast Stout)   \n",
       "\n",
       "                             beer/style  review/appearance  review/aroma  \\\n",
       "18824  American Double / Imperial Stout                4.5           5.0   \n",
       "4590   American Double / Imperial Stout                5.0           5.0   \n",
       "4441             Russian Imperial Stout                4.5           4.5   \n",
       "30630            Russian Imperial Stout                4.5           4.5   \n",
       "30647  American Double / Imperial Stout                4.5           5.0   \n",
       "\n",
       "       review/overall  review/palate  review/taste  \\\n",
       "18824             5.0            4.5           5.0   \n",
       "4590              5.0            4.5           5.0   \n",
       "4441              5.0            4.0           4.5   \n",
       "30630             5.0            4.5           4.5   \n",
       "30647             5.0            4.5           5.0   \n",
       "\n",
       "                                             review/text  \\\n",
       "18824  On tap @ TPH 5/24/06. Huge thanks on this one....   \n",
       "4590   Unbelievable on tap, first time I've ever seen...   \n",
       "4441   Picked this badboy up at Jungle's in Fairlfiel...   \n",
       "30630  A/dark choclate like\\t\\tS/ it smells like whis...   \n",
       "30647  2010 release, poured into a glass.\\tAppearance...   \n",
       "\n",
       "                                       review/timeStruct  review/timeUnix  \\\n",
       "18824  {'min': 18, 'hour': 6, 'mday': 24, 'sec': 38, ...       1148451518   \n",
       "4590   {'min': 27, 'hour': 7, 'mday': 22, 'sec': 28, ...       1227338848   \n",
       "4441   {'min': 5, 'hour': 3, 'mday': 5, 'sec': 6, 'ye...       1225854306   \n",
       "30630  {'min': 22, 'hour': 17, 'mday': 27, 'sec': 5, ...       1261934525   \n",
       "30647  {'min': 12, 'hour': 4, 'mday': 6, 'sec': 55, '...       1283746375   \n",
       "\n",
       "       user/ageInSeconds user/birthdayRaw  user/birthdayUnix user/gender  \\\n",
       "18824       9.583166e+08     Jul 30, 1984        460018800.0        Male   \n",
       "4590        8.907518e+08     Sep 20, 1986        527583600.0        Male   \n",
       "4441        1.256739e+09     Feb 14, 1975        161596800.0        Male   \n",
       "30630       1.426777e+09     Sep 25, 1969         -8442000.0        Male   \n",
       "30647       1.118157e+09      Jul 7, 1979        300178800.0        Male   \n",
       "\n",
       "      user/profileName  \n",
       "18824          bignick  \n",
       "4590    kiddynamite920  \n",
       "4441      beachbum1975  \n",
       "30630         redsonja  \n",
       "30647   phillybeer7779  "
      ]
     },
     "execution_count": 15,
     "metadata": {},
     "output_type": "execute_result"
    }
   ],
   "source": [
    "df = df.loc[(df[\"review/overall\"]>=1) & (df[\"review/appearance\"]>=1)]\n",
    "\n",
    "df.head()"
   ]
  },
  {
   "cell_type": "code",
   "execution_count": 16,
   "metadata": {},
   "outputs": [
    {
     "data": {
      "text/html": [
       "<div>\n",
       "<style scoped>\n",
       "    .dataframe tbody tr th:only-of-type {\n",
       "        vertical-align: middle;\n",
       "    }\n",
       "\n",
       "    .dataframe tbody tr th {\n",
       "        vertical-align: top;\n",
       "    }\n",
       "\n",
       "    .dataframe thead th {\n",
       "        text-align: right;\n",
       "    }\n",
       "</style>\n",
       "<table border=\"1\" class=\"dataframe\">\n",
       "  <thead>\n",
       "    <tr style=\"text-align: right;\">\n",
       "      <th></th>\n",
       "      <th>index</th>\n",
       "      <th>beer/ABV</th>\n",
       "      <th>beer/beerId</th>\n",
       "      <th>beer/brewerId</th>\n",
       "      <th>review/appearance</th>\n",
       "      <th>review/aroma</th>\n",
       "      <th>review/overall</th>\n",
       "      <th>review/palate</th>\n",
       "      <th>review/taste</th>\n",
       "      <th>review/timeUnix</th>\n",
       "      <th>user/ageInSeconds</th>\n",
       "      <th>user/birthdayUnix</th>\n",
       "    </tr>\n",
       "  </thead>\n",
       "  <tbody>\n",
       "    <tr>\n",
       "      <th>count</th>\n",
       "      <td>7657.00</td>\n",
       "      <td>7657.00</td>\n",
       "      <td>7657.00</td>\n",
       "      <td>7657.00</td>\n",
       "      <td>7657.00</td>\n",
       "      <td>7657.00</td>\n",
       "      <td>7657.00</td>\n",
       "      <td>7657.00</td>\n",
       "      <td>7657.00</td>\n",
       "      <td>7.657000e+03</td>\n",
       "      <td>7.657000e+03</td>\n",
       "      <td>7.657000e+03</td>\n",
       "    </tr>\n",
       "    <tr>\n",
       "      <th>mean</th>\n",
       "      <td>24834.81</td>\n",
       "      <td>7.47</td>\n",
       "      <td>21874.32</td>\n",
       "      <td>3073.65</td>\n",
       "      <td>3.91</td>\n",
       "      <td>3.90</td>\n",
       "      <td>3.91</td>\n",
       "      <td>3.87</td>\n",
       "      <td>3.95</td>\n",
       "      <td>1.236717e+09</td>\n",
       "      <td>1.167129e+09</td>\n",
       "      <td>2.512066e+08</td>\n",
       "    </tr>\n",
       "    <tr>\n",
       "      <th>std</th>\n",
       "      <td>14378.74</td>\n",
       "      <td>2.31</td>\n",
       "      <td>18555.70</td>\n",
       "      <td>5189.05</td>\n",
       "      <td>0.59</td>\n",
       "      <td>0.67</td>\n",
       "      <td>0.70</td>\n",
       "      <td>0.67</td>\n",
       "      <td>0.71</td>\n",
       "      <td>6.562689e+07</td>\n",
       "      <td>3.077347e+08</td>\n",
       "      <td>3.077347e+08</td>\n",
       "    </tr>\n",
       "    <tr>\n",
       "      <th>min</th>\n",
       "      <td>4.00</td>\n",
       "      <td>0.50</td>\n",
       "      <td>175.00</td>\n",
       "      <td>1.00</td>\n",
       "      <td>1.00</td>\n",
       "      <td>1.00</td>\n",
       "      <td>1.00</td>\n",
       "      <td>1.00</td>\n",
       "      <td>1.00</td>\n",
       "      <td>9.932515e+08</td>\n",
       "      <td>7.034366e+08</td>\n",
       "      <td>-2.176387e+09</td>\n",
       "    </tr>\n",
       "    <tr>\n",
       "      <th>25%</th>\n",
       "      <td>12308.00</td>\n",
       "      <td>5.50</td>\n",
       "      <td>5441.00</td>\n",
       "      <td>395.00</td>\n",
       "      <td>3.50</td>\n",
       "      <td>3.50</td>\n",
       "      <td>3.50</td>\n",
       "      <td>3.50</td>\n",
       "      <td>3.50</td>\n",
       "      <td>1.198126e+09</td>\n",
       "      <td>9.779258e+08</td>\n",
       "      <td>1.443132e+08</td>\n",
       "    </tr>\n",
       "    <tr>\n",
       "      <th>50%</th>\n",
       "      <td>24928.00</td>\n",
       "      <td>7.00</td>\n",
       "      <td>19960.00</td>\n",
       "      <td>1199.00</td>\n",
       "      <td>4.00</td>\n",
       "      <td>4.00</td>\n",
       "      <td>4.00</td>\n",
       "      <td>4.00</td>\n",
       "      <td>4.00</td>\n",
       "      <td>1.248134e+09</td>\n",
       "      <td>1.096639e+09</td>\n",
       "      <td>3.216960e+08</td>\n",
       "    </tr>\n",
       "    <tr>\n",
       "      <th>75%</th>\n",
       "      <td>36950.00</td>\n",
       "      <td>9.40</td>\n",
       "      <td>34146.00</td>\n",
       "      <td>1315.00</td>\n",
       "      <td>4.50</td>\n",
       "      <td>4.50</td>\n",
       "      <td>4.50</td>\n",
       "      <td>4.50</td>\n",
       "      <td>4.50</td>\n",
       "      <td>1.289368e+09</td>\n",
       "      <td>1.274022e+09</td>\n",
       "      <td>4.404096e+08</td>\n",
       "    </tr>\n",
       "    <tr>\n",
       "      <th>max</th>\n",
       "      <td>49974.00</td>\n",
       "      <td>39.44</td>\n",
       "      <td>77207.00</td>\n",
       "      <td>26990.00</td>\n",
       "      <td>5.00</td>\n",
       "      <td>5.00</td>\n",
       "      <td>5.00</td>\n",
       "      <td>5.00</td>\n",
       "      <td>5.00</td>\n",
       "      <td>1.326257e+09</td>\n",
       "      <td>3.594723e+09</td>\n",
       "      <td>7.148988e+08</td>\n",
       "    </tr>\n",
       "  </tbody>\n",
       "</table>\n",
       "</div>"
      ],
      "text/plain": [
       "          index  beer/ABV  beer/beerId  beer/brewerId  review/appearance  \\\n",
       "count   7657.00   7657.00      7657.00        7657.00            7657.00   \n",
       "mean   24834.81      7.47     21874.32        3073.65               3.91   \n",
       "std    14378.74      2.31     18555.70        5189.05               0.59   \n",
       "min        4.00      0.50       175.00           1.00               1.00   \n",
       "25%    12308.00      5.50      5441.00         395.00               3.50   \n",
       "50%    24928.00      7.00     19960.00        1199.00               4.00   \n",
       "75%    36950.00      9.40     34146.00        1315.00               4.50   \n",
       "max    49974.00     39.44     77207.00       26990.00               5.00   \n",
       "\n",
       "       review/aroma  review/overall  review/palate  review/taste  \\\n",
       "count       7657.00         7657.00        7657.00       7657.00   \n",
       "mean           3.90            3.91           3.87          3.95   \n",
       "std            0.67            0.70           0.67          0.71   \n",
       "min            1.00            1.00           1.00          1.00   \n",
       "25%            3.50            3.50           3.50          3.50   \n",
       "50%            4.00            4.00           4.00          4.00   \n",
       "75%            4.50            4.50           4.50          4.50   \n",
       "max            5.00            5.00           5.00          5.00   \n",
       "\n",
       "       review/timeUnix  user/ageInSeconds  user/birthdayUnix  \n",
       "count     7.657000e+03       7.657000e+03       7.657000e+03  \n",
       "mean      1.236717e+09       1.167129e+09       2.512066e+08  \n",
       "std       6.562689e+07       3.077347e+08       3.077347e+08  \n",
       "min       9.932515e+08       7.034366e+08      -2.176387e+09  \n",
       "25%       1.198126e+09       9.779258e+08       1.443132e+08  \n",
       "50%       1.248134e+09       1.096639e+09       3.216960e+08  \n",
       "75%       1.289368e+09       1.274022e+09       4.404096e+08  \n",
       "max       1.326257e+09       3.594723e+09       7.148988e+08  "
      ]
     },
     "execution_count": 16,
     "metadata": {},
     "output_type": "execute_result"
    }
   ],
   "source": [
    "round(df.describe(),2)"
   ]
  },
  {
   "cell_type": "code",
   "execution_count": 17,
   "metadata": {},
   "outputs": [],
   "source": [
    "df[\"review/timeUnix\"] = pd.to_datetime (df[\"review/timeUnix\"],unit = 's')"
   ]
  },
  {
   "cell_type": "code",
   "execution_count": 18,
   "metadata": {},
   "outputs": [
    {
     "data": {
      "text/plain": [
       "index                         int64\n",
       "beer/ABV                    float64\n",
       "beer/beerId                   int64\n",
       "beer/brewerId                 int64\n",
       "beer/name                  category\n",
       "beer/style                 category\n",
       "review/appearance           float64\n",
       "review/aroma                float64\n",
       "review/overall              float64\n",
       "review/palate               float64\n",
       "review/taste                float64\n",
       "review/text                category\n",
       "review/timeStruct          category\n",
       "review/timeUnix      datetime64[ns]\n",
       "user/ageInSeconds           float64\n",
       "user/birthdayRaw           category\n",
       "user/birthdayUnix           float64\n",
       "user/gender                category\n",
       "user/profileName           category\n",
       "dtype: object"
      ]
     },
     "execution_count": 18,
     "metadata": {},
     "output_type": "execute_result"
    }
   ],
   "source": [
    "df.dtypes"
   ]
  },
  {
   "cell_type": "code",
   "execution_count": 19,
   "metadata": {},
   "outputs": [
    {
     "data": {
      "text/html": [
       "<div>\n",
       "<style scoped>\n",
       "    .dataframe tbody tr th:only-of-type {\n",
       "        vertical-align: middle;\n",
       "    }\n",
       "\n",
       "    .dataframe tbody tr th {\n",
       "        vertical-align: top;\n",
       "    }\n",
       "\n",
       "    .dataframe thead th {\n",
       "        text-align: right;\n",
       "    }\n",
       "</style>\n",
       "<table border=\"1\" class=\"dataframe\">\n",
       "  <thead>\n",
       "    <tr style=\"text-align: right;\">\n",
       "      <th></th>\n",
       "      <th>beer/ABV</th>\n",
       "      <th>beer/beerId</th>\n",
       "      <th>beer/brewerId</th>\n",
       "      <th>beer/name</th>\n",
       "      <th>beer/style</th>\n",
       "      <th>review/appearance</th>\n",
       "      <th>review/aroma</th>\n",
       "      <th>review/overall</th>\n",
       "      <th>review/palate</th>\n",
       "      <th>review/taste</th>\n",
       "      <th>review/text</th>\n",
       "      <th>review/timeUnix</th>\n",
       "    </tr>\n",
       "  </thead>\n",
       "  <tbody>\n",
       "    <tr>\n",
       "      <th>18824</th>\n",
       "      <td>11.2</td>\n",
       "      <td>19960</td>\n",
       "      <td>1199</td>\n",
       "      <td>Founders KBS (Kentucky Breakfast Stout)</td>\n",
       "      <td>American Double / Imperial Stout</td>\n",
       "      <td>4.5</td>\n",
       "      <td>5.0</td>\n",
       "      <td>5.0</td>\n",
       "      <td>4.5</td>\n",
       "      <td>5.0</td>\n",
       "      <td>On tap @ TPH 5/24/06. Huge thanks on this one....</td>\n",
       "      <td>2006-05-24 06:18:38</td>\n",
       "    </tr>\n",
       "    <tr>\n",
       "      <th>4590</th>\n",
       "      <td>8.3</td>\n",
       "      <td>11757</td>\n",
       "      <td>1199</td>\n",
       "      <td>Founders Breakfast Stout</td>\n",
       "      <td>American Double / Imperial Stout</td>\n",
       "      <td>5.0</td>\n",
       "      <td>5.0</td>\n",
       "      <td>5.0</td>\n",
       "      <td>4.5</td>\n",
       "      <td>5.0</td>\n",
       "      <td>Unbelievable on tap, first time I've ever seen...</td>\n",
       "      <td>2008-11-22 07:27:28</td>\n",
       "    </tr>\n",
       "    <tr>\n",
       "      <th>4441</th>\n",
       "      <td>9.4</td>\n",
       "      <td>33644</td>\n",
       "      <td>14879</td>\n",
       "      <td>B.O.R.I.S. The Crusher Oatmeal-Imperial Stout</td>\n",
       "      <td>Russian Imperial Stout</td>\n",
       "      <td>4.5</td>\n",
       "      <td>4.5</td>\n",
       "      <td>5.0</td>\n",
       "      <td>4.0</td>\n",
       "      <td>4.5</td>\n",
       "      <td>Picked this badboy up at Jungle's in Fairlfiel...</td>\n",
       "      <td>2008-11-05 03:05:06</td>\n",
       "    </tr>\n",
       "    <tr>\n",
       "      <th>30630</th>\n",
       "      <td>9.4</td>\n",
       "      <td>33644</td>\n",
       "      <td>14879</td>\n",
       "      <td>B.O.R.I.S. The Crusher Oatmeal-Imperial Stout</td>\n",
       "      <td>Russian Imperial Stout</td>\n",
       "      <td>4.5</td>\n",
       "      <td>4.5</td>\n",
       "      <td>5.0</td>\n",
       "      <td>4.5</td>\n",
       "      <td>4.5</td>\n",
       "      <td>A/dark choclate like\\t\\tS/ it smells like whis...</td>\n",
       "      <td>2009-12-27 17:22:05</td>\n",
       "    </tr>\n",
       "    <tr>\n",
       "      <th>30647</th>\n",
       "      <td>11.2</td>\n",
       "      <td>19960</td>\n",
       "      <td>1199</td>\n",
       "      <td>Founders KBS (Kentucky Breakfast Stout)</td>\n",
       "      <td>American Double / Imperial Stout</td>\n",
       "      <td>4.5</td>\n",
       "      <td>5.0</td>\n",
       "      <td>5.0</td>\n",
       "      <td>4.5</td>\n",
       "      <td>5.0</td>\n",
       "      <td>2010 release, poured into a glass.\\tAppearance...</td>\n",
       "      <td>2010-09-06 04:12:55</td>\n",
       "    </tr>\n",
       "  </tbody>\n",
       "</table>\n",
       "</div>"
      ],
      "text/plain": [
       "       beer/ABV  beer/beerId  beer/brewerId  \\\n",
       "18824      11.2        19960           1199   \n",
       "4590        8.3        11757           1199   \n",
       "4441        9.4        33644          14879   \n",
       "30630       9.4        33644          14879   \n",
       "30647      11.2        19960           1199   \n",
       "\n",
       "                                           beer/name  \\\n",
       "18824        Founders KBS (Kentucky Breakfast Stout)   \n",
       "4590                        Founders Breakfast Stout   \n",
       "4441   B.O.R.I.S. The Crusher Oatmeal-Imperial Stout   \n",
       "30630  B.O.R.I.S. The Crusher Oatmeal-Imperial Stout   \n",
       "30647        Founders KBS (Kentucky Breakfast Stout)   \n",
       "\n",
       "                             beer/style  review/appearance  review/aroma  \\\n",
       "18824  American Double / Imperial Stout                4.5           5.0   \n",
       "4590   American Double / Imperial Stout                5.0           5.0   \n",
       "4441             Russian Imperial Stout                4.5           4.5   \n",
       "30630            Russian Imperial Stout                4.5           4.5   \n",
       "30647  American Double / Imperial Stout                4.5           5.0   \n",
       "\n",
       "       review/overall  review/palate  review/taste  \\\n",
       "18824             5.0            4.5           5.0   \n",
       "4590              5.0            4.5           5.0   \n",
       "4441              5.0            4.0           4.5   \n",
       "30630             5.0            4.5           4.5   \n",
       "30647             5.0            4.5           5.0   \n",
       "\n",
       "                                             review/text     review/timeUnix  \n",
       "18824  On tap @ TPH 5/24/06. Huge thanks on this one.... 2006-05-24 06:18:38  \n",
       "4590   Unbelievable on tap, first time I've ever seen... 2008-11-22 07:27:28  \n",
       "4441   Picked this badboy up at Jungle's in Fairlfiel... 2008-11-05 03:05:06  \n",
       "30630  A/dark choclate like\\t\\tS/ it smells like whis... 2009-12-27 17:22:05  \n",
       "30647  2010 release, poured into a glass.\\tAppearance... 2010-09-06 04:12:55  "
      ]
     },
     "execution_count": 19,
     "metadata": {},
     "output_type": "execute_result"
    }
   ],
   "source": [
    "df.drop(['user/birthdayRaw', 'user/birthdayUnix', 'review/timeStruct', 'user/profileName','user/gender','user/ageInSeconds','index'], axis=1, inplace=True)\n",
    "df.head()"
   ]
  },
  {
   "cell_type": "code",
   "execution_count": 20,
   "metadata": {},
   "outputs": [
    {
     "data": {
      "text/html": [
       "<div>\n",
       "<style scoped>\n",
       "    .dataframe tbody tr th:only-of-type {\n",
       "        vertical-align: middle;\n",
       "    }\n",
       "\n",
       "    .dataframe tbody tr th {\n",
       "        vertical-align: top;\n",
       "    }\n",
       "\n",
       "    .dataframe thead th {\n",
       "        text-align: right;\n",
       "    }\n",
       "</style>\n",
       "<table border=\"1\" class=\"dataframe\">\n",
       "  <thead>\n",
       "    <tr style=\"text-align: right;\">\n",
       "      <th></th>\n",
       "      <th>beer/ABV</th>\n",
       "      <th>beer/beerId</th>\n",
       "      <th>beer/brewerId</th>\n",
       "      <th>beer/name</th>\n",
       "      <th>beer/style</th>\n",
       "      <th>review/appearance</th>\n",
       "      <th>review/aroma</th>\n",
       "      <th>review/overall</th>\n",
       "      <th>review/palate</th>\n",
       "      <th>review/taste</th>\n",
       "      <th>review/text</th>\n",
       "    </tr>\n",
       "  </thead>\n",
       "  <tbody>\n",
       "    <tr>\n",
       "      <th>18824</th>\n",
       "      <td>11.2</td>\n",
       "      <td>19960</td>\n",
       "      <td>1199</td>\n",
       "      <td>Founders KBS (Kentucky Breakfast Stout)</td>\n",
       "      <td>American Double / Imperial Stout</td>\n",
       "      <td>4.5</td>\n",
       "      <td>5.0</td>\n",
       "      <td>5.0</td>\n",
       "      <td>4.5</td>\n",
       "      <td>5.0</td>\n",
       "      <td>On tap @ TPH 5/24/06. Huge thanks on this one....</td>\n",
       "    </tr>\n",
       "    <tr>\n",
       "      <th>4590</th>\n",
       "      <td>8.3</td>\n",
       "      <td>11757</td>\n",
       "      <td>1199</td>\n",
       "      <td>Founders Breakfast Stout</td>\n",
       "      <td>American Double / Imperial Stout</td>\n",
       "      <td>5.0</td>\n",
       "      <td>5.0</td>\n",
       "      <td>5.0</td>\n",
       "      <td>4.5</td>\n",
       "      <td>5.0</td>\n",
       "      <td>Unbelievable on tap, first time I've ever seen...</td>\n",
       "    </tr>\n",
       "    <tr>\n",
       "      <th>4441</th>\n",
       "      <td>9.4</td>\n",
       "      <td>33644</td>\n",
       "      <td>14879</td>\n",
       "      <td>B.O.R.I.S. The Crusher Oatmeal-Imperial Stout</td>\n",
       "      <td>Russian Imperial Stout</td>\n",
       "      <td>4.5</td>\n",
       "      <td>4.5</td>\n",
       "      <td>5.0</td>\n",
       "      <td>4.0</td>\n",
       "      <td>4.5</td>\n",
       "      <td>Picked this badboy up at Jungle's in Fairlfiel...</td>\n",
       "    </tr>\n",
       "    <tr>\n",
       "      <th>30630</th>\n",
       "      <td>9.4</td>\n",
       "      <td>33644</td>\n",
       "      <td>14879</td>\n",
       "      <td>B.O.R.I.S. The Crusher Oatmeal-Imperial Stout</td>\n",
       "      <td>Russian Imperial Stout</td>\n",
       "      <td>4.5</td>\n",
       "      <td>4.5</td>\n",
       "      <td>5.0</td>\n",
       "      <td>4.5</td>\n",
       "      <td>4.5</td>\n",
       "      <td>A/dark choclate like\\t\\tS/ it smells like whis...</td>\n",
       "    </tr>\n",
       "    <tr>\n",
       "      <th>30647</th>\n",
       "      <td>11.2</td>\n",
       "      <td>19960</td>\n",
       "      <td>1199</td>\n",
       "      <td>Founders KBS (Kentucky Breakfast Stout)</td>\n",
       "      <td>American Double / Imperial Stout</td>\n",
       "      <td>4.5</td>\n",
       "      <td>5.0</td>\n",
       "      <td>5.0</td>\n",
       "      <td>4.5</td>\n",
       "      <td>5.0</td>\n",
       "      <td>2010 release, poured into a glass.\\tAppearance...</td>\n",
       "    </tr>\n",
       "  </tbody>\n",
       "</table>\n",
       "</div>"
      ],
      "text/plain": [
       "       beer/ABV  beer/beerId  beer/brewerId  \\\n",
       "18824      11.2        19960           1199   \n",
       "4590        8.3        11757           1199   \n",
       "4441        9.4        33644          14879   \n",
       "30630       9.4        33644          14879   \n",
       "30647      11.2        19960           1199   \n",
       "\n",
       "                                           beer/name  \\\n",
       "18824        Founders KBS (Kentucky Breakfast Stout)   \n",
       "4590                        Founders Breakfast Stout   \n",
       "4441   B.O.R.I.S. The Crusher Oatmeal-Imperial Stout   \n",
       "30630  B.O.R.I.S. The Crusher Oatmeal-Imperial Stout   \n",
       "30647        Founders KBS (Kentucky Breakfast Stout)   \n",
       "\n",
       "                             beer/style  review/appearance  review/aroma  \\\n",
       "18824  American Double / Imperial Stout                4.5           5.0   \n",
       "4590   American Double / Imperial Stout                5.0           5.0   \n",
       "4441             Russian Imperial Stout                4.5           4.5   \n",
       "30630            Russian Imperial Stout                4.5           4.5   \n",
       "30647  American Double / Imperial Stout                4.5           5.0   \n",
       "\n",
       "       review/overall  review/palate  review/taste  \\\n",
       "18824             5.0            4.5           5.0   \n",
       "4590              5.0            4.5           5.0   \n",
       "4441              5.0            4.0           4.5   \n",
       "30630             5.0            4.5           4.5   \n",
       "30647             5.0            4.5           5.0   \n",
       "\n",
       "                                             review/text  \n",
       "18824  On tap @ TPH 5/24/06. Huge thanks on this one....  \n",
       "4590   Unbelievable on tap, first time I've ever seen...  \n",
       "4441   Picked this badboy up at Jungle's in Fairlfiel...  \n",
       "30630  A/dark choclate like\\t\\tS/ it smells like whis...  \n",
       "30647  2010 release, poured into a glass.\\tAppearance...  "
      ]
     },
     "execution_count": 20,
     "metadata": {},
     "output_type": "execute_result"
    }
   ],
   "source": [
    "df.drop(['review/timeUnix'], axis=1, inplace=True)\n",
    "df.head()"
   ]
  },
  {
   "cell_type": "code",
   "execution_count": 21,
   "metadata": {},
   "outputs": [
    {
     "name": "stdout",
     "output_type": "stream",
     "text": [
      "<class 'pandas.core.frame.DataFrame'>\n",
      "Int64Index: 7657 entries, 18824 to 11836\n",
      "Data columns (total 11 columns):\n",
      " #   Column             Non-Null Count  Dtype   \n",
      "---  ------             --------------  -----   \n",
      " 0   beer/ABV           7657 non-null   float64 \n",
      " 1   beer/beerId        7657 non-null   int64   \n",
      " 2   beer/brewerId      7657 non-null   int64   \n",
      " 3   beer/name          7657 non-null   category\n",
      " 4   beer/style         7657 non-null   category\n",
      " 5   review/appearance  7657 non-null   float64 \n",
      " 6   review/aroma       7657 non-null   float64 \n",
      " 7   review/overall     7657 non-null   float64 \n",
      " 8   review/palate      7657 non-null   float64 \n",
      " 9   review/taste       7657 non-null   float64 \n",
      " 10  review/text        7657 non-null   category\n",
      "dtypes: category(3), float64(6), int64(2)\n",
      "memory usage: 2.2 MB\n"
     ]
    }
   ],
   "source": [
    "df.info()"
   ]
  },
  {
   "cell_type": "markdown",
   "metadata": {},
   "source": [
    "# Question-Answers & Data Visualization"
   ]
  },
  {
   "cell_type": "markdown",
   "metadata": {},
   "source": [
    "### q1.  How does beer style and taste rating is correlated to overall rating"
   ]
  },
  {
   "cell_type": "code",
   "execution_count": 68,
   "metadata": {},
   "outputs": [
    {
     "data": {
      "text/html": [
       "<div>\n",
       "<style scoped>\n",
       "    .dataframe tbody tr th:only-of-type {\n",
       "        vertical-align: middle;\n",
       "    }\n",
       "\n",
       "    .dataframe tbody tr th {\n",
       "        vertical-align: top;\n",
       "    }\n",
       "\n",
       "    .dataframe thead th {\n",
       "        text-align: right;\n",
       "    }\n",
       "</style>\n",
       "<table border=\"1\" class=\"dataframe\">\n",
       "  <thead>\n",
       "    <tr style=\"text-align: right;\">\n",
       "      <th></th>\n",
       "      <th>beer/style</th>\n",
       "      <th>review/taste</th>\n",
       "      <th>review/overall</th>\n",
       "      <th>beer/ABV</th>\n",
       "    </tr>\n",
       "  </thead>\n",
       "  <tbody>\n",
       "    <tr>\n",
       "      <th>0</th>\n",
       "      <td>American Double / Imperial Stout</td>\n",
       "      <td>4.522490</td>\n",
       "      <td>4.360879</td>\n",
       "      <td>9.553766</td>\n",
       "    </tr>\n",
       "    <tr>\n",
       "      <th>1</th>\n",
       "      <td>English Dark Mild Ale</td>\n",
       "      <td>4.500000</td>\n",
       "      <td>4.500000</td>\n",
       "      <td>3.000000</td>\n",
       "    </tr>\n",
       "    <tr>\n",
       "      <th>2</th>\n",
       "      <td>Chile Beer</td>\n",
       "      <td>4.500000</td>\n",
       "      <td>4.000000</td>\n",
       "      <td>4.400000</td>\n",
       "    </tr>\n",
       "    <tr>\n",
       "      <th>3</th>\n",
       "      <td>English Barleywine</td>\n",
       "      <td>4.392857</td>\n",
       "      <td>4.285714</td>\n",
       "      <td>10.475000</td>\n",
       "    </tr>\n",
       "    <tr>\n",
       "      <th>4</th>\n",
       "      <td>American Wild Ale</td>\n",
       "      <td>4.350000</td>\n",
       "      <td>4.050000</td>\n",
       "      <td>9.155000</td>\n",
       "    </tr>\n",
       "    <tr>\n",
       "      <th>...</th>\n",
       "      <td>...</td>\n",
       "      <td>...</td>\n",
       "      <td>...</td>\n",
       "      <td>...</td>\n",
       "    </tr>\n",
       "    <tr>\n",
       "      <th>90</th>\n",
       "      <td>Flanders Oud Bruin</td>\n",
       "      <td>NaN</td>\n",
       "      <td>NaN</td>\n",
       "      <td>NaN</td>\n",
       "    </tr>\n",
       "    <tr>\n",
       "      <th>91</th>\n",
       "      <td>Flanders Red Ale</td>\n",
       "      <td>NaN</td>\n",
       "      <td>NaN</td>\n",
       "      <td>NaN</td>\n",
       "    </tr>\n",
       "    <tr>\n",
       "      <th>92</th>\n",
       "      <td>Lambic - Fruit</td>\n",
       "      <td>NaN</td>\n",
       "      <td>NaN</td>\n",
       "      <td>NaN</td>\n",
       "    </tr>\n",
       "    <tr>\n",
       "      <th>93</th>\n",
       "      <td>Lambic - Unblended</td>\n",
       "      <td>NaN</td>\n",
       "      <td>NaN</td>\n",
       "      <td>NaN</td>\n",
       "    </tr>\n",
       "    <tr>\n",
       "      <th>94</th>\n",
       "      <td>Weizenbock</td>\n",
       "      <td>NaN</td>\n",
       "      <td>NaN</td>\n",
       "      <td>NaN</td>\n",
       "    </tr>\n",
       "  </tbody>\n",
       "</table>\n",
       "<p>95 rows × 4 columns</p>\n",
       "</div>"
      ],
      "text/plain": [
       "                          beer/style  review/taste  review/overall   beer/ABV\n",
       "0   American Double / Imperial Stout      4.522490        4.360879   9.553766\n",
       "1              English Dark Mild Ale      4.500000        4.500000   3.000000\n",
       "2                         Chile Beer      4.500000        4.000000   4.400000\n",
       "3                 English Barleywine      4.392857        4.285714  10.475000\n",
       "4                  American Wild Ale      4.350000        4.050000   9.155000\n",
       "..                               ...           ...             ...        ...\n",
       "90                Flanders Oud Bruin           NaN             NaN        NaN\n",
       "91                  Flanders Red Ale           NaN             NaN        NaN\n",
       "92                    Lambic - Fruit           NaN             NaN        NaN\n",
       "93                Lambic - Unblended           NaN             NaN        NaN\n",
       "94                        Weizenbock           NaN             NaN        NaN\n",
       "\n",
       "[95 rows x 4 columns]"
      ]
     },
     "execution_count": 68,
     "metadata": {},
     "output_type": "execute_result"
    }
   ],
   "source": [
    "beer_style_taste_abv = df.loc[:,['beer/style','review/taste','review/overall','beer/ABV']]\n",
    "\n",
    "beer_style_taste_abv = beer_style_taste_abv.groupby('beer/style')['review/taste','review/overall','beer/ABV'].mean()\n",
    "\n",
    "beer_style_taste_abv = pd.DataFrame(data=beer_style_taste_abv)\n",
    "\n",
    "beer_style_taste_abv = beer_style_taste_abv.sort_values(by=['review/taste'],ascending=False).reset_index()\n",
    "\n",
    "beer_style_taste_abv"
   ]
  },
  {
   "cell_type": "code",
   "execution_count": 69,
   "metadata": {},
   "outputs": [
    {
     "data": {
      "application/vnd.plotly.v1+json": {
       "config": {
        "plotlyServerURL": "https://plot.ly"
       },
       "data": [
        {
         "hovertemplate": "review/overall=%{x}<br>review/taste=%{y}<extra></extra>",
         "legendgroup": "",
         "marker": {
          "color": "#636efa",
          "symbol": "circle"
         },
         "mode": "markers",
         "name": "",
         "orientation": "v",
         "showlegend": false,
         "type": "scatter",
         "x": [
          4.360878661087866,
          4.5,
          4,
          4.285714285714286,
          4.05,
          4.212410501193317,
          4.25,
          4.1632302405498285,
          3.8653846153846154,
          3.6666666666666665,
          3.983695652173913,
          4.2,
          4.0553977272727275,
          3.902941176470588,
          3.9152542372881354,
          3.9552401746724892,
          3.89140625,
          3.625,
          3.8741935483870966,
          3.9753086419753085,
          4.05968992248062,
          4,
          4,
          4.090425531914893,
          3.860655737704918,
          4.5,
          3.8958333333333335,
          3.9210526315789473,
          3.861111111111111,
          3.8181818181818183,
          3.9367816091954024,
          3.8333333333333335,
          3.96,
          3.8846153846153846,
          3.7,
          3.973684210526316,
          3.806122448979592,
          3.7183098591549295,
          3.75,
          4,
          3.6666666666666665,
          3.638888888888889,
          3.607142857142857,
          3.7295081967213113,
          3.8,
          3.7,
          3.5833333333333335,
          3.820588235294118,
          3.1666666666666665,
          3.8333333333333335,
          3.6666666666666665,
          3.5833333333333335,
          3.4642857142857144,
          3.8295454545454546,
          3.810810810810811,
          3.7733333333333334,
          3.6176470588235294,
          3.826923076923077,
          3.696969696969697,
          3.7866666666666666,
          3.65625,
          3.5657894736842106,
          3.526315789473684,
          3.3392857142857144,
          3.5,
          3.6666666666666665,
          3.56,
          3,
          3.5,
          3.603960396039604,
          3.642857142857143,
          3.5714285714285716,
          3.2941176470588234,
          3.4473684210526314,
          3.7,
          3.4,
          3.2,
          3.358490566037736,
          3.2142857142857144,
          3.3333333333333335,
          3.4444444444444446,
          3.0625,
          3.0535714285714284,
          3.091743119266055,
          2.797872340425532,
          2.7733333333333334,
          2.5,
          2.1666666666666665,
          null,
          null,
          null,
          null,
          null,
          null,
          null
         ],
         "xaxis": "x",
         "y": [
          4.522489539748954,
          4.5,
          4.5,
          4.392857142857143,
          4.35,
          4.3389021479713605,
          4.25,
          4.216494845360825,
          4.211538461538462,
          4.166666666666667,
          4.163043478260869,
          4.15,
          4.142045454545454,
          4.120588235294117,
          4.114406779661017,
          4.103711790393013,
          4.06953125,
          4.0625,
          4.054838709677419,
          4.04320987654321,
          4.017829457364341,
          4,
          4,
          3.9468085106382977,
          3.9262295081967213,
          3.9,
          3.8958333333333335,
          3.8947368421052633,
          3.875,
          3.8636363636363638,
          3.8563218390804597,
          3.8333333333333335,
          3.82,
          3.8076923076923075,
          3.8,
          3.789473684210526,
          3.7755102040816326,
          3.76056338028169,
          3.75,
          3.75,
          3.7333333333333334,
          3.7222222222222223,
          3.7142857142857144,
          3.7049180327868854,
          3.7,
          3.7,
          3.6904761904761907,
          3.6691176470588234,
          3.6666666666666665,
          3.6666666666666665,
          3.6666666666666665,
          3.6666666666666665,
          3.6607142857142856,
          3.659090909090909,
          3.6531531531531534,
          3.6466666666666665,
          3.6176470588235294,
          3.608974358974359,
          3.580808080808081,
          3.58,
          3.5572916666666665,
          3.557017543859649,
          3.539473684210526,
          3.5357142857142856,
          3.5,
          3.5,
          3.5,
          3.5,
          3.5,
          3.487623762376238,
          3.482142857142857,
          3.482142857142857,
          3.4705882352941178,
          3.4473684210526314,
          3.4,
          3.3,
          3.25,
          3.2358490566037736,
          3.1666666666666665,
          3.1666666666666665,
          3.1666666666666665,
          3.125,
          2.875,
          2.7889908256880735,
          2.7127659574468086,
          2.52,
          2.5,
          1.9166666666666667,
          null,
          null,
          null,
          null,
          null,
          null,
          null
         ],
         "yaxis": "y"
        },
        {
         "hovertemplate": "<b>OLS trendline</b><br>review/taste = 1.01945 * review/overall + -0.0677969<br>R<sup>2</sup>=0.820130<br><br>review/overall=%{x}<br>review/taste=%{y} <b>(trend)</b><extra></extra>",
         "legendgroup": "",
         "marker": {
          "color": "#636efa",
          "symbol": "circle"
         },
         "mode": "lines",
         "name": "",
         "showlegend": false,
         "type": "scatter",
         "x": [
          2.1666666666666665,
          2.5,
          2.7733333333333334,
          2.797872340425532,
          3,
          3.0535714285714284,
          3.0625,
          3.091743119266055,
          3.1666666666666665,
          3.2,
          3.2142857142857144,
          3.2941176470588234,
          3.3333333333333335,
          3.3392857142857144,
          3.358490566037736,
          3.4,
          3.4444444444444446,
          3.4473684210526314,
          3.4642857142857144,
          3.5,
          3.5,
          3.526315789473684,
          3.56,
          3.5657894736842106,
          3.5714285714285716,
          3.5833333333333335,
          3.5833333333333335,
          3.603960396039604,
          3.607142857142857,
          3.6176470588235294,
          3.625,
          3.638888888888889,
          3.642857142857143,
          3.65625,
          3.6666666666666665,
          3.6666666666666665,
          3.6666666666666665,
          3.6666666666666665,
          3.696969696969697,
          3.7,
          3.7,
          3.7,
          3.7183098591549295,
          3.7295081967213113,
          3.75,
          3.7733333333333334,
          3.7866666666666666,
          3.8,
          3.806122448979592,
          3.810810810810811,
          3.8181818181818183,
          3.820588235294118,
          3.826923076923077,
          3.8295454545454546,
          3.8333333333333335,
          3.8333333333333335,
          3.860655737704918,
          3.861111111111111,
          3.8653846153846154,
          3.8741935483870966,
          3.8846153846153846,
          3.89140625,
          3.8958333333333335,
          3.902941176470588,
          3.9152542372881354,
          3.9210526315789473,
          3.9367816091954024,
          3.9552401746724892,
          3.96,
          3.973684210526316,
          3.9753086419753085,
          3.983695652173913,
          4,
          4,
          4,
          4,
          4.05,
          4.0553977272727275,
          4.05968992248062,
          4.090425531914893,
          4.1632302405498285,
          4.2,
          4.212410501193317,
          4.25,
          4.285714285714286,
          4.360878661087866,
          4.5,
          4.5
         ],
         "xaxis": "x",
         "y": [
          2.141009421025606,
          2.4808257812146546,
          2.759475196569675,
          2.7844914647878474,
          2.990550321498228,
          3.045163665100039,
          3.0542658890336747,
          3.0840777600823697,
          3.160458501592752,
          3.1944401376116573,
          3.2090036959054737,
          3.2903882863709177,
          3.3303666816872766,
          3.336434830976367,
          3.3560131994373936,
          3.3983299537250864,
          3.443638801750293,
          3.4466196470151087,
          3.46386596604726,
          3.500274861781801,
          3.500274861781801,
          3.527102469165147,
          3.5614418066158295,
          3.567343880240166,
          3.573092653250883,
          3.5852289518290634,
          3.5852289518290634,
          3.6062571919397715,
          3.6095015489854236,
          3.620210047730877,
          3.6277059968526943,
          3.6418650118605713,
          3.6459104447199646,
          3.6595637806204175,
          3.6701830418763253,
          3.6701830418763253,
          3.6701830418763253,
          3.6701830418763253,
          3.701075438257148,
          3.70416467789523,
          3.70416467789523,
          3.70416467789523,
          3.722830646976037,
          3.7342467819119656,
          3.7551371319235876,
          3.778924277136821,
          3.792516931544383,
          3.8061095859519445,
          3.8123511109350092,
          3.8171306570932115,
          3.8246450237804384,
          3.827098243493033,
          3.833556291967214,
          3.8362296724232468,
          3.84009122197085,
          3.84009122197085,
          3.8679450219863454,
          3.868409251986604,
          3.8727658719890274,
          3.8817461306391845,
          3.892370661999934,
          3.8992936034725356,
          3.9038067895062962,
          3.911052873657386,
          3.9236054121868023,
          3.929516579915336,
          3.9455514716846927,
          3.9643690392888975,
          3.969221438842688,
          3.9831717946820278,
          3.9848278198291482,
          3.9933779496648225,
          4.009999402065374,
          4.009999402065374,
          4.009999402065374,
          4.009999402065374,
          4.060971856093731,
          4.066474564199066,
          4.070850238657367,
          4.1021836274358074,
          4.176404320714651,
          4.213889218178804,
          4.226541092209708,
          4.264861672207161,
          4.301270567941701,
          4.377896821307702,
          4.519723942348947,
          4.519723942348947
         ],
         "yaxis": "y"
        }
       ],
       "layout": {
        "legend": {
         "tracegroupgap": 0
        },
        "margin": {
         "t": 60
        },
        "template": {
         "data": {
          "bar": [
           {
            "error_x": {
             "color": "#2a3f5f"
            },
            "error_y": {
             "color": "#2a3f5f"
            },
            "marker": {
             "line": {
              "color": "#E5ECF6",
              "width": 0.5
             }
            },
            "type": "bar"
           }
          ],
          "barpolar": [
           {
            "marker": {
             "line": {
              "color": "#E5ECF6",
              "width": 0.5
             }
            },
            "type": "barpolar"
           }
          ],
          "carpet": [
           {
            "aaxis": {
             "endlinecolor": "#2a3f5f",
             "gridcolor": "white",
             "linecolor": "white",
             "minorgridcolor": "white",
             "startlinecolor": "#2a3f5f"
            },
            "baxis": {
             "endlinecolor": "#2a3f5f",
             "gridcolor": "white",
             "linecolor": "white",
             "minorgridcolor": "white",
             "startlinecolor": "#2a3f5f"
            },
            "type": "carpet"
           }
          ],
          "choropleth": [
           {
            "colorbar": {
             "outlinewidth": 0,
             "ticks": ""
            },
            "type": "choropleth"
           }
          ],
          "contour": [
           {
            "colorbar": {
             "outlinewidth": 0,
             "ticks": ""
            },
            "colorscale": [
             [
              0,
              "#0d0887"
             ],
             [
              0.1111111111111111,
              "#46039f"
             ],
             [
              0.2222222222222222,
              "#7201a8"
             ],
             [
              0.3333333333333333,
              "#9c179e"
             ],
             [
              0.4444444444444444,
              "#bd3786"
             ],
             [
              0.5555555555555556,
              "#d8576b"
             ],
             [
              0.6666666666666666,
              "#ed7953"
             ],
             [
              0.7777777777777778,
              "#fb9f3a"
             ],
             [
              0.8888888888888888,
              "#fdca26"
             ],
             [
              1,
              "#f0f921"
             ]
            ],
            "type": "contour"
           }
          ],
          "contourcarpet": [
           {
            "colorbar": {
             "outlinewidth": 0,
             "ticks": ""
            },
            "type": "contourcarpet"
           }
          ],
          "heatmap": [
           {
            "colorbar": {
             "outlinewidth": 0,
             "ticks": ""
            },
            "colorscale": [
             [
              0,
              "#0d0887"
             ],
             [
              0.1111111111111111,
              "#46039f"
             ],
             [
              0.2222222222222222,
              "#7201a8"
             ],
             [
              0.3333333333333333,
              "#9c179e"
             ],
             [
              0.4444444444444444,
              "#bd3786"
             ],
             [
              0.5555555555555556,
              "#d8576b"
             ],
             [
              0.6666666666666666,
              "#ed7953"
             ],
             [
              0.7777777777777778,
              "#fb9f3a"
             ],
             [
              0.8888888888888888,
              "#fdca26"
             ],
             [
              1,
              "#f0f921"
             ]
            ],
            "type": "heatmap"
           }
          ],
          "heatmapgl": [
           {
            "colorbar": {
             "outlinewidth": 0,
             "ticks": ""
            },
            "colorscale": [
             [
              0,
              "#0d0887"
             ],
             [
              0.1111111111111111,
              "#46039f"
             ],
             [
              0.2222222222222222,
              "#7201a8"
             ],
             [
              0.3333333333333333,
              "#9c179e"
             ],
             [
              0.4444444444444444,
              "#bd3786"
             ],
             [
              0.5555555555555556,
              "#d8576b"
             ],
             [
              0.6666666666666666,
              "#ed7953"
             ],
             [
              0.7777777777777778,
              "#fb9f3a"
             ],
             [
              0.8888888888888888,
              "#fdca26"
             ],
             [
              1,
              "#f0f921"
             ]
            ],
            "type": "heatmapgl"
           }
          ],
          "histogram": [
           {
            "marker": {
             "colorbar": {
              "outlinewidth": 0,
              "ticks": ""
             }
            },
            "type": "histogram"
           }
          ],
          "histogram2d": [
           {
            "colorbar": {
             "outlinewidth": 0,
             "ticks": ""
            },
            "colorscale": [
             [
              0,
              "#0d0887"
             ],
             [
              0.1111111111111111,
              "#46039f"
             ],
             [
              0.2222222222222222,
              "#7201a8"
             ],
             [
              0.3333333333333333,
              "#9c179e"
             ],
             [
              0.4444444444444444,
              "#bd3786"
             ],
             [
              0.5555555555555556,
              "#d8576b"
             ],
             [
              0.6666666666666666,
              "#ed7953"
             ],
             [
              0.7777777777777778,
              "#fb9f3a"
             ],
             [
              0.8888888888888888,
              "#fdca26"
             ],
             [
              1,
              "#f0f921"
             ]
            ],
            "type": "histogram2d"
           }
          ],
          "histogram2dcontour": [
           {
            "colorbar": {
             "outlinewidth": 0,
             "ticks": ""
            },
            "colorscale": [
             [
              0,
              "#0d0887"
             ],
             [
              0.1111111111111111,
              "#46039f"
             ],
             [
              0.2222222222222222,
              "#7201a8"
             ],
             [
              0.3333333333333333,
              "#9c179e"
             ],
             [
              0.4444444444444444,
              "#bd3786"
             ],
             [
              0.5555555555555556,
              "#d8576b"
             ],
             [
              0.6666666666666666,
              "#ed7953"
             ],
             [
              0.7777777777777778,
              "#fb9f3a"
             ],
             [
              0.8888888888888888,
              "#fdca26"
             ],
             [
              1,
              "#f0f921"
             ]
            ],
            "type": "histogram2dcontour"
           }
          ],
          "mesh3d": [
           {
            "colorbar": {
             "outlinewidth": 0,
             "ticks": ""
            },
            "type": "mesh3d"
           }
          ],
          "parcoords": [
           {
            "line": {
             "colorbar": {
              "outlinewidth": 0,
              "ticks": ""
             }
            },
            "type": "parcoords"
           }
          ],
          "pie": [
           {
            "automargin": true,
            "type": "pie"
           }
          ],
          "scatter": [
           {
            "marker": {
             "colorbar": {
              "outlinewidth": 0,
              "ticks": ""
             }
            },
            "type": "scatter"
           }
          ],
          "scatter3d": [
           {
            "line": {
             "colorbar": {
              "outlinewidth": 0,
              "ticks": ""
             }
            },
            "marker": {
             "colorbar": {
              "outlinewidth": 0,
              "ticks": ""
             }
            },
            "type": "scatter3d"
           }
          ],
          "scattercarpet": [
           {
            "marker": {
             "colorbar": {
              "outlinewidth": 0,
              "ticks": ""
             }
            },
            "type": "scattercarpet"
           }
          ],
          "scattergeo": [
           {
            "marker": {
             "colorbar": {
              "outlinewidth": 0,
              "ticks": ""
             }
            },
            "type": "scattergeo"
           }
          ],
          "scattergl": [
           {
            "marker": {
             "colorbar": {
              "outlinewidth": 0,
              "ticks": ""
             }
            },
            "type": "scattergl"
           }
          ],
          "scattermapbox": [
           {
            "marker": {
             "colorbar": {
              "outlinewidth": 0,
              "ticks": ""
             }
            },
            "type": "scattermapbox"
           }
          ],
          "scatterpolar": [
           {
            "marker": {
             "colorbar": {
              "outlinewidth": 0,
              "ticks": ""
             }
            },
            "type": "scatterpolar"
           }
          ],
          "scatterpolargl": [
           {
            "marker": {
             "colorbar": {
              "outlinewidth": 0,
              "ticks": ""
             }
            },
            "type": "scatterpolargl"
           }
          ],
          "scatterternary": [
           {
            "marker": {
             "colorbar": {
              "outlinewidth": 0,
              "ticks": ""
             }
            },
            "type": "scatterternary"
           }
          ],
          "surface": [
           {
            "colorbar": {
             "outlinewidth": 0,
             "ticks": ""
            },
            "colorscale": [
             [
              0,
              "#0d0887"
             ],
             [
              0.1111111111111111,
              "#46039f"
             ],
             [
              0.2222222222222222,
              "#7201a8"
             ],
             [
              0.3333333333333333,
              "#9c179e"
             ],
             [
              0.4444444444444444,
              "#bd3786"
             ],
             [
              0.5555555555555556,
              "#d8576b"
             ],
             [
              0.6666666666666666,
              "#ed7953"
             ],
             [
              0.7777777777777778,
              "#fb9f3a"
             ],
             [
              0.8888888888888888,
              "#fdca26"
             ],
             [
              1,
              "#f0f921"
             ]
            ],
            "type": "surface"
           }
          ],
          "table": [
           {
            "cells": {
             "fill": {
              "color": "#EBF0F8"
             },
             "line": {
              "color": "white"
             }
            },
            "header": {
             "fill": {
              "color": "#C8D4E3"
             },
             "line": {
              "color": "white"
             }
            },
            "type": "table"
           }
          ]
         },
         "layout": {
          "annotationdefaults": {
           "arrowcolor": "#2a3f5f",
           "arrowhead": 0,
           "arrowwidth": 1
          },
          "coloraxis": {
           "colorbar": {
            "outlinewidth": 0,
            "ticks": ""
           }
          },
          "colorscale": {
           "diverging": [
            [
             0,
             "#8e0152"
            ],
            [
             0.1,
             "#c51b7d"
            ],
            [
             0.2,
             "#de77ae"
            ],
            [
             0.3,
             "#f1b6da"
            ],
            [
             0.4,
             "#fde0ef"
            ],
            [
             0.5,
             "#f7f7f7"
            ],
            [
             0.6,
             "#e6f5d0"
            ],
            [
             0.7,
             "#b8e186"
            ],
            [
             0.8,
             "#7fbc41"
            ],
            [
             0.9,
             "#4d9221"
            ],
            [
             1,
             "#276419"
            ]
           ],
           "sequential": [
            [
             0,
             "#0d0887"
            ],
            [
             0.1111111111111111,
             "#46039f"
            ],
            [
             0.2222222222222222,
             "#7201a8"
            ],
            [
             0.3333333333333333,
             "#9c179e"
            ],
            [
             0.4444444444444444,
             "#bd3786"
            ],
            [
             0.5555555555555556,
             "#d8576b"
            ],
            [
             0.6666666666666666,
             "#ed7953"
            ],
            [
             0.7777777777777778,
             "#fb9f3a"
            ],
            [
             0.8888888888888888,
             "#fdca26"
            ],
            [
             1,
             "#f0f921"
            ]
           ],
           "sequentialminus": [
            [
             0,
             "#0d0887"
            ],
            [
             0.1111111111111111,
             "#46039f"
            ],
            [
             0.2222222222222222,
             "#7201a8"
            ],
            [
             0.3333333333333333,
             "#9c179e"
            ],
            [
             0.4444444444444444,
             "#bd3786"
            ],
            [
             0.5555555555555556,
             "#d8576b"
            ],
            [
             0.6666666666666666,
             "#ed7953"
            ],
            [
             0.7777777777777778,
             "#fb9f3a"
            ],
            [
             0.8888888888888888,
             "#fdca26"
            ],
            [
             1,
             "#f0f921"
            ]
           ]
          },
          "colorway": [
           "#636efa",
           "#EF553B",
           "#00cc96",
           "#ab63fa",
           "#FFA15A",
           "#19d3f3",
           "#FF6692",
           "#B6E880",
           "#FF97FF",
           "#FECB52"
          ],
          "font": {
           "color": "#2a3f5f"
          },
          "geo": {
           "bgcolor": "white",
           "lakecolor": "white",
           "landcolor": "#E5ECF6",
           "showlakes": true,
           "showland": true,
           "subunitcolor": "white"
          },
          "hoverlabel": {
           "align": "left"
          },
          "hovermode": "closest",
          "mapbox": {
           "style": "light"
          },
          "paper_bgcolor": "white",
          "plot_bgcolor": "#E5ECF6",
          "polar": {
           "angularaxis": {
            "gridcolor": "white",
            "linecolor": "white",
            "ticks": ""
           },
           "bgcolor": "#E5ECF6",
           "radialaxis": {
            "gridcolor": "white",
            "linecolor": "white",
            "ticks": ""
           }
          },
          "scene": {
           "xaxis": {
            "backgroundcolor": "#E5ECF6",
            "gridcolor": "white",
            "gridwidth": 2,
            "linecolor": "white",
            "showbackground": true,
            "ticks": "",
            "zerolinecolor": "white"
           },
           "yaxis": {
            "backgroundcolor": "#E5ECF6",
            "gridcolor": "white",
            "gridwidth": 2,
            "linecolor": "white",
            "showbackground": true,
            "ticks": "",
            "zerolinecolor": "white"
           },
           "zaxis": {
            "backgroundcolor": "#E5ECF6",
            "gridcolor": "white",
            "gridwidth": 2,
            "linecolor": "white",
            "showbackground": true,
            "ticks": "",
            "zerolinecolor": "white"
           }
          },
          "shapedefaults": {
           "line": {
            "color": "#2a3f5f"
           }
          },
          "ternary": {
           "aaxis": {
            "gridcolor": "white",
            "linecolor": "white",
            "ticks": ""
           },
           "baxis": {
            "gridcolor": "white",
            "linecolor": "white",
            "ticks": ""
           },
           "bgcolor": "#E5ECF6",
           "caxis": {
            "gridcolor": "white",
            "linecolor": "white",
            "ticks": ""
           }
          },
          "title": {
           "x": 0.05
          },
          "xaxis": {
           "automargin": true,
           "gridcolor": "white",
           "linecolor": "white",
           "ticks": "",
           "title": {
            "standoff": 15
           },
           "zerolinecolor": "white",
           "zerolinewidth": 2
          },
          "yaxis": {
           "automargin": true,
           "gridcolor": "white",
           "linecolor": "white",
           "ticks": "",
           "title": {
            "standoff": 15
           },
           "zerolinecolor": "white",
           "zerolinewidth": 2
          }
         }
        },
        "xaxis": {
         "anchor": "y",
         "domain": [
          0,
          1
         ],
         "title": {
          "text": "review/overall"
         }
        },
        "yaxis": {
         "anchor": "x",
         "domain": [
          0,
          1
         ],
         "title": {
          "text": "review/taste"
         }
        }
       }
      },
      "text/html": [
       "<div>\n",
       "        \n",
       "        \n",
       "            <div id=\"3abfa9be-46b9-4b72-8448-8dba622d8917\" class=\"plotly-graph-div\" style=\"height:525px; width:100%;\"></div>\n",
       "            <script type=\"text/javascript\">\n",
       "                require([\"plotly\"], function(Plotly) {\n",
       "                    window.PLOTLYENV=window.PLOTLYENV || {};\n",
       "                    \n",
       "                if (document.getElementById(\"3abfa9be-46b9-4b72-8448-8dba622d8917\")) {\n",
       "                    Plotly.newPlot(\n",
       "                        '3abfa9be-46b9-4b72-8448-8dba622d8917',\n",
       "                        [{\"hovertemplate\": \"review/overall=%{x}<br>review/taste=%{y}<extra></extra>\", \"legendgroup\": \"\", \"marker\": {\"color\": \"#636efa\", \"symbol\": \"circle\"}, \"mode\": \"markers\", \"name\": \"\", \"orientation\": \"v\", \"showlegend\": false, \"type\": \"scatter\", \"x\": [4.360878661087866, 4.5, 4.0, 4.285714285714286, 4.05, 4.212410501193317, 4.25, 4.1632302405498285, 3.8653846153846154, 3.6666666666666665, 3.983695652173913, 4.2, 4.0553977272727275, 3.902941176470588, 3.9152542372881354, 3.9552401746724892, 3.89140625, 3.625, 3.8741935483870966, 3.9753086419753085, 4.05968992248062, 4.0, 4.0, 4.090425531914893, 3.860655737704918, 4.5, 3.8958333333333335, 3.9210526315789473, 3.861111111111111, 3.8181818181818183, 3.9367816091954024, 3.8333333333333335, 3.96, 3.8846153846153846, 3.7, 3.973684210526316, 3.806122448979592, 3.7183098591549295, 3.75, 4.0, 3.6666666666666665, 3.638888888888889, 3.607142857142857, 3.7295081967213113, 3.8, 3.7, 3.5833333333333335, 3.820588235294118, 3.1666666666666665, 3.8333333333333335, 3.6666666666666665, 3.5833333333333335, 3.4642857142857144, 3.8295454545454546, 3.810810810810811, 3.7733333333333334, 3.6176470588235294, 3.826923076923077, 3.696969696969697, 3.7866666666666666, 3.65625, 3.5657894736842106, 3.526315789473684, 3.3392857142857144, 3.5, 3.6666666666666665, 3.56, 3.0, 3.5, 3.603960396039604, 3.642857142857143, 3.5714285714285716, 3.2941176470588234, 3.4473684210526314, 3.7, 3.4, 3.2, 3.358490566037736, 3.2142857142857144, 3.3333333333333335, 3.4444444444444446, 3.0625, 3.0535714285714284, 3.091743119266055, 2.797872340425532, 2.7733333333333334, 2.5, 2.1666666666666665, null, null, null, null, null, null, null], \"xaxis\": \"x\", \"y\": [4.522489539748954, 4.5, 4.5, 4.392857142857143, 4.35, 4.3389021479713605, 4.25, 4.216494845360825, 4.211538461538462, 4.166666666666667, 4.163043478260869, 4.15, 4.142045454545454, 4.120588235294117, 4.114406779661017, 4.103711790393013, 4.06953125, 4.0625, 4.054838709677419, 4.04320987654321, 4.017829457364341, 4.0, 4.0, 3.9468085106382977, 3.9262295081967213, 3.9, 3.8958333333333335, 3.8947368421052633, 3.875, 3.8636363636363638, 3.8563218390804597, 3.8333333333333335, 3.82, 3.8076923076923075, 3.8, 3.789473684210526, 3.7755102040816326, 3.76056338028169, 3.75, 3.75, 3.7333333333333334, 3.7222222222222223, 3.7142857142857144, 3.7049180327868854, 3.7, 3.7, 3.6904761904761907, 3.6691176470588234, 3.6666666666666665, 3.6666666666666665, 3.6666666666666665, 3.6666666666666665, 3.6607142857142856, 3.659090909090909, 3.6531531531531534, 3.6466666666666665, 3.6176470588235294, 3.608974358974359, 3.580808080808081, 3.58, 3.5572916666666665, 3.557017543859649, 3.539473684210526, 3.5357142857142856, 3.5, 3.5, 3.5, 3.5, 3.5, 3.487623762376238, 3.482142857142857, 3.482142857142857, 3.4705882352941178, 3.4473684210526314, 3.4, 3.3, 3.25, 3.2358490566037736, 3.1666666666666665, 3.1666666666666665, 3.1666666666666665, 3.125, 2.875, 2.7889908256880735, 2.7127659574468086, 2.52, 2.5, 1.9166666666666667, null, null, null, null, null, null, null], \"yaxis\": \"y\"}, {\"hovertemplate\": \"<b>OLS trendline</b><br>review/taste = 1.01945 * review/overall + -0.0677969<br>R<sup>2</sup>=0.820130<br><br>review/overall=%{x}<br>review/taste=%{y} <b>(trend)</b><extra></extra>\", \"legendgroup\": \"\", \"marker\": {\"color\": \"#636efa\", \"symbol\": \"circle\"}, \"mode\": \"lines\", \"name\": \"\", \"showlegend\": false, \"type\": \"scatter\", \"x\": [2.1666666666666665, 2.5, 2.7733333333333334, 2.797872340425532, 3.0, 3.0535714285714284, 3.0625, 3.091743119266055, 3.1666666666666665, 3.2, 3.2142857142857144, 3.2941176470588234, 3.3333333333333335, 3.3392857142857144, 3.358490566037736, 3.4, 3.4444444444444446, 3.4473684210526314, 3.4642857142857144, 3.5, 3.5, 3.526315789473684, 3.56, 3.5657894736842106, 3.5714285714285716, 3.5833333333333335, 3.5833333333333335, 3.603960396039604, 3.607142857142857, 3.6176470588235294, 3.625, 3.638888888888889, 3.642857142857143, 3.65625, 3.6666666666666665, 3.6666666666666665, 3.6666666666666665, 3.6666666666666665, 3.696969696969697, 3.7, 3.7, 3.7, 3.7183098591549295, 3.7295081967213113, 3.75, 3.7733333333333334, 3.7866666666666666, 3.8, 3.806122448979592, 3.810810810810811, 3.8181818181818183, 3.820588235294118, 3.826923076923077, 3.8295454545454546, 3.8333333333333335, 3.8333333333333335, 3.860655737704918, 3.861111111111111, 3.8653846153846154, 3.8741935483870966, 3.8846153846153846, 3.89140625, 3.8958333333333335, 3.902941176470588, 3.9152542372881354, 3.9210526315789473, 3.9367816091954024, 3.9552401746724892, 3.96, 3.973684210526316, 3.9753086419753085, 3.983695652173913, 4.0, 4.0, 4.0, 4.0, 4.05, 4.0553977272727275, 4.05968992248062, 4.090425531914893, 4.1632302405498285, 4.2, 4.212410501193317, 4.25, 4.285714285714286, 4.360878661087866, 4.5, 4.5], \"xaxis\": \"x\", \"y\": [2.141009421025606, 2.4808257812146546, 2.759475196569675, 2.7844914647878474, 2.990550321498228, 3.045163665100039, 3.0542658890336747, 3.0840777600823697, 3.160458501592752, 3.1944401376116573, 3.2090036959054737, 3.2903882863709177, 3.3303666816872766, 3.336434830976367, 3.3560131994373936, 3.3983299537250864, 3.443638801750293, 3.4466196470151087, 3.46386596604726, 3.500274861781801, 3.500274861781801, 3.527102469165147, 3.5614418066158295, 3.567343880240166, 3.573092653250883, 3.5852289518290634, 3.5852289518290634, 3.6062571919397715, 3.6095015489854236, 3.620210047730877, 3.6277059968526943, 3.6418650118605713, 3.6459104447199646, 3.6595637806204175, 3.6701830418763253, 3.6701830418763253, 3.6701830418763253, 3.6701830418763253, 3.701075438257148, 3.70416467789523, 3.70416467789523, 3.70416467789523, 3.722830646976037, 3.7342467819119656, 3.7551371319235876, 3.778924277136821, 3.792516931544383, 3.8061095859519445, 3.8123511109350092, 3.8171306570932115, 3.8246450237804384, 3.827098243493033, 3.833556291967214, 3.8362296724232468, 3.84009122197085, 3.84009122197085, 3.8679450219863454, 3.868409251986604, 3.8727658719890274, 3.8817461306391845, 3.892370661999934, 3.8992936034725356, 3.9038067895062962, 3.911052873657386, 3.9236054121868023, 3.929516579915336, 3.9455514716846927, 3.9643690392888975, 3.969221438842688, 3.9831717946820278, 3.9848278198291482, 3.9933779496648225, 4.009999402065374, 4.009999402065374, 4.009999402065374, 4.009999402065374, 4.060971856093731, 4.066474564199066, 4.070850238657367, 4.1021836274358074, 4.176404320714651, 4.213889218178804, 4.226541092209708, 4.264861672207161, 4.301270567941701, 4.377896821307702, 4.519723942348947, 4.519723942348947], \"yaxis\": \"y\"}],\n",
       "                        {\"legend\": {\"tracegroupgap\": 0}, \"margin\": {\"t\": 60}, \"template\": {\"data\": {\"bar\": [{\"error_x\": {\"color\": \"#2a3f5f\"}, \"error_y\": {\"color\": \"#2a3f5f\"}, \"marker\": {\"line\": {\"color\": \"#E5ECF6\", \"width\": 0.5}}, \"type\": \"bar\"}], \"barpolar\": [{\"marker\": {\"line\": {\"color\": \"#E5ECF6\", \"width\": 0.5}}, \"type\": \"barpolar\"}], \"carpet\": [{\"aaxis\": {\"endlinecolor\": \"#2a3f5f\", \"gridcolor\": \"white\", \"linecolor\": \"white\", \"minorgridcolor\": \"white\", \"startlinecolor\": \"#2a3f5f\"}, \"baxis\": {\"endlinecolor\": \"#2a3f5f\", \"gridcolor\": \"white\", \"linecolor\": \"white\", \"minorgridcolor\": \"white\", \"startlinecolor\": \"#2a3f5f\"}, \"type\": \"carpet\"}], \"choropleth\": [{\"colorbar\": {\"outlinewidth\": 0, \"ticks\": \"\"}, \"type\": \"choropleth\"}], \"contour\": [{\"colorbar\": {\"outlinewidth\": 0, \"ticks\": \"\"}, \"colorscale\": [[0.0, \"#0d0887\"], [0.1111111111111111, \"#46039f\"], [0.2222222222222222, \"#7201a8\"], [0.3333333333333333, \"#9c179e\"], [0.4444444444444444, \"#bd3786\"], [0.5555555555555556, \"#d8576b\"], [0.6666666666666666, \"#ed7953\"], [0.7777777777777778, \"#fb9f3a\"], [0.8888888888888888, \"#fdca26\"], [1.0, \"#f0f921\"]], \"type\": \"contour\"}], \"contourcarpet\": [{\"colorbar\": {\"outlinewidth\": 0, \"ticks\": \"\"}, \"type\": \"contourcarpet\"}], \"heatmap\": [{\"colorbar\": {\"outlinewidth\": 0, \"ticks\": \"\"}, \"colorscale\": [[0.0, \"#0d0887\"], [0.1111111111111111, \"#46039f\"], [0.2222222222222222, \"#7201a8\"], [0.3333333333333333, \"#9c179e\"], [0.4444444444444444, \"#bd3786\"], [0.5555555555555556, \"#d8576b\"], [0.6666666666666666, \"#ed7953\"], [0.7777777777777778, \"#fb9f3a\"], [0.8888888888888888, \"#fdca26\"], [1.0, \"#f0f921\"]], \"type\": \"heatmap\"}], \"heatmapgl\": [{\"colorbar\": {\"outlinewidth\": 0, \"ticks\": \"\"}, \"colorscale\": [[0.0, \"#0d0887\"], [0.1111111111111111, \"#46039f\"], [0.2222222222222222, \"#7201a8\"], [0.3333333333333333, \"#9c179e\"], [0.4444444444444444, \"#bd3786\"], [0.5555555555555556, \"#d8576b\"], [0.6666666666666666, \"#ed7953\"], [0.7777777777777778, \"#fb9f3a\"], [0.8888888888888888, \"#fdca26\"], [1.0, \"#f0f921\"]], \"type\": \"heatmapgl\"}], \"histogram\": [{\"marker\": {\"colorbar\": {\"outlinewidth\": 0, \"ticks\": \"\"}}, \"type\": \"histogram\"}], \"histogram2d\": [{\"colorbar\": {\"outlinewidth\": 0, \"ticks\": \"\"}, \"colorscale\": [[0.0, \"#0d0887\"], [0.1111111111111111, \"#46039f\"], [0.2222222222222222, \"#7201a8\"], [0.3333333333333333, \"#9c179e\"], [0.4444444444444444, \"#bd3786\"], [0.5555555555555556, \"#d8576b\"], [0.6666666666666666, \"#ed7953\"], [0.7777777777777778, \"#fb9f3a\"], [0.8888888888888888, \"#fdca26\"], [1.0, \"#f0f921\"]], \"type\": \"histogram2d\"}], \"histogram2dcontour\": [{\"colorbar\": {\"outlinewidth\": 0, \"ticks\": \"\"}, \"colorscale\": [[0.0, \"#0d0887\"], [0.1111111111111111, \"#46039f\"], [0.2222222222222222, \"#7201a8\"], [0.3333333333333333, \"#9c179e\"], [0.4444444444444444, \"#bd3786\"], [0.5555555555555556, \"#d8576b\"], [0.6666666666666666, \"#ed7953\"], [0.7777777777777778, \"#fb9f3a\"], [0.8888888888888888, \"#fdca26\"], [1.0, \"#f0f921\"]], \"type\": \"histogram2dcontour\"}], \"mesh3d\": [{\"colorbar\": {\"outlinewidth\": 0, \"ticks\": \"\"}, \"type\": \"mesh3d\"}], \"parcoords\": [{\"line\": {\"colorbar\": {\"outlinewidth\": 0, \"ticks\": \"\"}}, \"type\": \"parcoords\"}], \"pie\": [{\"automargin\": true, \"type\": \"pie\"}], \"scatter\": [{\"marker\": {\"colorbar\": {\"outlinewidth\": 0, \"ticks\": \"\"}}, \"type\": \"scatter\"}], \"scatter3d\": [{\"line\": {\"colorbar\": {\"outlinewidth\": 0, \"ticks\": \"\"}}, \"marker\": {\"colorbar\": {\"outlinewidth\": 0, \"ticks\": \"\"}}, \"type\": \"scatter3d\"}], \"scattercarpet\": [{\"marker\": {\"colorbar\": {\"outlinewidth\": 0, \"ticks\": \"\"}}, \"type\": \"scattercarpet\"}], \"scattergeo\": [{\"marker\": {\"colorbar\": {\"outlinewidth\": 0, \"ticks\": \"\"}}, \"type\": \"scattergeo\"}], \"scattergl\": [{\"marker\": {\"colorbar\": {\"outlinewidth\": 0, \"ticks\": \"\"}}, \"type\": \"scattergl\"}], \"scattermapbox\": [{\"marker\": {\"colorbar\": {\"outlinewidth\": 0, \"ticks\": \"\"}}, \"type\": \"scattermapbox\"}], \"scatterpolar\": [{\"marker\": {\"colorbar\": {\"outlinewidth\": 0, \"ticks\": \"\"}}, \"type\": \"scatterpolar\"}], \"scatterpolargl\": [{\"marker\": {\"colorbar\": {\"outlinewidth\": 0, \"ticks\": \"\"}}, \"type\": \"scatterpolargl\"}], \"scatterternary\": [{\"marker\": {\"colorbar\": {\"outlinewidth\": 0, \"ticks\": \"\"}}, \"type\": \"scatterternary\"}], \"surface\": [{\"colorbar\": {\"outlinewidth\": 0, \"ticks\": \"\"}, \"colorscale\": [[0.0, \"#0d0887\"], [0.1111111111111111, \"#46039f\"], [0.2222222222222222, \"#7201a8\"], [0.3333333333333333, \"#9c179e\"], [0.4444444444444444, \"#bd3786\"], [0.5555555555555556, \"#d8576b\"], [0.6666666666666666, \"#ed7953\"], [0.7777777777777778, \"#fb9f3a\"], [0.8888888888888888, \"#fdca26\"], [1.0, \"#f0f921\"]], \"type\": \"surface\"}], \"table\": [{\"cells\": {\"fill\": {\"color\": \"#EBF0F8\"}, \"line\": {\"color\": \"white\"}}, \"header\": {\"fill\": {\"color\": \"#C8D4E3\"}, \"line\": {\"color\": \"white\"}}, \"type\": \"table\"}]}, \"layout\": {\"annotationdefaults\": {\"arrowcolor\": \"#2a3f5f\", \"arrowhead\": 0, \"arrowwidth\": 1}, \"coloraxis\": {\"colorbar\": {\"outlinewidth\": 0, \"ticks\": \"\"}}, \"colorscale\": {\"diverging\": [[0, \"#8e0152\"], [0.1, \"#c51b7d\"], [0.2, \"#de77ae\"], [0.3, \"#f1b6da\"], [0.4, \"#fde0ef\"], [0.5, \"#f7f7f7\"], [0.6, \"#e6f5d0\"], [0.7, \"#b8e186\"], [0.8, \"#7fbc41\"], [0.9, \"#4d9221\"], [1, \"#276419\"]], \"sequential\": [[0.0, \"#0d0887\"], [0.1111111111111111, \"#46039f\"], [0.2222222222222222, \"#7201a8\"], [0.3333333333333333, \"#9c179e\"], [0.4444444444444444, \"#bd3786\"], [0.5555555555555556, \"#d8576b\"], [0.6666666666666666, \"#ed7953\"], [0.7777777777777778, \"#fb9f3a\"], [0.8888888888888888, \"#fdca26\"], [1.0, \"#f0f921\"]], \"sequentialminus\": [[0.0, \"#0d0887\"], [0.1111111111111111, \"#46039f\"], [0.2222222222222222, \"#7201a8\"], [0.3333333333333333, \"#9c179e\"], [0.4444444444444444, \"#bd3786\"], [0.5555555555555556, \"#d8576b\"], [0.6666666666666666, \"#ed7953\"], [0.7777777777777778, \"#fb9f3a\"], [0.8888888888888888, \"#fdca26\"], [1.0, \"#f0f921\"]]}, \"colorway\": [\"#636efa\", \"#EF553B\", \"#00cc96\", \"#ab63fa\", \"#FFA15A\", \"#19d3f3\", \"#FF6692\", \"#B6E880\", \"#FF97FF\", \"#FECB52\"], \"font\": {\"color\": \"#2a3f5f\"}, \"geo\": {\"bgcolor\": \"white\", \"lakecolor\": \"white\", \"landcolor\": \"#E5ECF6\", \"showlakes\": true, \"showland\": true, \"subunitcolor\": \"white\"}, \"hoverlabel\": {\"align\": \"left\"}, \"hovermode\": \"closest\", \"mapbox\": {\"style\": \"light\"}, \"paper_bgcolor\": \"white\", \"plot_bgcolor\": \"#E5ECF6\", \"polar\": {\"angularaxis\": {\"gridcolor\": \"white\", \"linecolor\": \"white\", \"ticks\": \"\"}, \"bgcolor\": \"#E5ECF6\", \"radialaxis\": {\"gridcolor\": \"white\", \"linecolor\": \"white\", \"ticks\": \"\"}}, \"scene\": {\"xaxis\": {\"backgroundcolor\": \"#E5ECF6\", \"gridcolor\": \"white\", \"gridwidth\": 2, \"linecolor\": \"white\", \"showbackground\": true, \"ticks\": \"\", \"zerolinecolor\": \"white\"}, \"yaxis\": {\"backgroundcolor\": \"#E5ECF6\", \"gridcolor\": \"white\", \"gridwidth\": 2, \"linecolor\": \"white\", \"showbackground\": true, \"ticks\": \"\", \"zerolinecolor\": \"white\"}, \"zaxis\": {\"backgroundcolor\": \"#E5ECF6\", \"gridcolor\": \"white\", \"gridwidth\": 2, \"linecolor\": \"white\", \"showbackground\": true, \"ticks\": \"\", \"zerolinecolor\": \"white\"}}, \"shapedefaults\": {\"line\": {\"color\": \"#2a3f5f\"}}, \"ternary\": {\"aaxis\": {\"gridcolor\": \"white\", \"linecolor\": \"white\", \"ticks\": \"\"}, \"baxis\": {\"gridcolor\": \"white\", \"linecolor\": \"white\", \"ticks\": \"\"}, \"bgcolor\": \"#E5ECF6\", \"caxis\": {\"gridcolor\": \"white\", \"linecolor\": \"white\", \"ticks\": \"\"}}, \"title\": {\"x\": 0.05}, \"xaxis\": {\"automargin\": true, \"gridcolor\": \"white\", \"linecolor\": \"white\", \"ticks\": \"\", \"title\": {\"standoff\": 15}, \"zerolinecolor\": \"white\", \"zerolinewidth\": 2}, \"yaxis\": {\"automargin\": true, \"gridcolor\": \"white\", \"linecolor\": \"white\", \"ticks\": \"\", \"title\": {\"standoff\": 15}, \"zerolinecolor\": \"white\", \"zerolinewidth\": 2}}}, \"xaxis\": {\"anchor\": \"y\", \"domain\": [0.0, 1.0], \"title\": {\"text\": \"review/overall\"}}, \"yaxis\": {\"anchor\": \"x\", \"domain\": [0.0, 1.0], \"title\": {\"text\": \"review/taste\"}}},\n",
       "                        {\"responsive\": true}\n",
       "                    ).then(function(){\n",
       "                            \n",
       "var gd = document.getElementById('3abfa9be-46b9-4b72-8448-8dba622d8917');\n",
       "var x = new MutationObserver(function (mutations, observer) {{\n",
       "        var display = window.getComputedStyle(gd).display;\n",
       "        if (!display || display === 'none') {{\n",
       "            console.log([gd, 'removed!']);\n",
       "            Plotly.purge(gd);\n",
       "            observer.disconnect();\n",
       "        }}\n",
       "}});\n",
       "\n",
       "// Listen for the removal of the full notebook cells\n",
       "var notebookContainer = gd.closest('#notebook-container');\n",
       "if (notebookContainer) {{\n",
       "    x.observe(notebookContainer, {childList: true});\n",
       "}}\n",
       "\n",
       "// Listen for the clearing of the current output cell\n",
       "var outputEl = gd.closest('.output');\n",
       "if (outputEl) {{\n",
       "    x.observe(outputEl, {childList: true});\n",
       "}}\n",
       "\n",
       "                        })\n",
       "                };\n",
       "                });\n",
       "            </script>\n",
       "        </div>"
      ]
     },
     "metadata": {},
     "output_type": "display_data"
    }
   ],
   "source": [
    "import plotly.express as px\n",
    "\n",
    "import statsmodels\n",
    "\n",
    "fig = px.scatter(beer_style_taste_abv,x=\"review/overall\",y=\"review/taste\",trendline=\"ols\")\n",
    "\n",
    "fig.show()\n"
   ]
  },
  {
   "cell_type": "markdown",
   "metadata": {},
   "source": [
    "### q2 How does beer alcohol content correlated to overall rating "
   ]
  },
  {
   "cell_type": "code",
   "execution_count": 70,
   "metadata": {},
   "outputs": [
    {
     "data": {
      "application/vnd.plotly.v1+json": {
       "config": {
        "plotlyServerURL": "https://plot.ly"
       },
       "data": [
        {
         "hovertemplate": "review/overall=%{x}<br>beer/ABV=%{y}<extra></extra>",
         "legendgroup": "",
         "marker": {
          "color": "#636efa",
          "symbol": "circle"
         },
         "mode": "markers",
         "name": "",
         "orientation": "v",
         "showlegend": false,
         "type": "scatter",
         "x": [
          4.360878661087866,
          4.5,
          4,
          4.285714285714286,
          4.05,
          4.212410501193317,
          4.25,
          4.1632302405498285,
          3.8653846153846154,
          3.6666666666666665,
          3.983695652173913,
          4.2,
          4.0553977272727275,
          3.902941176470588,
          3.9152542372881354,
          3.9552401746724892,
          3.89140625,
          3.625,
          3.8741935483870966,
          3.9753086419753085,
          4.05968992248062,
          4,
          4,
          4.090425531914893,
          3.860655737704918,
          4.5,
          3.8958333333333335,
          3.9210526315789473,
          3.861111111111111,
          3.8181818181818183,
          3.9367816091954024,
          3.8333333333333335,
          3.96,
          3.8846153846153846,
          3.7,
          3.973684210526316,
          3.806122448979592,
          3.7183098591549295,
          3.75,
          4,
          3.6666666666666665,
          3.638888888888889,
          3.607142857142857,
          3.7295081967213113,
          3.8,
          3.7,
          3.5833333333333335,
          3.820588235294118,
          3.1666666666666665,
          3.8333333333333335,
          3.6666666666666665,
          3.5833333333333335,
          3.4642857142857144,
          3.8295454545454546,
          3.810810810810811,
          3.7733333333333334,
          3.6176470588235294,
          3.826923076923077,
          3.696969696969697,
          3.7866666666666666,
          3.65625,
          3.5657894736842106,
          3.526315789473684,
          3.3392857142857144,
          3.5,
          3.6666666666666665,
          3.56,
          3,
          3.5,
          3.603960396039604,
          3.642857142857143,
          3.5714285714285716,
          3.2941176470588234,
          3.4473684210526314,
          3.7,
          3.4,
          3.2,
          3.358490566037736,
          3.2142857142857144,
          3.3333333333333335,
          3.4444444444444446,
          3.0625,
          3.0535714285714284,
          3.091743119266055,
          2.797872340425532,
          2.7733333333333334,
          2.5,
          2.1666666666666665,
          null,
          null,
          null,
          null,
          null,
          null,
          null
         ],
         "xaxis": "x",
         "y": [
          9.55376569037659,
          3,
          4.4,
          10.474999999999998,
          9.155,
          9.943675417661128,
          4.6875,
          6.616838487972478,
          11.906410256410258,
          4.766666666666667,
          8.09239130434784,
          7.599999999999997,
          6.530113636363637,
          9.942941176470562,
          11.628813559322035,
          8.919650655021806,
          10.119531249999978,
          4.6875,
          5.769677419354844,
          9.27777777777778,
          6.679534883720908,
          5,
          5.05,
          4.721276595744684,
          7.5598360655737675,
          4.4399999999999995,
          6.379166666666667,
          4.757894736842105,
          6.958333333333333,
          7.681818181818182,
          6.9166666666666705,
          5.311111111111111,
          6.278,
          5.93076923076923,
          5.35,
          7.063157894736841,
          5.353061224489795,
          6.16901408450704,
          7.82,
          5.75,
          8.306666666666667,
          4.8,
          7.692857142857141,
          5.840983606557382,
          5.0600000000000005,
          5.26,
          7.114285714285716,
          5.41891176470589,
          6.133333333333333,
          7.400000000000001,
          5.766666666666667,
          5.508333333333333,
          9.964285714285714,
          5.295454545454543,
          4.451351351351339,
          5.39253333333333,
          4.700000000000001,
          5.560256410256408,
          4.994949494949497,
          5.0506666666666655,
          5.807291666666667,
          6.225438596491228,
          9.268421052631577,
          7.028571428571426,
          5.928571428571429,
          5.483333333333334,
          6.16,
          39.44,
          5.466666666666666,
          4.730198019801988,
          5.4425,
          4.432142857142858,
          9.87058823529412,
          6.6263157894736855,
          5.56,
          5.4,
          5.345000000000001,
          4.754716981132076,
          4.885714285714285,
          3.8000000000000003,
          5.072222222222222,
          5.05625,
          5.130357142857143,
          5.019266055045872,
          8.574468085106384,
          3.530666666666667,
          1.7,
          8,
          null,
          null,
          null,
          null,
          null,
          null,
          null
         ],
         "yaxis": "y"
        },
        {
         "hovertemplate": "<b>OLS trendline</b><br>beer/ABV = -0.6984 * review/overall + 9.30211<br>R<sup>2</sup>=0.004794<br><br>review/overall=%{x}<br>beer/ABV=%{y} <b>(trend)</b><extra></extra>",
         "legendgroup": "",
         "marker": {
          "color": "#636efa",
          "symbol": "circle"
         },
         "mode": "lines",
         "name": "",
         "showlegend": false,
         "type": "scatter",
         "x": [
          2.1666666666666665,
          2.5,
          2.7733333333333334,
          2.797872340425532,
          3,
          3.0535714285714284,
          3.0625,
          3.091743119266055,
          3.1666666666666665,
          3.2,
          3.2142857142857144,
          3.2941176470588234,
          3.3333333333333335,
          3.3392857142857144,
          3.358490566037736,
          3.4,
          3.4444444444444446,
          3.4473684210526314,
          3.4642857142857144,
          3.5,
          3.5,
          3.526315789473684,
          3.56,
          3.5657894736842106,
          3.5714285714285716,
          3.5833333333333335,
          3.5833333333333335,
          3.603960396039604,
          3.607142857142857,
          3.6176470588235294,
          3.625,
          3.638888888888889,
          3.642857142857143,
          3.65625,
          3.6666666666666665,
          3.6666666666666665,
          3.6666666666666665,
          3.6666666666666665,
          3.696969696969697,
          3.7,
          3.7,
          3.7,
          3.7183098591549295,
          3.7295081967213113,
          3.75,
          3.7733333333333334,
          3.7866666666666666,
          3.8,
          3.806122448979592,
          3.810810810810811,
          3.8181818181818183,
          3.820588235294118,
          3.826923076923077,
          3.8295454545454546,
          3.8333333333333335,
          3.8333333333333335,
          3.860655737704918,
          3.861111111111111,
          3.8653846153846154,
          3.8741935483870966,
          3.8846153846153846,
          3.89140625,
          3.8958333333333335,
          3.902941176470588,
          3.9152542372881354,
          3.9210526315789473,
          3.9367816091954024,
          3.9552401746724892,
          3.96,
          3.973684210526316,
          3.9753086419753085,
          3.983695652173913,
          4,
          4,
          4,
          4,
          4.05,
          4.0553977272727275,
          4.05968992248062,
          4.090425531914893,
          4.1632302405498285,
          4.2,
          4.212410501193317,
          4.25,
          4.285714285714286,
          4.360878661087866,
          4.5,
          4.5
         ],
         "xaxis": "x",
         "y": [
          7.788912180865447,
          7.556112268263657,
          7.365216339930188,
          7.3480783038109925,
          7.206912399360971,
          7.169498127692826,
          7.163262415748135,
          7.142839028920111,
          7.090512443060076,
          7.067232451799896,
          7.057255312688391,
          7.001500711771156,
          6.97411248675918,
          6.96995534546272,
          6.956542682034517,
          6.927552504238822,
          6.896512515891917,
          6.89447041139541,
          6.8826553782370485,
          6.857712530458285,
          6.857712530458285,
          6.839333589989723,
          6.815808546189963,
          6.811765179286879,
          6.807826834900759,
          6.799512552307837,
          6.799512552307837,
          6.785106617122083,
          6.782883987121995,
          6.775547855422359,
          6.770412563232614,
          6.760712566874206,
          6.757941139343233,
          6.748587571426196,
          6.74131257415739,
          6.74131257415739,
          6.74131257415739,
          6.74131257415739,
          6.720148945739045,
          6.7180325828972105,
          6.7180325828972105,
          6.7180325828972105,
          6.705244982064155,
          6.697424066043938,
          6.683112596006942,
          6.6668166021248165,
          6.657504605620746,
          6.648192609116673,
          6.643916692354599,
          6.640642341680939,
          6.635494432065666,
          6.6338137909853865,
          6.629389539252683,
          6.627558071408787,
          6.624912617856495,
          6.624912617856495,
          6.605830657807168,
          6.605512625139679,
          6.602528010875553,
          6.596375854376275,
          6.589097246686988,
          6.584354508082901,
          6.581262634243659,
          6.576298518460238,
          6.567699080013682,
          6.563649482961287,
          6.552664369118007,
          6.539772911828547,
          6.536448651067815,
          6.526891602024161,
          6.5257570995261025,
          6.519899613802426,
          6.508512661555599,
          6.508512661555599,
          6.508512661555599,
          6.508512661555599,
          6.473592674665331,
          6.469822903353313,
          6.466825235345511,
          6.445359493775326,
          6.394512704353691,
          6.368832713994525,
          6.360165223215079,
          6.333912727104257,
          6.308969879325494,
          6.25647509927228,
          6.159312792652914,
          6.159312792652914
         ],
         "yaxis": "y"
        }
       ],
       "layout": {
        "legend": {
         "tracegroupgap": 0
        },
        "margin": {
         "t": 60
        },
        "template": {
         "data": {
          "bar": [
           {
            "error_x": {
             "color": "#2a3f5f"
            },
            "error_y": {
             "color": "#2a3f5f"
            },
            "marker": {
             "line": {
              "color": "#E5ECF6",
              "width": 0.5
             }
            },
            "type": "bar"
           }
          ],
          "barpolar": [
           {
            "marker": {
             "line": {
              "color": "#E5ECF6",
              "width": 0.5
             }
            },
            "type": "barpolar"
           }
          ],
          "carpet": [
           {
            "aaxis": {
             "endlinecolor": "#2a3f5f",
             "gridcolor": "white",
             "linecolor": "white",
             "minorgridcolor": "white",
             "startlinecolor": "#2a3f5f"
            },
            "baxis": {
             "endlinecolor": "#2a3f5f",
             "gridcolor": "white",
             "linecolor": "white",
             "minorgridcolor": "white",
             "startlinecolor": "#2a3f5f"
            },
            "type": "carpet"
           }
          ],
          "choropleth": [
           {
            "colorbar": {
             "outlinewidth": 0,
             "ticks": ""
            },
            "type": "choropleth"
           }
          ],
          "contour": [
           {
            "colorbar": {
             "outlinewidth": 0,
             "ticks": ""
            },
            "colorscale": [
             [
              0,
              "#0d0887"
             ],
             [
              0.1111111111111111,
              "#46039f"
             ],
             [
              0.2222222222222222,
              "#7201a8"
             ],
             [
              0.3333333333333333,
              "#9c179e"
             ],
             [
              0.4444444444444444,
              "#bd3786"
             ],
             [
              0.5555555555555556,
              "#d8576b"
             ],
             [
              0.6666666666666666,
              "#ed7953"
             ],
             [
              0.7777777777777778,
              "#fb9f3a"
             ],
             [
              0.8888888888888888,
              "#fdca26"
             ],
             [
              1,
              "#f0f921"
             ]
            ],
            "type": "contour"
           }
          ],
          "contourcarpet": [
           {
            "colorbar": {
             "outlinewidth": 0,
             "ticks": ""
            },
            "type": "contourcarpet"
           }
          ],
          "heatmap": [
           {
            "colorbar": {
             "outlinewidth": 0,
             "ticks": ""
            },
            "colorscale": [
             [
              0,
              "#0d0887"
             ],
             [
              0.1111111111111111,
              "#46039f"
             ],
             [
              0.2222222222222222,
              "#7201a8"
             ],
             [
              0.3333333333333333,
              "#9c179e"
             ],
             [
              0.4444444444444444,
              "#bd3786"
             ],
             [
              0.5555555555555556,
              "#d8576b"
             ],
             [
              0.6666666666666666,
              "#ed7953"
             ],
             [
              0.7777777777777778,
              "#fb9f3a"
             ],
             [
              0.8888888888888888,
              "#fdca26"
             ],
             [
              1,
              "#f0f921"
             ]
            ],
            "type": "heatmap"
           }
          ],
          "heatmapgl": [
           {
            "colorbar": {
             "outlinewidth": 0,
             "ticks": ""
            },
            "colorscale": [
             [
              0,
              "#0d0887"
             ],
             [
              0.1111111111111111,
              "#46039f"
             ],
             [
              0.2222222222222222,
              "#7201a8"
             ],
             [
              0.3333333333333333,
              "#9c179e"
             ],
             [
              0.4444444444444444,
              "#bd3786"
             ],
             [
              0.5555555555555556,
              "#d8576b"
             ],
             [
              0.6666666666666666,
              "#ed7953"
             ],
             [
              0.7777777777777778,
              "#fb9f3a"
             ],
             [
              0.8888888888888888,
              "#fdca26"
             ],
             [
              1,
              "#f0f921"
             ]
            ],
            "type": "heatmapgl"
           }
          ],
          "histogram": [
           {
            "marker": {
             "colorbar": {
              "outlinewidth": 0,
              "ticks": ""
             }
            },
            "type": "histogram"
           }
          ],
          "histogram2d": [
           {
            "colorbar": {
             "outlinewidth": 0,
             "ticks": ""
            },
            "colorscale": [
             [
              0,
              "#0d0887"
             ],
             [
              0.1111111111111111,
              "#46039f"
             ],
             [
              0.2222222222222222,
              "#7201a8"
             ],
             [
              0.3333333333333333,
              "#9c179e"
             ],
             [
              0.4444444444444444,
              "#bd3786"
             ],
             [
              0.5555555555555556,
              "#d8576b"
             ],
             [
              0.6666666666666666,
              "#ed7953"
             ],
             [
              0.7777777777777778,
              "#fb9f3a"
             ],
             [
              0.8888888888888888,
              "#fdca26"
             ],
             [
              1,
              "#f0f921"
             ]
            ],
            "type": "histogram2d"
           }
          ],
          "histogram2dcontour": [
           {
            "colorbar": {
             "outlinewidth": 0,
             "ticks": ""
            },
            "colorscale": [
             [
              0,
              "#0d0887"
             ],
             [
              0.1111111111111111,
              "#46039f"
             ],
             [
              0.2222222222222222,
              "#7201a8"
             ],
             [
              0.3333333333333333,
              "#9c179e"
             ],
             [
              0.4444444444444444,
              "#bd3786"
             ],
             [
              0.5555555555555556,
              "#d8576b"
             ],
             [
              0.6666666666666666,
              "#ed7953"
             ],
             [
              0.7777777777777778,
              "#fb9f3a"
             ],
             [
              0.8888888888888888,
              "#fdca26"
             ],
             [
              1,
              "#f0f921"
             ]
            ],
            "type": "histogram2dcontour"
           }
          ],
          "mesh3d": [
           {
            "colorbar": {
             "outlinewidth": 0,
             "ticks": ""
            },
            "type": "mesh3d"
           }
          ],
          "parcoords": [
           {
            "line": {
             "colorbar": {
              "outlinewidth": 0,
              "ticks": ""
             }
            },
            "type": "parcoords"
           }
          ],
          "pie": [
           {
            "automargin": true,
            "type": "pie"
           }
          ],
          "scatter": [
           {
            "marker": {
             "colorbar": {
              "outlinewidth": 0,
              "ticks": ""
             }
            },
            "type": "scatter"
           }
          ],
          "scatter3d": [
           {
            "line": {
             "colorbar": {
              "outlinewidth": 0,
              "ticks": ""
             }
            },
            "marker": {
             "colorbar": {
              "outlinewidth": 0,
              "ticks": ""
             }
            },
            "type": "scatter3d"
           }
          ],
          "scattercarpet": [
           {
            "marker": {
             "colorbar": {
              "outlinewidth": 0,
              "ticks": ""
             }
            },
            "type": "scattercarpet"
           }
          ],
          "scattergeo": [
           {
            "marker": {
             "colorbar": {
              "outlinewidth": 0,
              "ticks": ""
             }
            },
            "type": "scattergeo"
           }
          ],
          "scattergl": [
           {
            "marker": {
             "colorbar": {
              "outlinewidth": 0,
              "ticks": ""
             }
            },
            "type": "scattergl"
           }
          ],
          "scattermapbox": [
           {
            "marker": {
             "colorbar": {
              "outlinewidth": 0,
              "ticks": ""
             }
            },
            "type": "scattermapbox"
           }
          ],
          "scatterpolar": [
           {
            "marker": {
             "colorbar": {
              "outlinewidth": 0,
              "ticks": ""
             }
            },
            "type": "scatterpolar"
           }
          ],
          "scatterpolargl": [
           {
            "marker": {
             "colorbar": {
              "outlinewidth": 0,
              "ticks": ""
             }
            },
            "type": "scatterpolargl"
           }
          ],
          "scatterternary": [
           {
            "marker": {
             "colorbar": {
              "outlinewidth": 0,
              "ticks": ""
             }
            },
            "type": "scatterternary"
           }
          ],
          "surface": [
           {
            "colorbar": {
             "outlinewidth": 0,
             "ticks": ""
            },
            "colorscale": [
             [
              0,
              "#0d0887"
             ],
             [
              0.1111111111111111,
              "#46039f"
             ],
             [
              0.2222222222222222,
              "#7201a8"
             ],
             [
              0.3333333333333333,
              "#9c179e"
             ],
             [
              0.4444444444444444,
              "#bd3786"
             ],
             [
              0.5555555555555556,
              "#d8576b"
             ],
             [
              0.6666666666666666,
              "#ed7953"
             ],
             [
              0.7777777777777778,
              "#fb9f3a"
             ],
             [
              0.8888888888888888,
              "#fdca26"
             ],
             [
              1,
              "#f0f921"
             ]
            ],
            "type": "surface"
           }
          ],
          "table": [
           {
            "cells": {
             "fill": {
              "color": "#EBF0F8"
             },
             "line": {
              "color": "white"
             }
            },
            "header": {
             "fill": {
              "color": "#C8D4E3"
             },
             "line": {
              "color": "white"
             }
            },
            "type": "table"
           }
          ]
         },
         "layout": {
          "annotationdefaults": {
           "arrowcolor": "#2a3f5f",
           "arrowhead": 0,
           "arrowwidth": 1
          },
          "coloraxis": {
           "colorbar": {
            "outlinewidth": 0,
            "ticks": ""
           }
          },
          "colorscale": {
           "diverging": [
            [
             0,
             "#8e0152"
            ],
            [
             0.1,
             "#c51b7d"
            ],
            [
             0.2,
             "#de77ae"
            ],
            [
             0.3,
             "#f1b6da"
            ],
            [
             0.4,
             "#fde0ef"
            ],
            [
             0.5,
             "#f7f7f7"
            ],
            [
             0.6,
             "#e6f5d0"
            ],
            [
             0.7,
             "#b8e186"
            ],
            [
             0.8,
             "#7fbc41"
            ],
            [
             0.9,
             "#4d9221"
            ],
            [
             1,
             "#276419"
            ]
           ],
           "sequential": [
            [
             0,
             "#0d0887"
            ],
            [
             0.1111111111111111,
             "#46039f"
            ],
            [
             0.2222222222222222,
             "#7201a8"
            ],
            [
             0.3333333333333333,
             "#9c179e"
            ],
            [
             0.4444444444444444,
             "#bd3786"
            ],
            [
             0.5555555555555556,
             "#d8576b"
            ],
            [
             0.6666666666666666,
             "#ed7953"
            ],
            [
             0.7777777777777778,
             "#fb9f3a"
            ],
            [
             0.8888888888888888,
             "#fdca26"
            ],
            [
             1,
             "#f0f921"
            ]
           ],
           "sequentialminus": [
            [
             0,
             "#0d0887"
            ],
            [
             0.1111111111111111,
             "#46039f"
            ],
            [
             0.2222222222222222,
             "#7201a8"
            ],
            [
             0.3333333333333333,
             "#9c179e"
            ],
            [
             0.4444444444444444,
             "#bd3786"
            ],
            [
             0.5555555555555556,
             "#d8576b"
            ],
            [
             0.6666666666666666,
             "#ed7953"
            ],
            [
             0.7777777777777778,
             "#fb9f3a"
            ],
            [
             0.8888888888888888,
             "#fdca26"
            ],
            [
             1,
             "#f0f921"
            ]
           ]
          },
          "colorway": [
           "#636efa",
           "#EF553B",
           "#00cc96",
           "#ab63fa",
           "#FFA15A",
           "#19d3f3",
           "#FF6692",
           "#B6E880",
           "#FF97FF",
           "#FECB52"
          ],
          "font": {
           "color": "#2a3f5f"
          },
          "geo": {
           "bgcolor": "white",
           "lakecolor": "white",
           "landcolor": "#E5ECF6",
           "showlakes": true,
           "showland": true,
           "subunitcolor": "white"
          },
          "hoverlabel": {
           "align": "left"
          },
          "hovermode": "closest",
          "mapbox": {
           "style": "light"
          },
          "paper_bgcolor": "white",
          "plot_bgcolor": "#E5ECF6",
          "polar": {
           "angularaxis": {
            "gridcolor": "white",
            "linecolor": "white",
            "ticks": ""
           },
           "bgcolor": "#E5ECF6",
           "radialaxis": {
            "gridcolor": "white",
            "linecolor": "white",
            "ticks": ""
           }
          },
          "scene": {
           "xaxis": {
            "backgroundcolor": "#E5ECF6",
            "gridcolor": "white",
            "gridwidth": 2,
            "linecolor": "white",
            "showbackground": true,
            "ticks": "",
            "zerolinecolor": "white"
           },
           "yaxis": {
            "backgroundcolor": "#E5ECF6",
            "gridcolor": "white",
            "gridwidth": 2,
            "linecolor": "white",
            "showbackground": true,
            "ticks": "",
            "zerolinecolor": "white"
           },
           "zaxis": {
            "backgroundcolor": "#E5ECF6",
            "gridcolor": "white",
            "gridwidth": 2,
            "linecolor": "white",
            "showbackground": true,
            "ticks": "",
            "zerolinecolor": "white"
           }
          },
          "shapedefaults": {
           "line": {
            "color": "#2a3f5f"
           }
          },
          "ternary": {
           "aaxis": {
            "gridcolor": "white",
            "linecolor": "white",
            "ticks": ""
           },
           "baxis": {
            "gridcolor": "white",
            "linecolor": "white",
            "ticks": ""
           },
           "bgcolor": "#E5ECF6",
           "caxis": {
            "gridcolor": "white",
            "linecolor": "white",
            "ticks": ""
           }
          },
          "title": {
           "x": 0.05
          },
          "xaxis": {
           "automargin": true,
           "gridcolor": "white",
           "linecolor": "white",
           "ticks": "",
           "title": {
            "standoff": 15
           },
           "zerolinecolor": "white",
           "zerolinewidth": 2
          },
          "yaxis": {
           "automargin": true,
           "gridcolor": "white",
           "linecolor": "white",
           "ticks": "",
           "title": {
            "standoff": 15
           },
           "zerolinecolor": "white",
           "zerolinewidth": 2
          }
         }
        },
        "xaxis": {
         "anchor": "y",
         "domain": [
          0,
          1
         ],
         "title": {
          "text": "review/overall"
         }
        },
        "yaxis": {
         "anchor": "x",
         "domain": [
          0,
          1
         ],
         "title": {
          "text": "beer/ABV"
         }
        }
       }
      },
      "text/html": [
       "<div>\n",
       "        \n",
       "        \n",
       "            <div id=\"0f22f2c1-0129-4436-8ba1-a54e609c97d0\" class=\"plotly-graph-div\" style=\"height:525px; width:100%;\"></div>\n",
       "            <script type=\"text/javascript\">\n",
       "                require([\"plotly\"], function(Plotly) {\n",
       "                    window.PLOTLYENV=window.PLOTLYENV || {};\n",
       "                    \n",
       "                if (document.getElementById(\"0f22f2c1-0129-4436-8ba1-a54e609c97d0\")) {\n",
       "                    Plotly.newPlot(\n",
       "                        '0f22f2c1-0129-4436-8ba1-a54e609c97d0',\n",
       "                        [{\"hovertemplate\": \"review/overall=%{x}<br>beer/ABV=%{y}<extra></extra>\", \"legendgroup\": \"\", \"marker\": {\"color\": \"#636efa\", \"symbol\": \"circle\"}, \"mode\": \"markers\", \"name\": \"\", \"orientation\": \"v\", \"showlegend\": false, \"type\": \"scatter\", \"x\": [4.360878661087866, 4.5, 4.0, 4.285714285714286, 4.05, 4.212410501193317, 4.25, 4.1632302405498285, 3.8653846153846154, 3.6666666666666665, 3.983695652173913, 4.2, 4.0553977272727275, 3.902941176470588, 3.9152542372881354, 3.9552401746724892, 3.89140625, 3.625, 3.8741935483870966, 3.9753086419753085, 4.05968992248062, 4.0, 4.0, 4.090425531914893, 3.860655737704918, 4.5, 3.8958333333333335, 3.9210526315789473, 3.861111111111111, 3.8181818181818183, 3.9367816091954024, 3.8333333333333335, 3.96, 3.8846153846153846, 3.7, 3.973684210526316, 3.806122448979592, 3.7183098591549295, 3.75, 4.0, 3.6666666666666665, 3.638888888888889, 3.607142857142857, 3.7295081967213113, 3.8, 3.7, 3.5833333333333335, 3.820588235294118, 3.1666666666666665, 3.8333333333333335, 3.6666666666666665, 3.5833333333333335, 3.4642857142857144, 3.8295454545454546, 3.810810810810811, 3.7733333333333334, 3.6176470588235294, 3.826923076923077, 3.696969696969697, 3.7866666666666666, 3.65625, 3.5657894736842106, 3.526315789473684, 3.3392857142857144, 3.5, 3.6666666666666665, 3.56, 3.0, 3.5, 3.603960396039604, 3.642857142857143, 3.5714285714285716, 3.2941176470588234, 3.4473684210526314, 3.7, 3.4, 3.2, 3.358490566037736, 3.2142857142857144, 3.3333333333333335, 3.4444444444444446, 3.0625, 3.0535714285714284, 3.091743119266055, 2.797872340425532, 2.7733333333333334, 2.5, 2.1666666666666665, null, null, null, null, null, null, null], \"xaxis\": \"x\", \"y\": [9.55376569037659, 3.0, 4.4, 10.474999999999998, 9.155, 9.943675417661128, 4.6875, 6.616838487972478, 11.906410256410258, 4.766666666666667, 8.09239130434784, 7.599999999999997, 6.530113636363637, 9.942941176470562, 11.628813559322035, 8.919650655021806, 10.119531249999978, 4.6875, 5.769677419354844, 9.27777777777778, 6.679534883720908, 5.0, 5.05, 4.721276595744684, 7.5598360655737675, 4.4399999999999995, 6.379166666666667, 4.757894736842105, 6.958333333333333, 7.681818181818182, 6.9166666666666705, 5.311111111111111, 6.278, 5.93076923076923, 5.35, 7.063157894736841, 5.353061224489795, 6.16901408450704, 7.82, 5.75, 8.306666666666667, 4.8, 7.692857142857141, 5.840983606557382, 5.0600000000000005, 5.26, 7.114285714285716, 5.41891176470589, 6.133333333333333, 7.400000000000001, 5.766666666666667, 5.508333333333333, 9.964285714285714, 5.295454545454543, 4.451351351351339, 5.39253333333333, 4.700000000000001, 5.560256410256408, 4.994949494949497, 5.0506666666666655, 5.807291666666667, 6.225438596491228, 9.268421052631577, 7.028571428571426, 5.928571428571429, 5.483333333333334, 6.16, 39.44, 5.466666666666666, 4.730198019801988, 5.4425, 4.432142857142858, 9.87058823529412, 6.6263157894736855, 5.56, 5.4, 5.345000000000001, 4.754716981132076, 4.885714285714285, 3.8000000000000003, 5.072222222222222, 5.05625, 5.130357142857143, 5.019266055045872, 8.574468085106384, 3.530666666666667, 1.7, 8.0, null, null, null, null, null, null, null], \"yaxis\": \"y\"}, {\"hovertemplate\": \"<b>OLS trendline</b><br>beer/ABV = -0.6984 * review/overall + 9.30211<br>R<sup>2</sup>=0.004794<br><br>review/overall=%{x}<br>beer/ABV=%{y} <b>(trend)</b><extra></extra>\", \"legendgroup\": \"\", \"marker\": {\"color\": \"#636efa\", \"symbol\": \"circle\"}, \"mode\": \"lines\", \"name\": \"\", \"showlegend\": false, \"type\": \"scatter\", \"x\": [2.1666666666666665, 2.5, 2.7733333333333334, 2.797872340425532, 3.0, 3.0535714285714284, 3.0625, 3.091743119266055, 3.1666666666666665, 3.2, 3.2142857142857144, 3.2941176470588234, 3.3333333333333335, 3.3392857142857144, 3.358490566037736, 3.4, 3.4444444444444446, 3.4473684210526314, 3.4642857142857144, 3.5, 3.5, 3.526315789473684, 3.56, 3.5657894736842106, 3.5714285714285716, 3.5833333333333335, 3.5833333333333335, 3.603960396039604, 3.607142857142857, 3.6176470588235294, 3.625, 3.638888888888889, 3.642857142857143, 3.65625, 3.6666666666666665, 3.6666666666666665, 3.6666666666666665, 3.6666666666666665, 3.696969696969697, 3.7, 3.7, 3.7, 3.7183098591549295, 3.7295081967213113, 3.75, 3.7733333333333334, 3.7866666666666666, 3.8, 3.806122448979592, 3.810810810810811, 3.8181818181818183, 3.820588235294118, 3.826923076923077, 3.8295454545454546, 3.8333333333333335, 3.8333333333333335, 3.860655737704918, 3.861111111111111, 3.8653846153846154, 3.8741935483870966, 3.8846153846153846, 3.89140625, 3.8958333333333335, 3.902941176470588, 3.9152542372881354, 3.9210526315789473, 3.9367816091954024, 3.9552401746724892, 3.96, 3.973684210526316, 3.9753086419753085, 3.983695652173913, 4.0, 4.0, 4.0, 4.0, 4.05, 4.0553977272727275, 4.05968992248062, 4.090425531914893, 4.1632302405498285, 4.2, 4.212410501193317, 4.25, 4.285714285714286, 4.360878661087866, 4.5, 4.5], \"xaxis\": \"x\", \"y\": [7.788912180865447, 7.556112268263657, 7.365216339930188, 7.3480783038109925, 7.206912399360971, 7.169498127692826, 7.163262415748135, 7.142839028920111, 7.090512443060076, 7.067232451799896, 7.057255312688391, 7.001500711771156, 6.97411248675918, 6.96995534546272, 6.956542682034517, 6.927552504238822, 6.896512515891917, 6.89447041139541, 6.8826553782370485, 6.857712530458285, 6.857712530458285, 6.839333589989723, 6.815808546189963, 6.811765179286879, 6.807826834900759, 6.799512552307837, 6.799512552307837, 6.785106617122083, 6.782883987121995, 6.775547855422359, 6.770412563232614, 6.760712566874206, 6.757941139343233, 6.748587571426196, 6.74131257415739, 6.74131257415739, 6.74131257415739, 6.74131257415739, 6.720148945739045, 6.7180325828972105, 6.7180325828972105, 6.7180325828972105, 6.705244982064155, 6.697424066043938, 6.683112596006942, 6.6668166021248165, 6.657504605620746, 6.648192609116673, 6.643916692354599, 6.640642341680939, 6.635494432065666, 6.6338137909853865, 6.629389539252683, 6.627558071408787, 6.624912617856495, 6.624912617856495, 6.605830657807168, 6.605512625139679, 6.602528010875553, 6.596375854376275, 6.589097246686988, 6.584354508082901, 6.581262634243659, 6.576298518460238, 6.567699080013682, 6.563649482961287, 6.552664369118007, 6.539772911828547, 6.536448651067815, 6.526891602024161, 6.5257570995261025, 6.519899613802426, 6.508512661555599, 6.508512661555599, 6.508512661555599, 6.508512661555599, 6.473592674665331, 6.469822903353313, 6.466825235345511, 6.445359493775326, 6.394512704353691, 6.368832713994525, 6.360165223215079, 6.333912727104257, 6.308969879325494, 6.25647509927228, 6.159312792652914, 6.159312792652914], \"yaxis\": \"y\"}],\n",
       "                        {\"legend\": {\"tracegroupgap\": 0}, \"margin\": {\"t\": 60}, \"template\": {\"data\": {\"bar\": [{\"error_x\": {\"color\": \"#2a3f5f\"}, \"error_y\": {\"color\": \"#2a3f5f\"}, \"marker\": {\"line\": {\"color\": \"#E5ECF6\", \"width\": 0.5}}, \"type\": \"bar\"}], \"barpolar\": [{\"marker\": {\"line\": {\"color\": \"#E5ECF6\", \"width\": 0.5}}, \"type\": \"barpolar\"}], \"carpet\": [{\"aaxis\": {\"endlinecolor\": \"#2a3f5f\", \"gridcolor\": \"white\", \"linecolor\": \"white\", \"minorgridcolor\": \"white\", \"startlinecolor\": \"#2a3f5f\"}, \"baxis\": {\"endlinecolor\": \"#2a3f5f\", \"gridcolor\": \"white\", \"linecolor\": \"white\", \"minorgridcolor\": \"white\", \"startlinecolor\": \"#2a3f5f\"}, \"type\": \"carpet\"}], \"choropleth\": [{\"colorbar\": {\"outlinewidth\": 0, \"ticks\": \"\"}, \"type\": \"choropleth\"}], \"contour\": [{\"colorbar\": {\"outlinewidth\": 0, \"ticks\": \"\"}, \"colorscale\": [[0.0, \"#0d0887\"], [0.1111111111111111, \"#46039f\"], [0.2222222222222222, \"#7201a8\"], [0.3333333333333333, \"#9c179e\"], [0.4444444444444444, \"#bd3786\"], [0.5555555555555556, \"#d8576b\"], [0.6666666666666666, \"#ed7953\"], [0.7777777777777778, \"#fb9f3a\"], [0.8888888888888888, \"#fdca26\"], [1.0, \"#f0f921\"]], \"type\": \"contour\"}], \"contourcarpet\": [{\"colorbar\": {\"outlinewidth\": 0, \"ticks\": \"\"}, \"type\": \"contourcarpet\"}], \"heatmap\": [{\"colorbar\": {\"outlinewidth\": 0, \"ticks\": \"\"}, \"colorscale\": [[0.0, \"#0d0887\"], [0.1111111111111111, \"#46039f\"], [0.2222222222222222, \"#7201a8\"], [0.3333333333333333, \"#9c179e\"], [0.4444444444444444, \"#bd3786\"], [0.5555555555555556, \"#d8576b\"], [0.6666666666666666, \"#ed7953\"], [0.7777777777777778, \"#fb9f3a\"], [0.8888888888888888, \"#fdca26\"], [1.0, \"#f0f921\"]], \"type\": \"heatmap\"}], \"heatmapgl\": [{\"colorbar\": {\"outlinewidth\": 0, \"ticks\": \"\"}, \"colorscale\": [[0.0, \"#0d0887\"], [0.1111111111111111, \"#46039f\"], [0.2222222222222222, \"#7201a8\"], [0.3333333333333333, \"#9c179e\"], [0.4444444444444444, \"#bd3786\"], [0.5555555555555556, \"#d8576b\"], [0.6666666666666666, \"#ed7953\"], [0.7777777777777778, \"#fb9f3a\"], [0.8888888888888888, \"#fdca26\"], [1.0, \"#f0f921\"]], \"type\": \"heatmapgl\"}], \"histogram\": [{\"marker\": {\"colorbar\": {\"outlinewidth\": 0, \"ticks\": \"\"}}, \"type\": \"histogram\"}], \"histogram2d\": [{\"colorbar\": {\"outlinewidth\": 0, \"ticks\": \"\"}, \"colorscale\": [[0.0, \"#0d0887\"], [0.1111111111111111, \"#46039f\"], [0.2222222222222222, \"#7201a8\"], [0.3333333333333333, \"#9c179e\"], [0.4444444444444444, \"#bd3786\"], [0.5555555555555556, \"#d8576b\"], [0.6666666666666666, \"#ed7953\"], [0.7777777777777778, \"#fb9f3a\"], [0.8888888888888888, \"#fdca26\"], [1.0, \"#f0f921\"]], \"type\": \"histogram2d\"}], \"histogram2dcontour\": [{\"colorbar\": {\"outlinewidth\": 0, \"ticks\": \"\"}, \"colorscale\": [[0.0, \"#0d0887\"], [0.1111111111111111, \"#46039f\"], [0.2222222222222222, \"#7201a8\"], [0.3333333333333333, \"#9c179e\"], [0.4444444444444444, \"#bd3786\"], [0.5555555555555556, \"#d8576b\"], [0.6666666666666666, \"#ed7953\"], [0.7777777777777778, \"#fb9f3a\"], [0.8888888888888888, \"#fdca26\"], [1.0, \"#f0f921\"]], \"type\": \"histogram2dcontour\"}], \"mesh3d\": [{\"colorbar\": {\"outlinewidth\": 0, \"ticks\": \"\"}, \"type\": \"mesh3d\"}], \"parcoords\": [{\"line\": {\"colorbar\": {\"outlinewidth\": 0, \"ticks\": \"\"}}, \"type\": \"parcoords\"}], \"pie\": [{\"automargin\": true, \"type\": \"pie\"}], \"scatter\": [{\"marker\": {\"colorbar\": {\"outlinewidth\": 0, \"ticks\": \"\"}}, \"type\": \"scatter\"}], \"scatter3d\": [{\"line\": {\"colorbar\": {\"outlinewidth\": 0, \"ticks\": \"\"}}, \"marker\": {\"colorbar\": {\"outlinewidth\": 0, \"ticks\": \"\"}}, \"type\": \"scatter3d\"}], \"scattercarpet\": [{\"marker\": {\"colorbar\": {\"outlinewidth\": 0, \"ticks\": \"\"}}, \"type\": \"scattercarpet\"}], \"scattergeo\": [{\"marker\": {\"colorbar\": {\"outlinewidth\": 0, \"ticks\": \"\"}}, \"type\": \"scattergeo\"}], \"scattergl\": [{\"marker\": {\"colorbar\": {\"outlinewidth\": 0, \"ticks\": \"\"}}, \"type\": \"scattergl\"}], \"scattermapbox\": [{\"marker\": {\"colorbar\": {\"outlinewidth\": 0, \"ticks\": \"\"}}, \"type\": \"scattermapbox\"}], \"scatterpolar\": [{\"marker\": {\"colorbar\": {\"outlinewidth\": 0, \"ticks\": \"\"}}, \"type\": \"scatterpolar\"}], \"scatterpolargl\": [{\"marker\": {\"colorbar\": {\"outlinewidth\": 0, \"ticks\": \"\"}}, \"type\": \"scatterpolargl\"}], \"scatterternary\": [{\"marker\": {\"colorbar\": {\"outlinewidth\": 0, \"ticks\": \"\"}}, \"type\": \"scatterternary\"}], \"surface\": [{\"colorbar\": {\"outlinewidth\": 0, \"ticks\": \"\"}, \"colorscale\": [[0.0, \"#0d0887\"], [0.1111111111111111, \"#46039f\"], [0.2222222222222222, \"#7201a8\"], [0.3333333333333333, \"#9c179e\"], [0.4444444444444444, \"#bd3786\"], [0.5555555555555556, \"#d8576b\"], [0.6666666666666666, \"#ed7953\"], [0.7777777777777778, \"#fb9f3a\"], [0.8888888888888888, \"#fdca26\"], [1.0, \"#f0f921\"]], \"type\": \"surface\"}], \"table\": [{\"cells\": {\"fill\": {\"color\": \"#EBF0F8\"}, \"line\": {\"color\": \"white\"}}, \"header\": {\"fill\": {\"color\": \"#C8D4E3\"}, \"line\": {\"color\": \"white\"}}, \"type\": \"table\"}]}, \"layout\": {\"annotationdefaults\": {\"arrowcolor\": \"#2a3f5f\", \"arrowhead\": 0, \"arrowwidth\": 1}, \"coloraxis\": {\"colorbar\": {\"outlinewidth\": 0, \"ticks\": \"\"}}, \"colorscale\": {\"diverging\": [[0, \"#8e0152\"], [0.1, \"#c51b7d\"], [0.2, \"#de77ae\"], [0.3, \"#f1b6da\"], [0.4, \"#fde0ef\"], [0.5, \"#f7f7f7\"], [0.6, \"#e6f5d0\"], [0.7, \"#b8e186\"], [0.8, \"#7fbc41\"], [0.9, \"#4d9221\"], [1, \"#276419\"]], \"sequential\": [[0.0, \"#0d0887\"], [0.1111111111111111, \"#46039f\"], [0.2222222222222222, \"#7201a8\"], [0.3333333333333333, \"#9c179e\"], [0.4444444444444444, \"#bd3786\"], [0.5555555555555556, \"#d8576b\"], [0.6666666666666666, \"#ed7953\"], [0.7777777777777778, \"#fb9f3a\"], [0.8888888888888888, \"#fdca26\"], [1.0, \"#f0f921\"]], \"sequentialminus\": [[0.0, \"#0d0887\"], [0.1111111111111111, \"#46039f\"], [0.2222222222222222, \"#7201a8\"], [0.3333333333333333, \"#9c179e\"], [0.4444444444444444, \"#bd3786\"], [0.5555555555555556, \"#d8576b\"], [0.6666666666666666, \"#ed7953\"], [0.7777777777777778, \"#fb9f3a\"], [0.8888888888888888, \"#fdca26\"], [1.0, \"#f0f921\"]]}, \"colorway\": [\"#636efa\", \"#EF553B\", \"#00cc96\", \"#ab63fa\", \"#FFA15A\", \"#19d3f3\", \"#FF6692\", \"#B6E880\", \"#FF97FF\", \"#FECB52\"], \"font\": {\"color\": \"#2a3f5f\"}, \"geo\": {\"bgcolor\": \"white\", \"lakecolor\": \"white\", \"landcolor\": \"#E5ECF6\", \"showlakes\": true, \"showland\": true, \"subunitcolor\": \"white\"}, \"hoverlabel\": {\"align\": \"left\"}, \"hovermode\": \"closest\", \"mapbox\": {\"style\": \"light\"}, \"paper_bgcolor\": \"white\", \"plot_bgcolor\": \"#E5ECF6\", \"polar\": {\"angularaxis\": {\"gridcolor\": \"white\", \"linecolor\": \"white\", \"ticks\": \"\"}, \"bgcolor\": \"#E5ECF6\", \"radialaxis\": {\"gridcolor\": \"white\", \"linecolor\": \"white\", \"ticks\": \"\"}}, \"scene\": {\"xaxis\": {\"backgroundcolor\": \"#E5ECF6\", \"gridcolor\": \"white\", \"gridwidth\": 2, \"linecolor\": \"white\", \"showbackground\": true, \"ticks\": \"\", \"zerolinecolor\": \"white\"}, \"yaxis\": {\"backgroundcolor\": \"#E5ECF6\", \"gridcolor\": \"white\", \"gridwidth\": 2, \"linecolor\": \"white\", \"showbackground\": true, \"ticks\": \"\", \"zerolinecolor\": \"white\"}, \"zaxis\": {\"backgroundcolor\": \"#E5ECF6\", \"gridcolor\": \"white\", \"gridwidth\": 2, \"linecolor\": \"white\", \"showbackground\": true, \"ticks\": \"\", \"zerolinecolor\": \"white\"}}, \"shapedefaults\": {\"line\": {\"color\": \"#2a3f5f\"}}, \"ternary\": {\"aaxis\": {\"gridcolor\": \"white\", \"linecolor\": \"white\", \"ticks\": \"\"}, \"baxis\": {\"gridcolor\": \"white\", \"linecolor\": \"white\", \"ticks\": \"\"}, \"bgcolor\": \"#E5ECF6\", \"caxis\": {\"gridcolor\": \"white\", \"linecolor\": \"white\", \"ticks\": \"\"}}, \"title\": {\"x\": 0.05}, \"xaxis\": {\"automargin\": true, \"gridcolor\": \"white\", \"linecolor\": \"white\", \"ticks\": \"\", \"title\": {\"standoff\": 15}, \"zerolinecolor\": \"white\", \"zerolinewidth\": 2}, \"yaxis\": {\"automargin\": true, \"gridcolor\": \"white\", \"linecolor\": \"white\", \"ticks\": \"\", \"title\": {\"standoff\": 15}, \"zerolinecolor\": \"white\", \"zerolinewidth\": 2}}}, \"xaxis\": {\"anchor\": \"y\", \"domain\": [0.0, 1.0], \"title\": {\"text\": \"review/overall\"}}, \"yaxis\": {\"anchor\": \"x\", \"domain\": [0.0, 1.0], \"title\": {\"text\": \"beer/ABV\"}}},\n",
       "                        {\"responsive\": true}\n",
       "                    ).then(function(){\n",
       "                            \n",
       "var gd = document.getElementById('0f22f2c1-0129-4436-8ba1-a54e609c97d0');\n",
       "var x = new MutationObserver(function (mutations, observer) {{\n",
       "        var display = window.getComputedStyle(gd).display;\n",
       "        if (!display || display === 'none') {{\n",
       "            console.log([gd, 'removed!']);\n",
       "            Plotly.purge(gd);\n",
       "            observer.disconnect();\n",
       "        }}\n",
       "}});\n",
       "\n",
       "// Listen for the removal of the full notebook cells\n",
       "var notebookContainer = gd.closest('#notebook-container');\n",
       "if (notebookContainer) {{\n",
       "    x.observe(notebookContainer, {childList: true});\n",
       "}}\n",
       "\n",
       "// Listen for the clearing of the current output cell\n",
       "var outputEl = gd.closest('.output');\n",
       "if (outputEl) {{\n",
       "    x.observe(outputEl, {childList: true});\n",
       "}}\n",
       "\n",
       "                        })\n",
       "                };\n",
       "                });\n",
       "            </script>\n",
       "        </div>"
      ]
     },
     "metadata": {},
     "output_type": "display_data"
    }
   ],
   "source": [
    "fig = px.scatter(beer_style_taste_abv,x=\"review/overall\",y=\"beer/ABV\",trendline=\"ols\")\n",
    "\n",
    "fig.show()"
   ]
  },
  {
   "cell_type": "markdown",
   "metadata": {},
   "source": [
    "### q3 How does beer style distributed across taste and rating "
   ]
  },
  {
   "cell_type": "code",
   "execution_count": 73,
   "metadata": {},
   "outputs": [
    {
     "data": {
      "application/vnd.plotly.v1+json": {
       "config": {
        "plotlyServerURL": "https://plot.ly"
       },
       "data": [
        {
         "hovertemplate": "beer/style=American Double / Imperial Stout<br>review/overall=%{x}<br>review/taste=%{y}<extra></extra>",
         "legendgroup": "American Double / Imperial Stout",
         "marker": {
          "color": "#636efa",
          "symbol": "circle"
         },
         "mode": "markers",
         "name": "American Double / Imperial Stout",
         "orientation": "v",
         "showlegend": true,
         "type": "scatter",
         "x": [
          4.360878661087866
         ],
         "xaxis": "x",
         "y": [
          4.522489539748954
         ],
         "yaxis": "y"
        },
        {
         "hovertemplate": "beer/style=English Dark Mild Ale<br>review/overall=%{x}<br>review/taste=%{y}<extra></extra>",
         "legendgroup": "English Dark Mild Ale",
         "marker": {
          "color": "#EF553B",
          "symbol": "circle"
         },
         "mode": "markers",
         "name": "English Dark Mild Ale",
         "orientation": "v",
         "showlegend": true,
         "type": "scatter",
         "x": [
          4.5
         ],
         "xaxis": "x",
         "y": [
          4.5
         ],
         "yaxis": "y"
        },
        {
         "hovertemplate": "beer/style=Chile Beer<br>review/overall=%{x}<br>review/taste=%{y}<extra></extra>",
         "legendgroup": "Chile Beer",
         "marker": {
          "color": "#00cc96",
          "symbol": "circle"
         },
         "mode": "markers",
         "name": "Chile Beer",
         "orientation": "v",
         "showlegend": true,
         "type": "scatter",
         "x": [
          4
         ],
         "xaxis": "x",
         "y": [
          4.5
         ],
         "yaxis": "y"
        },
        {
         "hovertemplate": "beer/style=English Barleywine<br>review/overall=%{x}<br>review/taste=%{y}<extra></extra>",
         "legendgroup": "English Barleywine",
         "marker": {
          "color": "#ab63fa",
          "symbol": "circle"
         },
         "mode": "markers",
         "name": "English Barleywine",
         "orientation": "v",
         "showlegend": true,
         "type": "scatter",
         "x": [
          4.285714285714286
         ],
         "xaxis": "x",
         "y": [
          4.392857142857143
         ],
         "yaxis": "y"
        },
        {
         "hovertemplate": "beer/style=American Wild Ale<br>review/overall=%{x}<br>review/taste=%{y}<extra></extra>",
         "legendgroup": "American Wild Ale",
         "marker": {
          "color": "#FFA15A",
          "symbol": "circle"
         },
         "mode": "markers",
         "name": "American Wild Ale",
         "orientation": "v",
         "showlegend": true,
         "type": "scatter",
         "x": [
          4.05
         ],
         "xaxis": "x",
         "y": [
          4.35
         ],
         "yaxis": "y"
        },
        {
         "hovertemplate": "beer/style=Russian Imperial Stout<br>review/overall=%{x}<br>review/taste=%{y}<extra></extra>",
         "legendgroup": "Russian Imperial Stout",
         "marker": {
          "color": "#19d3f3",
          "symbol": "circle"
         },
         "mode": "markers",
         "name": "Russian Imperial Stout",
         "orientation": "v",
         "showlegend": true,
         "type": "scatter",
         "x": [
          4.212410501193317
         ],
         "xaxis": "x",
         "y": [
          4.3389021479713605
         ],
         "yaxis": "y"
        },
        {
         "hovertemplate": "beer/style=Oatmeal Stout<br>review/overall=%{x}<br>review/taste=%{y}<extra></extra>",
         "legendgroup": "Oatmeal Stout",
         "marker": {
          "color": "#FF6692",
          "symbol": "circle"
         },
         "mode": "markers",
         "name": "Oatmeal Stout",
         "orientation": "v",
         "showlegend": true,
         "type": "scatter",
         "x": [
          4.25
         ],
         "xaxis": "x",
         "y": [
          4.25
         ],
         "yaxis": "y"
        },
        {
         "hovertemplate": "beer/style=Rye Beer<br>review/overall=%{x}<br>review/taste=%{y}<extra></extra>",
         "legendgroup": "Rye Beer",
         "marker": {
          "color": "#B6E880",
          "symbol": "circle"
         },
         "mode": "markers",
         "name": "Rye Beer",
         "orientation": "v",
         "showlegend": true,
         "type": "scatter",
         "x": [
          4.1632302405498285
         ],
         "xaxis": "x",
         "y": [
          4.216494845360825
         ],
         "yaxis": "y"
        },
        {
         "hovertemplate": "beer/style=Wheatwine<br>review/overall=%{x}<br>review/taste=%{y}<extra></extra>",
         "legendgroup": "Wheatwine",
         "marker": {
          "color": "#FF97FF",
          "symbol": "circle"
         },
         "mode": "markers",
         "name": "Wheatwine",
         "orientation": "v",
         "showlegend": true,
         "type": "scatter",
         "x": [
          3.8653846153846154
         ],
         "xaxis": "x",
         "y": [
          4.211538461538462
         ],
         "yaxis": "y"
        },
        {
         "hovertemplate": "beer/style=American Amber / Red Lager<br>review/overall=%{x}<br>review/taste=%{y}<extra></extra>",
         "legendgroup": "American Amber / Red Lager",
         "marker": {
          "color": "#FECB52",
          "symbol": "circle"
         },
         "mode": "markers",
         "name": "American Amber / Red Lager",
         "orientation": "v",
         "showlegend": true,
         "type": "scatter",
         "x": [
          3.6666666666666665
         ],
         "xaxis": "x",
         "y": [
          4.166666666666667
         ],
         "yaxis": "y"
        },
        {
         "hovertemplate": "beer/style=Baltic Porter<br>review/overall=%{x}<br>review/taste=%{y}<extra></extra>",
         "legendgroup": "Baltic Porter",
         "marker": {
          "color": "#636efa",
          "symbol": "circle"
         },
         "mode": "markers",
         "name": "Baltic Porter",
         "orientation": "v",
         "showlegend": true,
         "type": "scatter",
         "x": [
          3.983695652173913
         ],
         "xaxis": "x",
         "y": [
          4.163043478260869
         ],
         "yaxis": "y"
        },
        {
         "hovertemplate": "beer/style=Black & Tan<br>review/overall=%{x}<br>review/taste=%{y}<extra></extra>",
         "legendgroup": "Black & Tan",
         "marker": {
          "color": "#EF553B",
          "symbol": "circle"
         },
         "mode": "markers",
         "name": "Black & Tan",
         "orientation": "v",
         "showlegend": true,
         "type": "scatter",
         "x": [
          4.2
         ],
         "xaxis": "x",
         "y": [
          4.15
         ],
         "yaxis": "y"
        },
        {
         "hovertemplate": "beer/style=American Porter<br>review/overall=%{x}<br>review/taste=%{y}<extra></extra>",
         "legendgroup": "American Porter",
         "marker": {
          "color": "#00cc96",
          "symbol": "circle"
         },
         "mode": "markers",
         "name": "American Porter",
         "orientation": "v",
         "showlegend": true,
         "type": "scatter",
         "x": [
          4.0553977272727275
         ],
         "xaxis": "x",
         "y": [
          4.142045454545454
         ],
         "yaxis": "y"
        },
        {
         "hovertemplate": "beer/style=Old Ale<br>review/overall=%{x}<br>review/taste=%{y}<extra></extra>",
         "legendgroup": "Old Ale",
         "marker": {
          "color": "#ab63fa",
          "symbol": "circle"
         },
         "mode": "markers",
         "name": "Old Ale",
         "orientation": "v",
         "showlegend": true,
         "type": "scatter",
         "x": [
          3.902941176470588
         ],
         "xaxis": "x",
         "y": [
          4.120588235294117
         ],
         "yaxis": "y"
        },
        {
         "hovertemplate": "beer/style=American Barleywine<br>review/overall=%{x}<br>review/taste=%{y}<extra></extra>",
         "legendgroup": "American Barleywine",
         "marker": {
          "color": "#FFA15A",
          "symbol": "circle"
         },
         "mode": "markers",
         "name": "American Barleywine",
         "orientation": "v",
         "showlegend": true,
         "type": "scatter",
         "x": [
          3.9152542372881354
         ],
         "xaxis": "x",
         "y": [
          4.114406779661017
         ],
         "yaxis": "y"
        },
        {
         "hovertemplate": "beer/style=Scotch Ale / Wee Heavy<br>review/overall=%{x}<br>review/taste=%{y}<extra></extra>",
         "legendgroup": "Scotch Ale / Wee Heavy",
         "marker": {
          "color": "#19d3f3",
          "symbol": "circle"
         },
         "mode": "markers",
         "name": "Scotch Ale / Wee Heavy",
         "orientation": "v",
         "showlegend": true,
         "type": "scatter",
         "x": [
          3.9552401746724892
         ],
         "xaxis": "x",
         "y": [
          4.103711790393013
         ],
         "yaxis": "y"
        },
        {
         "hovertemplate": "beer/style=American Double / Imperial IPA<br>review/overall=%{x}<br>review/taste=%{y}<extra></extra>",
         "legendgroup": "American Double / Imperial IPA",
         "marker": {
          "color": "#FF6692",
          "symbol": "circle"
         },
         "mode": "markers",
         "name": "American Double / Imperial IPA",
         "orientation": "v",
         "showlegend": true,
         "type": "scatter",
         "x": [
          3.89140625
         ],
         "xaxis": "x",
         "y": [
          4.06953125
         ],
         "yaxis": "y"
        },
        {
         "hovertemplate": "beer/style=Scottish Ale<br>review/overall=%{x}<br>review/taste=%{y}<extra></extra>",
         "legendgroup": "Scottish Ale",
         "marker": {
          "color": "#B6E880",
          "symbol": "circle"
         },
         "mode": "markers",
         "name": "Scottish Ale",
         "orientation": "v",
         "showlegend": true,
         "type": "scatter",
         "x": [
          3.625
         ],
         "xaxis": "x",
         "y": [
          4.0625
         ],
         "yaxis": "y"
        },
        {
         "hovertemplate": "beer/style=Rauchbier<br>review/overall=%{x}<br>review/taste=%{y}<extra></extra>",
         "legendgroup": "Rauchbier",
         "marker": {
          "color": "#FF97FF",
          "symbol": "circle"
         },
         "mode": "markers",
         "name": "Rauchbier",
         "orientation": "v",
         "showlegend": true,
         "type": "scatter",
         "x": [
          3.8741935483870966
         ],
         "xaxis": "x",
         "y": [
          4.054838709677419
         ],
         "yaxis": "y"
        },
        {
         "hovertemplate": "beer/style=Belgian Strong Pale Ale<br>review/overall=%{x}<br>review/taste=%{y}<extra></extra>",
         "legendgroup": "Belgian Strong Pale Ale",
         "marker": {
          "color": "#FECB52",
          "symbol": "circle"
         },
         "mode": "markers",
         "name": "Belgian Strong Pale Ale",
         "orientation": "v",
         "showlegend": true,
         "type": "scatter",
         "x": [
          3.9753086419753085
         ],
         "xaxis": "x",
         "y": [
          4.04320987654321
         ],
         "yaxis": "y"
        },
        {
         "hovertemplate": "beer/style=American IPA<br>review/overall=%{x}<br>review/taste=%{y}<extra></extra>",
         "legendgroup": "American IPA",
         "marker": {
          "color": "#636efa",
          "symbol": "circle"
         },
         "mode": "markers",
         "name": "American IPA",
         "orientation": "v",
         "showlegend": true,
         "type": "scatter",
         "x": [
          4.05968992248062
         ],
         "xaxis": "x",
         "y": [
          4.017829457364341
         ],
         "yaxis": "y"
        },
        {
         "hovertemplate": "beer/style=Kristalweizen<br>review/overall=%{x}<br>review/taste=%{y}<extra></extra>",
         "legendgroup": "Kristalweizen",
         "marker": {
          "color": "#EF553B",
          "symbol": "circle"
         },
         "mode": "markers",
         "name": "Kristalweizen",
         "orientation": "v",
         "showlegend": true,
         "type": "scatter",
         "x": [
          4
         ],
         "xaxis": "x",
         "y": [
          4
         ],
         "yaxis": "y"
        },
        {
         "hovertemplate": "beer/style=Dortmunder / Export Lager<br>review/overall=%{x}<br>review/taste=%{y}<extra></extra>",
         "legendgroup": "Dortmunder / Export Lager",
         "marker": {
          "color": "#00cc96",
          "symbol": "circle"
         },
         "mode": "markers",
         "name": "Dortmunder / Export Lager",
         "orientation": "v",
         "showlegend": true,
         "type": "scatter",
         "x": [
          4
         ],
         "xaxis": "x",
         "y": [
          4
         ],
         "yaxis": "y"
        },
        {
         "hovertemplate": "beer/style=Munich Helles Lager<br>review/overall=%{x}<br>review/taste=%{y}<extra></extra>",
         "legendgroup": "Munich Helles Lager",
         "marker": {
          "color": "#ab63fa",
          "symbol": "circle"
         },
         "mode": "markers",
         "name": "Munich Helles Lager",
         "orientation": "v",
         "showlegend": true,
         "type": "scatter",
         "x": [
          4.090425531914893
         ],
         "xaxis": "x",
         "y": [
          3.9468085106382977
         ],
         "yaxis": "y"
        },
        {
         "hovertemplate": "beer/style=Doppelbock<br>review/overall=%{x}<br>review/taste=%{y}<extra></extra>",
         "legendgroup": "Doppelbock",
         "marker": {
          "color": "#FFA15A",
          "symbol": "circle"
         },
         "mode": "markers",
         "name": "Doppelbock",
         "orientation": "v",
         "showlegend": true,
         "type": "scatter",
         "x": [
          3.860655737704918
         ],
         "xaxis": "x",
         "y": [
          3.9262295081967213
         ],
         "yaxis": "y"
        },
        {
         "hovertemplate": "beer/style=Keller Bier / Zwickel Bier<br>review/overall=%{x}<br>review/taste=%{y}<extra></extra>",
         "legendgroup": "Keller Bier / Zwickel Bier",
         "marker": {
          "color": "#19d3f3",
          "symbol": "circle"
         },
         "mode": "markers",
         "name": "Keller Bier / Zwickel Bier",
         "orientation": "v",
         "showlegend": true,
         "type": "scatter",
         "x": [
          4.5
         ],
         "xaxis": "x",
         "y": [
          3.9
         ],
         "yaxis": "y"
        },
        {
         "hovertemplate": "beer/style=American Black Ale<br>review/overall=%{x}<br>review/taste=%{y}<extra></extra>",
         "legendgroup": "American Black Ale",
         "marker": {
          "color": "#FF6692",
          "symbol": "circle"
         },
         "mode": "markers",
         "name": "American Black Ale",
         "orientation": "v",
         "showlegend": true,
         "type": "scatter",
         "x": [
          3.8958333333333335
         ],
         "xaxis": "x",
         "y": [
          3.8958333333333335
         ],
         "yaxis": "y"
        },
        {
         "hovertemplate": "beer/style=English Stout<br>review/overall=%{x}<br>review/taste=%{y}<extra></extra>",
         "legendgroup": "English Stout",
         "marker": {
          "color": "#B6E880",
          "symbol": "circle"
         },
         "mode": "markers",
         "name": "English Stout",
         "orientation": "v",
         "showlegend": true,
         "type": "scatter",
         "x": [
          3.9210526315789473
         ],
         "xaxis": "x",
         "y": [
          3.8947368421052633
         ],
         "yaxis": "y"
        },
        {
         "hovertemplate": "beer/style=Maibock / Helles Bock<br>review/overall=%{x}<br>review/taste=%{y}<extra></extra>",
         "legendgroup": "Maibock / Helles Bock",
         "marker": {
          "color": "#FF97FF",
          "symbol": "circle"
         },
         "mode": "markers",
         "name": "Maibock / Helles Bock",
         "orientation": "v",
         "showlegend": true,
         "type": "scatter",
         "x": [
          3.861111111111111
         ],
         "xaxis": "x",
         "y": [
          3.875
         ],
         "yaxis": "y"
        },
        {
         "hovertemplate": "beer/style=Belgian IPA<br>review/overall=%{x}<br>review/taste=%{y}<extra></extra>",
         "legendgroup": "Belgian IPA",
         "marker": {
          "color": "#FECB52",
          "symbol": "circle"
         },
         "mode": "markers",
         "name": "Belgian IPA",
         "orientation": "v",
         "showlegend": true,
         "type": "scatter",
         "x": [
          3.8181818181818183
         ],
         "xaxis": "x",
         "y": [
          3.8636363636363638
         ],
         "yaxis": "y"
        },
        {
         "hovertemplate": "beer/style=American Stout<br>review/overall=%{x}<br>review/taste=%{y}<extra></extra>",
         "legendgroup": "American Stout",
         "marker": {
          "color": "#636efa",
          "symbol": "circle"
         },
         "mode": "markers",
         "name": "American Stout",
         "orientation": "v",
         "showlegend": true,
         "type": "scatter",
         "x": [
          3.9367816091954024
         ],
         "xaxis": "x",
         "y": [
          3.8563218390804597
         ],
         "yaxis": "y"
        },
        {
         "hovertemplate": "beer/style=Dunkelweizen<br>review/overall=%{x}<br>review/taste=%{y}<extra></extra>",
         "legendgroup": "Dunkelweizen",
         "marker": {
          "color": "#EF553B",
          "symbol": "circle"
         },
         "mode": "markers",
         "name": "Dunkelweizen",
         "orientation": "v",
         "showlegend": true,
         "type": "scatter",
         "x": [
          3.8333333333333335
         ],
         "xaxis": "x",
         "y": [
          3.8333333333333335
         ],
         "yaxis": "y"
        },
        {
         "hovertemplate": "beer/style=Saison / Farmhouse Ale<br>review/overall=%{x}<br>review/taste=%{y}<extra></extra>",
         "legendgroup": "Saison / Farmhouse Ale",
         "marker": {
          "color": "#00cc96",
          "symbol": "circle"
         },
         "mode": "markers",
         "name": "Saison / Farmhouse Ale",
         "orientation": "v",
         "showlegend": true,
         "type": "scatter",
         "x": [
          3.96
         ],
         "xaxis": "x",
         "y": [
          3.82
         ],
         "yaxis": "y"
        },
        {
         "hovertemplate": "beer/style=Belgian Pale Ale<br>review/overall=%{x}<br>review/taste=%{y}<extra></extra>",
         "legendgroup": "Belgian Pale Ale",
         "marker": {
          "color": "#ab63fa",
          "symbol": "circle"
         },
         "mode": "markers",
         "name": "Belgian Pale Ale",
         "orientation": "v",
         "showlegend": true,
         "type": "scatter",
         "x": [
          3.8846153846153846
         ],
         "xaxis": "x",
         "y": [
          3.8076923076923075
         ],
         "yaxis": "y"
        },
        {
         "hovertemplate": "beer/style=Euro Dark Lager<br>review/overall=%{x}<br>review/taste=%{y}<extra></extra>",
         "legendgroup": "Euro Dark Lager",
         "marker": {
          "color": "#FFA15A",
          "symbol": "circle"
         },
         "mode": "markers",
         "name": "Euro Dark Lager",
         "orientation": "v",
         "showlegend": true,
         "type": "scatter",
         "x": [
          3.7
         ],
         "xaxis": "x",
         "y": [
          3.8
         ],
         "yaxis": "y"
        },
        {
         "hovertemplate": "beer/style=Dubbel<br>review/overall=%{x}<br>review/taste=%{y}<extra></extra>",
         "legendgroup": "Dubbel",
         "marker": {
          "color": "#19d3f3",
          "symbol": "circle"
         },
         "mode": "markers",
         "name": "Dubbel",
         "orientation": "v",
         "showlegend": true,
         "type": "scatter",
         "x": [
          3.973684210526316
         ],
         "xaxis": "x",
         "y": [
          3.789473684210526
         ],
         "yaxis": "y"
        },
        {
         "hovertemplate": "beer/style=American Brown Ale<br>review/overall=%{x}<br>review/taste=%{y}<extra></extra>",
         "legendgroup": "American Brown Ale",
         "marker": {
          "color": "#FF6692",
          "symbol": "circle"
         },
         "mode": "markers",
         "name": "American Brown Ale",
         "orientation": "v",
         "showlegend": true,
         "type": "scatter",
         "x": [
          3.806122448979592
         ],
         "xaxis": "x",
         "y": [
          3.7755102040816326
         ],
         "yaxis": "y"
        },
        {
         "hovertemplate": "beer/style=Pumpkin Ale<br>review/overall=%{x}<br>review/taste=%{y}<extra></extra>",
         "legendgroup": "Pumpkin Ale",
         "marker": {
          "color": "#B6E880",
          "symbol": "circle"
         },
         "mode": "markers",
         "name": "Pumpkin Ale",
         "orientation": "v",
         "showlegend": true,
         "type": "scatter",
         "x": [
          3.7183098591549295
         ],
         "xaxis": "x",
         "y": [
          3.76056338028169
         ],
         "yaxis": "y"
        },
        {
         "hovertemplate": "beer/style=Braggot<br>review/overall=%{x}<br>review/taste=%{y}<extra></extra>",
         "legendgroup": "Braggot",
         "marker": {
          "color": "#FF97FF",
          "symbol": "circle"
         },
         "mode": "markers",
         "name": "Braggot",
         "orientation": "v",
         "showlegend": true,
         "type": "scatter",
         "x": [
          3.75
         ],
         "xaxis": "x",
         "y": [
          3.75
         ],
         "yaxis": "y"
        },
        {
         "hovertemplate": "beer/style=California Common / Steam Beer<br>review/overall=%{x}<br>review/taste=%{y}<extra></extra>",
         "legendgroup": "California Common / Steam Beer",
         "marker": {
          "color": "#FECB52",
          "symbol": "circle"
         },
         "mode": "markers",
         "name": "California Common / Steam Beer",
         "orientation": "v",
         "showlegend": true,
         "type": "scatter",
         "x": [
          4
         ],
         "xaxis": "x",
         "y": [
          3.75
         ],
         "yaxis": "y"
        },
        {
         "hovertemplate": "beer/style=Belgian Strong Dark Ale<br>review/overall=%{x}<br>review/taste=%{y}<extra></extra>",
         "legendgroup": "Belgian Strong Dark Ale",
         "marker": {
          "color": "#636efa",
          "symbol": "circle"
         },
         "mode": "markers",
         "name": "Belgian Strong Dark Ale",
         "orientation": "v",
         "showlegend": true,
         "type": "scatter",
         "x": [
          3.6666666666666665
         ],
         "xaxis": "x",
         "y": [
          3.7333333333333334
         ],
         "yaxis": "y"
        },
        {
         "hovertemplate": "beer/style=Irish Dry Stout<br>review/overall=%{x}<br>review/taste=%{y}<extra></extra>",
         "legendgroup": "Irish Dry Stout",
         "marker": {
          "color": "#EF553B",
          "symbol": "circle"
         },
         "mode": "markers",
         "name": "Irish Dry Stout",
         "orientation": "v",
         "showlegend": true,
         "type": "scatter",
         "x": [
          3.638888888888889
         ],
         "xaxis": "x",
         "y": [
          3.7222222222222223
         ],
         "yaxis": "y"
        },
        {
         "hovertemplate": "beer/style=English Strong Ale<br>review/overall=%{x}<br>review/taste=%{y}<extra></extra>",
         "legendgroup": "English Strong Ale",
         "marker": {
          "color": "#00cc96",
          "symbol": "circle"
         },
         "mode": "markers",
         "name": "English Strong Ale",
         "orientation": "v",
         "showlegend": true,
         "type": "scatter",
         "x": [
          3.607142857142857
         ],
         "xaxis": "x",
         "y": [
          3.7142857142857144
         ],
         "yaxis": "y"
        },
        {
         "hovertemplate": "beer/style=English Porter<br>review/overall=%{x}<br>review/taste=%{y}<extra></extra>",
         "legendgroup": "English Porter",
         "marker": {
          "color": "#ab63fa",
          "symbol": "circle"
         },
         "mode": "markers",
         "name": "English Porter",
         "orientation": "v",
         "showlegend": true,
         "type": "scatter",
         "x": [
          3.7295081967213113
         ],
         "xaxis": "x",
         "y": [
          3.7049180327868854
         ],
         "yaxis": "y"
        },
        {
         "hovertemplate": "beer/style=KÃ¶lsch<br>review/overall=%{x}<br>review/taste=%{y}<extra></extra>",
         "legendgroup": "KÃ¶lsch",
         "marker": {
          "color": "#FFA15A",
          "symbol": "circle"
         },
         "mode": "markers",
         "name": "KÃ¶lsch",
         "orientation": "v",
         "showlegend": true,
         "type": "scatter",
         "x": [
          3.8
         ],
         "xaxis": "x",
         "y": [
          3.7
         ],
         "yaxis": "y"
        },
        {
         "hovertemplate": "beer/style=Scottish Gruit / Ancient Herbed Ale<br>review/overall=%{x}<br>review/taste=%{y}<extra></extra>",
         "legendgroup": "Scottish Gruit / Ancient Herbed Ale",
         "marker": {
          "color": "#19d3f3",
          "symbol": "circle"
         },
         "mode": "markers",
         "name": "Scottish Gruit / Ancient Herbed Ale",
         "orientation": "v",
         "showlegend": true,
         "type": "scatter",
         "x": [
          3.7
         ],
         "xaxis": "x",
         "y": [
          3.7
         ],
         "yaxis": "y"
        },
        {
         "hovertemplate": "beer/style=Winter Warmer<br>review/overall=%{x}<br>review/taste=%{y}<extra></extra>",
         "legendgroup": "Winter Warmer",
         "marker": {
          "color": "#FF6692",
          "symbol": "circle"
         },
         "mode": "markers",
         "name": "Winter Warmer",
         "orientation": "v",
         "showlegend": true,
         "type": "scatter",
         "x": [
          3.5833333333333335
         ],
         "xaxis": "x",
         "y": [
          3.6904761904761907
         ],
         "yaxis": "y"
        },
        {
         "hovertemplate": "beer/style=American Pale Ale (APA)<br>review/overall=%{x}<br>review/taste=%{y}<extra></extra>",
         "legendgroup": "American Pale Ale (APA)",
         "marker": {
          "color": "#B6E880",
          "symbol": "circle"
         },
         "mode": "markers",
         "name": "American Pale Ale (APA)",
         "orientation": "v",
         "showlegend": true,
         "type": "scatter",
         "x": [
          3.820588235294118
         ],
         "xaxis": "x",
         "y": [
          3.6691176470588234
         ],
         "yaxis": "y"
        },
        {
         "hovertemplate": "beer/style=Vienna Lager<br>review/overall=%{x}<br>review/taste=%{y}<extra></extra>",
         "legendgroup": "Vienna Lager",
         "marker": {
          "color": "#FF97FF",
          "symbol": "circle"
         },
         "mode": "markers",
         "name": "Vienna Lager",
         "orientation": "v",
         "showlegend": true,
         "type": "scatter",
         "x": [
          3.1666666666666665
         ],
         "xaxis": "x",
         "y": [
          3.6666666666666665
         ],
         "yaxis": "y"
        },
        {
         "hovertemplate": "beer/style=American Double / Imperial Pilsner<br>review/overall=%{x}<br>review/taste=%{y}<extra></extra>",
         "legendgroup": "American Double / Imperial Pilsner",
         "marker": {
          "color": "#FECB52",
          "symbol": "circle"
         },
         "mode": "markers",
         "name": "American Double / Imperial Pilsner",
         "orientation": "v",
         "showlegend": true,
         "type": "scatter",
         "x": [
          3.8333333333333335
         ],
         "xaxis": "x",
         "y": [
          3.6666666666666665
         ],
         "yaxis": "y"
        },
        {
         "hovertemplate": "beer/style=Milk / Sweet Stout<br>review/overall=%{x}<br>review/taste=%{y}<extra></extra>",
         "legendgroup": "Milk / Sweet Stout",
         "marker": {
          "color": "#636efa",
          "symbol": "circle"
         },
         "mode": "markers",
         "name": "Milk / Sweet Stout",
         "orientation": "v",
         "showlegend": true,
         "type": "scatter",
         "x": [
          3.6666666666666665
         ],
         "xaxis": "x",
         "y": [
          3.6666666666666665
         ],
         "yaxis": "y"
        },
        {
         "hovertemplate": "beer/style=Smoked Beer<br>review/overall=%{x}<br>review/taste=%{y}<extra></extra>",
         "legendgroup": "Smoked Beer",
         "marker": {
          "color": "#EF553B",
          "symbol": "circle"
         },
         "mode": "markers",
         "name": "Smoked Beer",
         "orientation": "v",
         "showlegend": true,
         "type": "scatter",
         "x": [
          3.5833333333333335
         ],
         "xaxis": "x",
         "y": [
          3.6666666666666665
         ],
         "yaxis": "y"
        },
        {
         "hovertemplate": "beer/style=American Strong Ale<br>review/overall=%{x}<br>review/taste=%{y}<extra></extra>",
         "legendgroup": "American Strong Ale",
         "marker": {
          "color": "#00cc96",
          "symbol": "circle"
         },
         "mode": "markers",
         "name": "American Strong Ale",
         "orientation": "v",
         "showlegend": true,
         "type": "scatter",
         "x": [
          3.4642857142857144
         ],
         "xaxis": "x",
         "y": [
          3.6607142857142856
         ],
         "yaxis": "y"
        },
        {
         "hovertemplate": "beer/style=Hefeweizen<br>review/overall=%{x}<br>review/taste=%{y}<extra></extra>",
         "legendgroup": "Hefeweizen",
         "marker": {
          "color": "#ab63fa",
          "symbol": "circle"
         },
         "mode": "markers",
         "name": "Hefeweizen",
         "orientation": "v",
         "showlegend": true,
         "type": "scatter",
         "x": [
          3.8295454545454546
         ],
         "xaxis": "x",
         "y": [
          3.659090909090909
         ],
         "yaxis": "y"
        },
        {
         "hovertemplate": "beer/style=Czech Pilsener<br>review/overall=%{x}<br>review/taste=%{y}<extra></extra>",
         "legendgroup": "Czech Pilsener",
         "marker": {
          "color": "#FFA15A",
          "symbol": "circle"
         },
         "mode": "markers",
         "name": "Czech Pilsener",
         "orientation": "v",
         "showlegend": true,
         "type": "scatter",
         "x": [
          3.810810810810811
         ],
         "xaxis": "x",
         "y": [
          3.6531531531531534
         ],
         "yaxis": "y"
        },
        {
         "hovertemplate": "beer/style=English Brown Ale<br>review/overall=%{x}<br>review/taste=%{y}<extra></extra>",
         "legendgroup": "English Brown Ale",
         "marker": {
          "color": "#19d3f3",
          "symbol": "circle"
         },
         "mode": "markers",
         "name": "English Brown Ale",
         "orientation": "v",
         "showlegend": true,
         "type": "scatter",
         "x": [
          3.7733333333333334
         ],
         "xaxis": "x",
         "y": [
          3.6466666666666665
         ],
         "yaxis": "y"
        },
        {
         "hovertemplate": "beer/style=Munich Dunkel Lager<br>review/overall=%{x}<br>review/taste=%{y}<extra></extra>",
         "legendgroup": "Munich Dunkel Lager",
         "marker": {
          "color": "#FF6692",
          "symbol": "circle"
         },
         "mode": "markers",
         "name": "Munich Dunkel Lager",
         "orientation": "v",
         "showlegend": true,
         "type": "scatter",
         "x": [
          3.6176470588235294
         ],
         "xaxis": "x",
         "y": [
          3.6176470588235294
         ],
         "yaxis": "y"
        },
        {
         "hovertemplate": "beer/style=German Pilsener<br>review/overall=%{x}<br>review/taste=%{y}<extra></extra>",
         "legendgroup": "German Pilsener",
         "marker": {
          "color": "#B6E880",
          "symbol": "circle"
         },
         "mode": "markers",
         "name": "German Pilsener",
         "orientation": "v",
         "showlegend": true,
         "type": "scatter",
         "x": [
          3.826923076923077
         ],
         "xaxis": "x",
         "y": [
          3.608974358974359
         ],
         "yaxis": "y"
        },
        {
         "hovertemplate": "beer/style=Extra Special / Strong Bitter (ESB)<br>review/overall=%{x}<br>review/taste=%{y}<extra></extra>",
         "legendgroup": "Extra Special / Strong Bitter (ESB)",
         "marker": {
          "color": "#FF97FF",
          "symbol": "circle"
         },
         "mode": "markers",
         "name": "Extra Special / Strong Bitter (ESB)",
         "orientation": "v",
         "showlegend": true,
         "type": "scatter",
         "x": [
          3.696969696969697
         ],
         "xaxis": "x",
         "y": [
          3.580808080808081
         ],
         "yaxis": "y"
        },
        {
         "hovertemplate": "beer/style=MÃ¤rzen / Oktoberfest<br>review/overall=%{x}<br>review/taste=%{y}<extra></extra>",
         "legendgroup": "MÃ¤rzen / Oktoberfest",
         "marker": {
          "color": "#FECB52",
          "symbol": "circle"
         },
         "mode": "markers",
         "name": "MÃ¤rzen / Oktoberfest",
         "orientation": "v",
         "showlegend": true,
         "type": "scatter",
         "x": [
          3.7866666666666666
         ],
         "xaxis": "x",
         "y": [
          3.58
         ],
         "yaxis": "y"
        },
        {
         "hovertemplate": "beer/style=American Amber / Red Ale<br>review/overall=%{x}<br>review/taste=%{y}<extra></extra>",
         "legendgroup": "American Amber / Red Ale",
         "marker": {
          "color": "#636efa",
          "symbol": "circle"
         },
         "mode": "markers",
         "name": "American Amber / Red Ale",
         "orientation": "v",
         "showlegend": true,
         "type": "scatter",
         "x": [
          3.65625
         ],
         "xaxis": "x",
         "y": [
          3.5572916666666665
         ],
         "yaxis": "y"
        },
        {
         "hovertemplate": "beer/style=Fruit / Vegetable Beer<br>review/overall=%{x}<br>review/taste=%{y}<extra></extra>",
         "legendgroup": "Fruit / Vegetable Beer",
         "marker": {
          "color": "#EF553B",
          "symbol": "circle"
         },
         "mode": "markers",
         "name": "Fruit / Vegetable Beer",
         "orientation": "v",
         "showlegend": true,
         "type": "scatter",
         "x": [
          3.5657894736842106
         ],
         "xaxis": "x",
         "y": [
          3.557017543859649
         ],
         "yaxis": "y"
        },
        {
         "hovertemplate": "beer/style=Tripel<br>review/overall=%{x}<br>review/taste=%{y}<extra></extra>",
         "legendgroup": "Tripel",
         "marker": {
          "color": "#00cc96",
          "symbol": "circle"
         },
         "mode": "markers",
         "name": "Tripel",
         "orientation": "v",
         "showlegend": true,
         "type": "scatter",
         "x": [
          3.526315789473684
         ],
         "xaxis": "x",
         "y": [
          3.539473684210526
         ],
         "yaxis": "y"
        },
        {
         "hovertemplate": "beer/style=Belgian Dark Ale<br>review/overall=%{x}<br>review/taste=%{y}<extra></extra>",
         "legendgroup": "Belgian Dark Ale",
         "marker": {
          "color": "#ab63fa",
          "symbol": "circle"
         },
         "mode": "markers",
         "name": "Belgian Dark Ale",
         "orientation": "v",
         "showlegend": true,
         "type": "scatter",
         "x": [
          3.3392857142857144
         ],
         "xaxis": "x",
         "y": [
          3.5357142857142856
         ],
         "yaxis": "y"
        },
        {
         "hovertemplate": "beer/style=Foreign / Export Stout<br>review/overall=%{x}<br>review/taste=%{y}<extra></extra>",
         "legendgroup": "Foreign / Export Stout",
         "marker": {
          "color": "#FFA15A",
          "symbol": "circle"
         },
         "mode": "markers",
         "name": "Foreign / Export Stout",
         "orientation": "v",
         "showlegend": true,
         "type": "scatter",
         "x": [
          3.5
         ],
         "xaxis": "x",
         "y": [
          3.5
         ],
         "yaxis": "y"
        },
        {
         "hovertemplate": "beer/style=Schwarzbier<br>review/overall=%{x}<br>review/taste=%{y}<extra></extra>",
         "legendgroup": "Schwarzbier",
         "marker": {
          "color": "#19d3f3",
          "symbol": "circle"
         },
         "mode": "markers",
         "name": "Schwarzbier",
         "orientation": "v",
         "showlegend": true,
         "type": "scatter",
         "x": [
          3.6666666666666665
         ],
         "xaxis": "x",
         "y": [
          3.5
         ],
         "yaxis": "y"
        },
        {
         "hovertemplate": "beer/style=English India Pale Ale (IPA)<br>review/overall=%{x}<br>review/taste=%{y}<extra></extra>",
         "legendgroup": "English India Pale Ale (IPA)",
         "marker": {
          "color": "#FF6692",
          "symbol": "circle"
         },
         "mode": "markers",
         "name": "English India Pale Ale (IPA)",
         "orientation": "v",
         "showlegend": true,
         "type": "scatter",
         "x": [
          3.56
         ],
         "xaxis": "x",
         "y": [
          3.5
         ],
         "yaxis": "y"
        },
        {
         "hovertemplate": "beer/style=Eisbock<br>review/overall=%{x}<br>review/taste=%{y}<extra></extra>",
         "legendgroup": "Eisbock",
         "marker": {
          "color": "#B6E880",
          "symbol": "circle"
         },
         "mode": "markers",
         "name": "Eisbock",
         "orientation": "v",
         "showlegend": true,
         "type": "scatter",
         "x": [
          3
         ],
         "xaxis": "x",
         "y": [
          3.5
         ],
         "yaxis": "y"
        },
        {
         "hovertemplate": "beer/style=American Dark Wheat Ale<br>review/overall=%{x}<br>review/taste=%{y}<extra></extra>",
         "legendgroup": "American Dark Wheat Ale",
         "marker": {
          "color": "#FF97FF",
          "symbol": "circle"
         },
         "mode": "markers",
         "name": "American Dark Wheat Ale",
         "orientation": "v",
         "showlegend": true,
         "type": "scatter",
         "x": [
          3.5
         ],
         "xaxis": "x",
         "y": [
          3.5
         ],
         "yaxis": "y"
        },
        {
         "hovertemplate": "beer/style=English Pale Ale<br>review/overall=%{x}<br>review/taste=%{y}<extra></extra>",
         "legendgroup": "English Pale Ale",
         "marker": {
          "color": "#FECB52",
          "symbol": "circle"
         },
         "mode": "markers",
         "name": "English Pale Ale",
         "orientation": "v",
         "showlegend": true,
         "type": "scatter",
         "x": [
          3.603960396039604
         ],
         "xaxis": "x",
         "y": [
          3.487623762376238
         ],
         "yaxis": "y"
        },
        {
         "hovertemplate": "beer/style=Altbier<br>review/overall=%{x}<br>review/taste=%{y}<extra></extra>",
         "legendgroup": "Altbier",
         "marker": {
          "color": "#636efa",
          "symbol": "circle"
         },
         "mode": "markers",
         "name": "Altbier",
         "orientation": "v",
         "showlegend": true,
         "type": "scatter",
         "x": [
          3.642857142857143
         ],
         "xaxis": "x",
         "y": [
          3.482142857142857
         ],
         "yaxis": "y"
        },
        {
         "hovertemplate": "beer/style=English Bitter<br>review/overall=%{x}<br>review/taste=%{y}<extra></extra>",
         "legendgroup": "English Bitter",
         "marker": {
          "color": "#EF553B",
          "symbol": "circle"
         },
         "mode": "markers",
         "name": "English Bitter",
         "orientation": "v",
         "showlegend": true,
         "type": "scatter",
         "x": [
          3.5714285714285716
         ],
         "xaxis": "x",
         "y": [
          3.482142857142857
         ],
         "yaxis": "y"
        },
        {
         "hovertemplate": "beer/style=Quadrupel (Quad)<br>review/overall=%{x}<br>review/taste=%{y}<extra></extra>",
         "legendgroup": "Quadrupel (Quad)",
         "marker": {
          "color": "#00cc96",
          "symbol": "circle"
         },
         "mode": "markers",
         "name": "Quadrupel (Quad)",
         "orientation": "v",
         "showlegend": true,
         "type": "scatter",
         "x": [
          3.2941176470588234
         ],
         "xaxis": "x",
         "y": [
          3.4705882352941178
         ],
         "yaxis": "y"
        },
        {
         "hovertemplate": "beer/style=Bock<br>review/overall=%{x}<br>review/taste=%{y}<extra></extra>",
         "legendgroup": "Bock",
         "marker": {
          "color": "#ab63fa",
          "symbol": "circle"
         },
         "mode": "markers",
         "name": "Bock",
         "orientation": "v",
         "showlegend": true,
         "type": "scatter",
         "x": [
          3.4473684210526314
         ],
         "xaxis": "x",
         "y": [
          3.4473684210526314
         ],
         "yaxis": "y"
        },
        {
         "hovertemplate": "beer/style=Cream Ale<br>review/overall=%{x}<br>review/taste=%{y}<extra></extra>",
         "legendgroup": "Cream Ale",
         "marker": {
          "color": "#FFA15A",
          "symbol": "circle"
         },
         "mode": "markers",
         "name": "Cream Ale",
         "orientation": "v",
         "showlegend": true,
         "type": "scatter",
         "x": [
          3.7
         ],
         "xaxis": "x",
         "y": [
          3.4
         ],
         "yaxis": "y"
        },
        {
         "hovertemplate": "beer/style=Witbier<br>review/overall=%{x}<br>review/taste=%{y}<extra></extra>",
         "legendgroup": "Witbier",
         "marker": {
          "color": "#19d3f3",
          "symbol": "circle"
         },
         "mode": "markers",
         "name": "Witbier",
         "orientation": "v",
         "showlegend": true,
         "type": "scatter",
         "x": [
          3.4
         ],
         "xaxis": "x",
         "y": [
          3.3
         ],
         "yaxis": "y"
        },
        {
         "hovertemplate": "beer/style=Herbed / Spiced Beer<br>review/overall=%{x}<br>review/taste=%{y}<extra></extra>",
         "legendgroup": "Herbed / Spiced Beer",
         "marker": {
          "color": "#FF6692",
          "symbol": "circle"
         },
         "mode": "markers",
         "name": "Herbed / Spiced Beer",
         "orientation": "v",
         "showlegend": true,
         "type": "scatter",
         "x": [
          3.2
         ],
         "xaxis": "x",
         "y": [
          3.25
         ],
         "yaxis": "y"
        },
        {
         "hovertemplate": "beer/style=American Blonde Ale<br>review/overall=%{x}<br>review/taste=%{y}<extra></extra>",
         "legendgroup": "American Blonde Ale",
         "marker": {
          "color": "#B6E880",
          "symbol": "circle"
         },
         "mode": "markers",
         "name": "American Blonde Ale",
         "orientation": "v",
         "showlegend": true,
         "type": "scatter",
         "x": [
          3.358490566037736
         ],
         "xaxis": "x",
         "y": [
          3.2358490566037736
         ],
         "yaxis": "y"
        },
        {
         "hovertemplate": "beer/style=American Pale Lager<br>review/overall=%{x}<br>review/taste=%{y}<extra></extra>",
         "legendgroup": "American Pale Lager",
         "marker": {
          "color": "#FF97FF",
          "symbol": "circle"
         },
         "mode": "markers",
         "name": "American Pale Lager",
         "orientation": "v",
         "showlegend": true,
         "type": "scatter",
         "x": [
          3.2142857142857144
         ],
         "xaxis": "x",
         "y": [
          3.1666666666666665
         ],
         "yaxis": "y"
        },
        {
         "hovertemplate": "beer/style=English Pale Mild Ale<br>review/overall=%{x}<br>review/taste=%{y}<extra></extra>",
         "legendgroup": "English Pale Mild Ale",
         "marker": {
          "color": "#FECB52",
          "symbol": "circle"
         },
         "mode": "markers",
         "name": "English Pale Mild Ale",
         "orientation": "v",
         "showlegend": true,
         "type": "scatter",
         "x": [
          3.3333333333333335
         ],
         "xaxis": "x",
         "y": [
          3.1666666666666665
         ],
         "yaxis": "y"
        },
        {
         "hovertemplate": "beer/style=American Pale Wheat Ale<br>review/overall=%{x}<br>review/taste=%{y}<extra></extra>",
         "legendgroup": "American Pale Wheat Ale",
         "marker": {
          "color": "#636efa",
          "symbol": "circle"
         },
         "mode": "markers",
         "name": "American Pale Wheat Ale",
         "orientation": "v",
         "showlegend": true,
         "type": "scatter",
         "x": [
          3.4444444444444446
         ],
         "xaxis": "x",
         "y": [
          3.1666666666666665
         ],
         "yaxis": "y"
        },
        {
         "hovertemplate": "beer/style=Irish Red Ale<br>review/overall=%{x}<br>review/taste=%{y}<extra></extra>",
         "legendgroup": "Irish Red Ale",
         "marker": {
          "color": "#EF553B",
          "symbol": "circle"
         },
         "mode": "markers",
         "name": "Irish Red Ale",
         "orientation": "v",
         "showlegend": true,
         "type": "scatter",
         "x": [
          3.0625
         ],
         "xaxis": "x",
         "y": [
          3.125
         ],
         "yaxis": "y"
        },
        {
         "hovertemplate": "beer/style=American Adjunct Lager<br>review/overall=%{x}<br>review/taste=%{y}<extra></extra>",
         "legendgroup": "American Adjunct Lager",
         "marker": {
          "color": "#00cc96",
          "symbol": "circle"
         },
         "mode": "markers",
         "name": "American Adjunct Lager",
         "orientation": "v",
         "showlegend": true,
         "type": "scatter",
         "x": [
          3.0535714285714284
         ],
         "xaxis": "x",
         "y": [
          2.875
         ],
         "yaxis": "y"
        },
        {
         "hovertemplate": "beer/style=Euro Pale Lager<br>review/overall=%{x}<br>review/taste=%{y}<extra></extra>",
         "legendgroup": "Euro Pale Lager",
         "marker": {
          "color": "#ab63fa",
          "symbol": "circle"
         },
         "mode": "markers",
         "name": "Euro Pale Lager",
         "orientation": "v",
         "showlegend": true,
         "type": "scatter",
         "x": [
          3.091743119266055
         ],
         "xaxis": "x",
         "y": [
          2.7889908256880735
         ],
         "yaxis": "y"
        },
        {
         "hovertemplate": "beer/style=Euro Strong Lager<br>review/overall=%{x}<br>review/taste=%{y}<extra></extra>",
         "legendgroup": "Euro Strong Lager",
         "marker": {
          "color": "#FFA15A",
          "symbol": "circle"
         },
         "mode": "markers",
         "name": "Euro Strong Lager",
         "orientation": "v",
         "showlegend": true,
         "type": "scatter",
         "x": [
          2.797872340425532
         ],
         "xaxis": "x",
         "y": [
          2.7127659574468086
         ],
         "yaxis": "y"
        },
        {
         "hovertemplate": "beer/style=Light Lager<br>review/overall=%{x}<br>review/taste=%{y}<extra></extra>",
         "legendgroup": "Light Lager",
         "marker": {
          "color": "#19d3f3",
          "symbol": "circle"
         },
         "mode": "markers",
         "name": "Light Lager",
         "orientation": "v",
         "showlegend": true,
         "type": "scatter",
         "x": [
          2.7733333333333334
         ],
         "xaxis": "x",
         "y": [
          2.52
         ],
         "yaxis": "y"
        },
        {
         "hovertemplate": "beer/style=Low Alcohol Beer<br>review/overall=%{x}<br>review/taste=%{y}<extra></extra>",
         "legendgroup": "Low Alcohol Beer",
         "marker": {
          "color": "#FF6692",
          "symbol": "circle"
         },
         "mode": "markers",
         "name": "Low Alcohol Beer",
         "orientation": "v",
         "showlegend": true,
         "type": "scatter",
         "x": [
          2.5
         ],
         "xaxis": "x",
         "y": [
          2.5
         ],
         "yaxis": "y"
        },
        {
         "hovertemplate": "beer/style=American Malt Liquor<br>review/overall=%{x}<br>review/taste=%{y}<extra></extra>",
         "legendgroup": "American Malt Liquor",
         "marker": {
          "color": "#B6E880",
          "symbol": "circle"
         },
         "mode": "markers",
         "name": "American Malt Liquor",
         "orientation": "v",
         "showlegend": true,
         "type": "scatter",
         "x": [
          2.1666666666666665
         ],
         "xaxis": "x",
         "y": [
          1.9166666666666667
         ],
         "yaxis": "y"
        },
        {
         "hovertemplate": "beer/style=Berliner Weissbier<br>review/overall=%{x}<br>review/taste=%{y}<extra></extra>",
         "legendgroup": "Berliner Weissbier",
         "marker": {
          "color": "#FF97FF",
          "symbol": "circle"
         },
         "mode": "markers",
         "name": "Berliner Weissbier",
         "orientation": "v",
         "showlegend": true,
         "type": "scatter",
         "x": [
          null
         ],
         "xaxis": "x",
         "y": [
          null
         ],
         "yaxis": "y"
        },
        {
         "hovertemplate": "beer/style=BiÃ¨re de Garde<br>review/overall=%{x}<br>review/taste=%{y}<extra></extra>",
         "legendgroup": "BiÃ¨re de Garde",
         "marker": {
          "color": "#FECB52",
          "symbol": "circle"
         },
         "mode": "markers",
         "name": "BiÃ¨re de Garde",
         "orientation": "v",
         "showlegend": true,
         "type": "scatter",
         "x": [
          null
         ],
         "xaxis": "x",
         "y": [
          null
         ],
         "yaxis": "y"
        },
        {
         "hovertemplate": "beer/style=Flanders Oud Bruin<br>review/overall=%{x}<br>review/taste=%{y}<extra></extra>",
         "legendgroup": "Flanders Oud Bruin",
         "marker": {
          "color": "#636efa",
          "symbol": "circle"
         },
         "mode": "markers",
         "name": "Flanders Oud Bruin",
         "orientation": "v",
         "showlegend": true,
         "type": "scatter",
         "x": [
          null
         ],
         "xaxis": "x",
         "y": [
          null
         ],
         "yaxis": "y"
        },
        {
         "hovertemplate": "beer/style=Flanders Red Ale<br>review/overall=%{x}<br>review/taste=%{y}<extra></extra>",
         "legendgroup": "Flanders Red Ale",
         "marker": {
          "color": "#EF553B",
          "symbol": "circle"
         },
         "mode": "markers",
         "name": "Flanders Red Ale",
         "orientation": "v",
         "showlegend": true,
         "type": "scatter",
         "x": [
          null
         ],
         "xaxis": "x",
         "y": [
          null
         ],
         "yaxis": "y"
        },
        {
         "hovertemplate": "beer/style=Lambic - Fruit<br>review/overall=%{x}<br>review/taste=%{y}<extra></extra>",
         "legendgroup": "Lambic - Fruit",
         "marker": {
          "color": "#00cc96",
          "symbol": "circle"
         },
         "mode": "markers",
         "name": "Lambic - Fruit",
         "orientation": "v",
         "showlegend": true,
         "type": "scatter",
         "x": [
          null
         ],
         "xaxis": "x",
         "y": [
          null
         ],
         "yaxis": "y"
        },
        {
         "hovertemplate": "beer/style=Lambic - Unblended<br>review/overall=%{x}<br>review/taste=%{y}<extra></extra>",
         "legendgroup": "Lambic - Unblended",
         "marker": {
          "color": "#ab63fa",
          "symbol": "circle"
         },
         "mode": "markers",
         "name": "Lambic - Unblended",
         "orientation": "v",
         "showlegend": true,
         "type": "scatter",
         "x": [
          null
         ],
         "xaxis": "x",
         "y": [
          null
         ],
         "yaxis": "y"
        },
        {
         "hovertemplate": "beer/style=Weizenbock<br>review/overall=%{x}<br>review/taste=%{y}<extra></extra>",
         "legendgroup": "Weizenbock",
         "marker": {
          "color": "#FFA15A",
          "symbol": "circle"
         },
         "mode": "markers",
         "name": "Weizenbock",
         "orientation": "v",
         "showlegend": true,
         "type": "scatter",
         "x": [
          null
         ],
         "xaxis": "x",
         "y": [
          null
         ],
         "yaxis": "y"
        }
       ],
       "layout": {
        "legend": {
         "title": {
          "text": "beer/style"
         },
         "tracegroupgap": 0
        },
        "margin": {
         "t": 60
        },
        "template": {
         "data": {
          "bar": [
           {
            "error_x": {
             "color": "#2a3f5f"
            },
            "error_y": {
             "color": "#2a3f5f"
            },
            "marker": {
             "line": {
              "color": "#E5ECF6",
              "width": 0.5
             }
            },
            "type": "bar"
           }
          ],
          "barpolar": [
           {
            "marker": {
             "line": {
              "color": "#E5ECF6",
              "width": 0.5
             }
            },
            "type": "barpolar"
           }
          ],
          "carpet": [
           {
            "aaxis": {
             "endlinecolor": "#2a3f5f",
             "gridcolor": "white",
             "linecolor": "white",
             "minorgridcolor": "white",
             "startlinecolor": "#2a3f5f"
            },
            "baxis": {
             "endlinecolor": "#2a3f5f",
             "gridcolor": "white",
             "linecolor": "white",
             "minorgridcolor": "white",
             "startlinecolor": "#2a3f5f"
            },
            "type": "carpet"
           }
          ],
          "choropleth": [
           {
            "colorbar": {
             "outlinewidth": 0,
             "ticks": ""
            },
            "type": "choropleth"
           }
          ],
          "contour": [
           {
            "colorbar": {
             "outlinewidth": 0,
             "ticks": ""
            },
            "colorscale": [
             [
              0,
              "#0d0887"
             ],
             [
              0.1111111111111111,
              "#46039f"
             ],
             [
              0.2222222222222222,
              "#7201a8"
             ],
             [
              0.3333333333333333,
              "#9c179e"
             ],
             [
              0.4444444444444444,
              "#bd3786"
             ],
             [
              0.5555555555555556,
              "#d8576b"
             ],
             [
              0.6666666666666666,
              "#ed7953"
             ],
             [
              0.7777777777777778,
              "#fb9f3a"
             ],
             [
              0.8888888888888888,
              "#fdca26"
             ],
             [
              1,
              "#f0f921"
             ]
            ],
            "type": "contour"
           }
          ],
          "contourcarpet": [
           {
            "colorbar": {
             "outlinewidth": 0,
             "ticks": ""
            },
            "type": "contourcarpet"
           }
          ],
          "heatmap": [
           {
            "colorbar": {
             "outlinewidth": 0,
             "ticks": ""
            },
            "colorscale": [
             [
              0,
              "#0d0887"
             ],
             [
              0.1111111111111111,
              "#46039f"
             ],
             [
              0.2222222222222222,
              "#7201a8"
             ],
             [
              0.3333333333333333,
              "#9c179e"
             ],
             [
              0.4444444444444444,
              "#bd3786"
             ],
             [
              0.5555555555555556,
              "#d8576b"
             ],
             [
              0.6666666666666666,
              "#ed7953"
             ],
             [
              0.7777777777777778,
              "#fb9f3a"
             ],
             [
              0.8888888888888888,
              "#fdca26"
             ],
             [
              1,
              "#f0f921"
             ]
            ],
            "type": "heatmap"
           }
          ],
          "heatmapgl": [
           {
            "colorbar": {
             "outlinewidth": 0,
             "ticks": ""
            },
            "colorscale": [
             [
              0,
              "#0d0887"
             ],
             [
              0.1111111111111111,
              "#46039f"
             ],
             [
              0.2222222222222222,
              "#7201a8"
             ],
             [
              0.3333333333333333,
              "#9c179e"
             ],
             [
              0.4444444444444444,
              "#bd3786"
             ],
             [
              0.5555555555555556,
              "#d8576b"
             ],
             [
              0.6666666666666666,
              "#ed7953"
             ],
             [
              0.7777777777777778,
              "#fb9f3a"
             ],
             [
              0.8888888888888888,
              "#fdca26"
             ],
             [
              1,
              "#f0f921"
             ]
            ],
            "type": "heatmapgl"
           }
          ],
          "histogram": [
           {
            "marker": {
             "colorbar": {
              "outlinewidth": 0,
              "ticks": ""
             }
            },
            "type": "histogram"
           }
          ],
          "histogram2d": [
           {
            "colorbar": {
             "outlinewidth": 0,
             "ticks": ""
            },
            "colorscale": [
             [
              0,
              "#0d0887"
             ],
             [
              0.1111111111111111,
              "#46039f"
             ],
             [
              0.2222222222222222,
              "#7201a8"
             ],
             [
              0.3333333333333333,
              "#9c179e"
             ],
             [
              0.4444444444444444,
              "#bd3786"
             ],
             [
              0.5555555555555556,
              "#d8576b"
             ],
             [
              0.6666666666666666,
              "#ed7953"
             ],
             [
              0.7777777777777778,
              "#fb9f3a"
             ],
             [
              0.8888888888888888,
              "#fdca26"
             ],
             [
              1,
              "#f0f921"
             ]
            ],
            "type": "histogram2d"
           }
          ],
          "histogram2dcontour": [
           {
            "colorbar": {
             "outlinewidth": 0,
             "ticks": ""
            },
            "colorscale": [
             [
              0,
              "#0d0887"
             ],
             [
              0.1111111111111111,
              "#46039f"
             ],
             [
              0.2222222222222222,
              "#7201a8"
             ],
             [
              0.3333333333333333,
              "#9c179e"
             ],
             [
              0.4444444444444444,
              "#bd3786"
             ],
             [
              0.5555555555555556,
              "#d8576b"
             ],
             [
              0.6666666666666666,
              "#ed7953"
             ],
             [
              0.7777777777777778,
              "#fb9f3a"
             ],
             [
              0.8888888888888888,
              "#fdca26"
             ],
             [
              1,
              "#f0f921"
             ]
            ],
            "type": "histogram2dcontour"
           }
          ],
          "mesh3d": [
           {
            "colorbar": {
             "outlinewidth": 0,
             "ticks": ""
            },
            "type": "mesh3d"
           }
          ],
          "parcoords": [
           {
            "line": {
             "colorbar": {
              "outlinewidth": 0,
              "ticks": ""
             }
            },
            "type": "parcoords"
           }
          ],
          "pie": [
           {
            "automargin": true,
            "type": "pie"
           }
          ],
          "scatter": [
           {
            "marker": {
             "colorbar": {
              "outlinewidth": 0,
              "ticks": ""
             }
            },
            "type": "scatter"
           }
          ],
          "scatter3d": [
           {
            "line": {
             "colorbar": {
              "outlinewidth": 0,
              "ticks": ""
             }
            },
            "marker": {
             "colorbar": {
              "outlinewidth": 0,
              "ticks": ""
             }
            },
            "type": "scatter3d"
           }
          ],
          "scattercarpet": [
           {
            "marker": {
             "colorbar": {
              "outlinewidth": 0,
              "ticks": ""
             }
            },
            "type": "scattercarpet"
           }
          ],
          "scattergeo": [
           {
            "marker": {
             "colorbar": {
              "outlinewidth": 0,
              "ticks": ""
             }
            },
            "type": "scattergeo"
           }
          ],
          "scattergl": [
           {
            "marker": {
             "colorbar": {
              "outlinewidth": 0,
              "ticks": ""
             }
            },
            "type": "scattergl"
           }
          ],
          "scattermapbox": [
           {
            "marker": {
             "colorbar": {
              "outlinewidth": 0,
              "ticks": ""
             }
            },
            "type": "scattermapbox"
           }
          ],
          "scatterpolar": [
           {
            "marker": {
             "colorbar": {
              "outlinewidth": 0,
              "ticks": ""
             }
            },
            "type": "scatterpolar"
           }
          ],
          "scatterpolargl": [
           {
            "marker": {
             "colorbar": {
              "outlinewidth": 0,
              "ticks": ""
             }
            },
            "type": "scatterpolargl"
           }
          ],
          "scatterternary": [
           {
            "marker": {
             "colorbar": {
              "outlinewidth": 0,
              "ticks": ""
             }
            },
            "type": "scatterternary"
           }
          ],
          "surface": [
           {
            "colorbar": {
             "outlinewidth": 0,
             "ticks": ""
            },
            "colorscale": [
             [
              0,
              "#0d0887"
             ],
             [
              0.1111111111111111,
              "#46039f"
             ],
             [
              0.2222222222222222,
              "#7201a8"
             ],
             [
              0.3333333333333333,
              "#9c179e"
             ],
             [
              0.4444444444444444,
              "#bd3786"
             ],
             [
              0.5555555555555556,
              "#d8576b"
             ],
             [
              0.6666666666666666,
              "#ed7953"
             ],
             [
              0.7777777777777778,
              "#fb9f3a"
             ],
             [
              0.8888888888888888,
              "#fdca26"
             ],
             [
              1,
              "#f0f921"
             ]
            ],
            "type": "surface"
           }
          ],
          "table": [
           {
            "cells": {
             "fill": {
              "color": "#EBF0F8"
             },
             "line": {
              "color": "white"
             }
            },
            "header": {
             "fill": {
              "color": "#C8D4E3"
             },
             "line": {
              "color": "white"
             }
            },
            "type": "table"
           }
          ]
         },
         "layout": {
          "annotationdefaults": {
           "arrowcolor": "#2a3f5f",
           "arrowhead": 0,
           "arrowwidth": 1
          },
          "coloraxis": {
           "colorbar": {
            "outlinewidth": 0,
            "ticks": ""
           }
          },
          "colorscale": {
           "diverging": [
            [
             0,
             "#8e0152"
            ],
            [
             0.1,
             "#c51b7d"
            ],
            [
             0.2,
             "#de77ae"
            ],
            [
             0.3,
             "#f1b6da"
            ],
            [
             0.4,
             "#fde0ef"
            ],
            [
             0.5,
             "#f7f7f7"
            ],
            [
             0.6,
             "#e6f5d0"
            ],
            [
             0.7,
             "#b8e186"
            ],
            [
             0.8,
             "#7fbc41"
            ],
            [
             0.9,
             "#4d9221"
            ],
            [
             1,
             "#276419"
            ]
           ],
           "sequential": [
            [
             0,
             "#0d0887"
            ],
            [
             0.1111111111111111,
             "#46039f"
            ],
            [
             0.2222222222222222,
             "#7201a8"
            ],
            [
             0.3333333333333333,
             "#9c179e"
            ],
            [
             0.4444444444444444,
             "#bd3786"
            ],
            [
             0.5555555555555556,
             "#d8576b"
            ],
            [
             0.6666666666666666,
             "#ed7953"
            ],
            [
             0.7777777777777778,
             "#fb9f3a"
            ],
            [
             0.8888888888888888,
             "#fdca26"
            ],
            [
             1,
             "#f0f921"
            ]
           ],
           "sequentialminus": [
            [
             0,
             "#0d0887"
            ],
            [
             0.1111111111111111,
             "#46039f"
            ],
            [
             0.2222222222222222,
             "#7201a8"
            ],
            [
             0.3333333333333333,
             "#9c179e"
            ],
            [
             0.4444444444444444,
             "#bd3786"
            ],
            [
             0.5555555555555556,
             "#d8576b"
            ],
            [
             0.6666666666666666,
             "#ed7953"
            ],
            [
             0.7777777777777778,
             "#fb9f3a"
            ],
            [
             0.8888888888888888,
             "#fdca26"
            ],
            [
             1,
             "#f0f921"
            ]
           ]
          },
          "colorway": [
           "#636efa",
           "#EF553B",
           "#00cc96",
           "#ab63fa",
           "#FFA15A",
           "#19d3f3",
           "#FF6692",
           "#B6E880",
           "#FF97FF",
           "#FECB52"
          ],
          "font": {
           "color": "#2a3f5f"
          },
          "geo": {
           "bgcolor": "white",
           "lakecolor": "white",
           "landcolor": "#E5ECF6",
           "showlakes": true,
           "showland": true,
           "subunitcolor": "white"
          },
          "hoverlabel": {
           "align": "left"
          },
          "hovermode": "closest",
          "mapbox": {
           "style": "light"
          },
          "paper_bgcolor": "white",
          "plot_bgcolor": "#E5ECF6",
          "polar": {
           "angularaxis": {
            "gridcolor": "white",
            "linecolor": "white",
            "ticks": ""
           },
           "bgcolor": "#E5ECF6",
           "radialaxis": {
            "gridcolor": "white",
            "linecolor": "white",
            "ticks": ""
           }
          },
          "scene": {
           "xaxis": {
            "backgroundcolor": "#E5ECF6",
            "gridcolor": "white",
            "gridwidth": 2,
            "linecolor": "white",
            "showbackground": true,
            "ticks": "",
            "zerolinecolor": "white"
           },
           "yaxis": {
            "backgroundcolor": "#E5ECF6",
            "gridcolor": "white",
            "gridwidth": 2,
            "linecolor": "white",
            "showbackground": true,
            "ticks": "",
            "zerolinecolor": "white"
           },
           "zaxis": {
            "backgroundcolor": "#E5ECF6",
            "gridcolor": "white",
            "gridwidth": 2,
            "linecolor": "white",
            "showbackground": true,
            "ticks": "",
            "zerolinecolor": "white"
           }
          },
          "shapedefaults": {
           "line": {
            "color": "#2a3f5f"
           }
          },
          "ternary": {
           "aaxis": {
            "gridcolor": "white",
            "linecolor": "white",
            "ticks": ""
           },
           "baxis": {
            "gridcolor": "white",
            "linecolor": "white",
            "ticks": ""
           },
           "bgcolor": "#E5ECF6",
           "caxis": {
            "gridcolor": "white",
            "linecolor": "white",
            "ticks": ""
           }
          },
          "title": {
           "x": 0.05
          },
          "xaxis": {
           "automargin": true,
           "gridcolor": "white",
           "linecolor": "white",
           "ticks": "",
           "title": {
            "standoff": 15
           },
           "zerolinecolor": "white",
           "zerolinewidth": 2
          },
          "yaxis": {
           "automargin": true,
           "gridcolor": "white",
           "linecolor": "white",
           "ticks": "",
           "title": {
            "standoff": 15
           },
           "zerolinecolor": "white",
           "zerolinewidth": 2
          }
         }
        },
        "xaxis": {
         "anchor": "y",
         "domain": [
          0,
          1
         ],
         "title": {
          "text": "review/overall"
         }
        },
        "yaxis": {
         "anchor": "x",
         "domain": [
          0,
          1
         ],
         "title": {
          "text": "review/taste"
         }
        }
       }
      },
      "text/html": [
       "<div>\n",
       "        \n",
       "        \n",
       "            <div id=\"d87d292d-3194-45d5-9fbe-6f3cba19a6cd\" class=\"plotly-graph-div\" style=\"height:525px; width:100%;\"></div>\n",
       "            <script type=\"text/javascript\">\n",
       "                require([\"plotly\"], function(Plotly) {\n",
       "                    window.PLOTLYENV=window.PLOTLYENV || {};\n",
       "                    \n",
       "                if (document.getElementById(\"d87d292d-3194-45d5-9fbe-6f3cba19a6cd\")) {\n",
       "                    Plotly.newPlot(\n",
       "                        'd87d292d-3194-45d5-9fbe-6f3cba19a6cd',\n",
       "                        [{\"hovertemplate\": \"beer/style=American Double / Imperial Stout<br>review/overall=%{x}<br>review/taste=%{y}<extra></extra>\", \"legendgroup\": \"American Double / Imperial Stout\", \"marker\": {\"color\": \"#636efa\", \"symbol\": \"circle\"}, \"mode\": \"markers\", \"name\": \"American Double / Imperial Stout\", \"orientation\": \"v\", \"showlegend\": true, \"type\": \"scatter\", \"x\": [4.360878661087866], \"xaxis\": \"x\", \"y\": [4.522489539748954], \"yaxis\": \"y\"}, {\"hovertemplate\": \"beer/style=English Dark Mild Ale<br>review/overall=%{x}<br>review/taste=%{y}<extra></extra>\", \"legendgroup\": \"English Dark Mild Ale\", \"marker\": {\"color\": \"#EF553B\", \"symbol\": \"circle\"}, \"mode\": \"markers\", \"name\": \"English Dark Mild Ale\", \"orientation\": \"v\", \"showlegend\": true, \"type\": \"scatter\", \"x\": [4.5], \"xaxis\": \"x\", \"y\": [4.5], \"yaxis\": \"y\"}, {\"hovertemplate\": \"beer/style=Chile Beer<br>review/overall=%{x}<br>review/taste=%{y}<extra></extra>\", \"legendgroup\": \"Chile Beer\", \"marker\": {\"color\": \"#00cc96\", \"symbol\": \"circle\"}, \"mode\": \"markers\", \"name\": \"Chile Beer\", \"orientation\": \"v\", \"showlegend\": true, \"type\": \"scatter\", \"x\": [4.0], \"xaxis\": \"x\", \"y\": [4.5], \"yaxis\": \"y\"}, {\"hovertemplate\": \"beer/style=English Barleywine<br>review/overall=%{x}<br>review/taste=%{y}<extra></extra>\", \"legendgroup\": \"English Barleywine\", \"marker\": {\"color\": \"#ab63fa\", \"symbol\": \"circle\"}, \"mode\": \"markers\", \"name\": \"English Barleywine\", \"orientation\": \"v\", \"showlegend\": true, \"type\": \"scatter\", \"x\": [4.285714285714286], \"xaxis\": \"x\", \"y\": [4.392857142857143], \"yaxis\": \"y\"}, {\"hovertemplate\": \"beer/style=American Wild Ale<br>review/overall=%{x}<br>review/taste=%{y}<extra></extra>\", \"legendgroup\": \"American Wild Ale\", \"marker\": {\"color\": \"#FFA15A\", \"symbol\": \"circle\"}, \"mode\": \"markers\", \"name\": \"American Wild Ale\", \"orientation\": \"v\", \"showlegend\": true, \"type\": \"scatter\", \"x\": [4.05], \"xaxis\": \"x\", \"y\": [4.35], \"yaxis\": \"y\"}, {\"hovertemplate\": \"beer/style=Russian Imperial Stout<br>review/overall=%{x}<br>review/taste=%{y}<extra></extra>\", \"legendgroup\": \"Russian Imperial Stout\", \"marker\": {\"color\": \"#19d3f3\", \"symbol\": \"circle\"}, \"mode\": \"markers\", \"name\": \"Russian Imperial Stout\", \"orientation\": \"v\", \"showlegend\": true, \"type\": \"scatter\", \"x\": [4.212410501193317], \"xaxis\": \"x\", \"y\": [4.3389021479713605], \"yaxis\": \"y\"}, {\"hovertemplate\": \"beer/style=Oatmeal Stout<br>review/overall=%{x}<br>review/taste=%{y}<extra></extra>\", \"legendgroup\": \"Oatmeal Stout\", \"marker\": {\"color\": \"#FF6692\", \"symbol\": \"circle\"}, \"mode\": \"markers\", \"name\": \"Oatmeal Stout\", \"orientation\": \"v\", \"showlegend\": true, \"type\": \"scatter\", \"x\": [4.25], \"xaxis\": \"x\", \"y\": [4.25], \"yaxis\": \"y\"}, {\"hovertemplate\": \"beer/style=Rye Beer<br>review/overall=%{x}<br>review/taste=%{y}<extra></extra>\", \"legendgroup\": \"Rye Beer\", \"marker\": {\"color\": \"#B6E880\", \"symbol\": \"circle\"}, \"mode\": \"markers\", \"name\": \"Rye Beer\", \"orientation\": \"v\", \"showlegend\": true, \"type\": \"scatter\", \"x\": [4.1632302405498285], \"xaxis\": \"x\", \"y\": [4.216494845360825], \"yaxis\": \"y\"}, {\"hovertemplate\": \"beer/style=Wheatwine<br>review/overall=%{x}<br>review/taste=%{y}<extra></extra>\", \"legendgroup\": \"Wheatwine\", \"marker\": {\"color\": \"#FF97FF\", \"symbol\": \"circle\"}, \"mode\": \"markers\", \"name\": \"Wheatwine\", \"orientation\": \"v\", \"showlegend\": true, \"type\": \"scatter\", \"x\": [3.8653846153846154], \"xaxis\": \"x\", \"y\": [4.211538461538462], \"yaxis\": \"y\"}, {\"hovertemplate\": \"beer/style=American Amber / Red Lager<br>review/overall=%{x}<br>review/taste=%{y}<extra></extra>\", \"legendgroup\": \"American Amber / Red Lager\", \"marker\": {\"color\": \"#FECB52\", \"symbol\": \"circle\"}, \"mode\": \"markers\", \"name\": \"American Amber / Red Lager\", \"orientation\": \"v\", \"showlegend\": true, \"type\": \"scatter\", \"x\": [3.6666666666666665], \"xaxis\": \"x\", \"y\": [4.166666666666667], \"yaxis\": \"y\"}, {\"hovertemplate\": \"beer/style=Baltic Porter<br>review/overall=%{x}<br>review/taste=%{y}<extra></extra>\", \"legendgroup\": \"Baltic Porter\", \"marker\": {\"color\": \"#636efa\", \"symbol\": \"circle\"}, \"mode\": \"markers\", \"name\": \"Baltic Porter\", \"orientation\": \"v\", \"showlegend\": true, \"type\": \"scatter\", \"x\": [3.983695652173913], \"xaxis\": \"x\", \"y\": [4.163043478260869], \"yaxis\": \"y\"}, {\"hovertemplate\": \"beer/style=Black & Tan<br>review/overall=%{x}<br>review/taste=%{y}<extra></extra>\", \"legendgroup\": \"Black & Tan\", \"marker\": {\"color\": \"#EF553B\", \"symbol\": \"circle\"}, \"mode\": \"markers\", \"name\": \"Black & Tan\", \"orientation\": \"v\", \"showlegend\": true, \"type\": \"scatter\", \"x\": [4.2], \"xaxis\": \"x\", \"y\": [4.15], \"yaxis\": \"y\"}, {\"hovertemplate\": \"beer/style=American Porter<br>review/overall=%{x}<br>review/taste=%{y}<extra></extra>\", \"legendgroup\": \"American Porter\", \"marker\": {\"color\": \"#00cc96\", \"symbol\": \"circle\"}, \"mode\": \"markers\", \"name\": \"American Porter\", \"orientation\": \"v\", \"showlegend\": true, \"type\": \"scatter\", \"x\": [4.0553977272727275], \"xaxis\": \"x\", \"y\": [4.142045454545454], \"yaxis\": \"y\"}, {\"hovertemplate\": \"beer/style=Old Ale<br>review/overall=%{x}<br>review/taste=%{y}<extra></extra>\", \"legendgroup\": \"Old Ale\", \"marker\": {\"color\": \"#ab63fa\", \"symbol\": \"circle\"}, \"mode\": \"markers\", \"name\": \"Old Ale\", \"orientation\": \"v\", \"showlegend\": true, \"type\": \"scatter\", \"x\": [3.902941176470588], \"xaxis\": \"x\", \"y\": [4.120588235294117], \"yaxis\": \"y\"}, {\"hovertemplate\": \"beer/style=American Barleywine<br>review/overall=%{x}<br>review/taste=%{y}<extra></extra>\", \"legendgroup\": \"American Barleywine\", \"marker\": {\"color\": \"#FFA15A\", \"symbol\": \"circle\"}, \"mode\": \"markers\", \"name\": \"American Barleywine\", \"orientation\": \"v\", \"showlegend\": true, \"type\": \"scatter\", \"x\": [3.9152542372881354], \"xaxis\": \"x\", \"y\": [4.114406779661017], \"yaxis\": \"y\"}, {\"hovertemplate\": \"beer/style=Scotch Ale / Wee Heavy<br>review/overall=%{x}<br>review/taste=%{y}<extra></extra>\", \"legendgroup\": \"Scotch Ale / Wee Heavy\", \"marker\": {\"color\": \"#19d3f3\", \"symbol\": \"circle\"}, \"mode\": \"markers\", \"name\": \"Scotch Ale / Wee Heavy\", \"orientation\": \"v\", \"showlegend\": true, \"type\": \"scatter\", \"x\": [3.9552401746724892], \"xaxis\": \"x\", \"y\": [4.103711790393013], \"yaxis\": \"y\"}, {\"hovertemplate\": \"beer/style=American Double / Imperial IPA<br>review/overall=%{x}<br>review/taste=%{y}<extra></extra>\", \"legendgroup\": \"American Double / Imperial IPA\", \"marker\": {\"color\": \"#FF6692\", \"symbol\": \"circle\"}, \"mode\": \"markers\", \"name\": \"American Double / Imperial IPA\", \"orientation\": \"v\", \"showlegend\": true, \"type\": \"scatter\", \"x\": [3.89140625], \"xaxis\": \"x\", \"y\": [4.06953125], \"yaxis\": \"y\"}, {\"hovertemplate\": \"beer/style=Scottish Ale<br>review/overall=%{x}<br>review/taste=%{y}<extra></extra>\", \"legendgroup\": \"Scottish Ale\", \"marker\": {\"color\": \"#B6E880\", \"symbol\": \"circle\"}, \"mode\": \"markers\", \"name\": \"Scottish Ale\", \"orientation\": \"v\", \"showlegend\": true, \"type\": \"scatter\", \"x\": [3.625], \"xaxis\": \"x\", \"y\": [4.0625], \"yaxis\": \"y\"}, {\"hovertemplate\": \"beer/style=Rauchbier<br>review/overall=%{x}<br>review/taste=%{y}<extra></extra>\", \"legendgroup\": \"Rauchbier\", \"marker\": {\"color\": \"#FF97FF\", \"symbol\": \"circle\"}, \"mode\": \"markers\", \"name\": \"Rauchbier\", \"orientation\": \"v\", \"showlegend\": true, \"type\": \"scatter\", \"x\": [3.8741935483870966], \"xaxis\": \"x\", \"y\": [4.054838709677419], \"yaxis\": \"y\"}, {\"hovertemplate\": \"beer/style=Belgian Strong Pale Ale<br>review/overall=%{x}<br>review/taste=%{y}<extra></extra>\", \"legendgroup\": \"Belgian Strong Pale Ale\", \"marker\": {\"color\": \"#FECB52\", \"symbol\": \"circle\"}, \"mode\": \"markers\", \"name\": \"Belgian Strong Pale Ale\", \"orientation\": \"v\", \"showlegend\": true, \"type\": \"scatter\", \"x\": [3.9753086419753085], \"xaxis\": \"x\", \"y\": [4.04320987654321], \"yaxis\": \"y\"}, {\"hovertemplate\": \"beer/style=American IPA<br>review/overall=%{x}<br>review/taste=%{y}<extra></extra>\", \"legendgroup\": \"American IPA\", \"marker\": {\"color\": \"#636efa\", \"symbol\": \"circle\"}, \"mode\": \"markers\", \"name\": \"American IPA\", \"orientation\": \"v\", \"showlegend\": true, \"type\": \"scatter\", \"x\": [4.05968992248062], \"xaxis\": \"x\", \"y\": [4.017829457364341], \"yaxis\": \"y\"}, {\"hovertemplate\": \"beer/style=Kristalweizen<br>review/overall=%{x}<br>review/taste=%{y}<extra></extra>\", \"legendgroup\": \"Kristalweizen\", \"marker\": {\"color\": \"#EF553B\", \"symbol\": \"circle\"}, \"mode\": \"markers\", \"name\": \"Kristalweizen\", \"orientation\": \"v\", \"showlegend\": true, \"type\": \"scatter\", \"x\": [4.0], \"xaxis\": \"x\", \"y\": [4.0], \"yaxis\": \"y\"}, {\"hovertemplate\": \"beer/style=Dortmunder / Export Lager<br>review/overall=%{x}<br>review/taste=%{y}<extra></extra>\", \"legendgroup\": \"Dortmunder / Export Lager\", \"marker\": {\"color\": \"#00cc96\", \"symbol\": \"circle\"}, \"mode\": \"markers\", \"name\": \"Dortmunder / Export Lager\", \"orientation\": \"v\", \"showlegend\": true, \"type\": \"scatter\", \"x\": [4.0], \"xaxis\": \"x\", \"y\": [4.0], \"yaxis\": \"y\"}, {\"hovertemplate\": \"beer/style=Munich Helles Lager<br>review/overall=%{x}<br>review/taste=%{y}<extra></extra>\", \"legendgroup\": \"Munich Helles Lager\", \"marker\": {\"color\": \"#ab63fa\", \"symbol\": \"circle\"}, \"mode\": \"markers\", \"name\": \"Munich Helles Lager\", \"orientation\": \"v\", \"showlegend\": true, \"type\": \"scatter\", \"x\": [4.090425531914893], \"xaxis\": \"x\", \"y\": [3.9468085106382977], \"yaxis\": \"y\"}, {\"hovertemplate\": \"beer/style=Doppelbock<br>review/overall=%{x}<br>review/taste=%{y}<extra></extra>\", \"legendgroup\": \"Doppelbock\", \"marker\": {\"color\": \"#FFA15A\", \"symbol\": \"circle\"}, \"mode\": \"markers\", \"name\": \"Doppelbock\", \"orientation\": \"v\", \"showlegend\": true, \"type\": \"scatter\", \"x\": [3.860655737704918], \"xaxis\": \"x\", \"y\": [3.9262295081967213], \"yaxis\": \"y\"}, {\"hovertemplate\": \"beer/style=Keller Bier / Zwickel Bier<br>review/overall=%{x}<br>review/taste=%{y}<extra></extra>\", \"legendgroup\": \"Keller Bier / Zwickel Bier\", \"marker\": {\"color\": \"#19d3f3\", \"symbol\": \"circle\"}, \"mode\": \"markers\", \"name\": \"Keller Bier / Zwickel Bier\", \"orientation\": \"v\", \"showlegend\": true, \"type\": \"scatter\", \"x\": [4.5], \"xaxis\": \"x\", \"y\": [3.9], \"yaxis\": \"y\"}, {\"hovertemplate\": \"beer/style=American Black Ale<br>review/overall=%{x}<br>review/taste=%{y}<extra></extra>\", \"legendgroup\": \"American Black Ale\", \"marker\": {\"color\": \"#FF6692\", \"symbol\": \"circle\"}, \"mode\": \"markers\", \"name\": \"American Black Ale\", \"orientation\": \"v\", \"showlegend\": true, \"type\": \"scatter\", \"x\": [3.8958333333333335], \"xaxis\": \"x\", \"y\": [3.8958333333333335], \"yaxis\": \"y\"}, {\"hovertemplate\": \"beer/style=English Stout<br>review/overall=%{x}<br>review/taste=%{y}<extra></extra>\", \"legendgroup\": \"English Stout\", \"marker\": {\"color\": \"#B6E880\", \"symbol\": \"circle\"}, \"mode\": \"markers\", \"name\": \"English Stout\", \"orientation\": \"v\", \"showlegend\": true, \"type\": \"scatter\", \"x\": [3.9210526315789473], \"xaxis\": \"x\", \"y\": [3.8947368421052633], \"yaxis\": \"y\"}, {\"hovertemplate\": \"beer/style=Maibock / Helles Bock<br>review/overall=%{x}<br>review/taste=%{y}<extra></extra>\", \"legendgroup\": \"Maibock / Helles Bock\", \"marker\": {\"color\": \"#FF97FF\", \"symbol\": \"circle\"}, \"mode\": \"markers\", \"name\": \"Maibock / Helles Bock\", \"orientation\": \"v\", \"showlegend\": true, \"type\": \"scatter\", \"x\": [3.861111111111111], \"xaxis\": \"x\", \"y\": [3.875], \"yaxis\": \"y\"}, {\"hovertemplate\": \"beer/style=Belgian IPA<br>review/overall=%{x}<br>review/taste=%{y}<extra></extra>\", \"legendgroup\": \"Belgian IPA\", \"marker\": {\"color\": \"#FECB52\", \"symbol\": \"circle\"}, \"mode\": \"markers\", \"name\": \"Belgian IPA\", \"orientation\": \"v\", \"showlegend\": true, \"type\": \"scatter\", \"x\": [3.8181818181818183], \"xaxis\": \"x\", \"y\": [3.8636363636363638], \"yaxis\": \"y\"}, {\"hovertemplate\": \"beer/style=American Stout<br>review/overall=%{x}<br>review/taste=%{y}<extra></extra>\", \"legendgroup\": \"American Stout\", \"marker\": {\"color\": \"#636efa\", \"symbol\": \"circle\"}, \"mode\": \"markers\", \"name\": \"American Stout\", \"orientation\": \"v\", \"showlegend\": true, \"type\": \"scatter\", \"x\": [3.9367816091954024], \"xaxis\": \"x\", \"y\": [3.8563218390804597], \"yaxis\": \"y\"}, {\"hovertemplate\": \"beer/style=Dunkelweizen<br>review/overall=%{x}<br>review/taste=%{y}<extra></extra>\", \"legendgroup\": \"Dunkelweizen\", \"marker\": {\"color\": \"#EF553B\", \"symbol\": \"circle\"}, \"mode\": \"markers\", \"name\": \"Dunkelweizen\", \"orientation\": \"v\", \"showlegend\": true, \"type\": \"scatter\", \"x\": [3.8333333333333335], \"xaxis\": \"x\", \"y\": [3.8333333333333335], \"yaxis\": \"y\"}, {\"hovertemplate\": \"beer/style=Saison / Farmhouse Ale<br>review/overall=%{x}<br>review/taste=%{y}<extra></extra>\", \"legendgroup\": \"Saison / Farmhouse Ale\", \"marker\": {\"color\": \"#00cc96\", \"symbol\": \"circle\"}, \"mode\": \"markers\", \"name\": \"Saison / Farmhouse Ale\", \"orientation\": \"v\", \"showlegend\": true, \"type\": \"scatter\", \"x\": [3.96], \"xaxis\": \"x\", \"y\": [3.82], \"yaxis\": \"y\"}, {\"hovertemplate\": \"beer/style=Belgian Pale Ale<br>review/overall=%{x}<br>review/taste=%{y}<extra></extra>\", \"legendgroup\": \"Belgian Pale Ale\", \"marker\": {\"color\": \"#ab63fa\", \"symbol\": \"circle\"}, \"mode\": \"markers\", \"name\": \"Belgian Pale Ale\", \"orientation\": \"v\", \"showlegend\": true, \"type\": \"scatter\", \"x\": [3.8846153846153846], \"xaxis\": \"x\", \"y\": [3.8076923076923075], \"yaxis\": \"y\"}, {\"hovertemplate\": \"beer/style=Euro Dark Lager<br>review/overall=%{x}<br>review/taste=%{y}<extra></extra>\", \"legendgroup\": \"Euro Dark Lager\", \"marker\": {\"color\": \"#FFA15A\", \"symbol\": \"circle\"}, \"mode\": \"markers\", \"name\": \"Euro Dark Lager\", \"orientation\": \"v\", \"showlegend\": true, \"type\": \"scatter\", \"x\": [3.7], \"xaxis\": \"x\", \"y\": [3.8], \"yaxis\": \"y\"}, {\"hovertemplate\": \"beer/style=Dubbel<br>review/overall=%{x}<br>review/taste=%{y}<extra></extra>\", \"legendgroup\": \"Dubbel\", \"marker\": {\"color\": \"#19d3f3\", \"symbol\": \"circle\"}, \"mode\": \"markers\", \"name\": \"Dubbel\", \"orientation\": \"v\", \"showlegend\": true, \"type\": \"scatter\", \"x\": [3.973684210526316], \"xaxis\": \"x\", \"y\": [3.789473684210526], \"yaxis\": \"y\"}, {\"hovertemplate\": \"beer/style=American Brown Ale<br>review/overall=%{x}<br>review/taste=%{y}<extra></extra>\", \"legendgroup\": \"American Brown Ale\", \"marker\": {\"color\": \"#FF6692\", \"symbol\": \"circle\"}, \"mode\": \"markers\", \"name\": \"American Brown Ale\", \"orientation\": \"v\", \"showlegend\": true, \"type\": \"scatter\", \"x\": [3.806122448979592], \"xaxis\": \"x\", \"y\": [3.7755102040816326], \"yaxis\": \"y\"}, {\"hovertemplate\": \"beer/style=Pumpkin Ale<br>review/overall=%{x}<br>review/taste=%{y}<extra></extra>\", \"legendgroup\": \"Pumpkin Ale\", \"marker\": {\"color\": \"#B6E880\", \"symbol\": \"circle\"}, \"mode\": \"markers\", \"name\": \"Pumpkin Ale\", \"orientation\": \"v\", \"showlegend\": true, \"type\": \"scatter\", \"x\": [3.7183098591549295], \"xaxis\": \"x\", \"y\": [3.76056338028169], \"yaxis\": \"y\"}, {\"hovertemplate\": \"beer/style=Braggot<br>review/overall=%{x}<br>review/taste=%{y}<extra></extra>\", \"legendgroup\": \"Braggot\", \"marker\": {\"color\": \"#FF97FF\", \"symbol\": \"circle\"}, \"mode\": \"markers\", \"name\": \"Braggot\", \"orientation\": \"v\", \"showlegend\": true, \"type\": \"scatter\", \"x\": [3.75], \"xaxis\": \"x\", \"y\": [3.75], \"yaxis\": \"y\"}, {\"hovertemplate\": \"beer/style=California Common / Steam Beer<br>review/overall=%{x}<br>review/taste=%{y}<extra></extra>\", \"legendgroup\": \"California Common / Steam Beer\", \"marker\": {\"color\": \"#FECB52\", \"symbol\": \"circle\"}, \"mode\": \"markers\", \"name\": \"California Common / Steam Beer\", \"orientation\": \"v\", \"showlegend\": true, \"type\": \"scatter\", \"x\": [4.0], \"xaxis\": \"x\", \"y\": [3.75], \"yaxis\": \"y\"}, {\"hovertemplate\": \"beer/style=Belgian Strong Dark Ale<br>review/overall=%{x}<br>review/taste=%{y}<extra></extra>\", \"legendgroup\": \"Belgian Strong Dark Ale\", \"marker\": {\"color\": \"#636efa\", \"symbol\": \"circle\"}, \"mode\": \"markers\", \"name\": \"Belgian Strong Dark Ale\", \"orientation\": \"v\", \"showlegend\": true, \"type\": \"scatter\", \"x\": [3.6666666666666665], \"xaxis\": \"x\", \"y\": [3.7333333333333334], \"yaxis\": \"y\"}, {\"hovertemplate\": \"beer/style=Irish Dry Stout<br>review/overall=%{x}<br>review/taste=%{y}<extra></extra>\", \"legendgroup\": \"Irish Dry Stout\", \"marker\": {\"color\": \"#EF553B\", \"symbol\": \"circle\"}, \"mode\": \"markers\", \"name\": \"Irish Dry Stout\", \"orientation\": \"v\", \"showlegend\": true, \"type\": \"scatter\", \"x\": [3.638888888888889], \"xaxis\": \"x\", \"y\": [3.7222222222222223], \"yaxis\": \"y\"}, {\"hovertemplate\": \"beer/style=English Strong Ale<br>review/overall=%{x}<br>review/taste=%{y}<extra></extra>\", \"legendgroup\": \"English Strong Ale\", \"marker\": {\"color\": \"#00cc96\", \"symbol\": \"circle\"}, \"mode\": \"markers\", \"name\": \"English Strong Ale\", \"orientation\": \"v\", \"showlegend\": true, \"type\": \"scatter\", \"x\": [3.607142857142857], \"xaxis\": \"x\", \"y\": [3.7142857142857144], \"yaxis\": \"y\"}, {\"hovertemplate\": \"beer/style=English Porter<br>review/overall=%{x}<br>review/taste=%{y}<extra></extra>\", \"legendgroup\": \"English Porter\", \"marker\": {\"color\": \"#ab63fa\", \"symbol\": \"circle\"}, \"mode\": \"markers\", \"name\": \"English Porter\", \"orientation\": \"v\", \"showlegend\": true, \"type\": \"scatter\", \"x\": [3.7295081967213113], \"xaxis\": \"x\", \"y\": [3.7049180327868854], \"yaxis\": \"y\"}, {\"hovertemplate\": \"beer/style=K\\u00c3\\u00b6lsch<br>review/overall=%{x}<br>review/taste=%{y}<extra></extra>\", \"legendgroup\": \"K\\u00c3\\u00b6lsch\", \"marker\": {\"color\": \"#FFA15A\", \"symbol\": \"circle\"}, \"mode\": \"markers\", \"name\": \"K\\u00c3\\u00b6lsch\", \"orientation\": \"v\", \"showlegend\": true, \"type\": \"scatter\", \"x\": [3.8], \"xaxis\": \"x\", \"y\": [3.7], \"yaxis\": \"y\"}, {\"hovertemplate\": \"beer/style=Scottish Gruit / Ancient Herbed Ale<br>review/overall=%{x}<br>review/taste=%{y}<extra></extra>\", \"legendgroup\": \"Scottish Gruit / Ancient Herbed Ale\", \"marker\": {\"color\": \"#19d3f3\", \"symbol\": \"circle\"}, \"mode\": \"markers\", \"name\": \"Scottish Gruit / Ancient Herbed Ale\", \"orientation\": \"v\", \"showlegend\": true, \"type\": \"scatter\", \"x\": [3.7], \"xaxis\": \"x\", \"y\": [3.7], \"yaxis\": \"y\"}, {\"hovertemplate\": \"beer/style=Winter Warmer<br>review/overall=%{x}<br>review/taste=%{y}<extra></extra>\", \"legendgroup\": \"Winter Warmer\", \"marker\": {\"color\": \"#FF6692\", \"symbol\": \"circle\"}, \"mode\": \"markers\", \"name\": \"Winter Warmer\", \"orientation\": \"v\", \"showlegend\": true, \"type\": \"scatter\", \"x\": [3.5833333333333335], \"xaxis\": \"x\", \"y\": [3.6904761904761907], \"yaxis\": \"y\"}, {\"hovertemplate\": \"beer/style=American Pale Ale (APA)<br>review/overall=%{x}<br>review/taste=%{y}<extra></extra>\", \"legendgroup\": \"American Pale Ale (APA)\", \"marker\": {\"color\": \"#B6E880\", \"symbol\": \"circle\"}, \"mode\": \"markers\", \"name\": \"American Pale Ale (APA)\", \"orientation\": \"v\", \"showlegend\": true, \"type\": \"scatter\", \"x\": [3.820588235294118], \"xaxis\": \"x\", \"y\": [3.6691176470588234], \"yaxis\": \"y\"}, {\"hovertemplate\": \"beer/style=Vienna Lager<br>review/overall=%{x}<br>review/taste=%{y}<extra></extra>\", \"legendgroup\": \"Vienna Lager\", \"marker\": {\"color\": \"#FF97FF\", \"symbol\": \"circle\"}, \"mode\": \"markers\", \"name\": \"Vienna Lager\", \"orientation\": \"v\", \"showlegend\": true, \"type\": \"scatter\", \"x\": [3.1666666666666665], \"xaxis\": \"x\", \"y\": [3.6666666666666665], \"yaxis\": \"y\"}, {\"hovertemplate\": \"beer/style=American Double / Imperial Pilsner<br>review/overall=%{x}<br>review/taste=%{y}<extra></extra>\", \"legendgroup\": \"American Double / Imperial Pilsner\", \"marker\": {\"color\": \"#FECB52\", \"symbol\": \"circle\"}, \"mode\": \"markers\", \"name\": \"American Double / Imperial Pilsner\", \"orientation\": \"v\", \"showlegend\": true, \"type\": \"scatter\", \"x\": [3.8333333333333335], \"xaxis\": \"x\", \"y\": [3.6666666666666665], \"yaxis\": \"y\"}, {\"hovertemplate\": \"beer/style=Milk / Sweet Stout<br>review/overall=%{x}<br>review/taste=%{y}<extra></extra>\", \"legendgroup\": \"Milk / Sweet Stout\", \"marker\": {\"color\": \"#636efa\", \"symbol\": \"circle\"}, \"mode\": \"markers\", \"name\": \"Milk / Sweet Stout\", \"orientation\": \"v\", \"showlegend\": true, \"type\": \"scatter\", \"x\": [3.6666666666666665], \"xaxis\": \"x\", \"y\": [3.6666666666666665], \"yaxis\": \"y\"}, {\"hovertemplate\": \"beer/style=Smoked Beer<br>review/overall=%{x}<br>review/taste=%{y}<extra></extra>\", \"legendgroup\": \"Smoked Beer\", \"marker\": {\"color\": \"#EF553B\", \"symbol\": \"circle\"}, \"mode\": \"markers\", \"name\": \"Smoked Beer\", \"orientation\": \"v\", \"showlegend\": true, \"type\": \"scatter\", \"x\": [3.5833333333333335], \"xaxis\": \"x\", \"y\": [3.6666666666666665], \"yaxis\": \"y\"}, {\"hovertemplate\": \"beer/style=American Strong Ale<br>review/overall=%{x}<br>review/taste=%{y}<extra></extra>\", \"legendgroup\": \"American Strong Ale\", \"marker\": {\"color\": \"#00cc96\", \"symbol\": \"circle\"}, \"mode\": \"markers\", \"name\": \"American Strong Ale\", \"orientation\": \"v\", \"showlegend\": true, \"type\": \"scatter\", \"x\": [3.4642857142857144], \"xaxis\": \"x\", \"y\": [3.6607142857142856], \"yaxis\": \"y\"}, {\"hovertemplate\": \"beer/style=Hefeweizen<br>review/overall=%{x}<br>review/taste=%{y}<extra></extra>\", \"legendgroup\": \"Hefeweizen\", \"marker\": {\"color\": \"#ab63fa\", \"symbol\": \"circle\"}, \"mode\": \"markers\", \"name\": \"Hefeweizen\", \"orientation\": \"v\", \"showlegend\": true, \"type\": \"scatter\", \"x\": [3.8295454545454546], \"xaxis\": \"x\", \"y\": [3.659090909090909], \"yaxis\": \"y\"}, {\"hovertemplate\": \"beer/style=Czech Pilsener<br>review/overall=%{x}<br>review/taste=%{y}<extra></extra>\", \"legendgroup\": \"Czech Pilsener\", \"marker\": {\"color\": \"#FFA15A\", \"symbol\": \"circle\"}, \"mode\": \"markers\", \"name\": \"Czech Pilsener\", \"orientation\": \"v\", \"showlegend\": true, \"type\": \"scatter\", \"x\": [3.810810810810811], \"xaxis\": \"x\", \"y\": [3.6531531531531534], \"yaxis\": \"y\"}, {\"hovertemplate\": \"beer/style=English Brown Ale<br>review/overall=%{x}<br>review/taste=%{y}<extra></extra>\", \"legendgroup\": \"English Brown Ale\", \"marker\": {\"color\": \"#19d3f3\", \"symbol\": \"circle\"}, \"mode\": \"markers\", \"name\": \"English Brown Ale\", \"orientation\": \"v\", \"showlegend\": true, \"type\": \"scatter\", \"x\": [3.7733333333333334], \"xaxis\": \"x\", \"y\": [3.6466666666666665], \"yaxis\": \"y\"}, {\"hovertemplate\": \"beer/style=Munich Dunkel Lager<br>review/overall=%{x}<br>review/taste=%{y}<extra></extra>\", \"legendgroup\": \"Munich Dunkel Lager\", \"marker\": {\"color\": \"#FF6692\", \"symbol\": \"circle\"}, \"mode\": \"markers\", \"name\": \"Munich Dunkel Lager\", \"orientation\": \"v\", \"showlegend\": true, \"type\": \"scatter\", \"x\": [3.6176470588235294], \"xaxis\": \"x\", \"y\": [3.6176470588235294], \"yaxis\": \"y\"}, {\"hovertemplate\": \"beer/style=German Pilsener<br>review/overall=%{x}<br>review/taste=%{y}<extra></extra>\", \"legendgroup\": \"German Pilsener\", \"marker\": {\"color\": \"#B6E880\", \"symbol\": \"circle\"}, \"mode\": \"markers\", \"name\": \"German Pilsener\", \"orientation\": \"v\", \"showlegend\": true, \"type\": \"scatter\", \"x\": [3.826923076923077], \"xaxis\": \"x\", \"y\": [3.608974358974359], \"yaxis\": \"y\"}, {\"hovertemplate\": \"beer/style=Extra Special / Strong Bitter (ESB)<br>review/overall=%{x}<br>review/taste=%{y}<extra></extra>\", \"legendgroup\": \"Extra Special / Strong Bitter (ESB)\", \"marker\": {\"color\": \"#FF97FF\", \"symbol\": \"circle\"}, \"mode\": \"markers\", \"name\": \"Extra Special / Strong Bitter (ESB)\", \"orientation\": \"v\", \"showlegend\": true, \"type\": \"scatter\", \"x\": [3.696969696969697], \"xaxis\": \"x\", \"y\": [3.580808080808081], \"yaxis\": \"y\"}, {\"hovertemplate\": \"beer/style=M\\u00c3\\u00a4rzen / Oktoberfest<br>review/overall=%{x}<br>review/taste=%{y}<extra></extra>\", \"legendgroup\": \"M\\u00c3\\u00a4rzen / Oktoberfest\", \"marker\": {\"color\": \"#FECB52\", \"symbol\": \"circle\"}, \"mode\": \"markers\", \"name\": \"M\\u00c3\\u00a4rzen / Oktoberfest\", \"orientation\": \"v\", \"showlegend\": true, \"type\": \"scatter\", \"x\": [3.7866666666666666], \"xaxis\": \"x\", \"y\": [3.58], \"yaxis\": \"y\"}, {\"hovertemplate\": \"beer/style=American Amber / Red Ale<br>review/overall=%{x}<br>review/taste=%{y}<extra></extra>\", \"legendgroup\": \"American Amber / Red Ale\", \"marker\": {\"color\": \"#636efa\", \"symbol\": \"circle\"}, \"mode\": \"markers\", \"name\": \"American Amber / Red Ale\", \"orientation\": \"v\", \"showlegend\": true, \"type\": \"scatter\", \"x\": [3.65625], \"xaxis\": \"x\", \"y\": [3.5572916666666665], \"yaxis\": \"y\"}, {\"hovertemplate\": \"beer/style=Fruit / Vegetable Beer<br>review/overall=%{x}<br>review/taste=%{y}<extra></extra>\", \"legendgroup\": \"Fruit / Vegetable Beer\", \"marker\": {\"color\": \"#EF553B\", \"symbol\": \"circle\"}, \"mode\": \"markers\", \"name\": \"Fruit / Vegetable Beer\", \"orientation\": \"v\", \"showlegend\": true, \"type\": \"scatter\", \"x\": [3.5657894736842106], \"xaxis\": \"x\", \"y\": [3.557017543859649], \"yaxis\": \"y\"}, {\"hovertemplate\": \"beer/style=Tripel<br>review/overall=%{x}<br>review/taste=%{y}<extra></extra>\", \"legendgroup\": \"Tripel\", \"marker\": {\"color\": \"#00cc96\", \"symbol\": \"circle\"}, \"mode\": \"markers\", \"name\": \"Tripel\", \"orientation\": \"v\", \"showlegend\": true, \"type\": \"scatter\", \"x\": [3.526315789473684], \"xaxis\": \"x\", \"y\": [3.539473684210526], \"yaxis\": \"y\"}, {\"hovertemplate\": \"beer/style=Belgian Dark Ale<br>review/overall=%{x}<br>review/taste=%{y}<extra></extra>\", \"legendgroup\": \"Belgian Dark Ale\", \"marker\": {\"color\": \"#ab63fa\", \"symbol\": \"circle\"}, \"mode\": \"markers\", \"name\": \"Belgian Dark Ale\", \"orientation\": \"v\", \"showlegend\": true, \"type\": \"scatter\", \"x\": [3.3392857142857144], \"xaxis\": \"x\", \"y\": [3.5357142857142856], \"yaxis\": \"y\"}, {\"hovertemplate\": \"beer/style=Foreign / Export Stout<br>review/overall=%{x}<br>review/taste=%{y}<extra></extra>\", \"legendgroup\": \"Foreign / Export Stout\", \"marker\": {\"color\": \"#FFA15A\", \"symbol\": \"circle\"}, \"mode\": \"markers\", \"name\": \"Foreign / Export Stout\", \"orientation\": \"v\", \"showlegend\": true, \"type\": \"scatter\", \"x\": [3.5], \"xaxis\": \"x\", \"y\": [3.5], \"yaxis\": \"y\"}, {\"hovertemplate\": \"beer/style=Schwarzbier<br>review/overall=%{x}<br>review/taste=%{y}<extra></extra>\", \"legendgroup\": \"Schwarzbier\", \"marker\": {\"color\": \"#19d3f3\", \"symbol\": \"circle\"}, \"mode\": \"markers\", \"name\": \"Schwarzbier\", \"orientation\": \"v\", \"showlegend\": true, \"type\": \"scatter\", \"x\": [3.6666666666666665], \"xaxis\": \"x\", \"y\": [3.5], \"yaxis\": \"y\"}, {\"hovertemplate\": \"beer/style=English India Pale Ale (IPA)<br>review/overall=%{x}<br>review/taste=%{y}<extra></extra>\", \"legendgroup\": \"English India Pale Ale (IPA)\", \"marker\": {\"color\": \"#FF6692\", \"symbol\": \"circle\"}, \"mode\": \"markers\", \"name\": \"English India Pale Ale (IPA)\", \"orientation\": \"v\", \"showlegend\": true, \"type\": \"scatter\", \"x\": [3.56], \"xaxis\": \"x\", \"y\": [3.5], \"yaxis\": \"y\"}, {\"hovertemplate\": \"beer/style=Eisbock<br>review/overall=%{x}<br>review/taste=%{y}<extra></extra>\", \"legendgroup\": \"Eisbock\", \"marker\": {\"color\": \"#B6E880\", \"symbol\": \"circle\"}, \"mode\": \"markers\", \"name\": \"Eisbock\", \"orientation\": \"v\", \"showlegend\": true, \"type\": \"scatter\", \"x\": [3.0], \"xaxis\": \"x\", \"y\": [3.5], \"yaxis\": \"y\"}, {\"hovertemplate\": \"beer/style=American Dark Wheat Ale<br>review/overall=%{x}<br>review/taste=%{y}<extra></extra>\", \"legendgroup\": \"American Dark Wheat Ale\", \"marker\": {\"color\": \"#FF97FF\", \"symbol\": \"circle\"}, \"mode\": \"markers\", \"name\": \"American Dark Wheat Ale\", \"orientation\": \"v\", \"showlegend\": true, \"type\": \"scatter\", \"x\": [3.5], \"xaxis\": \"x\", \"y\": [3.5], \"yaxis\": \"y\"}, {\"hovertemplate\": \"beer/style=English Pale Ale<br>review/overall=%{x}<br>review/taste=%{y}<extra></extra>\", \"legendgroup\": \"English Pale Ale\", \"marker\": {\"color\": \"#FECB52\", \"symbol\": \"circle\"}, \"mode\": \"markers\", \"name\": \"English Pale Ale\", \"orientation\": \"v\", \"showlegend\": true, \"type\": \"scatter\", \"x\": [3.603960396039604], \"xaxis\": \"x\", \"y\": [3.487623762376238], \"yaxis\": \"y\"}, {\"hovertemplate\": \"beer/style=Altbier<br>review/overall=%{x}<br>review/taste=%{y}<extra></extra>\", \"legendgroup\": \"Altbier\", \"marker\": {\"color\": \"#636efa\", \"symbol\": \"circle\"}, \"mode\": \"markers\", \"name\": \"Altbier\", \"orientation\": \"v\", \"showlegend\": true, \"type\": \"scatter\", \"x\": [3.642857142857143], \"xaxis\": \"x\", \"y\": [3.482142857142857], \"yaxis\": \"y\"}, {\"hovertemplate\": \"beer/style=English Bitter<br>review/overall=%{x}<br>review/taste=%{y}<extra></extra>\", \"legendgroup\": \"English Bitter\", \"marker\": {\"color\": \"#EF553B\", \"symbol\": \"circle\"}, \"mode\": \"markers\", \"name\": \"English Bitter\", \"orientation\": \"v\", \"showlegend\": true, \"type\": \"scatter\", \"x\": [3.5714285714285716], \"xaxis\": \"x\", \"y\": [3.482142857142857], \"yaxis\": \"y\"}, {\"hovertemplate\": \"beer/style=Quadrupel (Quad)<br>review/overall=%{x}<br>review/taste=%{y}<extra></extra>\", \"legendgroup\": \"Quadrupel (Quad)\", \"marker\": {\"color\": \"#00cc96\", \"symbol\": \"circle\"}, \"mode\": \"markers\", \"name\": \"Quadrupel (Quad)\", \"orientation\": \"v\", \"showlegend\": true, \"type\": \"scatter\", \"x\": [3.2941176470588234], \"xaxis\": \"x\", \"y\": [3.4705882352941178], \"yaxis\": \"y\"}, {\"hovertemplate\": \"beer/style=Bock<br>review/overall=%{x}<br>review/taste=%{y}<extra></extra>\", \"legendgroup\": \"Bock\", \"marker\": {\"color\": \"#ab63fa\", \"symbol\": \"circle\"}, \"mode\": \"markers\", \"name\": \"Bock\", \"orientation\": \"v\", \"showlegend\": true, \"type\": \"scatter\", \"x\": [3.4473684210526314], \"xaxis\": \"x\", \"y\": [3.4473684210526314], \"yaxis\": \"y\"}, {\"hovertemplate\": \"beer/style=Cream Ale<br>review/overall=%{x}<br>review/taste=%{y}<extra></extra>\", \"legendgroup\": \"Cream Ale\", \"marker\": {\"color\": \"#FFA15A\", \"symbol\": \"circle\"}, \"mode\": \"markers\", \"name\": \"Cream Ale\", \"orientation\": \"v\", \"showlegend\": true, \"type\": \"scatter\", \"x\": [3.7], \"xaxis\": \"x\", \"y\": [3.4], \"yaxis\": \"y\"}, {\"hovertemplate\": \"beer/style=Witbier<br>review/overall=%{x}<br>review/taste=%{y}<extra></extra>\", \"legendgroup\": \"Witbier\", \"marker\": {\"color\": \"#19d3f3\", \"symbol\": \"circle\"}, \"mode\": \"markers\", \"name\": \"Witbier\", \"orientation\": \"v\", \"showlegend\": true, \"type\": \"scatter\", \"x\": [3.4], \"xaxis\": \"x\", \"y\": [3.3], \"yaxis\": \"y\"}, {\"hovertemplate\": \"beer/style=Herbed / Spiced Beer<br>review/overall=%{x}<br>review/taste=%{y}<extra></extra>\", \"legendgroup\": \"Herbed / Spiced Beer\", \"marker\": {\"color\": \"#FF6692\", \"symbol\": \"circle\"}, \"mode\": \"markers\", \"name\": \"Herbed / Spiced Beer\", \"orientation\": \"v\", \"showlegend\": true, \"type\": \"scatter\", \"x\": [3.2], \"xaxis\": \"x\", \"y\": [3.25], \"yaxis\": \"y\"}, {\"hovertemplate\": \"beer/style=American Blonde Ale<br>review/overall=%{x}<br>review/taste=%{y}<extra></extra>\", \"legendgroup\": \"American Blonde Ale\", \"marker\": {\"color\": \"#B6E880\", \"symbol\": \"circle\"}, \"mode\": \"markers\", \"name\": \"American Blonde Ale\", \"orientation\": \"v\", \"showlegend\": true, \"type\": \"scatter\", \"x\": [3.358490566037736], \"xaxis\": \"x\", \"y\": [3.2358490566037736], \"yaxis\": \"y\"}, {\"hovertemplate\": \"beer/style=American Pale Lager<br>review/overall=%{x}<br>review/taste=%{y}<extra></extra>\", \"legendgroup\": \"American Pale Lager\", \"marker\": {\"color\": \"#FF97FF\", \"symbol\": \"circle\"}, \"mode\": \"markers\", \"name\": \"American Pale Lager\", \"orientation\": \"v\", \"showlegend\": true, \"type\": \"scatter\", \"x\": [3.2142857142857144], \"xaxis\": \"x\", \"y\": [3.1666666666666665], \"yaxis\": \"y\"}, {\"hovertemplate\": \"beer/style=English Pale Mild Ale<br>review/overall=%{x}<br>review/taste=%{y}<extra></extra>\", \"legendgroup\": \"English Pale Mild Ale\", \"marker\": {\"color\": \"#FECB52\", \"symbol\": \"circle\"}, \"mode\": \"markers\", \"name\": \"English Pale Mild Ale\", \"orientation\": \"v\", \"showlegend\": true, \"type\": \"scatter\", \"x\": [3.3333333333333335], \"xaxis\": \"x\", \"y\": [3.1666666666666665], \"yaxis\": \"y\"}, {\"hovertemplate\": \"beer/style=American Pale Wheat Ale<br>review/overall=%{x}<br>review/taste=%{y}<extra></extra>\", \"legendgroup\": \"American Pale Wheat Ale\", \"marker\": {\"color\": \"#636efa\", \"symbol\": \"circle\"}, \"mode\": \"markers\", \"name\": \"American Pale Wheat Ale\", \"orientation\": \"v\", \"showlegend\": true, \"type\": \"scatter\", \"x\": [3.4444444444444446], \"xaxis\": \"x\", \"y\": [3.1666666666666665], \"yaxis\": \"y\"}, {\"hovertemplate\": \"beer/style=Irish Red Ale<br>review/overall=%{x}<br>review/taste=%{y}<extra></extra>\", \"legendgroup\": \"Irish Red Ale\", \"marker\": {\"color\": \"#EF553B\", \"symbol\": \"circle\"}, \"mode\": \"markers\", \"name\": \"Irish Red Ale\", \"orientation\": \"v\", \"showlegend\": true, \"type\": \"scatter\", \"x\": [3.0625], \"xaxis\": \"x\", \"y\": [3.125], \"yaxis\": \"y\"}, {\"hovertemplate\": \"beer/style=American Adjunct Lager<br>review/overall=%{x}<br>review/taste=%{y}<extra></extra>\", \"legendgroup\": \"American Adjunct Lager\", \"marker\": {\"color\": \"#00cc96\", \"symbol\": \"circle\"}, \"mode\": \"markers\", \"name\": \"American Adjunct Lager\", \"orientation\": \"v\", \"showlegend\": true, \"type\": \"scatter\", \"x\": [3.0535714285714284], \"xaxis\": \"x\", \"y\": [2.875], \"yaxis\": \"y\"}, {\"hovertemplate\": \"beer/style=Euro Pale Lager<br>review/overall=%{x}<br>review/taste=%{y}<extra></extra>\", \"legendgroup\": \"Euro Pale Lager\", \"marker\": {\"color\": \"#ab63fa\", \"symbol\": \"circle\"}, \"mode\": \"markers\", \"name\": \"Euro Pale Lager\", \"orientation\": \"v\", \"showlegend\": true, \"type\": \"scatter\", \"x\": [3.091743119266055], \"xaxis\": \"x\", \"y\": [2.7889908256880735], \"yaxis\": \"y\"}, {\"hovertemplate\": \"beer/style=Euro Strong Lager<br>review/overall=%{x}<br>review/taste=%{y}<extra></extra>\", \"legendgroup\": \"Euro Strong Lager\", \"marker\": {\"color\": \"#FFA15A\", \"symbol\": \"circle\"}, \"mode\": \"markers\", \"name\": \"Euro Strong Lager\", \"orientation\": \"v\", \"showlegend\": true, \"type\": \"scatter\", \"x\": [2.797872340425532], \"xaxis\": \"x\", \"y\": [2.7127659574468086], \"yaxis\": \"y\"}, {\"hovertemplate\": \"beer/style=Light Lager<br>review/overall=%{x}<br>review/taste=%{y}<extra></extra>\", \"legendgroup\": \"Light Lager\", \"marker\": {\"color\": \"#19d3f3\", \"symbol\": \"circle\"}, \"mode\": \"markers\", \"name\": \"Light Lager\", \"orientation\": \"v\", \"showlegend\": true, \"type\": \"scatter\", \"x\": [2.7733333333333334], \"xaxis\": \"x\", \"y\": [2.52], \"yaxis\": \"y\"}, {\"hovertemplate\": \"beer/style=Low Alcohol Beer<br>review/overall=%{x}<br>review/taste=%{y}<extra></extra>\", \"legendgroup\": \"Low Alcohol Beer\", \"marker\": {\"color\": \"#FF6692\", \"symbol\": \"circle\"}, \"mode\": \"markers\", \"name\": \"Low Alcohol Beer\", \"orientation\": \"v\", \"showlegend\": true, \"type\": \"scatter\", \"x\": [2.5], \"xaxis\": \"x\", \"y\": [2.5], \"yaxis\": \"y\"}, {\"hovertemplate\": \"beer/style=American Malt Liquor<br>review/overall=%{x}<br>review/taste=%{y}<extra></extra>\", \"legendgroup\": \"American Malt Liquor\", \"marker\": {\"color\": \"#B6E880\", \"symbol\": \"circle\"}, \"mode\": \"markers\", \"name\": \"American Malt Liquor\", \"orientation\": \"v\", \"showlegend\": true, \"type\": \"scatter\", \"x\": [2.1666666666666665], \"xaxis\": \"x\", \"y\": [1.9166666666666667], \"yaxis\": \"y\"}, {\"hovertemplate\": \"beer/style=Berliner Weissbier<br>review/overall=%{x}<br>review/taste=%{y}<extra></extra>\", \"legendgroup\": \"Berliner Weissbier\", \"marker\": {\"color\": \"#FF97FF\", \"symbol\": \"circle\"}, \"mode\": \"markers\", \"name\": \"Berliner Weissbier\", \"orientation\": \"v\", \"showlegend\": true, \"type\": \"scatter\", \"x\": [null], \"xaxis\": \"x\", \"y\": [null], \"yaxis\": \"y\"}, {\"hovertemplate\": \"beer/style=Bi\\u00c3\\u00a8re de Garde<br>review/overall=%{x}<br>review/taste=%{y}<extra></extra>\", \"legendgroup\": \"Bi\\u00c3\\u00a8re de Garde\", \"marker\": {\"color\": \"#FECB52\", \"symbol\": \"circle\"}, \"mode\": \"markers\", \"name\": \"Bi\\u00c3\\u00a8re de Garde\", \"orientation\": \"v\", \"showlegend\": true, \"type\": \"scatter\", \"x\": [null], \"xaxis\": \"x\", \"y\": [null], \"yaxis\": \"y\"}, {\"hovertemplate\": \"beer/style=Flanders Oud Bruin<br>review/overall=%{x}<br>review/taste=%{y}<extra></extra>\", \"legendgroup\": \"Flanders Oud Bruin\", \"marker\": {\"color\": \"#636efa\", \"symbol\": \"circle\"}, \"mode\": \"markers\", \"name\": \"Flanders Oud Bruin\", \"orientation\": \"v\", \"showlegend\": true, \"type\": \"scatter\", \"x\": [null], \"xaxis\": \"x\", \"y\": [null], \"yaxis\": \"y\"}, {\"hovertemplate\": \"beer/style=Flanders Red Ale<br>review/overall=%{x}<br>review/taste=%{y}<extra></extra>\", \"legendgroup\": \"Flanders Red Ale\", \"marker\": {\"color\": \"#EF553B\", \"symbol\": \"circle\"}, \"mode\": \"markers\", \"name\": \"Flanders Red Ale\", \"orientation\": \"v\", \"showlegend\": true, \"type\": \"scatter\", \"x\": [null], \"xaxis\": \"x\", \"y\": [null], \"yaxis\": \"y\"}, {\"hovertemplate\": \"beer/style=Lambic - Fruit<br>review/overall=%{x}<br>review/taste=%{y}<extra></extra>\", \"legendgroup\": \"Lambic - Fruit\", \"marker\": {\"color\": \"#00cc96\", \"symbol\": \"circle\"}, \"mode\": \"markers\", \"name\": \"Lambic - Fruit\", \"orientation\": \"v\", \"showlegend\": true, \"type\": \"scatter\", \"x\": [null], \"xaxis\": \"x\", \"y\": [null], \"yaxis\": \"y\"}, {\"hovertemplate\": \"beer/style=Lambic - Unblended<br>review/overall=%{x}<br>review/taste=%{y}<extra></extra>\", \"legendgroup\": \"Lambic - Unblended\", \"marker\": {\"color\": \"#ab63fa\", \"symbol\": \"circle\"}, \"mode\": \"markers\", \"name\": \"Lambic - Unblended\", \"orientation\": \"v\", \"showlegend\": true, \"type\": \"scatter\", \"x\": [null], \"xaxis\": \"x\", \"y\": [null], \"yaxis\": \"y\"}, {\"hovertemplate\": \"beer/style=Weizenbock<br>review/overall=%{x}<br>review/taste=%{y}<extra></extra>\", \"legendgroup\": \"Weizenbock\", \"marker\": {\"color\": \"#FFA15A\", \"symbol\": \"circle\"}, \"mode\": \"markers\", \"name\": \"Weizenbock\", \"orientation\": \"v\", \"showlegend\": true, \"type\": \"scatter\", \"x\": [null], \"xaxis\": \"x\", \"y\": [null], \"yaxis\": \"y\"}],\n",
       "                        {\"legend\": {\"title\": {\"text\": \"beer/style\"}, \"tracegroupgap\": 0}, \"margin\": {\"t\": 60}, \"template\": {\"data\": {\"bar\": [{\"error_x\": {\"color\": \"#2a3f5f\"}, \"error_y\": {\"color\": \"#2a3f5f\"}, \"marker\": {\"line\": {\"color\": \"#E5ECF6\", \"width\": 0.5}}, \"type\": \"bar\"}], \"barpolar\": [{\"marker\": {\"line\": {\"color\": \"#E5ECF6\", \"width\": 0.5}}, \"type\": \"barpolar\"}], \"carpet\": [{\"aaxis\": {\"endlinecolor\": \"#2a3f5f\", \"gridcolor\": \"white\", \"linecolor\": \"white\", \"minorgridcolor\": \"white\", \"startlinecolor\": \"#2a3f5f\"}, \"baxis\": {\"endlinecolor\": \"#2a3f5f\", \"gridcolor\": \"white\", \"linecolor\": \"white\", \"minorgridcolor\": \"white\", \"startlinecolor\": \"#2a3f5f\"}, \"type\": \"carpet\"}], \"choropleth\": [{\"colorbar\": {\"outlinewidth\": 0, \"ticks\": \"\"}, \"type\": \"choropleth\"}], \"contour\": [{\"colorbar\": {\"outlinewidth\": 0, \"ticks\": \"\"}, \"colorscale\": [[0.0, \"#0d0887\"], [0.1111111111111111, \"#46039f\"], [0.2222222222222222, \"#7201a8\"], [0.3333333333333333, \"#9c179e\"], [0.4444444444444444, \"#bd3786\"], [0.5555555555555556, \"#d8576b\"], [0.6666666666666666, \"#ed7953\"], [0.7777777777777778, \"#fb9f3a\"], [0.8888888888888888, \"#fdca26\"], [1.0, \"#f0f921\"]], \"type\": \"contour\"}], \"contourcarpet\": [{\"colorbar\": {\"outlinewidth\": 0, \"ticks\": \"\"}, \"type\": \"contourcarpet\"}], \"heatmap\": [{\"colorbar\": {\"outlinewidth\": 0, \"ticks\": \"\"}, \"colorscale\": [[0.0, \"#0d0887\"], [0.1111111111111111, \"#46039f\"], [0.2222222222222222, \"#7201a8\"], [0.3333333333333333, \"#9c179e\"], [0.4444444444444444, \"#bd3786\"], [0.5555555555555556, \"#d8576b\"], [0.6666666666666666, \"#ed7953\"], [0.7777777777777778, \"#fb9f3a\"], [0.8888888888888888, \"#fdca26\"], [1.0, \"#f0f921\"]], \"type\": \"heatmap\"}], \"heatmapgl\": [{\"colorbar\": {\"outlinewidth\": 0, \"ticks\": \"\"}, \"colorscale\": [[0.0, \"#0d0887\"], [0.1111111111111111, \"#46039f\"], [0.2222222222222222, \"#7201a8\"], [0.3333333333333333, \"#9c179e\"], [0.4444444444444444, \"#bd3786\"], [0.5555555555555556, \"#d8576b\"], [0.6666666666666666, \"#ed7953\"], [0.7777777777777778, \"#fb9f3a\"], [0.8888888888888888, \"#fdca26\"], [1.0, \"#f0f921\"]], \"type\": \"heatmapgl\"}], \"histogram\": [{\"marker\": {\"colorbar\": {\"outlinewidth\": 0, \"ticks\": \"\"}}, \"type\": \"histogram\"}], \"histogram2d\": [{\"colorbar\": {\"outlinewidth\": 0, \"ticks\": \"\"}, \"colorscale\": [[0.0, \"#0d0887\"], [0.1111111111111111, \"#46039f\"], [0.2222222222222222, \"#7201a8\"], [0.3333333333333333, \"#9c179e\"], [0.4444444444444444, \"#bd3786\"], [0.5555555555555556, \"#d8576b\"], [0.6666666666666666, \"#ed7953\"], [0.7777777777777778, \"#fb9f3a\"], [0.8888888888888888, \"#fdca26\"], [1.0, \"#f0f921\"]], \"type\": \"histogram2d\"}], \"histogram2dcontour\": [{\"colorbar\": {\"outlinewidth\": 0, \"ticks\": \"\"}, \"colorscale\": [[0.0, \"#0d0887\"], [0.1111111111111111, \"#46039f\"], [0.2222222222222222, \"#7201a8\"], [0.3333333333333333, \"#9c179e\"], [0.4444444444444444, \"#bd3786\"], [0.5555555555555556, \"#d8576b\"], [0.6666666666666666, \"#ed7953\"], [0.7777777777777778, \"#fb9f3a\"], [0.8888888888888888, \"#fdca26\"], [1.0, \"#f0f921\"]], \"type\": \"histogram2dcontour\"}], \"mesh3d\": [{\"colorbar\": {\"outlinewidth\": 0, \"ticks\": \"\"}, \"type\": \"mesh3d\"}], \"parcoords\": [{\"line\": {\"colorbar\": {\"outlinewidth\": 0, \"ticks\": \"\"}}, \"type\": \"parcoords\"}], \"pie\": [{\"automargin\": true, \"type\": \"pie\"}], \"scatter\": [{\"marker\": {\"colorbar\": {\"outlinewidth\": 0, \"ticks\": \"\"}}, \"type\": \"scatter\"}], \"scatter3d\": [{\"line\": {\"colorbar\": {\"outlinewidth\": 0, \"ticks\": \"\"}}, \"marker\": {\"colorbar\": {\"outlinewidth\": 0, \"ticks\": \"\"}}, \"type\": \"scatter3d\"}], \"scattercarpet\": [{\"marker\": {\"colorbar\": {\"outlinewidth\": 0, \"ticks\": \"\"}}, \"type\": \"scattercarpet\"}], \"scattergeo\": [{\"marker\": {\"colorbar\": {\"outlinewidth\": 0, \"ticks\": \"\"}}, \"type\": \"scattergeo\"}], \"scattergl\": [{\"marker\": {\"colorbar\": {\"outlinewidth\": 0, \"ticks\": \"\"}}, \"type\": \"scattergl\"}], \"scattermapbox\": [{\"marker\": {\"colorbar\": {\"outlinewidth\": 0, \"ticks\": \"\"}}, \"type\": \"scattermapbox\"}], \"scatterpolar\": [{\"marker\": {\"colorbar\": {\"outlinewidth\": 0, \"ticks\": \"\"}}, \"type\": \"scatterpolar\"}], \"scatterpolargl\": [{\"marker\": {\"colorbar\": {\"outlinewidth\": 0, \"ticks\": \"\"}}, \"type\": \"scatterpolargl\"}], \"scatterternary\": [{\"marker\": {\"colorbar\": {\"outlinewidth\": 0, \"ticks\": \"\"}}, \"type\": \"scatterternary\"}], \"surface\": [{\"colorbar\": {\"outlinewidth\": 0, \"ticks\": \"\"}, \"colorscale\": [[0.0, \"#0d0887\"], [0.1111111111111111, \"#46039f\"], [0.2222222222222222, \"#7201a8\"], [0.3333333333333333, \"#9c179e\"], [0.4444444444444444, \"#bd3786\"], [0.5555555555555556, \"#d8576b\"], [0.6666666666666666, \"#ed7953\"], [0.7777777777777778, \"#fb9f3a\"], [0.8888888888888888, \"#fdca26\"], [1.0, \"#f0f921\"]], \"type\": \"surface\"}], \"table\": [{\"cells\": {\"fill\": {\"color\": \"#EBF0F8\"}, \"line\": {\"color\": \"white\"}}, \"header\": {\"fill\": {\"color\": \"#C8D4E3\"}, \"line\": {\"color\": \"white\"}}, \"type\": \"table\"}]}, \"layout\": {\"annotationdefaults\": {\"arrowcolor\": \"#2a3f5f\", \"arrowhead\": 0, \"arrowwidth\": 1}, \"coloraxis\": {\"colorbar\": {\"outlinewidth\": 0, \"ticks\": \"\"}}, \"colorscale\": {\"diverging\": [[0, \"#8e0152\"], [0.1, \"#c51b7d\"], [0.2, \"#de77ae\"], [0.3, \"#f1b6da\"], [0.4, \"#fde0ef\"], [0.5, \"#f7f7f7\"], [0.6, \"#e6f5d0\"], [0.7, \"#b8e186\"], [0.8, \"#7fbc41\"], [0.9, \"#4d9221\"], [1, \"#276419\"]], \"sequential\": [[0.0, \"#0d0887\"], [0.1111111111111111, \"#46039f\"], [0.2222222222222222, \"#7201a8\"], [0.3333333333333333, \"#9c179e\"], [0.4444444444444444, \"#bd3786\"], [0.5555555555555556, \"#d8576b\"], [0.6666666666666666, \"#ed7953\"], [0.7777777777777778, \"#fb9f3a\"], [0.8888888888888888, \"#fdca26\"], [1.0, \"#f0f921\"]], \"sequentialminus\": [[0.0, \"#0d0887\"], [0.1111111111111111, \"#46039f\"], [0.2222222222222222, \"#7201a8\"], [0.3333333333333333, \"#9c179e\"], [0.4444444444444444, \"#bd3786\"], [0.5555555555555556, \"#d8576b\"], [0.6666666666666666, \"#ed7953\"], [0.7777777777777778, \"#fb9f3a\"], [0.8888888888888888, \"#fdca26\"], [1.0, \"#f0f921\"]]}, \"colorway\": [\"#636efa\", \"#EF553B\", \"#00cc96\", \"#ab63fa\", \"#FFA15A\", \"#19d3f3\", \"#FF6692\", \"#B6E880\", \"#FF97FF\", \"#FECB52\"], \"font\": {\"color\": \"#2a3f5f\"}, \"geo\": {\"bgcolor\": \"white\", \"lakecolor\": \"white\", \"landcolor\": \"#E5ECF6\", \"showlakes\": true, \"showland\": true, \"subunitcolor\": \"white\"}, \"hoverlabel\": {\"align\": \"left\"}, \"hovermode\": \"closest\", \"mapbox\": {\"style\": \"light\"}, \"paper_bgcolor\": \"white\", \"plot_bgcolor\": \"#E5ECF6\", \"polar\": {\"angularaxis\": {\"gridcolor\": \"white\", \"linecolor\": \"white\", \"ticks\": \"\"}, \"bgcolor\": \"#E5ECF6\", \"radialaxis\": {\"gridcolor\": \"white\", \"linecolor\": \"white\", \"ticks\": \"\"}}, \"scene\": {\"xaxis\": {\"backgroundcolor\": \"#E5ECF6\", \"gridcolor\": \"white\", \"gridwidth\": 2, \"linecolor\": \"white\", \"showbackground\": true, \"ticks\": \"\", \"zerolinecolor\": \"white\"}, \"yaxis\": {\"backgroundcolor\": \"#E5ECF6\", \"gridcolor\": \"white\", \"gridwidth\": 2, \"linecolor\": \"white\", \"showbackground\": true, \"ticks\": \"\", \"zerolinecolor\": \"white\"}, \"zaxis\": {\"backgroundcolor\": \"#E5ECF6\", \"gridcolor\": \"white\", \"gridwidth\": 2, \"linecolor\": \"white\", \"showbackground\": true, \"ticks\": \"\", \"zerolinecolor\": \"white\"}}, \"shapedefaults\": {\"line\": {\"color\": \"#2a3f5f\"}}, \"ternary\": {\"aaxis\": {\"gridcolor\": \"white\", \"linecolor\": \"white\", \"ticks\": \"\"}, \"baxis\": {\"gridcolor\": \"white\", \"linecolor\": \"white\", \"ticks\": \"\"}, \"bgcolor\": \"#E5ECF6\", \"caxis\": {\"gridcolor\": \"white\", \"linecolor\": \"white\", \"ticks\": \"\"}}, \"title\": {\"x\": 0.05}, \"xaxis\": {\"automargin\": true, \"gridcolor\": \"white\", \"linecolor\": \"white\", \"ticks\": \"\", \"title\": {\"standoff\": 15}, \"zerolinecolor\": \"white\", \"zerolinewidth\": 2}, \"yaxis\": {\"automargin\": true, \"gridcolor\": \"white\", \"linecolor\": \"white\", \"ticks\": \"\", \"title\": {\"standoff\": 15}, \"zerolinecolor\": \"white\", \"zerolinewidth\": 2}}}, \"xaxis\": {\"anchor\": \"y\", \"domain\": [0.0, 1.0], \"title\": {\"text\": \"review/overall\"}}, \"yaxis\": {\"anchor\": \"x\", \"domain\": [0.0, 1.0], \"title\": {\"text\": \"review/taste\"}}},\n",
       "                        {\"responsive\": true}\n",
       "                    ).then(function(){\n",
       "                            \n",
       "var gd = document.getElementById('d87d292d-3194-45d5-9fbe-6f3cba19a6cd');\n",
       "var x = new MutationObserver(function (mutations, observer) {{\n",
       "        var display = window.getComputedStyle(gd).display;\n",
       "        if (!display || display === 'none') {{\n",
       "            console.log([gd, 'removed!']);\n",
       "            Plotly.purge(gd);\n",
       "            observer.disconnect();\n",
       "        }}\n",
       "}});\n",
       "\n",
       "// Listen for the removal of the full notebook cells\n",
       "var notebookContainer = gd.closest('#notebook-container');\n",
       "if (notebookContainer) {{\n",
       "    x.observe(notebookContainer, {childList: true});\n",
       "}}\n",
       "\n",
       "// Listen for the clearing of the current output cell\n",
       "var outputEl = gd.closest('.output');\n",
       "if (outputEl) {{\n",
       "    x.observe(outputEl, {childList: true});\n",
       "}}\n",
       "\n",
       "                        })\n",
       "                };\n",
       "                });\n",
       "            </script>\n",
       "        </div>"
      ]
     },
     "metadata": {},
     "output_type": "display_data"
    }
   ],
   "source": [
    "fig = px.scatter(beer_style_taste_abv,x=\"review/overall\",y=\"review/taste\",color='beer/style')\n",
    "\n",
    "fig.show()"
   ]
  },
  {
   "cell_type": "markdown",
   "metadata": {},
   "source": [
    "### q4 Beer ABV distribution per style?"
   ]
  },
  {
   "cell_type": "code",
   "execution_count": 74,
   "metadata": {},
   "outputs": [
    {
     "data": {
      "application/vnd.plotly.v1+json": {
       "config": {
        "plotlyServerURL": "https://plot.ly"
       },
       "data": [
        {
         "hovertemplate": "beer/style=%{x}<br>beer/ABV=%{y}<extra></extra>",
         "legendgroup": "",
         "marker": {
          "color": "#636efa",
          "symbol": "circle"
         },
         "mode": "markers",
         "name": "",
         "orientation": "v",
         "showlegend": false,
         "type": "scatter",
         "x": [
          "American Double / Imperial Stout",
          "English Dark Mild Ale",
          "Chile Beer",
          "English Barleywine",
          "American Wild Ale",
          "Russian Imperial Stout",
          "Oatmeal Stout",
          "Rye Beer",
          "Wheatwine",
          "American Amber / Red Lager",
          "Baltic Porter",
          "Black & Tan",
          "American Porter",
          "Old Ale",
          "American Barleywine",
          "Scotch Ale / Wee Heavy",
          "American Double / Imperial IPA",
          "Scottish Ale",
          "Rauchbier",
          "Belgian Strong Pale Ale",
          "American IPA",
          "Kristalweizen",
          "Dortmunder / Export Lager",
          "Munich Helles Lager",
          "Doppelbock",
          "Keller Bier / Zwickel Bier",
          "American Black Ale",
          "English Stout",
          "Maibock / Helles Bock",
          "Belgian IPA",
          "American Stout",
          "Dunkelweizen",
          "Saison / Farmhouse Ale",
          "Belgian Pale Ale",
          "Euro Dark Lager",
          "Dubbel",
          "American Brown Ale",
          "Pumpkin Ale",
          "Braggot",
          "California Common / Steam Beer",
          "Belgian Strong Dark Ale",
          "Irish Dry Stout",
          "English Strong Ale",
          "English Porter",
          "KÃ¶lsch",
          "Scottish Gruit / Ancient Herbed Ale",
          "Winter Warmer",
          "American Pale Ale (APA)",
          "Vienna Lager",
          "American Double / Imperial Pilsner",
          "Milk / Sweet Stout",
          "Smoked Beer",
          "American Strong Ale",
          "Hefeweizen",
          "Czech Pilsener",
          "English Brown Ale",
          "Munich Dunkel Lager",
          "German Pilsener",
          "Extra Special / Strong Bitter (ESB)",
          "MÃ¤rzen / Oktoberfest",
          "American Amber / Red Ale",
          "Fruit / Vegetable Beer",
          "Tripel",
          "Belgian Dark Ale",
          "Foreign / Export Stout",
          "Schwarzbier",
          "English India Pale Ale (IPA)",
          "Eisbock",
          "American Dark Wheat Ale",
          "English Pale Ale",
          "Altbier",
          "English Bitter",
          "Quadrupel (Quad)",
          "Bock",
          "Cream Ale",
          "Witbier",
          "Herbed / Spiced Beer",
          "American Blonde Ale",
          "American Pale Lager",
          "English Pale Mild Ale",
          "American Pale Wheat Ale",
          "Irish Red Ale",
          "American Adjunct Lager",
          "Euro Pale Lager",
          "Euro Strong Lager",
          "Light Lager",
          "Low Alcohol Beer",
          "American Malt Liquor",
          "Berliner Weissbier",
          "BiÃ¨re de Garde",
          "Flanders Oud Bruin",
          "Flanders Red Ale",
          "Lambic - Fruit",
          "Lambic - Unblended",
          "Weizenbock"
         ],
         "xaxis": "x",
         "y": [
          9.55376569037659,
          3,
          4.4,
          10.474999999999998,
          9.155,
          9.943675417661128,
          4.6875,
          6.616838487972478,
          11.906410256410258,
          4.766666666666667,
          8.09239130434784,
          7.599999999999997,
          6.530113636363637,
          9.942941176470562,
          11.628813559322035,
          8.919650655021806,
          10.119531249999978,
          4.6875,
          5.769677419354844,
          9.27777777777778,
          6.679534883720908,
          5,
          5.05,
          4.721276595744684,
          7.5598360655737675,
          4.4399999999999995,
          6.379166666666667,
          4.757894736842105,
          6.958333333333333,
          7.681818181818182,
          6.9166666666666705,
          5.311111111111111,
          6.278,
          5.93076923076923,
          5.35,
          7.063157894736841,
          5.353061224489795,
          6.16901408450704,
          7.82,
          5.75,
          8.306666666666667,
          4.8,
          7.692857142857141,
          5.840983606557382,
          5.0600000000000005,
          5.26,
          7.114285714285716,
          5.41891176470589,
          6.133333333333333,
          7.400000000000001,
          5.766666666666667,
          5.508333333333333,
          9.964285714285714,
          5.295454545454543,
          4.451351351351339,
          5.39253333333333,
          4.700000000000001,
          5.560256410256408,
          4.994949494949497,
          5.0506666666666655,
          5.807291666666667,
          6.225438596491228,
          9.268421052631577,
          7.028571428571426,
          5.928571428571429,
          5.483333333333334,
          6.16,
          39.44,
          5.466666666666666,
          4.730198019801988,
          5.4425,
          4.432142857142858,
          9.87058823529412,
          6.6263157894736855,
          5.56,
          5.4,
          5.345000000000001,
          4.754716981132076,
          4.885714285714285,
          3.8000000000000003,
          5.072222222222222,
          5.05625,
          5.130357142857143,
          5.019266055045872,
          8.574468085106384,
          3.530666666666667,
          1.7,
          8,
          null,
          null,
          null,
          null,
          null,
          null,
          null
         ],
         "yaxis": "y"
        }
       ],
       "layout": {
        "legend": {
         "tracegroupgap": 0
        },
        "margin": {
         "t": 60
        },
        "template": {
         "data": {
          "bar": [
           {
            "error_x": {
             "color": "#2a3f5f"
            },
            "error_y": {
             "color": "#2a3f5f"
            },
            "marker": {
             "line": {
              "color": "#E5ECF6",
              "width": 0.5
             }
            },
            "type": "bar"
           }
          ],
          "barpolar": [
           {
            "marker": {
             "line": {
              "color": "#E5ECF6",
              "width": 0.5
             }
            },
            "type": "barpolar"
           }
          ],
          "carpet": [
           {
            "aaxis": {
             "endlinecolor": "#2a3f5f",
             "gridcolor": "white",
             "linecolor": "white",
             "minorgridcolor": "white",
             "startlinecolor": "#2a3f5f"
            },
            "baxis": {
             "endlinecolor": "#2a3f5f",
             "gridcolor": "white",
             "linecolor": "white",
             "minorgridcolor": "white",
             "startlinecolor": "#2a3f5f"
            },
            "type": "carpet"
           }
          ],
          "choropleth": [
           {
            "colorbar": {
             "outlinewidth": 0,
             "ticks": ""
            },
            "type": "choropleth"
           }
          ],
          "contour": [
           {
            "colorbar": {
             "outlinewidth": 0,
             "ticks": ""
            },
            "colorscale": [
             [
              0,
              "#0d0887"
             ],
             [
              0.1111111111111111,
              "#46039f"
             ],
             [
              0.2222222222222222,
              "#7201a8"
             ],
             [
              0.3333333333333333,
              "#9c179e"
             ],
             [
              0.4444444444444444,
              "#bd3786"
             ],
             [
              0.5555555555555556,
              "#d8576b"
             ],
             [
              0.6666666666666666,
              "#ed7953"
             ],
             [
              0.7777777777777778,
              "#fb9f3a"
             ],
             [
              0.8888888888888888,
              "#fdca26"
             ],
             [
              1,
              "#f0f921"
             ]
            ],
            "type": "contour"
           }
          ],
          "contourcarpet": [
           {
            "colorbar": {
             "outlinewidth": 0,
             "ticks": ""
            },
            "type": "contourcarpet"
           }
          ],
          "heatmap": [
           {
            "colorbar": {
             "outlinewidth": 0,
             "ticks": ""
            },
            "colorscale": [
             [
              0,
              "#0d0887"
             ],
             [
              0.1111111111111111,
              "#46039f"
             ],
             [
              0.2222222222222222,
              "#7201a8"
             ],
             [
              0.3333333333333333,
              "#9c179e"
             ],
             [
              0.4444444444444444,
              "#bd3786"
             ],
             [
              0.5555555555555556,
              "#d8576b"
             ],
             [
              0.6666666666666666,
              "#ed7953"
             ],
             [
              0.7777777777777778,
              "#fb9f3a"
             ],
             [
              0.8888888888888888,
              "#fdca26"
             ],
             [
              1,
              "#f0f921"
             ]
            ],
            "type": "heatmap"
           }
          ],
          "heatmapgl": [
           {
            "colorbar": {
             "outlinewidth": 0,
             "ticks": ""
            },
            "colorscale": [
             [
              0,
              "#0d0887"
             ],
             [
              0.1111111111111111,
              "#46039f"
             ],
             [
              0.2222222222222222,
              "#7201a8"
             ],
             [
              0.3333333333333333,
              "#9c179e"
             ],
             [
              0.4444444444444444,
              "#bd3786"
             ],
             [
              0.5555555555555556,
              "#d8576b"
             ],
             [
              0.6666666666666666,
              "#ed7953"
             ],
             [
              0.7777777777777778,
              "#fb9f3a"
             ],
             [
              0.8888888888888888,
              "#fdca26"
             ],
             [
              1,
              "#f0f921"
             ]
            ],
            "type": "heatmapgl"
           }
          ],
          "histogram": [
           {
            "marker": {
             "colorbar": {
              "outlinewidth": 0,
              "ticks": ""
             }
            },
            "type": "histogram"
           }
          ],
          "histogram2d": [
           {
            "colorbar": {
             "outlinewidth": 0,
             "ticks": ""
            },
            "colorscale": [
             [
              0,
              "#0d0887"
             ],
             [
              0.1111111111111111,
              "#46039f"
             ],
             [
              0.2222222222222222,
              "#7201a8"
             ],
             [
              0.3333333333333333,
              "#9c179e"
             ],
             [
              0.4444444444444444,
              "#bd3786"
             ],
             [
              0.5555555555555556,
              "#d8576b"
             ],
             [
              0.6666666666666666,
              "#ed7953"
             ],
             [
              0.7777777777777778,
              "#fb9f3a"
             ],
             [
              0.8888888888888888,
              "#fdca26"
             ],
             [
              1,
              "#f0f921"
             ]
            ],
            "type": "histogram2d"
           }
          ],
          "histogram2dcontour": [
           {
            "colorbar": {
             "outlinewidth": 0,
             "ticks": ""
            },
            "colorscale": [
             [
              0,
              "#0d0887"
             ],
             [
              0.1111111111111111,
              "#46039f"
             ],
             [
              0.2222222222222222,
              "#7201a8"
             ],
             [
              0.3333333333333333,
              "#9c179e"
             ],
             [
              0.4444444444444444,
              "#bd3786"
             ],
             [
              0.5555555555555556,
              "#d8576b"
             ],
             [
              0.6666666666666666,
              "#ed7953"
             ],
             [
              0.7777777777777778,
              "#fb9f3a"
             ],
             [
              0.8888888888888888,
              "#fdca26"
             ],
             [
              1,
              "#f0f921"
             ]
            ],
            "type": "histogram2dcontour"
           }
          ],
          "mesh3d": [
           {
            "colorbar": {
             "outlinewidth": 0,
             "ticks": ""
            },
            "type": "mesh3d"
           }
          ],
          "parcoords": [
           {
            "line": {
             "colorbar": {
              "outlinewidth": 0,
              "ticks": ""
             }
            },
            "type": "parcoords"
           }
          ],
          "pie": [
           {
            "automargin": true,
            "type": "pie"
           }
          ],
          "scatter": [
           {
            "marker": {
             "colorbar": {
              "outlinewidth": 0,
              "ticks": ""
             }
            },
            "type": "scatter"
           }
          ],
          "scatter3d": [
           {
            "line": {
             "colorbar": {
              "outlinewidth": 0,
              "ticks": ""
             }
            },
            "marker": {
             "colorbar": {
              "outlinewidth": 0,
              "ticks": ""
             }
            },
            "type": "scatter3d"
           }
          ],
          "scattercarpet": [
           {
            "marker": {
             "colorbar": {
              "outlinewidth": 0,
              "ticks": ""
             }
            },
            "type": "scattercarpet"
           }
          ],
          "scattergeo": [
           {
            "marker": {
             "colorbar": {
              "outlinewidth": 0,
              "ticks": ""
             }
            },
            "type": "scattergeo"
           }
          ],
          "scattergl": [
           {
            "marker": {
             "colorbar": {
              "outlinewidth": 0,
              "ticks": ""
             }
            },
            "type": "scattergl"
           }
          ],
          "scattermapbox": [
           {
            "marker": {
             "colorbar": {
              "outlinewidth": 0,
              "ticks": ""
             }
            },
            "type": "scattermapbox"
           }
          ],
          "scatterpolar": [
           {
            "marker": {
             "colorbar": {
              "outlinewidth": 0,
              "ticks": ""
             }
            },
            "type": "scatterpolar"
           }
          ],
          "scatterpolargl": [
           {
            "marker": {
             "colorbar": {
              "outlinewidth": 0,
              "ticks": ""
             }
            },
            "type": "scatterpolargl"
           }
          ],
          "scatterternary": [
           {
            "marker": {
             "colorbar": {
              "outlinewidth": 0,
              "ticks": ""
             }
            },
            "type": "scatterternary"
           }
          ],
          "surface": [
           {
            "colorbar": {
             "outlinewidth": 0,
             "ticks": ""
            },
            "colorscale": [
             [
              0,
              "#0d0887"
             ],
             [
              0.1111111111111111,
              "#46039f"
             ],
             [
              0.2222222222222222,
              "#7201a8"
             ],
             [
              0.3333333333333333,
              "#9c179e"
             ],
             [
              0.4444444444444444,
              "#bd3786"
             ],
             [
              0.5555555555555556,
              "#d8576b"
             ],
             [
              0.6666666666666666,
              "#ed7953"
             ],
             [
              0.7777777777777778,
              "#fb9f3a"
             ],
             [
              0.8888888888888888,
              "#fdca26"
             ],
             [
              1,
              "#f0f921"
             ]
            ],
            "type": "surface"
           }
          ],
          "table": [
           {
            "cells": {
             "fill": {
              "color": "#EBF0F8"
             },
             "line": {
              "color": "white"
             }
            },
            "header": {
             "fill": {
              "color": "#C8D4E3"
             },
             "line": {
              "color": "white"
             }
            },
            "type": "table"
           }
          ]
         },
         "layout": {
          "annotationdefaults": {
           "arrowcolor": "#2a3f5f",
           "arrowhead": 0,
           "arrowwidth": 1
          },
          "coloraxis": {
           "colorbar": {
            "outlinewidth": 0,
            "ticks": ""
           }
          },
          "colorscale": {
           "diverging": [
            [
             0,
             "#8e0152"
            ],
            [
             0.1,
             "#c51b7d"
            ],
            [
             0.2,
             "#de77ae"
            ],
            [
             0.3,
             "#f1b6da"
            ],
            [
             0.4,
             "#fde0ef"
            ],
            [
             0.5,
             "#f7f7f7"
            ],
            [
             0.6,
             "#e6f5d0"
            ],
            [
             0.7,
             "#b8e186"
            ],
            [
             0.8,
             "#7fbc41"
            ],
            [
             0.9,
             "#4d9221"
            ],
            [
             1,
             "#276419"
            ]
           ],
           "sequential": [
            [
             0,
             "#0d0887"
            ],
            [
             0.1111111111111111,
             "#46039f"
            ],
            [
             0.2222222222222222,
             "#7201a8"
            ],
            [
             0.3333333333333333,
             "#9c179e"
            ],
            [
             0.4444444444444444,
             "#bd3786"
            ],
            [
             0.5555555555555556,
             "#d8576b"
            ],
            [
             0.6666666666666666,
             "#ed7953"
            ],
            [
             0.7777777777777778,
             "#fb9f3a"
            ],
            [
             0.8888888888888888,
             "#fdca26"
            ],
            [
             1,
             "#f0f921"
            ]
           ],
           "sequentialminus": [
            [
             0,
             "#0d0887"
            ],
            [
             0.1111111111111111,
             "#46039f"
            ],
            [
             0.2222222222222222,
             "#7201a8"
            ],
            [
             0.3333333333333333,
             "#9c179e"
            ],
            [
             0.4444444444444444,
             "#bd3786"
            ],
            [
             0.5555555555555556,
             "#d8576b"
            ],
            [
             0.6666666666666666,
             "#ed7953"
            ],
            [
             0.7777777777777778,
             "#fb9f3a"
            ],
            [
             0.8888888888888888,
             "#fdca26"
            ],
            [
             1,
             "#f0f921"
            ]
           ]
          },
          "colorway": [
           "#636efa",
           "#EF553B",
           "#00cc96",
           "#ab63fa",
           "#FFA15A",
           "#19d3f3",
           "#FF6692",
           "#B6E880",
           "#FF97FF",
           "#FECB52"
          ],
          "font": {
           "color": "#2a3f5f"
          },
          "geo": {
           "bgcolor": "white",
           "lakecolor": "white",
           "landcolor": "#E5ECF6",
           "showlakes": true,
           "showland": true,
           "subunitcolor": "white"
          },
          "hoverlabel": {
           "align": "left"
          },
          "hovermode": "closest",
          "mapbox": {
           "style": "light"
          },
          "paper_bgcolor": "white",
          "plot_bgcolor": "#E5ECF6",
          "polar": {
           "angularaxis": {
            "gridcolor": "white",
            "linecolor": "white",
            "ticks": ""
           },
           "bgcolor": "#E5ECF6",
           "radialaxis": {
            "gridcolor": "white",
            "linecolor": "white",
            "ticks": ""
           }
          },
          "scene": {
           "xaxis": {
            "backgroundcolor": "#E5ECF6",
            "gridcolor": "white",
            "gridwidth": 2,
            "linecolor": "white",
            "showbackground": true,
            "ticks": "",
            "zerolinecolor": "white"
           },
           "yaxis": {
            "backgroundcolor": "#E5ECF6",
            "gridcolor": "white",
            "gridwidth": 2,
            "linecolor": "white",
            "showbackground": true,
            "ticks": "",
            "zerolinecolor": "white"
           },
           "zaxis": {
            "backgroundcolor": "#E5ECF6",
            "gridcolor": "white",
            "gridwidth": 2,
            "linecolor": "white",
            "showbackground": true,
            "ticks": "",
            "zerolinecolor": "white"
           }
          },
          "shapedefaults": {
           "line": {
            "color": "#2a3f5f"
           }
          },
          "ternary": {
           "aaxis": {
            "gridcolor": "white",
            "linecolor": "white",
            "ticks": ""
           },
           "baxis": {
            "gridcolor": "white",
            "linecolor": "white",
            "ticks": ""
           },
           "bgcolor": "#E5ECF6",
           "caxis": {
            "gridcolor": "white",
            "linecolor": "white",
            "ticks": ""
           }
          },
          "title": {
           "x": 0.05
          },
          "xaxis": {
           "automargin": true,
           "gridcolor": "white",
           "linecolor": "white",
           "ticks": "",
           "title": {
            "standoff": 15
           },
           "zerolinecolor": "white",
           "zerolinewidth": 2
          },
          "yaxis": {
           "automargin": true,
           "gridcolor": "white",
           "linecolor": "white",
           "ticks": "",
           "title": {
            "standoff": 15
           },
           "zerolinecolor": "white",
           "zerolinewidth": 2
          }
         }
        },
        "xaxis": {
         "anchor": "y",
         "domain": [
          0,
          1
         ],
         "title": {
          "text": "beer/style"
         }
        },
        "yaxis": {
         "anchor": "x",
         "domain": [
          0,
          1
         ],
         "title": {
          "text": "beer/ABV"
         }
        }
       }
      },
      "text/html": [
       "<div>\n",
       "        \n",
       "        \n",
       "            <div id=\"9a6a5d13-f1a6-4b70-ad60-45dc24e833f4\" class=\"plotly-graph-div\" style=\"height:525px; width:100%;\"></div>\n",
       "            <script type=\"text/javascript\">\n",
       "                require([\"plotly\"], function(Plotly) {\n",
       "                    window.PLOTLYENV=window.PLOTLYENV || {};\n",
       "                    \n",
       "                if (document.getElementById(\"9a6a5d13-f1a6-4b70-ad60-45dc24e833f4\")) {\n",
       "                    Plotly.newPlot(\n",
       "                        '9a6a5d13-f1a6-4b70-ad60-45dc24e833f4',\n",
       "                        [{\"hovertemplate\": \"beer/style=%{x}<br>beer/ABV=%{y}<extra></extra>\", \"legendgroup\": \"\", \"marker\": {\"color\": \"#636efa\", \"symbol\": \"circle\"}, \"mode\": \"markers\", \"name\": \"\", \"orientation\": \"v\", \"showlegend\": false, \"type\": \"scatter\", \"x\": [\"American Double / Imperial Stout\", \"English Dark Mild Ale\", \"Chile Beer\", \"English Barleywine\", \"American Wild Ale\", \"Russian Imperial Stout\", \"Oatmeal Stout\", \"Rye Beer\", \"Wheatwine\", \"American Amber / Red Lager\", \"Baltic Porter\", \"Black & Tan\", \"American Porter\", \"Old Ale\", \"American Barleywine\", \"Scotch Ale / Wee Heavy\", \"American Double / Imperial IPA\", \"Scottish Ale\", \"Rauchbier\", \"Belgian Strong Pale Ale\", \"American IPA\", \"Kristalweizen\", \"Dortmunder / Export Lager\", \"Munich Helles Lager\", \"Doppelbock\", \"Keller Bier / Zwickel Bier\", \"American Black Ale\", \"English Stout\", \"Maibock / Helles Bock\", \"Belgian IPA\", \"American Stout\", \"Dunkelweizen\", \"Saison / Farmhouse Ale\", \"Belgian Pale Ale\", \"Euro Dark Lager\", \"Dubbel\", \"American Brown Ale\", \"Pumpkin Ale\", \"Braggot\", \"California Common / Steam Beer\", \"Belgian Strong Dark Ale\", \"Irish Dry Stout\", \"English Strong Ale\", \"English Porter\", \"K\\u00c3\\u00b6lsch\", \"Scottish Gruit / Ancient Herbed Ale\", \"Winter Warmer\", \"American Pale Ale (APA)\", \"Vienna Lager\", \"American Double / Imperial Pilsner\", \"Milk / Sweet Stout\", \"Smoked Beer\", \"American Strong Ale\", \"Hefeweizen\", \"Czech Pilsener\", \"English Brown Ale\", \"Munich Dunkel Lager\", \"German Pilsener\", \"Extra Special / Strong Bitter (ESB)\", \"M\\u00c3\\u00a4rzen / Oktoberfest\", \"American Amber / Red Ale\", \"Fruit / Vegetable Beer\", \"Tripel\", \"Belgian Dark Ale\", \"Foreign / Export Stout\", \"Schwarzbier\", \"English India Pale Ale (IPA)\", \"Eisbock\", \"American Dark Wheat Ale\", \"English Pale Ale\", \"Altbier\", \"English Bitter\", \"Quadrupel (Quad)\", \"Bock\", \"Cream Ale\", \"Witbier\", \"Herbed / Spiced Beer\", \"American Blonde Ale\", \"American Pale Lager\", \"English Pale Mild Ale\", \"American Pale Wheat Ale\", \"Irish Red Ale\", \"American Adjunct Lager\", \"Euro Pale Lager\", \"Euro Strong Lager\", \"Light Lager\", \"Low Alcohol Beer\", \"American Malt Liquor\", \"Berliner Weissbier\", \"Bi\\u00c3\\u00a8re de Garde\", \"Flanders Oud Bruin\", \"Flanders Red Ale\", \"Lambic - Fruit\", \"Lambic - Unblended\", \"Weizenbock\"], \"xaxis\": \"x\", \"y\": [9.55376569037659, 3.0, 4.4, 10.474999999999998, 9.155, 9.943675417661128, 4.6875, 6.616838487972478, 11.906410256410258, 4.766666666666667, 8.09239130434784, 7.599999999999997, 6.530113636363637, 9.942941176470562, 11.628813559322035, 8.919650655021806, 10.119531249999978, 4.6875, 5.769677419354844, 9.27777777777778, 6.679534883720908, 5.0, 5.05, 4.721276595744684, 7.5598360655737675, 4.4399999999999995, 6.379166666666667, 4.757894736842105, 6.958333333333333, 7.681818181818182, 6.9166666666666705, 5.311111111111111, 6.278, 5.93076923076923, 5.35, 7.063157894736841, 5.353061224489795, 6.16901408450704, 7.82, 5.75, 8.306666666666667, 4.8, 7.692857142857141, 5.840983606557382, 5.0600000000000005, 5.26, 7.114285714285716, 5.41891176470589, 6.133333333333333, 7.400000000000001, 5.766666666666667, 5.508333333333333, 9.964285714285714, 5.295454545454543, 4.451351351351339, 5.39253333333333, 4.700000000000001, 5.560256410256408, 4.994949494949497, 5.0506666666666655, 5.807291666666667, 6.225438596491228, 9.268421052631577, 7.028571428571426, 5.928571428571429, 5.483333333333334, 6.16, 39.44, 5.466666666666666, 4.730198019801988, 5.4425, 4.432142857142858, 9.87058823529412, 6.6263157894736855, 5.56, 5.4, 5.345000000000001, 4.754716981132076, 4.885714285714285, 3.8000000000000003, 5.072222222222222, 5.05625, 5.130357142857143, 5.019266055045872, 8.574468085106384, 3.530666666666667, 1.7, 8.0, null, null, null, null, null, null, null], \"yaxis\": \"y\"}],\n",
       "                        {\"legend\": {\"tracegroupgap\": 0}, \"margin\": {\"t\": 60}, \"template\": {\"data\": {\"bar\": [{\"error_x\": {\"color\": \"#2a3f5f\"}, \"error_y\": {\"color\": \"#2a3f5f\"}, \"marker\": {\"line\": {\"color\": \"#E5ECF6\", \"width\": 0.5}}, \"type\": \"bar\"}], \"barpolar\": [{\"marker\": {\"line\": {\"color\": \"#E5ECF6\", \"width\": 0.5}}, \"type\": \"barpolar\"}], \"carpet\": [{\"aaxis\": {\"endlinecolor\": \"#2a3f5f\", \"gridcolor\": \"white\", \"linecolor\": \"white\", \"minorgridcolor\": \"white\", \"startlinecolor\": \"#2a3f5f\"}, \"baxis\": {\"endlinecolor\": \"#2a3f5f\", \"gridcolor\": \"white\", \"linecolor\": \"white\", \"minorgridcolor\": \"white\", \"startlinecolor\": \"#2a3f5f\"}, \"type\": \"carpet\"}], \"choropleth\": [{\"colorbar\": {\"outlinewidth\": 0, \"ticks\": \"\"}, \"type\": \"choropleth\"}], \"contour\": [{\"colorbar\": {\"outlinewidth\": 0, \"ticks\": \"\"}, \"colorscale\": [[0.0, \"#0d0887\"], [0.1111111111111111, \"#46039f\"], [0.2222222222222222, \"#7201a8\"], [0.3333333333333333, \"#9c179e\"], [0.4444444444444444, \"#bd3786\"], [0.5555555555555556, \"#d8576b\"], [0.6666666666666666, \"#ed7953\"], [0.7777777777777778, \"#fb9f3a\"], [0.8888888888888888, \"#fdca26\"], [1.0, \"#f0f921\"]], \"type\": \"contour\"}], \"contourcarpet\": [{\"colorbar\": {\"outlinewidth\": 0, \"ticks\": \"\"}, \"type\": \"contourcarpet\"}], \"heatmap\": [{\"colorbar\": {\"outlinewidth\": 0, \"ticks\": \"\"}, \"colorscale\": [[0.0, \"#0d0887\"], [0.1111111111111111, \"#46039f\"], [0.2222222222222222, \"#7201a8\"], [0.3333333333333333, \"#9c179e\"], [0.4444444444444444, \"#bd3786\"], [0.5555555555555556, \"#d8576b\"], [0.6666666666666666, \"#ed7953\"], [0.7777777777777778, \"#fb9f3a\"], [0.8888888888888888, \"#fdca26\"], [1.0, \"#f0f921\"]], \"type\": \"heatmap\"}], \"heatmapgl\": [{\"colorbar\": {\"outlinewidth\": 0, \"ticks\": \"\"}, \"colorscale\": [[0.0, \"#0d0887\"], [0.1111111111111111, \"#46039f\"], [0.2222222222222222, \"#7201a8\"], [0.3333333333333333, \"#9c179e\"], [0.4444444444444444, \"#bd3786\"], [0.5555555555555556, \"#d8576b\"], [0.6666666666666666, \"#ed7953\"], [0.7777777777777778, \"#fb9f3a\"], [0.8888888888888888, \"#fdca26\"], [1.0, \"#f0f921\"]], \"type\": \"heatmapgl\"}], \"histogram\": [{\"marker\": {\"colorbar\": {\"outlinewidth\": 0, \"ticks\": \"\"}}, \"type\": \"histogram\"}], \"histogram2d\": [{\"colorbar\": {\"outlinewidth\": 0, \"ticks\": \"\"}, \"colorscale\": [[0.0, \"#0d0887\"], [0.1111111111111111, \"#46039f\"], [0.2222222222222222, \"#7201a8\"], [0.3333333333333333, \"#9c179e\"], [0.4444444444444444, \"#bd3786\"], [0.5555555555555556, \"#d8576b\"], [0.6666666666666666, \"#ed7953\"], [0.7777777777777778, \"#fb9f3a\"], [0.8888888888888888, \"#fdca26\"], [1.0, \"#f0f921\"]], \"type\": \"histogram2d\"}], \"histogram2dcontour\": [{\"colorbar\": {\"outlinewidth\": 0, \"ticks\": \"\"}, \"colorscale\": [[0.0, \"#0d0887\"], [0.1111111111111111, \"#46039f\"], [0.2222222222222222, \"#7201a8\"], [0.3333333333333333, \"#9c179e\"], [0.4444444444444444, \"#bd3786\"], [0.5555555555555556, \"#d8576b\"], [0.6666666666666666, \"#ed7953\"], [0.7777777777777778, \"#fb9f3a\"], [0.8888888888888888, \"#fdca26\"], [1.0, \"#f0f921\"]], \"type\": \"histogram2dcontour\"}], \"mesh3d\": [{\"colorbar\": {\"outlinewidth\": 0, \"ticks\": \"\"}, \"type\": \"mesh3d\"}], \"parcoords\": [{\"line\": {\"colorbar\": {\"outlinewidth\": 0, \"ticks\": \"\"}}, \"type\": \"parcoords\"}], \"pie\": [{\"automargin\": true, \"type\": \"pie\"}], \"scatter\": [{\"marker\": {\"colorbar\": {\"outlinewidth\": 0, \"ticks\": \"\"}}, \"type\": \"scatter\"}], \"scatter3d\": [{\"line\": {\"colorbar\": {\"outlinewidth\": 0, \"ticks\": \"\"}}, \"marker\": {\"colorbar\": {\"outlinewidth\": 0, \"ticks\": \"\"}}, \"type\": \"scatter3d\"}], \"scattercarpet\": [{\"marker\": {\"colorbar\": {\"outlinewidth\": 0, \"ticks\": \"\"}}, \"type\": \"scattercarpet\"}], \"scattergeo\": [{\"marker\": {\"colorbar\": {\"outlinewidth\": 0, \"ticks\": \"\"}}, \"type\": \"scattergeo\"}], \"scattergl\": [{\"marker\": {\"colorbar\": {\"outlinewidth\": 0, \"ticks\": \"\"}}, \"type\": \"scattergl\"}], \"scattermapbox\": [{\"marker\": {\"colorbar\": {\"outlinewidth\": 0, \"ticks\": \"\"}}, \"type\": \"scattermapbox\"}], \"scatterpolar\": [{\"marker\": {\"colorbar\": {\"outlinewidth\": 0, \"ticks\": \"\"}}, \"type\": \"scatterpolar\"}], \"scatterpolargl\": [{\"marker\": {\"colorbar\": {\"outlinewidth\": 0, \"ticks\": \"\"}}, \"type\": \"scatterpolargl\"}], \"scatterternary\": [{\"marker\": {\"colorbar\": {\"outlinewidth\": 0, \"ticks\": \"\"}}, \"type\": \"scatterternary\"}], \"surface\": [{\"colorbar\": {\"outlinewidth\": 0, \"ticks\": \"\"}, \"colorscale\": [[0.0, \"#0d0887\"], [0.1111111111111111, \"#46039f\"], [0.2222222222222222, \"#7201a8\"], [0.3333333333333333, \"#9c179e\"], [0.4444444444444444, \"#bd3786\"], [0.5555555555555556, \"#d8576b\"], [0.6666666666666666, \"#ed7953\"], [0.7777777777777778, \"#fb9f3a\"], [0.8888888888888888, \"#fdca26\"], [1.0, \"#f0f921\"]], \"type\": \"surface\"}], \"table\": [{\"cells\": {\"fill\": {\"color\": \"#EBF0F8\"}, \"line\": {\"color\": \"white\"}}, \"header\": {\"fill\": {\"color\": \"#C8D4E3\"}, \"line\": {\"color\": \"white\"}}, \"type\": \"table\"}]}, \"layout\": {\"annotationdefaults\": {\"arrowcolor\": \"#2a3f5f\", \"arrowhead\": 0, \"arrowwidth\": 1}, \"coloraxis\": {\"colorbar\": {\"outlinewidth\": 0, \"ticks\": \"\"}}, \"colorscale\": {\"diverging\": [[0, \"#8e0152\"], [0.1, \"#c51b7d\"], [0.2, \"#de77ae\"], [0.3, \"#f1b6da\"], [0.4, \"#fde0ef\"], [0.5, \"#f7f7f7\"], [0.6, \"#e6f5d0\"], [0.7, \"#b8e186\"], [0.8, \"#7fbc41\"], [0.9, \"#4d9221\"], [1, \"#276419\"]], \"sequential\": [[0.0, \"#0d0887\"], [0.1111111111111111, \"#46039f\"], [0.2222222222222222, \"#7201a8\"], [0.3333333333333333, \"#9c179e\"], [0.4444444444444444, \"#bd3786\"], [0.5555555555555556, \"#d8576b\"], [0.6666666666666666, \"#ed7953\"], [0.7777777777777778, \"#fb9f3a\"], [0.8888888888888888, \"#fdca26\"], [1.0, \"#f0f921\"]], \"sequentialminus\": [[0.0, \"#0d0887\"], [0.1111111111111111, \"#46039f\"], [0.2222222222222222, \"#7201a8\"], [0.3333333333333333, \"#9c179e\"], [0.4444444444444444, \"#bd3786\"], [0.5555555555555556, \"#d8576b\"], [0.6666666666666666, \"#ed7953\"], [0.7777777777777778, \"#fb9f3a\"], [0.8888888888888888, \"#fdca26\"], [1.0, \"#f0f921\"]]}, \"colorway\": [\"#636efa\", \"#EF553B\", \"#00cc96\", \"#ab63fa\", \"#FFA15A\", \"#19d3f3\", \"#FF6692\", \"#B6E880\", \"#FF97FF\", \"#FECB52\"], \"font\": {\"color\": \"#2a3f5f\"}, \"geo\": {\"bgcolor\": \"white\", \"lakecolor\": \"white\", \"landcolor\": \"#E5ECF6\", \"showlakes\": true, \"showland\": true, \"subunitcolor\": \"white\"}, \"hoverlabel\": {\"align\": \"left\"}, \"hovermode\": \"closest\", \"mapbox\": {\"style\": \"light\"}, \"paper_bgcolor\": \"white\", \"plot_bgcolor\": \"#E5ECF6\", \"polar\": {\"angularaxis\": {\"gridcolor\": \"white\", \"linecolor\": \"white\", \"ticks\": \"\"}, \"bgcolor\": \"#E5ECF6\", \"radialaxis\": {\"gridcolor\": \"white\", \"linecolor\": \"white\", \"ticks\": \"\"}}, \"scene\": {\"xaxis\": {\"backgroundcolor\": \"#E5ECF6\", \"gridcolor\": \"white\", \"gridwidth\": 2, \"linecolor\": \"white\", \"showbackground\": true, \"ticks\": \"\", \"zerolinecolor\": \"white\"}, \"yaxis\": {\"backgroundcolor\": \"#E5ECF6\", \"gridcolor\": \"white\", \"gridwidth\": 2, \"linecolor\": \"white\", \"showbackground\": true, \"ticks\": \"\", \"zerolinecolor\": \"white\"}, \"zaxis\": {\"backgroundcolor\": \"#E5ECF6\", \"gridcolor\": \"white\", \"gridwidth\": 2, \"linecolor\": \"white\", \"showbackground\": true, \"ticks\": \"\", \"zerolinecolor\": \"white\"}}, \"shapedefaults\": {\"line\": {\"color\": \"#2a3f5f\"}}, \"ternary\": {\"aaxis\": {\"gridcolor\": \"white\", \"linecolor\": \"white\", \"ticks\": \"\"}, \"baxis\": {\"gridcolor\": \"white\", \"linecolor\": \"white\", \"ticks\": \"\"}, \"bgcolor\": \"#E5ECF6\", \"caxis\": {\"gridcolor\": \"white\", \"linecolor\": \"white\", \"ticks\": \"\"}}, \"title\": {\"x\": 0.05}, \"xaxis\": {\"automargin\": true, \"gridcolor\": \"white\", \"linecolor\": \"white\", \"ticks\": \"\", \"title\": {\"standoff\": 15}, \"zerolinecolor\": \"white\", \"zerolinewidth\": 2}, \"yaxis\": {\"automargin\": true, \"gridcolor\": \"white\", \"linecolor\": \"white\", \"ticks\": \"\", \"title\": {\"standoff\": 15}, \"zerolinecolor\": \"white\", \"zerolinewidth\": 2}}}, \"xaxis\": {\"anchor\": \"y\", \"domain\": [0.0, 1.0], \"title\": {\"text\": \"beer/style\"}}, \"yaxis\": {\"anchor\": \"x\", \"domain\": [0.0, 1.0], \"title\": {\"text\": \"beer/ABV\"}}},\n",
       "                        {\"responsive\": true}\n",
       "                    ).then(function(){\n",
       "                            \n",
       "var gd = document.getElementById('9a6a5d13-f1a6-4b70-ad60-45dc24e833f4');\n",
       "var x = new MutationObserver(function (mutations, observer) {{\n",
       "        var display = window.getComputedStyle(gd).display;\n",
       "        if (!display || display === 'none') {{\n",
       "            console.log([gd, 'removed!']);\n",
       "            Plotly.purge(gd);\n",
       "            observer.disconnect();\n",
       "        }}\n",
       "}});\n",
       "\n",
       "// Listen for the removal of the full notebook cells\n",
       "var notebookContainer = gd.closest('#notebook-container');\n",
       "if (notebookContainer) {{\n",
       "    x.observe(notebookContainer, {childList: true});\n",
       "}}\n",
       "\n",
       "// Listen for the clearing of the current output cell\n",
       "var outputEl = gd.closest('.output');\n",
       "if (outputEl) {{\n",
       "    x.observe(outputEl, {childList: true});\n",
       "}}\n",
       "\n",
       "                        })\n",
       "                };\n",
       "                });\n",
       "            </script>\n",
       "        </div>"
      ]
     },
     "metadata": {},
     "output_type": "display_data"
    }
   ],
   "source": [
    "fig = px.scatter(beer_style_taste_abv,x=\"beer/style\",y=\"beer/ABV\")\n",
    "\n",
    "fig.show()"
   ]
  },
  {
   "cell_type": "markdown",
   "metadata": {},
   "source": [
    "### q4  Which of the factors (aroma, taste, appearance, palette) are most important in determining the overall quality of a beer?\n",
    "\n",
    "1. Using correlation"
   ]
  },
  {
   "cell_type": "code",
   "execution_count": 77,
   "metadata": {},
   "outputs": [
    {
     "data": {
      "text/html": [
       "<style  type=\"text/css\" >\n",
       "    #T_2711892e_b804_11ea_ade7_040e3ca0133erow0_col0 {\n",
       "            background-color:  #08306b;\n",
       "            color:  #f1f1f1;\n",
       "        }    #T_2711892e_b804_11ea_ade7_040e3ca0133erow0_col1 {\n",
       "            background-color:  #cee0f2;\n",
       "            color:  #000000;\n",
       "        }    #T_2711892e_b804_11ea_ade7_040e3ca0133erow0_col2 {\n",
       "            background-color:  #bfd8ed;\n",
       "            color:  #000000;\n",
       "        }    #T_2711892e_b804_11ea_ade7_040e3ca0133erow0_col3 {\n",
       "            background-color:  #cbdef1;\n",
       "            color:  #000000;\n",
       "        }    #T_2711892e_b804_11ea_ade7_040e3ca0133erow0_col4 {\n",
       "            background-color:  #abd0e6;\n",
       "            color:  #000000;\n",
       "        }    #T_2711892e_b804_11ea_ade7_040e3ca0133erow0_col5 {\n",
       "            background-color:  #dfebf7;\n",
       "            color:  #000000;\n",
       "        }    #T_2711892e_b804_11ea_ade7_040e3ca0133erow1_col0 {\n",
       "            background-color:  #b0d2e7;\n",
       "            color:  #000000;\n",
       "        }    #T_2711892e_b804_11ea_ade7_040e3ca0133erow1_col1 {\n",
       "            background-color:  #08306b;\n",
       "            color:  #f1f1f1;\n",
       "        }    #T_2711892e_b804_11ea_ade7_040e3ca0133erow1_col2 {\n",
       "            background-color:  #a4cce3;\n",
       "            color:  #000000;\n",
       "        }    #T_2711892e_b804_11ea_ade7_040e3ca0133erow1_col3 {\n",
       "            background-color:  #63a8d3;\n",
       "            color:  #000000;\n",
       "        }    #T_2711892e_b804_11ea_ade7_040e3ca0133erow1_col4 {\n",
       "            background-color:  #6dafd7;\n",
       "            color:  #000000;\n",
       "        }    #T_2711892e_b804_11ea_ade7_040e3ca0133erow1_col5 {\n",
       "            background-color:  #c7dcef;\n",
       "            color:  #000000;\n",
       "        }    #T_2711892e_b804_11ea_ade7_040e3ca0133erow2_col0 {\n",
       "            background-color:  #a9cfe5;\n",
       "            color:  #000000;\n",
       "        }    #T_2711892e_b804_11ea_ade7_040e3ca0133erow2_col1 {\n",
       "            background-color:  #aed1e7;\n",
       "            color:  #000000;\n",
       "        }    #T_2711892e_b804_11ea_ade7_040e3ca0133erow2_col2 {\n",
       "            background-color:  #08306b;\n",
       "            color:  #f1f1f1;\n",
       "        }    #T_2711892e_b804_11ea_ade7_040e3ca0133erow2_col3 {\n",
       "            background-color:  #5ba3d0;\n",
       "            color:  #000000;\n",
       "        }    #T_2711892e_b804_11ea_ade7_040e3ca0133erow2_col4 {\n",
       "            background-color:  #4b98ca;\n",
       "            color:  #000000;\n",
       "        }    #T_2711892e_b804_11ea_ade7_040e3ca0133erow2_col5 {\n",
       "            background-color:  #cee0f2;\n",
       "            color:  #000000;\n",
       "        }    #T_2711892e_b804_11ea_ade7_040e3ca0133erow3_col0 {\n",
       "            background-color:  #b7d4ea;\n",
       "            color:  #000000;\n",
       "        }    #T_2711892e_b804_11ea_ade7_040e3ca0133erow3_col1 {\n",
       "            background-color:  #6aaed6;\n",
       "            color:  #000000;\n",
       "        }    #T_2711892e_b804_11ea_ade7_040e3ca0133erow3_col2 {\n",
       "            background-color:  #5ba3d0;\n",
       "            color:  #000000;\n",
       "        }    #T_2711892e_b804_11ea_ade7_040e3ca0133erow3_col3 {\n",
       "            background-color:  #08306b;\n",
       "            color:  #f1f1f1;\n",
       "        }    #T_2711892e_b804_11ea_ade7_040e3ca0133erow3_col4 {\n",
       "            background-color:  #2b7bba;\n",
       "            color:  #000000;\n",
       "        }    #T_2711892e_b804_11ea_ade7_040e3ca0133erow3_col5 {\n",
       "            background-color:  #cee0f2;\n",
       "            color:  #000000;\n",
       "        }    #T_2711892e_b804_11ea_ade7_040e3ca0133erow4_col0 {\n",
       "            background-color:  #c9ddf0;\n",
       "            color:  #000000;\n",
       "        }    #T_2711892e_b804_11ea_ade7_040e3ca0133erow4_col1 {\n",
       "            background-color:  #add0e6;\n",
       "            color:  #000000;\n",
       "        }    #T_2711892e_b804_11ea_ade7_040e3ca0133erow4_col2 {\n",
       "            background-color:  #6fb0d7;\n",
       "            color:  #000000;\n",
       "        }    #T_2711892e_b804_11ea_ade7_040e3ca0133erow4_col3 {\n",
       "            background-color:  #3e8ec4;\n",
       "            color:  #000000;\n",
       "        }    #T_2711892e_b804_11ea_ade7_040e3ca0133erow4_col4 {\n",
       "            background-color:  #08306b;\n",
       "            color:  #f1f1f1;\n",
       "        }    #T_2711892e_b804_11ea_ade7_040e3ca0133erow4_col5 {\n",
       "            background-color:  #f7fbff;\n",
       "            color:  #000000;\n",
       "        }    #T_2711892e_b804_11ea_ade7_040e3ca0133erow5_col0 {\n",
       "            background-color:  #f7fbff;\n",
       "            color:  #000000;\n",
       "        }    #T_2711892e_b804_11ea_ade7_040e3ca0133erow5_col1 {\n",
       "            background-color:  #f7fbff;\n",
       "            color:  #000000;\n",
       "        }    #T_2711892e_b804_11ea_ade7_040e3ca0133erow5_col2 {\n",
       "            background-color:  #f7fbff;\n",
       "            color:  #000000;\n",
       "        }    #T_2711892e_b804_11ea_ade7_040e3ca0133erow5_col3 {\n",
       "            background-color:  #f7fbff;\n",
       "            color:  #000000;\n",
       "        }    #T_2711892e_b804_11ea_ade7_040e3ca0133erow5_col4 {\n",
       "            background-color:  #f7fbff;\n",
       "            color:  #000000;\n",
       "        }    #T_2711892e_b804_11ea_ade7_040e3ca0133erow5_col5 {\n",
       "            background-color:  #08306b;\n",
       "            color:  #f1f1f1;\n",
       "        }</style><table id=\"T_2711892e_b804_11ea_ade7_040e3ca0133e\" ><thead>    <tr>        <th class=\"blank level0\" ></th>        <th class=\"col_heading level0 col0\" >review/appearance</th>        <th class=\"col_heading level0 col1\" >review/aroma</th>        <th class=\"col_heading level0 col2\" >review/palate</th>        <th class=\"col_heading level0 col3\" >review/taste</th>        <th class=\"col_heading level0 col4\" >review/overall</th>        <th class=\"col_heading level0 col5\" >beer/ABV</th>    </tr></thead><tbody>\n",
       "                <tr>\n",
       "                        <th id=\"T_2711892e_b804_11ea_ade7_040e3ca0133elevel0_row0\" class=\"row_heading level0 row0\" >review/appearance</th>\n",
       "                        <td id=\"T_2711892e_b804_11ea_ade7_040e3ca0133erow0_col0\" class=\"data row0 col0\" >1.000000</td>\n",
       "                        <td id=\"T_2711892e_b804_11ea_ade7_040e3ca0133erow0_col1\" class=\"data row0 col1\" >0.523297</td>\n",
       "                        <td id=\"T_2711892e_b804_11ea_ade7_040e3ca0133erow0_col2\" class=\"data row0 col2\" >0.538732</td>\n",
       "                        <td id=\"T_2711892e_b804_11ea_ade7_040e3ca0133erow0_col3\" class=\"data row0 col3\" >0.510861</td>\n",
       "                        <td id=\"T_2711892e_b804_11ea_ade7_040e3ca0133erow0_col4\" class=\"data row0 col4\" >0.466908</td>\n",
       "                        <td id=\"T_2711892e_b804_11ea_ade7_040e3ca0133erow0_col5\" class=\"data row0 col5\" >0.300919</td>\n",
       "            </tr>\n",
       "            <tr>\n",
       "                        <th id=\"T_2711892e_b804_11ea_ade7_040e3ca0133elevel0_row1\" class=\"row_heading level0 row1\" >review/aroma</th>\n",
       "                        <td id=\"T_2711892e_b804_11ea_ade7_040e3ca0133erow1_col0\" class=\"data row1 col0\" >0.523297</td>\n",
       "                        <td id=\"T_2711892e_b804_11ea_ade7_040e3ca0133erow1_col1\" class=\"data row1 col1\" >1.000000</td>\n",
       "                        <td id=\"T_2711892e_b804_11ea_ade7_040e3ca0133erow1_col2\" class=\"data row1 col2\" >0.593280</td>\n",
       "                        <td id=\"T_2711892e_b804_11ea_ade7_040e3ca0133erow1_col3\" class=\"data row1 col3\" >0.700917</td>\n",
       "                        <td id=\"T_2711892e_b804_11ea_ade7_040e3ca0133erow1_col4\" class=\"data row1 col4\" >0.596534</td>\n",
       "                        <td id=\"T_2711892e_b804_11ea_ade7_040e3ca0133erow1_col5\" class=\"data row1 col5\" >0.397609</td>\n",
       "            </tr>\n",
       "            <tr>\n",
       "                        <th id=\"T_2711892e_b804_11ea_ade7_040e3ca0133elevel0_row2\" class=\"row_heading level0 row2\" >review/palate</th>\n",
       "                        <td id=\"T_2711892e_b804_11ea_ade7_040e3ca0133erow2_col0\" class=\"data row2 col0\" >0.538732</td>\n",
       "                        <td id=\"T_2711892e_b804_11ea_ade7_040e3ca0133erow2_col1\" class=\"data row2 col1\" >0.593280</td>\n",
       "                        <td id=\"T_2711892e_b804_11ea_ade7_040e3ca0133erow2_col2\" class=\"data row2 col2\" >1.000000</td>\n",
       "                        <td id=\"T_2711892e_b804_11ea_ade7_040e3ca0133erow2_col3\" class=\"data row2 col3\" >0.714207</td>\n",
       "                        <td id=\"T_2711892e_b804_11ea_ade7_040e3ca0133erow2_col4\" class=\"data row2 col4\" >0.676875</td>\n",
       "                        <td id=\"T_2711892e_b804_11ea_ade7_040e3ca0133erow2_col5\" class=\"data row2 col5\" >0.367953</td>\n",
       "            </tr>\n",
       "            <tr>\n",
       "                        <th id=\"T_2711892e_b804_11ea_ade7_040e3ca0133elevel0_row3\" class=\"row_heading level0 row3\" >review/taste</th>\n",
       "                        <td id=\"T_2711892e_b804_11ea_ade7_040e3ca0133erow3_col0\" class=\"data row3 col0\" >0.510861</td>\n",
       "                        <td id=\"T_2711892e_b804_11ea_ade7_040e3ca0133erow3_col1\" class=\"data row3 col1\" >0.700917</td>\n",
       "                        <td id=\"T_2711892e_b804_11ea_ade7_040e3ca0133erow3_col2\" class=\"data row3 col2\" >0.714207</td>\n",
       "                        <td id=\"T_2711892e_b804_11ea_ade7_040e3ca0133erow3_col3\" class=\"data row3 col3\" >1.000000</td>\n",
       "                        <td id=\"T_2711892e_b804_11ea_ade7_040e3ca0133erow3_col4\" class=\"data row3 col4\" >0.770479</td>\n",
       "                        <td id=\"T_2711892e_b804_11ea_ade7_040e3ca0133erow3_col5\" class=\"data row3 col5\" >0.367809</td>\n",
       "            </tr>\n",
       "            <tr>\n",
       "                        <th id=\"T_2711892e_b804_11ea_ade7_040e3ca0133elevel0_row4\" class=\"row_heading level0 row4\" >review/overall</th>\n",
       "                        <td id=\"T_2711892e_b804_11ea_ade7_040e3ca0133erow4_col0\" class=\"data row4 col0\" >0.466908</td>\n",
       "                        <td id=\"T_2711892e_b804_11ea_ade7_040e3ca0133erow4_col1\" class=\"data row4 col1\" >0.596534</td>\n",
       "                        <td id=\"T_2711892e_b804_11ea_ade7_040e3ca0133erow4_col2\" class=\"data row4 col2\" >0.676875</td>\n",
       "                        <td id=\"T_2711892e_b804_11ea_ade7_040e3ca0133erow4_col3\" class=\"data row4 col3\" >0.770479</td>\n",
       "                        <td id=\"T_2711892e_b804_11ea_ade7_040e3ca0133erow4_col4\" class=\"data row4 col4\" >1.000000</td>\n",
       "                        <td id=\"T_2711892e_b804_11ea_ade7_040e3ca0133erow4_col5\" class=\"data row4 col5\" >0.201382</td>\n",
       "            </tr>\n",
       "            <tr>\n",
       "                        <th id=\"T_2711892e_b804_11ea_ade7_040e3ca0133elevel0_row5\" class=\"row_heading level0 row5\" >beer/ABV</th>\n",
       "                        <td id=\"T_2711892e_b804_11ea_ade7_040e3ca0133erow5_col0\" class=\"data row5 col0\" >0.300919</td>\n",
       "                        <td id=\"T_2711892e_b804_11ea_ade7_040e3ca0133erow5_col1\" class=\"data row5 col1\" >0.397609</td>\n",
       "                        <td id=\"T_2711892e_b804_11ea_ade7_040e3ca0133erow5_col2\" class=\"data row5 col2\" >0.367953</td>\n",
       "                        <td id=\"T_2711892e_b804_11ea_ade7_040e3ca0133erow5_col3\" class=\"data row5 col3\" >0.367809</td>\n",
       "                        <td id=\"T_2711892e_b804_11ea_ade7_040e3ca0133erow5_col4\" class=\"data row5 col4\" >0.201382</td>\n",
       "                        <td id=\"T_2711892e_b804_11ea_ade7_040e3ca0133erow5_col5\" class=\"data row5 col5\" >1.000000</td>\n",
       "            </tr>\n",
       "    </tbody></table>"
      ],
      "text/plain": [
       "<pandas.io.formats.style.Styler at 0x14125f9e9c8>"
      ]
     },
     "execution_count": 77,
     "metadata": {},
     "output_type": "execute_result"
    }
   ],
   "source": [
    "# Method 1 - Heatmap: Pandas\n",
    "# List of numeric factors to include\n",
    "factors = [\"review/appearance\",\"review/aroma\",\"review/palate\",\"review/taste\", \"review/overall\",\"beer/style\",\"beer/ABV\"]\n",
    "\n",
    "# Create a correlation matrix \n",
    "corr_metrics = df[factors].corr()\n",
    "corr_metrics.style.background_gradient(cmap='Blues')"
   ]
  },
  {
   "cell_type": "code",
   "execution_count": 78,
   "metadata": {},
   "outputs": [],
   "source": [
    "\n",
    "import warnings\n",
    "warnings.filterwarnings(\"ignore\")\n",
    "from IPython.display import display\n",
    "pd.options.display.max_columns = None\n",
    "\n",
    "# Plotting libraries\n",
    "import matplotlib.pyplot as plt\n",
    "import seaborn as sns\n",
    "sns.set_style(\"whitegrid\")\n",
    "sns.set_palette(\"Set1\")\n",
    "\n",
    "from plotly.offline import download_plotlyjs, init_notebook_mode, plot, iplot\n",
    "import plotly as py\n",
    "import plotly.graph_objs as go\n",
    "import plotly.tools as tls\n",
    "import plotly.figure_factory as ff\n"
   ]
  },
  {
   "cell_type": "code",
   "execution_count": 79,
   "metadata": {
    "scrolled": true
   },
   "outputs": [
    {
     "data": {
      "application/vnd.plotly.v1+json": {
       "config": {
        "linkText": "Export to plot.ly",
        "plotlyServerURL": "https://plot.ly",
        "showLink": false
       },
       "data": [
        {
         "colorscale": [
          [
           0,
           "rgb(12,51,131)"
          ],
          [
           0.25,
           "rgb(10,136,186)"
          ],
          [
           0.5,
           "rgb(242,211,56)"
          ],
          [
           0.75,
           "rgb(242,143,56)"
          ],
          [
           1,
           "rgb(217,30,30)"
          ]
         ],
         "reversescale": false,
         "showscale": true,
         "type": "heatmap",
         "x": [
          "review/appearance",
          "review/aroma",
          "review/palate",
          "review/taste",
          "review/overall",
          "beer/ABV"
         ],
         "y": [
          "review/appearance",
          "review/aroma",
          "review/palate",
          "review/taste",
          "review/overall",
          "beer/ABV"
         ],
         "z": [
          [
           1,
           0.5232966852610188,
           0.5387321449574258,
           0.5108607808047437,
           0.4669076265086169,
           0.3009194601923864
          ],
          [
           0.5232966852610188,
           1,
           0.5932801215525204,
           0.7009166692864212,
           0.5965340775908462,
           0.39760879958175166
          ],
          [
           0.5387321449574258,
           0.5932801215525204,
           1,
           0.7142065027795105,
           0.676875351820133,
           0.3679525150613688
          ],
          [
           0.5108607808047437,
           0.7009166692864212,
           0.7142065027795105,
           1,
           0.770479440154428,
           0.3678094584211863
          ],
          [
           0.4669076265086169,
           0.5965340775908462,
           0.676875351820133,
           0.770479440154428,
           1,
           0.20138152009866905
          ],
          [
           0.3009194601923864,
           0.39760879958175166,
           0.3679525150613688,
           0.3678094584211863,
           0.20138152009866905,
           1
          ]
         ]
        }
       ],
       "layout": {
        "annotations": [
         {
          "font": {
           "color": "white"
          },
          "showarrow": false,
          "text": "1.0",
          "x": "review/appearance",
          "xref": "x",
          "y": "review/appearance",
          "yref": "y"
         },
         {
          "font": {
           "color": "white"
          },
          "showarrow": false,
          "text": "0.52",
          "x": "review/aroma",
          "xref": "x",
          "y": "review/appearance",
          "yref": "y"
         },
         {
          "font": {
           "color": "white"
          },
          "showarrow": false,
          "text": "0.54",
          "x": "review/palate",
          "xref": "x",
          "y": "review/appearance",
          "yref": "y"
         },
         {
          "font": {
           "color": "white"
          },
          "showarrow": false,
          "text": "0.51",
          "x": "review/taste",
          "xref": "x",
          "y": "review/appearance",
          "yref": "y"
         },
         {
          "font": {
           "color": "white"
          },
          "showarrow": false,
          "text": "0.47",
          "x": "review/overall",
          "xref": "x",
          "y": "review/appearance",
          "yref": "y"
         },
         {
          "font": {
           "color": "white"
          },
          "showarrow": false,
          "text": "0.3",
          "x": "beer/ABV",
          "xref": "x",
          "y": "review/appearance",
          "yref": "y"
         },
         {
          "font": {
           "color": "white"
          },
          "showarrow": false,
          "text": "0.52",
          "x": "review/appearance",
          "xref": "x",
          "y": "review/aroma",
          "yref": "y"
         },
         {
          "font": {
           "color": "white"
          },
          "showarrow": false,
          "text": "1.0",
          "x": "review/aroma",
          "xref": "x",
          "y": "review/aroma",
          "yref": "y"
         },
         {
          "font": {
           "color": "white"
          },
          "showarrow": false,
          "text": "0.59",
          "x": "review/palate",
          "xref": "x",
          "y": "review/aroma",
          "yref": "y"
         },
         {
          "font": {
           "color": "white"
          },
          "showarrow": false,
          "text": "0.7",
          "x": "review/taste",
          "xref": "x",
          "y": "review/aroma",
          "yref": "y"
         },
         {
          "font": {
           "color": "white"
          },
          "showarrow": false,
          "text": "0.6",
          "x": "review/overall",
          "xref": "x",
          "y": "review/aroma",
          "yref": "y"
         },
         {
          "font": {
           "color": "white"
          },
          "showarrow": false,
          "text": "0.4",
          "x": "beer/ABV",
          "xref": "x",
          "y": "review/aroma",
          "yref": "y"
         },
         {
          "font": {
           "color": "white"
          },
          "showarrow": false,
          "text": "0.54",
          "x": "review/appearance",
          "xref": "x",
          "y": "review/palate",
          "yref": "y"
         },
         {
          "font": {
           "color": "white"
          },
          "showarrow": false,
          "text": "0.59",
          "x": "review/aroma",
          "xref": "x",
          "y": "review/palate",
          "yref": "y"
         },
         {
          "font": {
           "color": "white"
          },
          "showarrow": false,
          "text": "1.0",
          "x": "review/palate",
          "xref": "x",
          "y": "review/palate",
          "yref": "y"
         },
         {
          "font": {
           "color": "white"
          },
          "showarrow": false,
          "text": "0.71",
          "x": "review/taste",
          "xref": "x",
          "y": "review/palate",
          "yref": "y"
         },
         {
          "font": {
           "color": "white"
          },
          "showarrow": false,
          "text": "0.68",
          "x": "review/overall",
          "xref": "x",
          "y": "review/palate",
          "yref": "y"
         },
         {
          "font": {
           "color": "white"
          },
          "showarrow": false,
          "text": "0.37",
          "x": "beer/ABV",
          "xref": "x",
          "y": "review/palate",
          "yref": "y"
         },
         {
          "font": {
           "color": "white"
          },
          "showarrow": false,
          "text": "0.51",
          "x": "review/appearance",
          "xref": "x",
          "y": "review/taste",
          "yref": "y"
         },
         {
          "font": {
           "color": "white"
          },
          "showarrow": false,
          "text": "0.7",
          "x": "review/aroma",
          "xref": "x",
          "y": "review/taste",
          "yref": "y"
         },
         {
          "font": {
           "color": "white"
          },
          "showarrow": false,
          "text": "0.71",
          "x": "review/palate",
          "xref": "x",
          "y": "review/taste",
          "yref": "y"
         },
         {
          "font": {
           "color": "white"
          },
          "showarrow": false,
          "text": "1.0",
          "x": "review/taste",
          "xref": "x",
          "y": "review/taste",
          "yref": "y"
         },
         {
          "font": {
           "color": "white"
          },
          "showarrow": false,
          "text": "0.77",
          "x": "review/overall",
          "xref": "x",
          "y": "review/taste",
          "yref": "y"
         },
         {
          "font": {
           "color": "white"
          },
          "showarrow": false,
          "text": "0.37",
          "x": "beer/ABV",
          "xref": "x",
          "y": "review/taste",
          "yref": "y"
         },
         {
          "font": {
           "color": "white"
          },
          "showarrow": false,
          "text": "0.47",
          "x": "review/appearance",
          "xref": "x",
          "y": "review/overall",
          "yref": "y"
         },
         {
          "font": {
           "color": "white"
          },
          "showarrow": false,
          "text": "0.6",
          "x": "review/aroma",
          "xref": "x",
          "y": "review/overall",
          "yref": "y"
         },
         {
          "font": {
           "color": "white"
          },
          "showarrow": false,
          "text": "0.68",
          "x": "review/palate",
          "xref": "x",
          "y": "review/overall",
          "yref": "y"
         },
         {
          "font": {
           "color": "white"
          },
          "showarrow": false,
          "text": "0.77",
          "x": "review/taste",
          "xref": "x",
          "y": "review/overall",
          "yref": "y"
         },
         {
          "font": {
           "color": "white"
          },
          "showarrow": false,
          "text": "1.0",
          "x": "review/overall",
          "xref": "x",
          "y": "review/overall",
          "yref": "y"
         },
         {
          "font": {
           "color": "white"
          },
          "showarrow": false,
          "text": "0.2",
          "x": "beer/ABV",
          "xref": "x",
          "y": "review/overall",
          "yref": "y"
         },
         {
          "font": {
           "color": "white"
          },
          "showarrow": false,
          "text": "0.3",
          "x": "review/appearance",
          "xref": "x",
          "y": "beer/ABV",
          "yref": "y"
         },
         {
          "font": {
           "color": "white"
          },
          "showarrow": false,
          "text": "0.4",
          "x": "review/aroma",
          "xref": "x",
          "y": "beer/ABV",
          "yref": "y"
         },
         {
          "font": {
           "color": "white"
          },
          "showarrow": false,
          "text": "0.37",
          "x": "review/palate",
          "xref": "x",
          "y": "beer/ABV",
          "yref": "y"
         },
         {
          "font": {
           "color": "white"
          },
          "showarrow": false,
          "text": "0.37",
          "x": "review/taste",
          "xref": "x",
          "y": "beer/ABV",
          "yref": "y"
         },
         {
          "font": {
           "color": "white"
          },
          "showarrow": false,
          "text": "0.2",
          "x": "review/overall",
          "xref": "x",
          "y": "beer/ABV",
          "yref": "y"
         },
         {
          "font": {
           "color": "white"
          },
          "showarrow": false,
          "text": "1.0",
          "x": "beer/ABV",
          "xref": "x",
          "y": "beer/ABV",
          "yref": "y"
         }
        ],
        "template": {
         "data": {
          "bar": [
           {
            "error_x": {
             "color": "#2a3f5f"
            },
            "error_y": {
             "color": "#2a3f5f"
            },
            "marker": {
             "line": {
              "color": "#E5ECF6",
              "width": 0.5
             }
            },
            "type": "bar"
           }
          ],
          "barpolar": [
           {
            "marker": {
             "line": {
              "color": "#E5ECF6",
              "width": 0.5
             }
            },
            "type": "barpolar"
           }
          ],
          "carpet": [
           {
            "aaxis": {
             "endlinecolor": "#2a3f5f",
             "gridcolor": "white",
             "linecolor": "white",
             "minorgridcolor": "white",
             "startlinecolor": "#2a3f5f"
            },
            "baxis": {
             "endlinecolor": "#2a3f5f",
             "gridcolor": "white",
             "linecolor": "white",
             "minorgridcolor": "white",
             "startlinecolor": "#2a3f5f"
            },
            "type": "carpet"
           }
          ],
          "choropleth": [
           {
            "colorbar": {
             "outlinewidth": 0,
             "ticks": ""
            },
            "type": "choropleth"
           }
          ],
          "contour": [
           {
            "colorbar": {
             "outlinewidth": 0,
             "ticks": ""
            },
            "colorscale": [
             [
              0,
              "#0d0887"
             ],
             [
              0.1111111111111111,
              "#46039f"
             ],
             [
              0.2222222222222222,
              "#7201a8"
             ],
             [
              0.3333333333333333,
              "#9c179e"
             ],
             [
              0.4444444444444444,
              "#bd3786"
             ],
             [
              0.5555555555555556,
              "#d8576b"
             ],
             [
              0.6666666666666666,
              "#ed7953"
             ],
             [
              0.7777777777777778,
              "#fb9f3a"
             ],
             [
              0.8888888888888888,
              "#fdca26"
             ],
             [
              1,
              "#f0f921"
             ]
            ],
            "type": "contour"
           }
          ],
          "contourcarpet": [
           {
            "colorbar": {
             "outlinewidth": 0,
             "ticks": ""
            },
            "type": "contourcarpet"
           }
          ],
          "heatmap": [
           {
            "colorbar": {
             "outlinewidth": 0,
             "ticks": ""
            },
            "colorscale": [
             [
              0,
              "#0d0887"
             ],
             [
              0.1111111111111111,
              "#46039f"
             ],
             [
              0.2222222222222222,
              "#7201a8"
             ],
             [
              0.3333333333333333,
              "#9c179e"
             ],
             [
              0.4444444444444444,
              "#bd3786"
             ],
             [
              0.5555555555555556,
              "#d8576b"
             ],
             [
              0.6666666666666666,
              "#ed7953"
             ],
             [
              0.7777777777777778,
              "#fb9f3a"
             ],
             [
              0.8888888888888888,
              "#fdca26"
             ],
             [
              1,
              "#f0f921"
             ]
            ],
            "type": "heatmap"
           }
          ],
          "heatmapgl": [
           {
            "colorbar": {
             "outlinewidth": 0,
             "ticks": ""
            },
            "colorscale": [
             [
              0,
              "#0d0887"
             ],
             [
              0.1111111111111111,
              "#46039f"
             ],
             [
              0.2222222222222222,
              "#7201a8"
             ],
             [
              0.3333333333333333,
              "#9c179e"
             ],
             [
              0.4444444444444444,
              "#bd3786"
             ],
             [
              0.5555555555555556,
              "#d8576b"
             ],
             [
              0.6666666666666666,
              "#ed7953"
             ],
             [
              0.7777777777777778,
              "#fb9f3a"
             ],
             [
              0.8888888888888888,
              "#fdca26"
             ],
             [
              1,
              "#f0f921"
             ]
            ],
            "type": "heatmapgl"
           }
          ],
          "histogram": [
           {
            "marker": {
             "colorbar": {
              "outlinewidth": 0,
              "ticks": ""
             }
            },
            "type": "histogram"
           }
          ],
          "histogram2d": [
           {
            "colorbar": {
             "outlinewidth": 0,
             "ticks": ""
            },
            "colorscale": [
             [
              0,
              "#0d0887"
             ],
             [
              0.1111111111111111,
              "#46039f"
             ],
             [
              0.2222222222222222,
              "#7201a8"
             ],
             [
              0.3333333333333333,
              "#9c179e"
             ],
             [
              0.4444444444444444,
              "#bd3786"
             ],
             [
              0.5555555555555556,
              "#d8576b"
             ],
             [
              0.6666666666666666,
              "#ed7953"
             ],
             [
              0.7777777777777778,
              "#fb9f3a"
             ],
             [
              0.8888888888888888,
              "#fdca26"
             ],
             [
              1,
              "#f0f921"
             ]
            ],
            "type": "histogram2d"
           }
          ],
          "histogram2dcontour": [
           {
            "colorbar": {
             "outlinewidth": 0,
             "ticks": ""
            },
            "colorscale": [
             [
              0,
              "#0d0887"
             ],
             [
              0.1111111111111111,
              "#46039f"
             ],
             [
              0.2222222222222222,
              "#7201a8"
             ],
             [
              0.3333333333333333,
              "#9c179e"
             ],
             [
              0.4444444444444444,
              "#bd3786"
             ],
             [
              0.5555555555555556,
              "#d8576b"
             ],
             [
              0.6666666666666666,
              "#ed7953"
             ],
             [
              0.7777777777777778,
              "#fb9f3a"
             ],
             [
              0.8888888888888888,
              "#fdca26"
             ],
             [
              1,
              "#f0f921"
             ]
            ],
            "type": "histogram2dcontour"
           }
          ],
          "mesh3d": [
           {
            "colorbar": {
             "outlinewidth": 0,
             "ticks": ""
            },
            "type": "mesh3d"
           }
          ],
          "parcoords": [
           {
            "line": {
             "colorbar": {
              "outlinewidth": 0,
              "ticks": ""
             }
            },
            "type": "parcoords"
           }
          ],
          "pie": [
           {
            "automargin": true,
            "type": "pie"
           }
          ],
          "scatter": [
           {
            "marker": {
             "colorbar": {
              "outlinewidth": 0,
              "ticks": ""
             }
            },
            "type": "scatter"
           }
          ],
          "scatter3d": [
           {
            "line": {
             "colorbar": {
              "outlinewidth": 0,
              "ticks": ""
             }
            },
            "marker": {
             "colorbar": {
              "outlinewidth": 0,
              "ticks": ""
             }
            },
            "type": "scatter3d"
           }
          ],
          "scattercarpet": [
           {
            "marker": {
             "colorbar": {
              "outlinewidth": 0,
              "ticks": ""
             }
            },
            "type": "scattercarpet"
           }
          ],
          "scattergeo": [
           {
            "marker": {
             "colorbar": {
              "outlinewidth": 0,
              "ticks": ""
             }
            },
            "type": "scattergeo"
           }
          ],
          "scattergl": [
           {
            "marker": {
             "colorbar": {
              "outlinewidth": 0,
              "ticks": ""
             }
            },
            "type": "scattergl"
           }
          ],
          "scattermapbox": [
           {
            "marker": {
             "colorbar": {
              "outlinewidth": 0,
              "ticks": ""
             }
            },
            "type": "scattermapbox"
           }
          ],
          "scatterpolar": [
           {
            "marker": {
             "colorbar": {
              "outlinewidth": 0,
              "ticks": ""
             }
            },
            "type": "scatterpolar"
           }
          ],
          "scatterpolargl": [
           {
            "marker": {
             "colorbar": {
              "outlinewidth": 0,
              "ticks": ""
             }
            },
            "type": "scatterpolargl"
           }
          ],
          "scatterternary": [
           {
            "marker": {
             "colorbar": {
              "outlinewidth": 0,
              "ticks": ""
             }
            },
            "type": "scatterternary"
           }
          ],
          "surface": [
           {
            "colorbar": {
             "outlinewidth": 0,
             "ticks": ""
            },
            "colorscale": [
             [
              0,
              "#0d0887"
             ],
             [
              0.1111111111111111,
              "#46039f"
             ],
             [
              0.2222222222222222,
              "#7201a8"
             ],
             [
              0.3333333333333333,
              "#9c179e"
             ],
             [
              0.4444444444444444,
              "#bd3786"
             ],
             [
              0.5555555555555556,
              "#d8576b"
             ],
             [
              0.6666666666666666,
              "#ed7953"
             ],
             [
              0.7777777777777778,
              "#fb9f3a"
             ],
             [
              0.8888888888888888,
              "#fdca26"
             ],
             [
              1,
              "#f0f921"
             ]
            ],
            "type": "surface"
           }
          ],
          "table": [
           {
            "cells": {
             "fill": {
              "color": "#EBF0F8"
             },
             "line": {
              "color": "white"
             }
            },
            "header": {
             "fill": {
              "color": "#C8D4E3"
             },
             "line": {
              "color": "white"
             }
            },
            "type": "table"
           }
          ]
         },
         "layout": {
          "annotationdefaults": {
           "arrowcolor": "#2a3f5f",
           "arrowhead": 0,
           "arrowwidth": 1
          },
          "coloraxis": {
           "colorbar": {
            "outlinewidth": 0,
            "ticks": ""
           }
          },
          "colorscale": {
           "diverging": [
            [
             0,
             "#8e0152"
            ],
            [
             0.1,
             "#c51b7d"
            ],
            [
             0.2,
             "#de77ae"
            ],
            [
             0.3,
             "#f1b6da"
            ],
            [
             0.4,
             "#fde0ef"
            ],
            [
             0.5,
             "#f7f7f7"
            ],
            [
             0.6,
             "#e6f5d0"
            ],
            [
             0.7,
             "#b8e186"
            ],
            [
             0.8,
             "#7fbc41"
            ],
            [
             0.9,
             "#4d9221"
            ],
            [
             1,
             "#276419"
            ]
           ],
           "sequential": [
            [
             0,
             "#0d0887"
            ],
            [
             0.1111111111111111,
             "#46039f"
            ],
            [
             0.2222222222222222,
             "#7201a8"
            ],
            [
             0.3333333333333333,
             "#9c179e"
            ],
            [
             0.4444444444444444,
             "#bd3786"
            ],
            [
             0.5555555555555556,
             "#d8576b"
            ],
            [
             0.6666666666666666,
             "#ed7953"
            ],
            [
             0.7777777777777778,
             "#fb9f3a"
            ],
            [
             0.8888888888888888,
             "#fdca26"
            ],
            [
             1,
             "#f0f921"
            ]
           ],
           "sequentialminus": [
            [
             0,
             "#0d0887"
            ],
            [
             0.1111111111111111,
             "#46039f"
            ],
            [
             0.2222222222222222,
             "#7201a8"
            ],
            [
             0.3333333333333333,
             "#9c179e"
            ],
            [
             0.4444444444444444,
             "#bd3786"
            ],
            [
             0.5555555555555556,
             "#d8576b"
            ],
            [
             0.6666666666666666,
             "#ed7953"
            ],
            [
             0.7777777777777778,
             "#fb9f3a"
            ],
            [
             0.8888888888888888,
             "#fdca26"
            ],
            [
             1,
             "#f0f921"
            ]
           ]
          },
          "colorway": [
           "#636efa",
           "#EF553B",
           "#00cc96",
           "#ab63fa",
           "#FFA15A",
           "#19d3f3",
           "#FF6692",
           "#B6E880",
           "#FF97FF",
           "#FECB52"
          ],
          "font": {
           "color": "#2a3f5f"
          },
          "geo": {
           "bgcolor": "white",
           "lakecolor": "white",
           "landcolor": "#E5ECF6",
           "showlakes": true,
           "showland": true,
           "subunitcolor": "white"
          },
          "hoverlabel": {
           "align": "left"
          },
          "hovermode": "closest",
          "mapbox": {
           "style": "light"
          },
          "paper_bgcolor": "white",
          "plot_bgcolor": "#E5ECF6",
          "polar": {
           "angularaxis": {
            "gridcolor": "white",
            "linecolor": "white",
            "ticks": ""
           },
           "bgcolor": "#E5ECF6",
           "radialaxis": {
            "gridcolor": "white",
            "linecolor": "white",
            "ticks": ""
           }
          },
          "scene": {
           "xaxis": {
            "backgroundcolor": "#E5ECF6",
            "gridcolor": "white",
            "gridwidth": 2,
            "linecolor": "white",
            "showbackground": true,
            "ticks": "",
            "zerolinecolor": "white"
           },
           "yaxis": {
            "backgroundcolor": "#E5ECF6",
            "gridcolor": "white",
            "gridwidth": 2,
            "linecolor": "white",
            "showbackground": true,
            "ticks": "",
            "zerolinecolor": "white"
           },
           "zaxis": {
            "backgroundcolor": "#E5ECF6",
            "gridcolor": "white",
            "gridwidth": 2,
            "linecolor": "white",
            "showbackground": true,
            "ticks": "",
            "zerolinecolor": "white"
           }
          },
          "shapedefaults": {
           "line": {
            "color": "#2a3f5f"
           }
          },
          "ternary": {
           "aaxis": {
            "gridcolor": "white",
            "linecolor": "white",
            "ticks": ""
           },
           "baxis": {
            "gridcolor": "white",
            "linecolor": "white",
            "ticks": ""
           },
           "bgcolor": "#E5ECF6",
           "caxis": {
            "gridcolor": "white",
            "linecolor": "white",
            "ticks": ""
           }
          },
          "title": {
           "x": 0.05
          },
          "xaxis": {
           "automargin": true,
           "gridcolor": "white",
           "linecolor": "white",
           "ticks": "",
           "title": {
            "standoff": 15
           },
           "zerolinecolor": "white",
           "zerolinewidth": 2
          },
          "yaxis": {
           "automargin": true,
           "gridcolor": "white",
           "linecolor": "white",
           "ticks": "",
           "title": {
            "standoff": 15
           },
           "zerolinecolor": "white",
           "zerolinewidth": 2
          }
         }
        },
        "xaxis": {
         "dtick": 1,
         "gridcolor": "rgb(0, 0, 0)",
         "side": "top",
         "ticks": ""
        },
        "yaxis": {
         "dtick": 1,
         "ticks": "",
         "ticksuffix": "  "
        }
       }
      },
      "text/html": [
       "<div>\n",
       "        \n",
       "        \n",
       "            <div id=\"61e4d938-9780-48dd-8ed7-53365d7327bf\" class=\"plotly-graph-div\" style=\"height:525px; width:100%;\"></div>\n",
       "            <script type=\"text/javascript\">\n",
       "                require([\"plotly\"], function(Plotly) {\n",
       "                    window.PLOTLYENV=window.PLOTLYENV || {};\n",
       "                    \n",
       "                if (document.getElementById(\"61e4d938-9780-48dd-8ed7-53365d7327bf\")) {\n",
       "                    Plotly.newPlot(\n",
       "                        '61e4d938-9780-48dd-8ed7-53365d7327bf',\n",
       "                        [{\"colorscale\": [[0.0, \"rgb(12,51,131)\"], [0.25, \"rgb(10,136,186)\"], [0.5, \"rgb(242,211,56)\"], [0.75, \"rgb(242,143,56)\"], [1.0, \"rgb(217,30,30)\"]], \"reversescale\": false, \"showscale\": true, \"type\": \"heatmap\", \"x\": [\"review/appearance\", \"review/aroma\", \"review/palate\", \"review/taste\", \"review/overall\", \"beer/ABV\"], \"y\": [\"review/appearance\", \"review/aroma\", \"review/palate\", \"review/taste\", \"review/overall\", \"beer/ABV\"], \"z\": [[1.0, 0.5232966852610188, 0.5387321449574258, 0.5108607808047437, 0.4669076265086169, 0.3009194601923864], [0.5232966852610188, 1.0, 0.5932801215525204, 0.7009166692864212, 0.5965340775908462, 0.39760879958175166], [0.5387321449574258, 0.5932801215525204, 1.0, 0.7142065027795105, 0.676875351820133, 0.3679525150613688], [0.5108607808047437, 0.7009166692864212, 0.7142065027795105, 1.0, 0.770479440154428, 0.3678094584211863], [0.4669076265086169, 0.5965340775908462, 0.676875351820133, 0.770479440154428, 1.0, 0.20138152009866905], [0.3009194601923864, 0.39760879958175166, 0.3679525150613688, 0.3678094584211863, 0.20138152009866905, 1.0]]}],\n",
       "                        {\"annotations\": [{\"font\": {\"color\": \"white\"}, \"showarrow\": false, \"text\": \"1.0\", \"x\": \"review/appearance\", \"xref\": \"x\", \"y\": \"review/appearance\", \"yref\": \"y\"}, {\"font\": {\"color\": \"white\"}, \"showarrow\": false, \"text\": \"0.52\", \"x\": \"review/aroma\", \"xref\": \"x\", \"y\": \"review/appearance\", \"yref\": \"y\"}, {\"font\": {\"color\": \"white\"}, \"showarrow\": false, \"text\": \"0.54\", \"x\": \"review/palate\", \"xref\": \"x\", \"y\": \"review/appearance\", \"yref\": \"y\"}, {\"font\": {\"color\": \"white\"}, \"showarrow\": false, \"text\": \"0.51\", \"x\": \"review/taste\", \"xref\": \"x\", \"y\": \"review/appearance\", \"yref\": \"y\"}, {\"font\": {\"color\": \"white\"}, \"showarrow\": false, \"text\": \"0.47\", \"x\": \"review/overall\", \"xref\": \"x\", \"y\": \"review/appearance\", \"yref\": \"y\"}, {\"font\": {\"color\": \"white\"}, \"showarrow\": false, \"text\": \"0.3\", \"x\": \"beer/ABV\", \"xref\": \"x\", \"y\": \"review/appearance\", \"yref\": \"y\"}, {\"font\": {\"color\": \"white\"}, \"showarrow\": false, \"text\": \"0.52\", \"x\": \"review/appearance\", \"xref\": \"x\", \"y\": \"review/aroma\", \"yref\": \"y\"}, {\"font\": {\"color\": \"white\"}, \"showarrow\": false, \"text\": \"1.0\", \"x\": \"review/aroma\", \"xref\": \"x\", \"y\": \"review/aroma\", \"yref\": \"y\"}, {\"font\": {\"color\": \"white\"}, \"showarrow\": false, \"text\": \"0.59\", \"x\": \"review/palate\", \"xref\": \"x\", \"y\": \"review/aroma\", \"yref\": \"y\"}, {\"font\": {\"color\": \"white\"}, \"showarrow\": false, \"text\": \"0.7\", \"x\": \"review/taste\", \"xref\": \"x\", \"y\": \"review/aroma\", \"yref\": \"y\"}, {\"font\": {\"color\": \"white\"}, \"showarrow\": false, \"text\": \"0.6\", \"x\": \"review/overall\", \"xref\": \"x\", \"y\": \"review/aroma\", \"yref\": \"y\"}, {\"font\": {\"color\": \"white\"}, \"showarrow\": false, \"text\": \"0.4\", \"x\": \"beer/ABV\", \"xref\": \"x\", \"y\": \"review/aroma\", \"yref\": \"y\"}, {\"font\": {\"color\": \"white\"}, \"showarrow\": false, \"text\": \"0.54\", \"x\": \"review/appearance\", \"xref\": \"x\", \"y\": \"review/palate\", \"yref\": \"y\"}, {\"font\": {\"color\": \"white\"}, \"showarrow\": false, \"text\": \"0.59\", \"x\": \"review/aroma\", \"xref\": \"x\", \"y\": \"review/palate\", \"yref\": \"y\"}, {\"font\": {\"color\": \"white\"}, \"showarrow\": false, \"text\": \"1.0\", \"x\": \"review/palate\", \"xref\": \"x\", \"y\": \"review/palate\", \"yref\": \"y\"}, {\"font\": {\"color\": \"white\"}, \"showarrow\": false, \"text\": \"0.71\", \"x\": \"review/taste\", \"xref\": \"x\", \"y\": \"review/palate\", \"yref\": \"y\"}, {\"font\": {\"color\": \"white\"}, \"showarrow\": false, \"text\": \"0.68\", \"x\": \"review/overall\", \"xref\": \"x\", \"y\": \"review/palate\", \"yref\": \"y\"}, {\"font\": {\"color\": \"white\"}, \"showarrow\": false, \"text\": \"0.37\", \"x\": \"beer/ABV\", \"xref\": \"x\", \"y\": \"review/palate\", \"yref\": \"y\"}, {\"font\": {\"color\": \"white\"}, \"showarrow\": false, \"text\": \"0.51\", \"x\": \"review/appearance\", \"xref\": \"x\", \"y\": \"review/taste\", \"yref\": \"y\"}, {\"font\": {\"color\": \"white\"}, \"showarrow\": false, \"text\": \"0.7\", \"x\": \"review/aroma\", \"xref\": \"x\", \"y\": \"review/taste\", \"yref\": \"y\"}, {\"font\": {\"color\": \"white\"}, \"showarrow\": false, \"text\": \"0.71\", \"x\": \"review/palate\", \"xref\": \"x\", \"y\": \"review/taste\", \"yref\": \"y\"}, {\"font\": {\"color\": \"white\"}, \"showarrow\": false, \"text\": \"1.0\", \"x\": \"review/taste\", \"xref\": \"x\", \"y\": \"review/taste\", \"yref\": \"y\"}, {\"font\": {\"color\": \"white\"}, \"showarrow\": false, \"text\": \"0.77\", \"x\": \"review/overall\", \"xref\": \"x\", \"y\": \"review/taste\", \"yref\": \"y\"}, {\"font\": {\"color\": \"white\"}, \"showarrow\": false, \"text\": \"0.37\", \"x\": \"beer/ABV\", \"xref\": \"x\", \"y\": \"review/taste\", \"yref\": \"y\"}, {\"font\": {\"color\": \"white\"}, \"showarrow\": false, \"text\": \"0.47\", \"x\": \"review/appearance\", \"xref\": \"x\", \"y\": \"review/overall\", \"yref\": \"y\"}, {\"font\": {\"color\": \"white\"}, \"showarrow\": false, \"text\": \"0.6\", \"x\": \"review/aroma\", \"xref\": \"x\", \"y\": \"review/overall\", \"yref\": \"y\"}, {\"font\": {\"color\": \"white\"}, \"showarrow\": false, \"text\": \"0.68\", \"x\": \"review/palate\", \"xref\": \"x\", \"y\": \"review/overall\", \"yref\": \"y\"}, {\"font\": {\"color\": \"white\"}, \"showarrow\": false, \"text\": \"0.77\", \"x\": \"review/taste\", \"xref\": \"x\", \"y\": \"review/overall\", \"yref\": \"y\"}, {\"font\": {\"color\": \"white\"}, \"showarrow\": false, \"text\": \"1.0\", \"x\": \"review/overall\", \"xref\": \"x\", \"y\": \"review/overall\", \"yref\": \"y\"}, {\"font\": {\"color\": \"white\"}, \"showarrow\": false, \"text\": \"0.2\", \"x\": \"beer/ABV\", \"xref\": \"x\", \"y\": \"review/overall\", \"yref\": \"y\"}, {\"font\": {\"color\": \"white\"}, \"showarrow\": false, \"text\": \"0.3\", \"x\": \"review/appearance\", \"xref\": \"x\", \"y\": \"beer/ABV\", \"yref\": \"y\"}, {\"font\": {\"color\": \"white\"}, \"showarrow\": false, \"text\": \"0.4\", \"x\": \"review/aroma\", \"xref\": \"x\", \"y\": \"beer/ABV\", \"yref\": \"y\"}, {\"font\": {\"color\": \"white\"}, \"showarrow\": false, \"text\": \"0.37\", \"x\": \"review/palate\", \"xref\": \"x\", \"y\": \"beer/ABV\", \"yref\": \"y\"}, {\"font\": {\"color\": \"white\"}, \"showarrow\": false, \"text\": \"0.37\", \"x\": \"review/taste\", \"xref\": \"x\", \"y\": \"beer/ABV\", \"yref\": \"y\"}, {\"font\": {\"color\": \"white\"}, \"showarrow\": false, \"text\": \"0.2\", \"x\": \"review/overall\", \"xref\": \"x\", \"y\": \"beer/ABV\", \"yref\": \"y\"}, {\"font\": {\"color\": \"white\"}, \"showarrow\": false, \"text\": \"1.0\", \"x\": \"beer/ABV\", \"xref\": \"x\", \"y\": \"beer/ABV\", \"yref\": \"y\"}], \"template\": {\"data\": {\"bar\": [{\"error_x\": {\"color\": \"#2a3f5f\"}, \"error_y\": {\"color\": \"#2a3f5f\"}, \"marker\": {\"line\": {\"color\": \"#E5ECF6\", \"width\": 0.5}}, \"type\": \"bar\"}], \"barpolar\": [{\"marker\": {\"line\": {\"color\": \"#E5ECF6\", \"width\": 0.5}}, \"type\": \"barpolar\"}], \"carpet\": [{\"aaxis\": {\"endlinecolor\": \"#2a3f5f\", \"gridcolor\": \"white\", \"linecolor\": \"white\", \"minorgridcolor\": \"white\", \"startlinecolor\": \"#2a3f5f\"}, \"baxis\": {\"endlinecolor\": \"#2a3f5f\", \"gridcolor\": \"white\", \"linecolor\": \"white\", \"minorgridcolor\": \"white\", \"startlinecolor\": \"#2a3f5f\"}, \"type\": \"carpet\"}], \"choropleth\": [{\"colorbar\": {\"outlinewidth\": 0, \"ticks\": \"\"}, \"type\": \"choropleth\"}], \"contour\": [{\"colorbar\": {\"outlinewidth\": 0, \"ticks\": \"\"}, \"colorscale\": [[0.0, \"#0d0887\"], [0.1111111111111111, \"#46039f\"], [0.2222222222222222, \"#7201a8\"], [0.3333333333333333, \"#9c179e\"], [0.4444444444444444, \"#bd3786\"], [0.5555555555555556, \"#d8576b\"], [0.6666666666666666, \"#ed7953\"], [0.7777777777777778, \"#fb9f3a\"], [0.8888888888888888, \"#fdca26\"], [1.0, \"#f0f921\"]], \"type\": \"contour\"}], \"contourcarpet\": [{\"colorbar\": {\"outlinewidth\": 0, \"ticks\": \"\"}, \"type\": \"contourcarpet\"}], \"heatmap\": [{\"colorbar\": {\"outlinewidth\": 0, \"ticks\": \"\"}, \"colorscale\": [[0.0, \"#0d0887\"], [0.1111111111111111, \"#46039f\"], [0.2222222222222222, \"#7201a8\"], [0.3333333333333333, \"#9c179e\"], [0.4444444444444444, \"#bd3786\"], [0.5555555555555556, \"#d8576b\"], [0.6666666666666666, \"#ed7953\"], [0.7777777777777778, \"#fb9f3a\"], [0.8888888888888888, \"#fdca26\"], [1.0, \"#f0f921\"]], \"type\": \"heatmap\"}], \"heatmapgl\": [{\"colorbar\": {\"outlinewidth\": 0, \"ticks\": \"\"}, \"colorscale\": [[0.0, \"#0d0887\"], [0.1111111111111111, \"#46039f\"], [0.2222222222222222, \"#7201a8\"], [0.3333333333333333, \"#9c179e\"], [0.4444444444444444, \"#bd3786\"], [0.5555555555555556, \"#d8576b\"], [0.6666666666666666, \"#ed7953\"], [0.7777777777777778, \"#fb9f3a\"], [0.8888888888888888, \"#fdca26\"], [1.0, \"#f0f921\"]], \"type\": \"heatmapgl\"}], \"histogram\": [{\"marker\": {\"colorbar\": {\"outlinewidth\": 0, \"ticks\": \"\"}}, \"type\": \"histogram\"}], \"histogram2d\": [{\"colorbar\": {\"outlinewidth\": 0, \"ticks\": \"\"}, \"colorscale\": [[0.0, \"#0d0887\"], [0.1111111111111111, \"#46039f\"], [0.2222222222222222, \"#7201a8\"], [0.3333333333333333, \"#9c179e\"], [0.4444444444444444, \"#bd3786\"], [0.5555555555555556, \"#d8576b\"], [0.6666666666666666, \"#ed7953\"], [0.7777777777777778, \"#fb9f3a\"], [0.8888888888888888, \"#fdca26\"], [1.0, \"#f0f921\"]], \"type\": \"histogram2d\"}], \"histogram2dcontour\": [{\"colorbar\": {\"outlinewidth\": 0, \"ticks\": \"\"}, \"colorscale\": [[0.0, \"#0d0887\"], [0.1111111111111111, \"#46039f\"], [0.2222222222222222, \"#7201a8\"], [0.3333333333333333, \"#9c179e\"], [0.4444444444444444, \"#bd3786\"], [0.5555555555555556, \"#d8576b\"], [0.6666666666666666, \"#ed7953\"], [0.7777777777777778, \"#fb9f3a\"], [0.8888888888888888, \"#fdca26\"], [1.0, \"#f0f921\"]], \"type\": \"histogram2dcontour\"}], \"mesh3d\": [{\"colorbar\": {\"outlinewidth\": 0, \"ticks\": \"\"}, \"type\": \"mesh3d\"}], \"parcoords\": [{\"line\": {\"colorbar\": {\"outlinewidth\": 0, \"ticks\": \"\"}}, \"type\": \"parcoords\"}], \"pie\": [{\"automargin\": true, \"type\": \"pie\"}], \"scatter\": [{\"marker\": {\"colorbar\": {\"outlinewidth\": 0, \"ticks\": \"\"}}, \"type\": \"scatter\"}], \"scatter3d\": [{\"line\": {\"colorbar\": {\"outlinewidth\": 0, \"ticks\": \"\"}}, \"marker\": {\"colorbar\": {\"outlinewidth\": 0, \"ticks\": \"\"}}, \"type\": \"scatter3d\"}], \"scattercarpet\": [{\"marker\": {\"colorbar\": {\"outlinewidth\": 0, \"ticks\": \"\"}}, \"type\": \"scattercarpet\"}], \"scattergeo\": [{\"marker\": {\"colorbar\": {\"outlinewidth\": 0, \"ticks\": \"\"}}, \"type\": \"scattergeo\"}], \"scattergl\": [{\"marker\": {\"colorbar\": {\"outlinewidth\": 0, \"ticks\": \"\"}}, \"type\": \"scattergl\"}], \"scattermapbox\": [{\"marker\": {\"colorbar\": {\"outlinewidth\": 0, \"ticks\": \"\"}}, \"type\": \"scattermapbox\"}], \"scatterpolar\": [{\"marker\": {\"colorbar\": {\"outlinewidth\": 0, \"ticks\": \"\"}}, \"type\": \"scatterpolar\"}], \"scatterpolargl\": [{\"marker\": {\"colorbar\": {\"outlinewidth\": 0, \"ticks\": \"\"}}, \"type\": \"scatterpolargl\"}], \"scatterternary\": [{\"marker\": {\"colorbar\": {\"outlinewidth\": 0, \"ticks\": \"\"}}, \"type\": \"scatterternary\"}], \"surface\": [{\"colorbar\": {\"outlinewidth\": 0, \"ticks\": \"\"}, \"colorscale\": [[0.0, \"#0d0887\"], [0.1111111111111111, \"#46039f\"], [0.2222222222222222, \"#7201a8\"], [0.3333333333333333, \"#9c179e\"], [0.4444444444444444, \"#bd3786\"], [0.5555555555555556, \"#d8576b\"], [0.6666666666666666, \"#ed7953\"], [0.7777777777777778, \"#fb9f3a\"], [0.8888888888888888, \"#fdca26\"], [1.0, \"#f0f921\"]], \"type\": \"surface\"}], \"table\": [{\"cells\": {\"fill\": {\"color\": \"#EBF0F8\"}, \"line\": {\"color\": \"white\"}}, \"header\": {\"fill\": {\"color\": \"#C8D4E3\"}, \"line\": {\"color\": \"white\"}}, \"type\": \"table\"}]}, \"layout\": {\"annotationdefaults\": {\"arrowcolor\": \"#2a3f5f\", \"arrowhead\": 0, \"arrowwidth\": 1}, \"coloraxis\": {\"colorbar\": {\"outlinewidth\": 0, \"ticks\": \"\"}}, \"colorscale\": {\"diverging\": [[0, \"#8e0152\"], [0.1, \"#c51b7d\"], [0.2, \"#de77ae\"], [0.3, \"#f1b6da\"], [0.4, \"#fde0ef\"], [0.5, \"#f7f7f7\"], [0.6, \"#e6f5d0\"], [0.7, \"#b8e186\"], [0.8, \"#7fbc41\"], [0.9, \"#4d9221\"], [1, \"#276419\"]], \"sequential\": [[0.0, \"#0d0887\"], [0.1111111111111111, \"#46039f\"], [0.2222222222222222, \"#7201a8\"], [0.3333333333333333, \"#9c179e\"], [0.4444444444444444, \"#bd3786\"], [0.5555555555555556, \"#d8576b\"], [0.6666666666666666, \"#ed7953\"], [0.7777777777777778, \"#fb9f3a\"], [0.8888888888888888, \"#fdca26\"], [1.0, \"#f0f921\"]], \"sequentialminus\": [[0.0, \"#0d0887\"], [0.1111111111111111, \"#46039f\"], [0.2222222222222222, \"#7201a8\"], [0.3333333333333333, \"#9c179e\"], [0.4444444444444444, \"#bd3786\"], [0.5555555555555556, \"#d8576b\"], [0.6666666666666666, \"#ed7953\"], [0.7777777777777778, \"#fb9f3a\"], [0.8888888888888888, \"#fdca26\"], [1.0, \"#f0f921\"]]}, \"colorway\": [\"#636efa\", \"#EF553B\", \"#00cc96\", \"#ab63fa\", \"#FFA15A\", \"#19d3f3\", \"#FF6692\", \"#B6E880\", \"#FF97FF\", \"#FECB52\"], \"font\": {\"color\": \"#2a3f5f\"}, \"geo\": {\"bgcolor\": \"white\", \"lakecolor\": \"white\", \"landcolor\": \"#E5ECF6\", \"showlakes\": true, \"showland\": true, \"subunitcolor\": \"white\"}, \"hoverlabel\": {\"align\": \"left\"}, \"hovermode\": \"closest\", \"mapbox\": {\"style\": \"light\"}, \"paper_bgcolor\": \"white\", \"plot_bgcolor\": \"#E5ECF6\", \"polar\": {\"angularaxis\": {\"gridcolor\": \"white\", \"linecolor\": \"white\", \"ticks\": \"\"}, \"bgcolor\": \"#E5ECF6\", \"radialaxis\": {\"gridcolor\": \"white\", \"linecolor\": \"white\", \"ticks\": \"\"}}, \"scene\": {\"xaxis\": {\"backgroundcolor\": \"#E5ECF6\", \"gridcolor\": \"white\", \"gridwidth\": 2, \"linecolor\": \"white\", \"showbackground\": true, \"ticks\": \"\", \"zerolinecolor\": \"white\"}, \"yaxis\": {\"backgroundcolor\": \"#E5ECF6\", \"gridcolor\": \"white\", \"gridwidth\": 2, \"linecolor\": \"white\", \"showbackground\": true, \"ticks\": \"\", \"zerolinecolor\": \"white\"}, \"zaxis\": {\"backgroundcolor\": \"#E5ECF6\", \"gridcolor\": \"white\", \"gridwidth\": 2, \"linecolor\": \"white\", \"showbackground\": true, \"ticks\": \"\", \"zerolinecolor\": \"white\"}}, \"shapedefaults\": {\"line\": {\"color\": \"#2a3f5f\"}}, \"ternary\": {\"aaxis\": {\"gridcolor\": \"white\", \"linecolor\": \"white\", \"ticks\": \"\"}, \"baxis\": {\"gridcolor\": \"white\", \"linecolor\": \"white\", \"ticks\": \"\"}, \"bgcolor\": \"#E5ECF6\", \"caxis\": {\"gridcolor\": \"white\", \"linecolor\": \"white\", \"ticks\": \"\"}}, \"title\": {\"x\": 0.05}, \"xaxis\": {\"automargin\": true, \"gridcolor\": \"white\", \"linecolor\": \"white\", \"ticks\": \"\", \"title\": {\"standoff\": 15}, \"zerolinecolor\": \"white\", \"zerolinewidth\": 2}, \"yaxis\": {\"automargin\": true, \"gridcolor\": \"white\", \"linecolor\": \"white\", \"ticks\": \"\", \"title\": {\"standoff\": 15}, \"zerolinecolor\": \"white\", \"zerolinewidth\": 2}}}, \"xaxis\": {\"dtick\": 1, \"gridcolor\": \"rgb(0, 0, 0)\", \"side\": \"top\", \"ticks\": \"\"}, \"yaxis\": {\"dtick\": 1, \"ticks\": \"\", \"ticksuffix\": \"  \"}},\n",
       "                        {\"responsive\": true}\n",
       "                    ).then(function(){\n",
       "                            \n",
       "var gd = document.getElementById('61e4d938-9780-48dd-8ed7-53365d7327bf');\n",
       "var x = new MutationObserver(function (mutations, observer) {{\n",
       "        var display = window.getComputedStyle(gd).display;\n",
       "        if (!display || display === 'none') {{\n",
       "            console.log([gd, 'removed!']);\n",
       "            Plotly.purge(gd);\n",
       "            observer.disconnect();\n",
       "        }}\n",
       "}});\n",
       "\n",
       "// Listen for the removal of the full notebook cells\n",
       "var notebookContainer = gd.closest('#notebook-container');\n",
       "if (notebookContainer) {{\n",
       "    x.observe(notebookContainer, {childList: true});\n",
       "}}\n",
       "\n",
       "// Listen for the clearing of the current output cell\n",
       "var outputEl = gd.closest('.output');\n",
       "if (outputEl) {{\n",
       "    x.observe(outputEl, {childList: true});\n",
       "}}\n",
       "\n",
       "                        })\n",
       "                };\n",
       "                });\n",
       "            </script>\n",
       "        </div>"
      ]
     },
     "metadata": {},
     "output_type": "display_data"
    }
   ],
   "source": [
    "#Method 2 - Heatmap: Plotly\n",
    "heat_map_plotly = ff.create_annotated_heatmap(\n",
    "    z=corr_metrics.values,\n",
    "    x=list(corr_metrics.columns),\n",
    "    y=list(corr_metrics.index),\n",
    "    annotation_text=corr_metrics.round(2).values,\n",
    "    showscale=True,\n",
    "    colorscale='Portland',\n",
    "    font_colors=['white','white'])\n",
    "\n",
    "layout = go.Layout(title=\"Correlation Heatmap\",\n",
    "                   margin = dict(l = 330))\n",
    "\n",
    "fig = go.Figure(data=heat_map_plotly, layout=layout)\n",
    "py.offline.iplot(fig)"
   ]
  },
  {
   "cell_type": "code",
   "execution_count": 80,
   "metadata": {},
   "outputs": [
    {
     "data": {
      "application/vnd.plotly.v1+json": {
       "config": {
        "linkText": "Export to plot.ly",
        "plotlyServerURL": "https://plot.ly",
        "showLink": false
       },
       "data": [
        {
         "hoverinfo": "x",
         "marker": {
          "color": "rgb(1, 87, 155)"
         },
         "opacity": 0.7,
         "orientation": "h",
         "text": [
          0.2,
          0.47,
          0.6,
          0.68,
          0.77
         ],
         "textposition": "inside",
         "type": "bar",
         "x": [
          0.20138152009866905,
          0.4669076265086169,
          0.5965340775908462,
          0.676875351820133,
          0.770479440154428
         ],
         "y": [
          "beer/ABV",
          "review/appearance",
          "review/aroma",
          "review/palate",
          "review/taste"
         ]
        }
       ],
       "layout": {
        "font": {
         "color": "dark gray",
         "family": "Courier New, monospace"
        },
        "margin": {
         "l": 130
        },
        "template": {
         "data": {
          "bar": [
           {
            "error_x": {
             "color": "#2a3f5f"
            },
            "error_y": {
             "color": "#2a3f5f"
            },
            "marker": {
             "line": {
              "color": "#E5ECF6",
              "width": 0.5
             }
            },
            "type": "bar"
           }
          ],
          "barpolar": [
           {
            "marker": {
             "line": {
              "color": "#E5ECF6",
              "width": 0.5
             }
            },
            "type": "barpolar"
           }
          ],
          "carpet": [
           {
            "aaxis": {
             "endlinecolor": "#2a3f5f",
             "gridcolor": "white",
             "linecolor": "white",
             "minorgridcolor": "white",
             "startlinecolor": "#2a3f5f"
            },
            "baxis": {
             "endlinecolor": "#2a3f5f",
             "gridcolor": "white",
             "linecolor": "white",
             "minorgridcolor": "white",
             "startlinecolor": "#2a3f5f"
            },
            "type": "carpet"
           }
          ],
          "choropleth": [
           {
            "colorbar": {
             "outlinewidth": 0,
             "ticks": ""
            },
            "type": "choropleth"
           }
          ],
          "contour": [
           {
            "colorbar": {
             "outlinewidth": 0,
             "ticks": ""
            },
            "colorscale": [
             [
              0,
              "#0d0887"
             ],
             [
              0.1111111111111111,
              "#46039f"
             ],
             [
              0.2222222222222222,
              "#7201a8"
             ],
             [
              0.3333333333333333,
              "#9c179e"
             ],
             [
              0.4444444444444444,
              "#bd3786"
             ],
             [
              0.5555555555555556,
              "#d8576b"
             ],
             [
              0.6666666666666666,
              "#ed7953"
             ],
             [
              0.7777777777777778,
              "#fb9f3a"
             ],
             [
              0.8888888888888888,
              "#fdca26"
             ],
             [
              1,
              "#f0f921"
             ]
            ],
            "type": "contour"
           }
          ],
          "contourcarpet": [
           {
            "colorbar": {
             "outlinewidth": 0,
             "ticks": ""
            },
            "type": "contourcarpet"
           }
          ],
          "heatmap": [
           {
            "colorbar": {
             "outlinewidth": 0,
             "ticks": ""
            },
            "colorscale": [
             [
              0,
              "#0d0887"
             ],
             [
              0.1111111111111111,
              "#46039f"
             ],
             [
              0.2222222222222222,
              "#7201a8"
             ],
             [
              0.3333333333333333,
              "#9c179e"
             ],
             [
              0.4444444444444444,
              "#bd3786"
             ],
             [
              0.5555555555555556,
              "#d8576b"
             ],
             [
              0.6666666666666666,
              "#ed7953"
             ],
             [
              0.7777777777777778,
              "#fb9f3a"
             ],
             [
              0.8888888888888888,
              "#fdca26"
             ],
             [
              1,
              "#f0f921"
             ]
            ],
            "type": "heatmap"
           }
          ],
          "heatmapgl": [
           {
            "colorbar": {
             "outlinewidth": 0,
             "ticks": ""
            },
            "colorscale": [
             [
              0,
              "#0d0887"
             ],
             [
              0.1111111111111111,
              "#46039f"
             ],
             [
              0.2222222222222222,
              "#7201a8"
             ],
             [
              0.3333333333333333,
              "#9c179e"
             ],
             [
              0.4444444444444444,
              "#bd3786"
             ],
             [
              0.5555555555555556,
              "#d8576b"
             ],
             [
              0.6666666666666666,
              "#ed7953"
             ],
             [
              0.7777777777777778,
              "#fb9f3a"
             ],
             [
              0.8888888888888888,
              "#fdca26"
             ],
             [
              1,
              "#f0f921"
             ]
            ],
            "type": "heatmapgl"
           }
          ],
          "histogram": [
           {
            "marker": {
             "colorbar": {
              "outlinewidth": 0,
              "ticks": ""
             }
            },
            "type": "histogram"
           }
          ],
          "histogram2d": [
           {
            "colorbar": {
             "outlinewidth": 0,
             "ticks": ""
            },
            "colorscale": [
             [
              0,
              "#0d0887"
             ],
             [
              0.1111111111111111,
              "#46039f"
             ],
             [
              0.2222222222222222,
              "#7201a8"
             ],
             [
              0.3333333333333333,
              "#9c179e"
             ],
             [
              0.4444444444444444,
              "#bd3786"
             ],
             [
              0.5555555555555556,
              "#d8576b"
             ],
             [
              0.6666666666666666,
              "#ed7953"
             ],
             [
              0.7777777777777778,
              "#fb9f3a"
             ],
             [
              0.8888888888888888,
              "#fdca26"
             ],
             [
              1,
              "#f0f921"
             ]
            ],
            "type": "histogram2d"
           }
          ],
          "histogram2dcontour": [
           {
            "colorbar": {
             "outlinewidth": 0,
             "ticks": ""
            },
            "colorscale": [
             [
              0,
              "#0d0887"
             ],
             [
              0.1111111111111111,
              "#46039f"
             ],
             [
              0.2222222222222222,
              "#7201a8"
             ],
             [
              0.3333333333333333,
              "#9c179e"
             ],
             [
              0.4444444444444444,
              "#bd3786"
             ],
             [
              0.5555555555555556,
              "#d8576b"
             ],
             [
              0.6666666666666666,
              "#ed7953"
             ],
             [
              0.7777777777777778,
              "#fb9f3a"
             ],
             [
              0.8888888888888888,
              "#fdca26"
             ],
             [
              1,
              "#f0f921"
             ]
            ],
            "type": "histogram2dcontour"
           }
          ],
          "mesh3d": [
           {
            "colorbar": {
             "outlinewidth": 0,
             "ticks": ""
            },
            "type": "mesh3d"
           }
          ],
          "parcoords": [
           {
            "line": {
             "colorbar": {
              "outlinewidth": 0,
              "ticks": ""
             }
            },
            "type": "parcoords"
           }
          ],
          "pie": [
           {
            "automargin": true,
            "type": "pie"
           }
          ],
          "scatter": [
           {
            "marker": {
             "colorbar": {
              "outlinewidth": 0,
              "ticks": ""
             }
            },
            "type": "scatter"
           }
          ],
          "scatter3d": [
           {
            "line": {
             "colorbar": {
              "outlinewidth": 0,
              "ticks": ""
             }
            },
            "marker": {
             "colorbar": {
              "outlinewidth": 0,
              "ticks": ""
             }
            },
            "type": "scatter3d"
           }
          ],
          "scattercarpet": [
           {
            "marker": {
             "colorbar": {
              "outlinewidth": 0,
              "ticks": ""
             }
            },
            "type": "scattercarpet"
           }
          ],
          "scattergeo": [
           {
            "marker": {
             "colorbar": {
              "outlinewidth": 0,
              "ticks": ""
             }
            },
            "type": "scattergeo"
           }
          ],
          "scattergl": [
           {
            "marker": {
             "colorbar": {
              "outlinewidth": 0,
              "ticks": ""
             }
            },
            "type": "scattergl"
           }
          ],
          "scattermapbox": [
           {
            "marker": {
             "colorbar": {
              "outlinewidth": 0,
              "ticks": ""
             }
            },
            "type": "scattermapbox"
           }
          ],
          "scatterpolar": [
           {
            "marker": {
             "colorbar": {
              "outlinewidth": 0,
              "ticks": ""
             }
            },
            "type": "scatterpolar"
           }
          ],
          "scatterpolargl": [
           {
            "marker": {
             "colorbar": {
              "outlinewidth": 0,
              "ticks": ""
             }
            },
            "type": "scatterpolargl"
           }
          ],
          "scatterternary": [
           {
            "marker": {
             "colorbar": {
              "outlinewidth": 0,
              "ticks": ""
             }
            },
            "type": "scatterternary"
           }
          ],
          "surface": [
           {
            "colorbar": {
             "outlinewidth": 0,
             "ticks": ""
            },
            "colorscale": [
             [
              0,
              "#0d0887"
             ],
             [
              0.1111111111111111,
              "#46039f"
             ],
             [
              0.2222222222222222,
              "#7201a8"
             ],
             [
              0.3333333333333333,
              "#9c179e"
             ],
             [
              0.4444444444444444,
              "#bd3786"
             ],
             [
              0.5555555555555556,
              "#d8576b"
             ],
             [
              0.6666666666666666,
              "#ed7953"
             ],
             [
              0.7777777777777778,
              "#fb9f3a"
             ],
             [
              0.8888888888888888,
              "#fdca26"
             ],
             [
              1,
              "#f0f921"
             ]
            ],
            "type": "surface"
           }
          ],
          "table": [
           {
            "cells": {
             "fill": {
              "color": "#EBF0F8"
             },
             "line": {
              "color": "white"
             }
            },
            "header": {
             "fill": {
              "color": "#C8D4E3"
             },
             "line": {
              "color": "white"
             }
            },
            "type": "table"
           }
          ]
         },
         "layout": {
          "annotationdefaults": {
           "arrowcolor": "#2a3f5f",
           "arrowhead": 0,
           "arrowwidth": 1
          },
          "coloraxis": {
           "colorbar": {
            "outlinewidth": 0,
            "ticks": ""
           }
          },
          "colorscale": {
           "diverging": [
            [
             0,
             "#8e0152"
            ],
            [
             0.1,
             "#c51b7d"
            ],
            [
             0.2,
             "#de77ae"
            ],
            [
             0.3,
             "#f1b6da"
            ],
            [
             0.4,
             "#fde0ef"
            ],
            [
             0.5,
             "#f7f7f7"
            ],
            [
             0.6,
             "#e6f5d0"
            ],
            [
             0.7,
             "#b8e186"
            ],
            [
             0.8,
             "#7fbc41"
            ],
            [
             0.9,
             "#4d9221"
            ],
            [
             1,
             "#276419"
            ]
           ],
           "sequential": [
            [
             0,
             "#0d0887"
            ],
            [
             0.1111111111111111,
             "#46039f"
            ],
            [
             0.2222222222222222,
             "#7201a8"
            ],
            [
             0.3333333333333333,
             "#9c179e"
            ],
            [
             0.4444444444444444,
             "#bd3786"
            ],
            [
             0.5555555555555556,
             "#d8576b"
            ],
            [
             0.6666666666666666,
             "#ed7953"
            ],
            [
             0.7777777777777778,
             "#fb9f3a"
            ],
            [
             0.8888888888888888,
             "#fdca26"
            ],
            [
             1,
             "#f0f921"
            ]
           ],
           "sequentialminus": [
            [
             0,
             "#0d0887"
            ],
            [
             0.1111111111111111,
             "#46039f"
            ],
            [
             0.2222222222222222,
             "#7201a8"
            ],
            [
             0.3333333333333333,
             "#9c179e"
            ],
            [
             0.4444444444444444,
             "#bd3786"
            ],
            [
             0.5555555555555556,
             "#d8576b"
            ],
            [
             0.6666666666666666,
             "#ed7953"
            ],
            [
             0.7777777777777778,
             "#fb9f3a"
            ],
            [
             0.8888888888888888,
             "#fdca26"
            ],
            [
             1,
             "#f0f921"
            ]
           ]
          },
          "colorway": [
           "#636efa",
           "#EF553B",
           "#00cc96",
           "#ab63fa",
           "#FFA15A",
           "#19d3f3",
           "#FF6692",
           "#B6E880",
           "#FF97FF",
           "#FECB52"
          ],
          "font": {
           "color": "#2a3f5f"
          },
          "geo": {
           "bgcolor": "white",
           "lakecolor": "white",
           "landcolor": "#E5ECF6",
           "showlakes": true,
           "showland": true,
           "subunitcolor": "white"
          },
          "hoverlabel": {
           "align": "left"
          },
          "hovermode": "closest",
          "mapbox": {
           "style": "light"
          },
          "paper_bgcolor": "white",
          "plot_bgcolor": "#E5ECF6",
          "polar": {
           "angularaxis": {
            "gridcolor": "white",
            "linecolor": "white",
            "ticks": ""
           },
           "bgcolor": "#E5ECF6",
           "radialaxis": {
            "gridcolor": "white",
            "linecolor": "white",
            "ticks": ""
           }
          },
          "scene": {
           "xaxis": {
            "backgroundcolor": "#E5ECF6",
            "gridcolor": "white",
            "gridwidth": 2,
            "linecolor": "white",
            "showbackground": true,
            "ticks": "",
            "zerolinecolor": "white"
           },
           "yaxis": {
            "backgroundcolor": "#E5ECF6",
            "gridcolor": "white",
            "gridwidth": 2,
            "linecolor": "white",
            "showbackground": true,
            "ticks": "",
            "zerolinecolor": "white"
           },
           "zaxis": {
            "backgroundcolor": "#E5ECF6",
            "gridcolor": "white",
            "gridwidth": 2,
            "linecolor": "white",
            "showbackground": true,
            "ticks": "",
            "zerolinecolor": "white"
           }
          },
          "shapedefaults": {
           "line": {
            "color": "#2a3f5f"
           }
          },
          "ternary": {
           "aaxis": {
            "gridcolor": "white",
            "linecolor": "white",
            "ticks": ""
           },
           "baxis": {
            "gridcolor": "white",
            "linecolor": "white",
            "ticks": ""
           },
           "bgcolor": "#E5ECF6",
           "caxis": {
            "gridcolor": "white",
            "linecolor": "white",
            "ticks": ""
           }
          },
          "title": {
           "x": 0.05
          },
          "xaxis": {
           "automargin": true,
           "gridcolor": "white",
           "linecolor": "white",
           "ticks": "",
           "title": {
            "standoff": 15
           },
           "zerolinecolor": "white",
           "zerolinewidth": 2
          },
          "yaxis": {
           "automargin": true,
           "gridcolor": "white",
           "linecolor": "white",
           "ticks": "",
           "title": {
            "standoff": 15
           },
           "zerolinecolor": "white",
           "zerolinewidth": 2
          }
         }
        },
        "title": {
         "text": "Correlation with Target: review_overall"
        },
        "xaxis": {
         "hoverformat": ".2f",
         "title": {
          "text": "Correlation"
         }
        }
       }
      },
      "text/html": [
       "<div>\n",
       "        \n",
       "        \n",
       "            <div id=\"b96afc91-3a8b-44ed-a969-7e46ed9c01de\" class=\"plotly-graph-div\" style=\"height:525px; width:100%;\"></div>\n",
       "            <script type=\"text/javascript\">\n",
       "                require([\"plotly\"], function(Plotly) {\n",
       "                    window.PLOTLYENV=window.PLOTLYENV || {};\n",
       "                    \n",
       "                if (document.getElementById(\"b96afc91-3a8b-44ed-a969-7e46ed9c01de\")) {\n",
       "                    Plotly.newPlot(\n",
       "                        'b96afc91-3a8b-44ed-a969-7e46ed9c01de',\n",
       "                        [{\"hoverinfo\": \"x\", \"marker\": {\"color\": \"rgb(1, 87, 155)\"}, \"opacity\": 0.7, \"orientation\": \"h\", \"text\": [0.2, 0.47, 0.6, 0.68, 0.77], \"textposition\": \"inside\", \"type\": \"bar\", \"x\": [0.20138152009866905, 0.4669076265086169, 0.5965340775908462, 0.676875351820133, 0.770479440154428], \"y\": [\"beer/ABV\", \"review/appearance\", \"review/aroma\", \"review/palate\", \"review/taste\"]}],\n",
       "                        {\"font\": {\"color\": \"dark gray\", \"family\": \"Courier New, monospace\"}, \"margin\": {\"l\": 130}, \"template\": {\"data\": {\"bar\": [{\"error_x\": {\"color\": \"#2a3f5f\"}, \"error_y\": {\"color\": \"#2a3f5f\"}, \"marker\": {\"line\": {\"color\": \"#E5ECF6\", \"width\": 0.5}}, \"type\": \"bar\"}], \"barpolar\": [{\"marker\": {\"line\": {\"color\": \"#E5ECF6\", \"width\": 0.5}}, \"type\": \"barpolar\"}], \"carpet\": [{\"aaxis\": {\"endlinecolor\": \"#2a3f5f\", \"gridcolor\": \"white\", \"linecolor\": \"white\", \"minorgridcolor\": \"white\", \"startlinecolor\": \"#2a3f5f\"}, \"baxis\": {\"endlinecolor\": \"#2a3f5f\", \"gridcolor\": \"white\", \"linecolor\": \"white\", \"minorgridcolor\": \"white\", \"startlinecolor\": \"#2a3f5f\"}, \"type\": \"carpet\"}], \"choropleth\": [{\"colorbar\": {\"outlinewidth\": 0, \"ticks\": \"\"}, \"type\": \"choropleth\"}], \"contour\": [{\"colorbar\": {\"outlinewidth\": 0, \"ticks\": \"\"}, \"colorscale\": [[0.0, \"#0d0887\"], [0.1111111111111111, \"#46039f\"], [0.2222222222222222, \"#7201a8\"], [0.3333333333333333, \"#9c179e\"], [0.4444444444444444, \"#bd3786\"], [0.5555555555555556, \"#d8576b\"], [0.6666666666666666, \"#ed7953\"], [0.7777777777777778, \"#fb9f3a\"], [0.8888888888888888, \"#fdca26\"], [1.0, \"#f0f921\"]], \"type\": \"contour\"}], \"contourcarpet\": [{\"colorbar\": {\"outlinewidth\": 0, \"ticks\": \"\"}, \"type\": \"contourcarpet\"}], \"heatmap\": [{\"colorbar\": {\"outlinewidth\": 0, \"ticks\": \"\"}, \"colorscale\": [[0.0, \"#0d0887\"], [0.1111111111111111, \"#46039f\"], [0.2222222222222222, \"#7201a8\"], [0.3333333333333333, \"#9c179e\"], [0.4444444444444444, \"#bd3786\"], [0.5555555555555556, \"#d8576b\"], [0.6666666666666666, \"#ed7953\"], [0.7777777777777778, \"#fb9f3a\"], [0.8888888888888888, \"#fdca26\"], [1.0, \"#f0f921\"]], \"type\": \"heatmap\"}], \"heatmapgl\": [{\"colorbar\": {\"outlinewidth\": 0, \"ticks\": \"\"}, \"colorscale\": [[0.0, \"#0d0887\"], [0.1111111111111111, \"#46039f\"], [0.2222222222222222, \"#7201a8\"], [0.3333333333333333, \"#9c179e\"], [0.4444444444444444, \"#bd3786\"], [0.5555555555555556, \"#d8576b\"], [0.6666666666666666, \"#ed7953\"], [0.7777777777777778, \"#fb9f3a\"], [0.8888888888888888, \"#fdca26\"], [1.0, \"#f0f921\"]], \"type\": \"heatmapgl\"}], \"histogram\": [{\"marker\": {\"colorbar\": {\"outlinewidth\": 0, \"ticks\": \"\"}}, \"type\": \"histogram\"}], \"histogram2d\": [{\"colorbar\": {\"outlinewidth\": 0, \"ticks\": \"\"}, \"colorscale\": [[0.0, \"#0d0887\"], [0.1111111111111111, \"#46039f\"], [0.2222222222222222, \"#7201a8\"], [0.3333333333333333, \"#9c179e\"], [0.4444444444444444, \"#bd3786\"], [0.5555555555555556, \"#d8576b\"], [0.6666666666666666, \"#ed7953\"], [0.7777777777777778, \"#fb9f3a\"], [0.8888888888888888, \"#fdca26\"], [1.0, \"#f0f921\"]], \"type\": \"histogram2d\"}], \"histogram2dcontour\": [{\"colorbar\": {\"outlinewidth\": 0, \"ticks\": \"\"}, \"colorscale\": [[0.0, \"#0d0887\"], [0.1111111111111111, \"#46039f\"], [0.2222222222222222, \"#7201a8\"], [0.3333333333333333, \"#9c179e\"], [0.4444444444444444, \"#bd3786\"], [0.5555555555555556, \"#d8576b\"], [0.6666666666666666, \"#ed7953\"], [0.7777777777777778, \"#fb9f3a\"], [0.8888888888888888, \"#fdca26\"], [1.0, \"#f0f921\"]], \"type\": \"histogram2dcontour\"}], \"mesh3d\": [{\"colorbar\": {\"outlinewidth\": 0, \"ticks\": \"\"}, \"type\": \"mesh3d\"}], \"parcoords\": [{\"line\": {\"colorbar\": {\"outlinewidth\": 0, \"ticks\": \"\"}}, \"type\": \"parcoords\"}], \"pie\": [{\"automargin\": true, \"type\": \"pie\"}], \"scatter\": [{\"marker\": {\"colorbar\": {\"outlinewidth\": 0, \"ticks\": \"\"}}, \"type\": \"scatter\"}], \"scatter3d\": [{\"line\": {\"colorbar\": {\"outlinewidth\": 0, \"ticks\": \"\"}}, \"marker\": {\"colorbar\": {\"outlinewidth\": 0, \"ticks\": \"\"}}, \"type\": \"scatter3d\"}], \"scattercarpet\": [{\"marker\": {\"colorbar\": {\"outlinewidth\": 0, \"ticks\": \"\"}}, \"type\": \"scattercarpet\"}], \"scattergeo\": [{\"marker\": {\"colorbar\": {\"outlinewidth\": 0, \"ticks\": \"\"}}, \"type\": \"scattergeo\"}], \"scattergl\": [{\"marker\": {\"colorbar\": {\"outlinewidth\": 0, \"ticks\": \"\"}}, \"type\": \"scattergl\"}], \"scattermapbox\": [{\"marker\": {\"colorbar\": {\"outlinewidth\": 0, \"ticks\": \"\"}}, \"type\": \"scattermapbox\"}], \"scatterpolar\": [{\"marker\": {\"colorbar\": {\"outlinewidth\": 0, \"ticks\": \"\"}}, \"type\": \"scatterpolar\"}], \"scatterpolargl\": [{\"marker\": {\"colorbar\": {\"outlinewidth\": 0, \"ticks\": \"\"}}, \"type\": \"scatterpolargl\"}], \"scatterternary\": [{\"marker\": {\"colorbar\": {\"outlinewidth\": 0, \"ticks\": \"\"}}, \"type\": \"scatterternary\"}], \"surface\": [{\"colorbar\": {\"outlinewidth\": 0, \"ticks\": \"\"}, \"colorscale\": [[0.0, \"#0d0887\"], [0.1111111111111111, \"#46039f\"], [0.2222222222222222, \"#7201a8\"], [0.3333333333333333, \"#9c179e\"], [0.4444444444444444, \"#bd3786\"], [0.5555555555555556, \"#d8576b\"], [0.6666666666666666, \"#ed7953\"], [0.7777777777777778, \"#fb9f3a\"], [0.8888888888888888, \"#fdca26\"], [1.0, \"#f0f921\"]], \"type\": \"surface\"}], \"table\": [{\"cells\": {\"fill\": {\"color\": \"#EBF0F8\"}, \"line\": {\"color\": \"white\"}}, \"header\": {\"fill\": {\"color\": \"#C8D4E3\"}, \"line\": {\"color\": \"white\"}}, \"type\": \"table\"}]}, \"layout\": {\"annotationdefaults\": {\"arrowcolor\": \"#2a3f5f\", \"arrowhead\": 0, \"arrowwidth\": 1}, \"coloraxis\": {\"colorbar\": {\"outlinewidth\": 0, \"ticks\": \"\"}}, \"colorscale\": {\"diverging\": [[0, \"#8e0152\"], [0.1, \"#c51b7d\"], [0.2, \"#de77ae\"], [0.3, \"#f1b6da\"], [0.4, \"#fde0ef\"], [0.5, \"#f7f7f7\"], [0.6, \"#e6f5d0\"], [0.7, \"#b8e186\"], [0.8, \"#7fbc41\"], [0.9, \"#4d9221\"], [1, \"#276419\"]], \"sequential\": [[0.0, \"#0d0887\"], [0.1111111111111111, \"#46039f\"], [0.2222222222222222, \"#7201a8\"], [0.3333333333333333, \"#9c179e\"], [0.4444444444444444, \"#bd3786\"], [0.5555555555555556, \"#d8576b\"], [0.6666666666666666, \"#ed7953\"], [0.7777777777777778, \"#fb9f3a\"], [0.8888888888888888, \"#fdca26\"], [1.0, \"#f0f921\"]], \"sequentialminus\": [[0.0, \"#0d0887\"], [0.1111111111111111, \"#46039f\"], [0.2222222222222222, \"#7201a8\"], [0.3333333333333333, \"#9c179e\"], [0.4444444444444444, \"#bd3786\"], [0.5555555555555556, \"#d8576b\"], [0.6666666666666666, \"#ed7953\"], [0.7777777777777778, \"#fb9f3a\"], [0.8888888888888888, \"#fdca26\"], [1.0, \"#f0f921\"]]}, \"colorway\": [\"#636efa\", \"#EF553B\", \"#00cc96\", \"#ab63fa\", \"#FFA15A\", \"#19d3f3\", \"#FF6692\", \"#B6E880\", \"#FF97FF\", \"#FECB52\"], \"font\": {\"color\": \"#2a3f5f\"}, \"geo\": {\"bgcolor\": \"white\", \"lakecolor\": \"white\", \"landcolor\": \"#E5ECF6\", \"showlakes\": true, \"showland\": true, \"subunitcolor\": \"white\"}, \"hoverlabel\": {\"align\": \"left\"}, \"hovermode\": \"closest\", \"mapbox\": {\"style\": \"light\"}, \"paper_bgcolor\": \"white\", \"plot_bgcolor\": \"#E5ECF6\", \"polar\": {\"angularaxis\": {\"gridcolor\": \"white\", \"linecolor\": \"white\", \"ticks\": \"\"}, \"bgcolor\": \"#E5ECF6\", \"radialaxis\": {\"gridcolor\": \"white\", \"linecolor\": \"white\", \"ticks\": \"\"}}, \"scene\": {\"xaxis\": {\"backgroundcolor\": \"#E5ECF6\", \"gridcolor\": \"white\", \"gridwidth\": 2, \"linecolor\": \"white\", \"showbackground\": true, \"ticks\": \"\", \"zerolinecolor\": \"white\"}, \"yaxis\": {\"backgroundcolor\": \"#E5ECF6\", \"gridcolor\": \"white\", \"gridwidth\": 2, \"linecolor\": \"white\", \"showbackground\": true, \"ticks\": \"\", \"zerolinecolor\": \"white\"}, \"zaxis\": {\"backgroundcolor\": \"#E5ECF6\", \"gridcolor\": \"white\", \"gridwidth\": 2, \"linecolor\": \"white\", \"showbackground\": true, \"ticks\": \"\", \"zerolinecolor\": \"white\"}}, \"shapedefaults\": {\"line\": {\"color\": \"#2a3f5f\"}}, \"ternary\": {\"aaxis\": {\"gridcolor\": \"white\", \"linecolor\": \"white\", \"ticks\": \"\"}, \"baxis\": {\"gridcolor\": \"white\", \"linecolor\": \"white\", \"ticks\": \"\"}, \"bgcolor\": \"#E5ECF6\", \"caxis\": {\"gridcolor\": \"white\", \"linecolor\": \"white\", \"ticks\": \"\"}}, \"title\": {\"x\": 0.05}, \"xaxis\": {\"automargin\": true, \"gridcolor\": \"white\", \"linecolor\": \"white\", \"ticks\": \"\", \"title\": {\"standoff\": 15}, \"zerolinecolor\": \"white\", \"zerolinewidth\": 2}, \"yaxis\": {\"automargin\": true, \"gridcolor\": \"white\", \"linecolor\": \"white\", \"ticks\": \"\", \"title\": {\"standoff\": 15}, \"zerolinecolor\": \"white\", \"zerolinewidth\": 2}}}, \"title\": {\"text\": \"Correlation with Target: review_overall\"}, \"xaxis\": {\"hoverformat\": \".2f\", \"title\": {\"text\": \"Correlation\"}}},\n",
       "                        {\"responsive\": true}\n",
       "                    ).then(function(){\n",
       "                            \n",
       "var gd = document.getElementById('b96afc91-3a8b-44ed-a969-7e46ed9c01de');\n",
       "var x = new MutationObserver(function (mutations, observer) {{\n",
       "        var display = window.getComputedStyle(gd).display;\n",
       "        if (!display || display === 'none') {{\n",
       "            console.log([gd, 'removed!']);\n",
       "            Plotly.purge(gd);\n",
       "            observer.disconnect();\n",
       "        }}\n",
       "}});\n",
       "\n",
       "// Listen for the removal of the full notebook cells\n",
       "var notebookContainer = gd.closest('#notebook-container');\n",
       "if (notebookContainer) {{\n",
       "    x.observe(notebookContainer, {childList: true});\n",
       "}}\n",
       "\n",
       "// Listen for the clearing of the current output cell\n",
       "var outputEl = gd.closest('.output');\n",
       "if (outputEl) {{\n",
       "    x.observe(outputEl, {childList: true});\n",
       "}}\n",
       "\n",
       "                        })\n",
       "                };\n",
       "                });\n",
       "            </script>\n",
       "        </div>"
      ]
     },
     "metadata": {},
     "output_type": "display_data"
    },
    {
     "data": {
      "text/plain": [
       "0.7"
      ]
     },
     "execution_count": 80,
     "metadata": {},
     "output_type": "execute_result"
    }
   ],
   "source": [
    "# Correlation with target review_overall\n",
    "factor_corr = corr_metrics[['review/overall']]\\\n",
    "    .drop(['review/overall'])\\\n",
    "    .reset_index()\\\n",
    "    .sort_values('review/overall', ascending=True)\n",
    "\n",
    "# Plot it with Plotly\n",
    "p4 = [go.Bar(x = factor_corr['review/overall'],\n",
    "            y = factor_corr['index'],\n",
    "            hoverinfo='x',\n",
    "            text=factor_corr['review/overall'].round(2),\n",
    "            textposition = 'inside',\n",
    "            orientation = 'h',\n",
    "            opacity=0.7, \n",
    "            marker=dict(\n",
    "                color='rgb(1, 87, 155)'))]\n",
    "\n",
    "# Pieces of Flair\n",
    "layout = go.Layout(title='Correlation with Target: review_overall',\n",
    "                   xaxis=dict(title=\"Correlation\",\n",
    "                              hoverformat = '.2f'),\n",
    "                   margin = dict(l = 130),\n",
    "                   font=dict(family='Courier New, monospace',\n",
    "                            color='dark gray'))\n",
    "\n",
    "fig = go.Figure(data=p4, layout=layout)\n",
    "\n",
    "# Plot it\n",
    "py.offline.iplot(fig)\n",
    "0.5\n",
    "0.61\n",
    "0.7\n"
   ]
  },
  {
   "cell_type": "code",
   "execution_count": 81,
   "metadata": {},
   "outputs": [
    {
     "data": {
      "image/png": "[encoded data removed]",
      "text/plain": [
       "<Figure size 432x288 with 1 Axes>"
      ]
     },
     "metadata": {},
     "output_type": "display_data"
    },
    {
     "data": {
      "text/plain": [
       "<Figure size 864x576 with 0 Axes>"
      ]
     },
     "metadata": {},
     "output_type": "display_data"
    }
   ],
   "source": [
    "#  Bar Chart: Seaborn\n",
    "sns.barplot(data=factor_corr.sort_values('review/overall', ascending=False), y=\"index\",x=\"review/overall\")\n",
    "plt.ylabel(\"\"); plt.xlabel(\"Correlation\")\n",
    "plt.title(\"Correlation with Target: review_overall\")\n",
    "plt.figure(figsize=(12,8))\n",
    "plt.show()"
   ]
  },
  {
   "cell_type": "markdown",
   "metadata": {},
   "source": [
    "## There is high correlation between review_taste and the target variable review_overall."
   ]
  },
  {
   "cell_type": "markdown",
   "metadata": {},
   "source": [
    "## others Questions can be answer based on the data analysis done below"
   ]
  },
  {
   "cell_type": "code",
   "execution_count": 82,
   "metadata": {},
   "outputs": [
    {
     "name": "stdout",
     "output_type": "stream",
     "text": [
      "Unique breweries\n",
      "by id : 135\n",
      "by name: 764\n"
     ]
    }
   ],
   "source": [
    "# Count of unique breweries\n",
    "print( 'Unique breweries' )\n",
    "print(\"by id :\", len(df['beer/brewerId'].unique()))\n",
    "print(\"by name:\", len(df['beer/name'].unique()))\n",
    "#df[ ' beer/name ' ].unique()\n",
    "\n",
    "#df['file_name'].unique())"
   ]
  },
  {
   "cell_type": "code",
   "execution_count": 83,
   "metadata": {
    "scrolled": true
   },
   "outputs": [
    {
     "name": "stdout",
     "output_type": "stream",
     "text": [
      "Unique beers\n",
      "By id: 778\n",
      "By name: 764\n"
     ]
    }
   ],
   "source": [
    "# Count of unique beers => Integrity issues evidenced => Id is not considered for subsequent analysis\n",
    "print( 'Unique beers' )\n",
    "print( 'By id:', len(df['beer/beerId' ].unique()))\n",
    "print( 'By name:', len(df['beer/name'].unique()))"
   ]
  },
  {
   "cell_type": "code",
   "execution_count": 84,
   "metadata": {},
   "outputs": [
    {
     "data": {
      "image/png": "[encoded data removed]",
      "text/plain": [
       "<Figure size 864x864 with 9 Axes>"
      ]
     },
     "metadata": {},
     "output_type": "display_data"
    }
   ],
   "source": [
    "# Histogram of all numeric features\n",
    "df.hist(figsize=(12,12))\n",
    "plt.show()"
   ]
  },
  {
   "cell_type": "markdown",
   "metadata": {},
   "source": [
    "# Top 10 popular breweries"
   ]
  },
  {
   "cell_type": "code",
   "execution_count": 85,
   "metadata": {},
   "outputs": [],
   "source": [
    "# pip install plotly==4.8.1"
   ]
  },
  {
   "cell_type": "code",
   "execution_count": 86,
   "metadata": {},
   "outputs": [],
   "source": [
    "import pandas as pd\n",
    "import numpy as np\n",
    "import matplotlib.pyplot as plt\n",
    "import seaborn as sns\n",
    "import plotly.graph_objs as go\n",
    "import plotly\n",
    "import plotly.figure_factory as ff"
   ]
  },
  {
   "cell_type": "code",
   "execution_count": 87,
   "metadata": {},
   "outputs": [
    {
     "data": {
      "application/vnd.plotly.v1+json": {
       "config": {
        "linkText": "Export to plot.ly",
        "plotlyServerURL": "https://plot.ly",
        "showLink": false
       },
       "data": [
        {
         "hoverinfo": "x",
         "marker": {
          "color": "rgb(1, 77, 102)"
         },
         "opacity": 0.75,
         "orientation": "h",
         "text": [
          568,
          1417,
          1,
          365,
          395,
          3268,
          263,
          14879,
          394,
          1199
         ],
         "textposition": "inside",
         "type": "bar",
         "x": [
          167,
          187,
          201,
          235,
          261,
          269,
          382,
          500,
          596,
          3188
         ],
         "y": [
          1,
          1.5,
          2,
          2.5,
          5,
          3,
          3.5,
          4.5,
          4
         ]
        }
       ],
       "layout": {
        "font": {
         "color": "dark gray",
         "family": "Comic Sans MS"
        },
        "margin": {
         "l": 220
        },
        "template": {
         "data": {
          "bar": [
           {
            "error_x": {
             "color": "#2a3f5f"
            },
            "error_y": {
             "color": "#2a3f5f"
            },
            "marker": {
             "line": {
              "color": "#E5ECF6",
              "width": 0.5
             }
            },
            "type": "bar"
           }
          ],
          "barpolar": [
           {
            "marker": {
             "line": {
              "color": "#E5ECF6",
              "width": 0.5
             }
            },
            "type": "barpolar"
           }
          ],
          "carpet": [
           {
            "aaxis": {
             "endlinecolor": "#2a3f5f",
             "gridcolor": "white",
             "linecolor": "white",
             "minorgridcolor": "white",
             "startlinecolor": "#2a3f5f"
            },
            "baxis": {
             "endlinecolor": "#2a3f5f",
             "gridcolor": "white",
             "linecolor": "white",
             "minorgridcolor": "white",
             "startlinecolor": "#2a3f5f"
            },
            "type": "carpet"
           }
          ],
          "choropleth": [
           {
            "colorbar": {
             "outlinewidth": 0,
             "ticks": ""
            },
            "type": "choropleth"
           }
          ],
          "contour": [
           {
            "colorbar": {
             "outlinewidth": 0,
             "ticks": ""
            },
            "colorscale": [
             [
              0,
              "#0d0887"
             ],
             [
              0.1111111111111111,
              "#46039f"
             ],
             [
              0.2222222222222222,
              "#7201a8"
             ],
             [
              0.3333333333333333,
              "#9c179e"
             ],
             [
              0.4444444444444444,
              "#bd3786"
             ],
             [
              0.5555555555555556,
              "#d8576b"
             ],
             [
              0.6666666666666666,
              "#ed7953"
             ],
             [
              0.7777777777777778,
              "#fb9f3a"
             ],
             [
              0.8888888888888888,
              "#fdca26"
             ],
             [
              1,
              "#f0f921"
             ]
            ],
            "type": "contour"
           }
          ],
          "contourcarpet": [
           {
            "colorbar": {
             "outlinewidth": 0,
             "ticks": ""
            },
            "type": "contourcarpet"
           }
          ],
          "heatmap": [
           {
            "colorbar": {
             "outlinewidth": 0,
             "ticks": ""
            },
            "colorscale": [
             [
              0,
              "#0d0887"
             ],
             [
              0.1111111111111111,
              "#46039f"
             ],
             [
              0.2222222222222222,
              "#7201a8"
             ],
             [
              0.3333333333333333,
              "#9c179e"
             ],
             [
              0.4444444444444444,
              "#bd3786"
             ],
             [
              0.5555555555555556,
              "#d8576b"
             ],
             [
              0.6666666666666666,
              "#ed7953"
             ],
             [
              0.7777777777777778,
              "#fb9f3a"
             ],
             [
              0.8888888888888888,
              "#fdca26"
             ],
             [
              1,
              "#f0f921"
             ]
            ],
            "type": "heatmap"
           }
          ],
          "heatmapgl": [
           {
            "colorbar": {
             "outlinewidth": 0,
             "ticks": ""
            },
            "colorscale": [
             [
              0,
              "#0d0887"
             ],
             [
              0.1111111111111111,
              "#46039f"
             ],
             [
              0.2222222222222222,
              "#7201a8"
             ],
             [
              0.3333333333333333,
              "#9c179e"
             ],
             [
              0.4444444444444444,
              "#bd3786"
             ],
             [
              0.5555555555555556,
              "#d8576b"
             ],
             [
              0.6666666666666666,
              "#ed7953"
             ],
             [
              0.7777777777777778,
              "#fb9f3a"
             ],
             [
              0.8888888888888888,
              "#fdca26"
             ],
             [
              1,
              "#f0f921"
             ]
            ],
            "type": "heatmapgl"
           }
          ],
          "histogram": [
           {
            "marker": {
             "colorbar": {
              "outlinewidth": 0,
              "ticks": ""
             }
            },
            "type": "histogram"
           }
          ],
          "histogram2d": [
           {
            "colorbar": {
             "outlinewidth": 0,
             "ticks": ""
            },
            "colorscale": [
             [
              0,
              "#0d0887"
             ],
             [
              0.1111111111111111,
              "#46039f"
             ],
             [
              0.2222222222222222,
              "#7201a8"
             ],
             [
              0.3333333333333333,
              "#9c179e"
             ],
             [
              0.4444444444444444,
              "#bd3786"
             ],
             [
              0.5555555555555556,
              "#d8576b"
             ],
             [
              0.6666666666666666,
              "#ed7953"
             ],
             [
              0.7777777777777778,
              "#fb9f3a"
             ],
             [
              0.8888888888888888,
              "#fdca26"
             ],
             [
              1,
              "#f0f921"
             ]
            ],
            "type": "histogram2d"
           }
          ],
          "histogram2dcontour": [
           {
            "colorbar": {
             "outlinewidth": 0,
             "ticks": ""
            },
            "colorscale": [
             [
              0,
              "#0d0887"
             ],
             [
              0.1111111111111111,
              "#46039f"
             ],
             [
              0.2222222222222222,
              "#7201a8"
             ],
             [
              0.3333333333333333,
              "#9c179e"
             ],
             [
              0.4444444444444444,
              "#bd3786"
             ],
             [
              0.5555555555555556,
              "#d8576b"
             ],
             [
              0.6666666666666666,
              "#ed7953"
             ],
             [
              0.7777777777777778,
              "#fb9f3a"
             ],
             [
              0.8888888888888888,
              "#fdca26"
             ],
             [
              1,
              "#f0f921"
             ]
            ],
            "type": "histogram2dcontour"
           }
          ],
          "mesh3d": [
           {
            "colorbar": {
             "outlinewidth": 0,
             "ticks": ""
            },
            "type": "mesh3d"
           }
          ],
          "parcoords": [
           {
            "line": {
             "colorbar": {
              "outlinewidth": 0,
              "ticks": ""
             }
            },
            "type": "parcoords"
           }
          ],
          "pie": [
           {
            "automargin": true,
            "type": "pie"
           }
          ],
          "scatter": [
           {
            "marker": {
             "colorbar": {
              "outlinewidth": 0,
              "ticks": ""
             }
            },
            "type": "scatter"
           }
          ],
          "scatter3d": [
           {
            "line": {
             "colorbar": {
              "outlinewidth": 0,
              "ticks": ""
             }
            },
            "marker": {
             "colorbar": {
              "outlinewidth": 0,
              "ticks": ""
             }
            },
            "type": "scatter3d"
           }
          ],
          "scattercarpet": [
           {
            "marker": {
             "colorbar": {
              "outlinewidth": 0,
              "ticks": ""
             }
            },
            "type": "scattercarpet"
           }
          ],
          "scattergeo": [
           {
            "marker": {
             "colorbar": {
              "outlinewidth": 0,
              "ticks": ""
             }
            },
            "type": "scattergeo"
           }
          ],
          "scattergl": [
           {
            "marker": {
             "colorbar": {
              "outlinewidth": 0,
              "ticks": ""
             }
            },
            "type": "scattergl"
           }
          ],
          "scattermapbox": [
           {
            "marker": {
             "colorbar": {
              "outlinewidth": 0,
              "ticks": ""
             }
            },
            "type": "scattermapbox"
           }
          ],
          "scatterpolar": [
           {
            "marker": {
             "colorbar": {
              "outlinewidth": 0,
              "ticks": ""
             }
            },
            "type": "scatterpolar"
           }
          ],
          "scatterpolargl": [
           {
            "marker": {
             "colorbar": {
              "outlinewidth": 0,
              "ticks": ""
             }
            },
            "type": "scatterpolargl"
           }
          ],
          "scatterternary": [
           {
            "marker": {
             "colorbar": {
              "outlinewidth": 0,
              "ticks": ""
             }
            },
            "type": "scatterternary"
           }
          ],
          "surface": [
           {
            "colorbar": {
             "outlinewidth": 0,
             "ticks": ""
            },
            "colorscale": [
             [
              0,
              "#0d0887"
             ],
             [
              0.1111111111111111,
              "#46039f"
             ],
             [
              0.2222222222222222,
              "#7201a8"
             ],
             [
              0.3333333333333333,
              "#9c179e"
             ],
             [
              0.4444444444444444,
              "#bd3786"
             ],
             [
              0.5555555555555556,
              "#d8576b"
             ],
             [
              0.6666666666666666,
              "#ed7953"
             ],
             [
              0.7777777777777778,
              "#fb9f3a"
             ],
             [
              0.8888888888888888,
              "#fdca26"
             ],
             [
              1,
              "#f0f921"
             ]
            ],
            "type": "surface"
           }
          ],
          "table": [
           {
            "cells": {
             "fill": {
              "color": "#EBF0F8"
             },
             "line": {
              "color": "white"
             }
            },
            "header": {
             "fill": {
              "color": "#C8D4E3"
             },
             "line": {
              "color": "white"
             }
            },
            "type": "table"
           }
          ]
         },
         "layout": {
          "annotationdefaults": {
           "arrowcolor": "#2a3f5f",
           "arrowhead": 0,
           "arrowwidth": 1
          },
          "coloraxis": {
           "colorbar": {
            "outlinewidth": 0,
            "ticks": ""
           }
          },
          "colorscale": {
           "diverging": [
            [
             0,
             "#8e0152"
            ],
            [
             0.1,
             "#c51b7d"
            ],
            [
             0.2,
             "#de77ae"
            ],
            [
             0.3,
             "#f1b6da"
            ],
            [
             0.4,
             "#fde0ef"
            ],
            [
             0.5,
             "#f7f7f7"
            ],
            [
             0.6,
             "#e6f5d0"
            ],
            [
             0.7,
             "#b8e186"
            ],
            [
             0.8,
             "#7fbc41"
            ],
            [
             0.9,
             "#4d9221"
            ],
            [
             1,
             "#276419"
            ]
           ],
           "sequential": [
            [
             0,
             "#0d0887"
            ],
            [
             0.1111111111111111,
             "#46039f"
            ],
            [
             0.2222222222222222,
             "#7201a8"
            ],
            [
             0.3333333333333333,
             "#9c179e"
            ],
            [
             0.4444444444444444,
             "#bd3786"
            ],
            [
             0.5555555555555556,
             "#d8576b"
            ],
            [
             0.6666666666666666,
             "#ed7953"
            ],
            [
             0.7777777777777778,
             "#fb9f3a"
            ],
            [
             0.8888888888888888,
             "#fdca26"
            ],
            [
             1,
             "#f0f921"
            ]
           ],
           "sequentialminus": [
            [
             0,
             "#0d0887"
            ],
            [
             0.1111111111111111,
             "#46039f"
            ],
            [
             0.2222222222222222,
             "#7201a8"
            ],
            [
             0.3333333333333333,
             "#9c179e"
            ],
            [
             0.4444444444444444,
             "#bd3786"
            ],
            [
             0.5555555555555556,
             "#d8576b"
            ],
            [
             0.6666666666666666,
             "#ed7953"
            ],
            [
             0.7777777777777778,
             "#fb9f3a"
            ],
            [
             0.8888888888888888,
             "#fdca26"
            ],
            [
             1,
             "#f0f921"
            ]
           ]
          },
          "colorway": [
           "#636efa",
           "#EF553B",
           "#00cc96",
           "#ab63fa",
           "#FFA15A",
           "#19d3f3",
           "#FF6692",
           "#B6E880",
           "#FF97FF",
           "#FECB52"
          ],
          "font": {
           "color": "#2a3f5f"
          },
          "geo": {
           "bgcolor": "white",
           "lakecolor": "white",
           "landcolor": "#E5ECF6",
           "showlakes": true,
           "showland": true,
           "subunitcolor": "white"
          },
          "hoverlabel": {
           "align": "left"
          },
          "hovermode": "closest",
          "mapbox": {
           "style": "light"
          },
          "paper_bgcolor": "white",
          "plot_bgcolor": "#E5ECF6",
          "polar": {
           "angularaxis": {
            "gridcolor": "white",
            "linecolor": "white",
            "ticks": ""
           },
           "bgcolor": "#E5ECF6",
           "radialaxis": {
            "gridcolor": "white",
            "linecolor": "white",
            "ticks": ""
           }
          },
          "scene": {
           "xaxis": {
            "backgroundcolor": "#E5ECF6",
            "gridcolor": "white",
            "gridwidth": 2,
            "linecolor": "white",
            "showbackground": true,
            "ticks": "",
            "zerolinecolor": "white"
           },
           "yaxis": {
            "backgroundcolor": "#E5ECF6",
            "gridcolor": "white",
            "gridwidth": 2,
            "linecolor": "white",
            "showbackground": true,
            "ticks": "",
            "zerolinecolor": "white"
           },
           "zaxis": {
            "backgroundcolor": "#E5ECF6",
            "gridcolor": "white",
            "gridwidth": 2,
            "linecolor": "white",
            "showbackground": true,
            "ticks": "",
            "zerolinecolor": "white"
           }
          },
          "shapedefaults": {
           "line": {
            "color": "#2a3f5f"
           }
          },
          "ternary": {
           "aaxis": {
            "gridcolor": "white",
            "linecolor": "white",
            "ticks": ""
           },
           "baxis": {
            "gridcolor": "white",
            "linecolor": "white",
            "ticks": ""
           },
           "bgcolor": "#E5ECF6",
           "caxis": {
            "gridcolor": "white",
            "linecolor": "white",
            "ticks": ""
           }
          },
          "title": {
           "x": 0.05
          },
          "xaxis": {
           "automargin": true,
           "gridcolor": "white",
           "linecolor": "white",
           "ticks": "",
           "title": {
            "standoff": 15
           },
           "zerolinecolor": "white",
           "zerolinewidth": 2
          },
          "yaxis": {
           "automargin": true,
           "gridcolor": "white",
           "linecolor": "white",
           "ticks": "",
           "title": {
            "standoff": 15
           },
           "zerolinecolor": "white",
           "zerolinewidth": 2
          }
         }
        },
        "title": {
         "text": "The Top 10 popular breweries"
        },
        "xaxis": {
         "title": {
          "text": "Count of breweries"
         }
        },
        "yaxis": {
         "title": {
          "text": "Overall Rating"
         }
        }
       }
      },
      "text/html": [
       "<div>\n",
       "        \n",
       "        \n",
       "            <div id=\"1401566b-a3cd-4318-b75c-75196b4f98f4\" class=\"plotly-graph-div\" style=\"height:525px; width:100%;\"></div>\n",
       "            <script type=\"text/javascript\">\n",
       "                require([\"plotly\"], function(Plotly) {\n",
       "                    window.PLOTLYENV=window.PLOTLYENV || {};\n",
       "                    \n",
       "                if (document.getElementById(\"1401566b-a3cd-4318-b75c-75196b4f98f4\")) {\n",
       "                    Plotly.newPlot(\n",
       "                        '1401566b-a3cd-4318-b75c-75196b4f98f4',\n",
       "                        [{\"hoverinfo\": \"x\", \"marker\": {\"color\": \"rgb(1, 77, 102)\"}, \"opacity\": 0.75, \"orientation\": \"h\", \"text\": [568.0, 1417.0, 1.0, 365.0, 395.0, 3268.0, 263.0, 14879.0, 394.0, 1199.0], \"textposition\": \"inside\", \"type\": \"bar\", \"x\": [167, 187, 201, 235, 261, 269, 382, 500, 596, 3188], \"y\": [1.0, 1.5, 2.0, 2.5, 5.0, 3.0, 3.5, 4.5, 4.0]}],\n",
       "                        {\"font\": {\"color\": \"dark gray\", \"family\": \"Comic Sans MS\"}, \"margin\": {\"l\": 220}, \"template\": {\"data\": {\"bar\": [{\"error_x\": {\"color\": \"#2a3f5f\"}, \"error_y\": {\"color\": \"#2a3f5f\"}, \"marker\": {\"line\": {\"color\": \"#E5ECF6\", \"width\": 0.5}}, \"type\": \"bar\"}], \"barpolar\": [{\"marker\": {\"line\": {\"color\": \"#E5ECF6\", \"width\": 0.5}}, \"type\": \"barpolar\"}], \"carpet\": [{\"aaxis\": {\"endlinecolor\": \"#2a3f5f\", \"gridcolor\": \"white\", \"linecolor\": \"white\", \"minorgridcolor\": \"white\", \"startlinecolor\": \"#2a3f5f\"}, \"baxis\": {\"endlinecolor\": \"#2a3f5f\", \"gridcolor\": \"white\", \"linecolor\": \"white\", \"minorgridcolor\": \"white\", \"startlinecolor\": \"#2a3f5f\"}, \"type\": \"carpet\"}], \"choropleth\": [{\"colorbar\": {\"outlinewidth\": 0, \"ticks\": \"\"}, \"type\": \"choropleth\"}], \"contour\": [{\"colorbar\": {\"outlinewidth\": 0, \"ticks\": \"\"}, \"colorscale\": [[0.0, \"#0d0887\"], [0.1111111111111111, \"#46039f\"], [0.2222222222222222, \"#7201a8\"], [0.3333333333333333, \"#9c179e\"], [0.4444444444444444, \"#bd3786\"], [0.5555555555555556, \"#d8576b\"], [0.6666666666666666, \"#ed7953\"], [0.7777777777777778, \"#fb9f3a\"], [0.8888888888888888, \"#fdca26\"], [1.0, \"#f0f921\"]], \"type\": \"contour\"}], \"contourcarpet\": [{\"colorbar\": {\"outlinewidth\": 0, \"ticks\": \"\"}, \"type\": \"contourcarpet\"}], \"heatmap\": [{\"colorbar\": {\"outlinewidth\": 0, \"ticks\": \"\"}, \"colorscale\": [[0.0, \"#0d0887\"], [0.1111111111111111, \"#46039f\"], [0.2222222222222222, \"#7201a8\"], [0.3333333333333333, \"#9c179e\"], [0.4444444444444444, \"#bd3786\"], [0.5555555555555556, \"#d8576b\"], [0.6666666666666666, \"#ed7953\"], [0.7777777777777778, \"#fb9f3a\"], [0.8888888888888888, \"#fdca26\"], [1.0, \"#f0f921\"]], \"type\": \"heatmap\"}], \"heatmapgl\": [{\"colorbar\": {\"outlinewidth\": 0, \"ticks\": \"\"}, \"colorscale\": [[0.0, \"#0d0887\"], [0.1111111111111111, \"#46039f\"], [0.2222222222222222, \"#7201a8\"], [0.3333333333333333, \"#9c179e\"], [0.4444444444444444, \"#bd3786\"], [0.5555555555555556, \"#d8576b\"], [0.6666666666666666, \"#ed7953\"], [0.7777777777777778, \"#fb9f3a\"], [0.8888888888888888, \"#fdca26\"], [1.0, \"#f0f921\"]], \"type\": \"heatmapgl\"}], \"histogram\": [{\"marker\": {\"colorbar\": {\"outlinewidth\": 0, \"ticks\": \"\"}}, \"type\": \"histogram\"}], \"histogram2d\": [{\"colorbar\": {\"outlinewidth\": 0, \"ticks\": \"\"}, \"colorscale\": [[0.0, \"#0d0887\"], [0.1111111111111111, \"#46039f\"], [0.2222222222222222, \"#7201a8\"], [0.3333333333333333, \"#9c179e\"], [0.4444444444444444, \"#bd3786\"], [0.5555555555555556, \"#d8576b\"], [0.6666666666666666, \"#ed7953\"], [0.7777777777777778, \"#fb9f3a\"], [0.8888888888888888, \"#fdca26\"], [1.0, \"#f0f921\"]], \"type\": \"histogram2d\"}], \"histogram2dcontour\": [{\"colorbar\": {\"outlinewidth\": 0, \"ticks\": \"\"}, \"colorscale\": [[0.0, \"#0d0887\"], [0.1111111111111111, \"#46039f\"], [0.2222222222222222, \"#7201a8\"], [0.3333333333333333, \"#9c179e\"], [0.4444444444444444, \"#bd3786\"], [0.5555555555555556, \"#d8576b\"], [0.6666666666666666, \"#ed7953\"], [0.7777777777777778, \"#fb9f3a\"], [0.8888888888888888, \"#fdca26\"], [1.0, \"#f0f921\"]], \"type\": \"histogram2dcontour\"}], \"mesh3d\": [{\"colorbar\": {\"outlinewidth\": 0, \"ticks\": \"\"}, \"type\": \"mesh3d\"}], \"parcoords\": [{\"line\": {\"colorbar\": {\"outlinewidth\": 0, \"ticks\": \"\"}}, \"type\": \"parcoords\"}], \"pie\": [{\"automargin\": true, \"type\": \"pie\"}], \"scatter\": [{\"marker\": {\"colorbar\": {\"outlinewidth\": 0, \"ticks\": \"\"}}, \"type\": \"scatter\"}], \"scatter3d\": [{\"line\": {\"colorbar\": {\"outlinewidth\": 0, \"ticks\": \"\"}}, \"marker\": {\"colorbar\": {\"outlinewidth\": 0, \"ticks\": \"\"}}, \"type\": \"scatter3d\"}], \"scattercarpet\": [{\"marker\": {\"colorbar\": {\"outlinewidth\": 0, \"ticks\": \"\"}}, \"type\": \"scattercarpet\"}], \"scattergeo\": [{\"marker\": {\"colorbar\": {\"outlinewidth\": 0, \"ticks\": \"\"}}, \"type\": \"scattergeo\"}], \"scattergl\": [{\"marker\": {\"colorbar\": {\"outlinewidth\": 0, \"ticks\": \"\"}}, \"type\": \"scattergl\"}], \"scattermapbox\": [{\"marker\": {\"colorbar\": {\"outlinewidth\": 0, \"ticks\": \"\"}}, \"type\": \"scattermapbox\"}], \"scatterpolar\": [{\"marker\": {\"colorbar\": {\"outlinewidth\": 0, \"ticks\": \"\"}}, \"type\": \"scatterpolar\"}], \"scatterpolargl\": [{\"marker\": {\"colorbar\": {\"outlinewidth\": 0, \"ticks\": \"\"}}, \"type\": \"scatterpolargl\"}], \"scatterternary\": [{\"marker\": {\"colorbar\": {\"outlinewidth\": 0, \"ticks\": \"\"}}, \"type\": \"scatterternary\"}], \"surface\": [{\"colorbar\": {\"outlinewidth\": 0, \"ticks\": \"\"}, \"colorscale\": [[0.0, \"#0d0887\"], [0.1111111111111111, \"#46039f\"], [0.2222222222222222, \"#7201a8\"], [0.3333333333333333, \"#9c179e\"], [0.4444444444444444, \"#bd3786\"], [0.5555555555555556, \"#d8576b\"], [0.6666666666666666, \"#ed7953\"], [0.7777777777777778, \"#fb9f3a\"], [0.8888888888888888, \"#fdca26\"], [1.0, \"#f0f921\"]], \"type\": \"surface\"}], \"table\": [{\"cells\": {\"fill\": {\"color\": \"#EBF0F8\"}, \"line\": {\"color\": \"white\"}}, \"header\": {\"fill\": {\"color\": \"#C8D4E3\"}, \"line\": {\"color\": \"white\"}}, \"type\": \"table\"}]}, \"layout\": {\"annotationdefaults\": {\"arrowcolor\": \"#2a3f5f\", \"arrowhead\": 0, \"arrowwidth\": 1}, \"coloraxis\": {\"colorbar\": {\"outlinewidth\": 0, \"ticks\": \"\"}}, \"colorscale\": {\"diverging\": [[0, \"#8e0152\"], [0.1, \"#c51b7d\"], [0.2, \"#de77ae\"], [0.3, \"#f1b6da\"], [0.4, \"#fde0ef\"], [0.5, \"#f7f7f7\"], [0.6, \"#e6f5d0\"], [0.7, \"#b8e186\"], [0.8, \"#7fbc41\"], [0.9, \"#4d9221\"], [1, \"#276419\"]], \"sequential\": [[0.0, \"#0d0887\"], [0.1111111111111111, \"#46039f\"], [0.2222222222222222, \"#7201a8\"], [0.3333333333333333, \"#9c179e\"], [0.4444444444444444, \"#bd3786\"], [0.5555555555555556, \"#d8576b\"], [0.6666666666666666, \"#ed7953\"], [0.7777777777777778, \"#fb9f3a\"], [0.8888888888888888, \"#fdca26\"], [1.0, \"#f0f921\"]], \"sequentialminus\": [[0.0, \"#0d0887\"], [0.1111111111111111, \"#46039f\"], [0.2222222222222222, \"#7201a8\"], [0.3333333333333333, \"#9c179e\"], [0.4444444444444444, \"#bd3786\"], [0.5555555555555556, \"#d8576b\"], [0.6666666666666666, \"#ed7953\"], [0.7777777777777778, \"#fb9f3a\"], [0.8888888888888888, \"#fdca26\"], [1.0, \"#f0f921\"]]}, \"colorway\": [\"#636efa\", \"#EF553B\", \"#00cc96\", \"#ab63fa\", \"#FFA15A\", \"#19d3f3\", \"#FF6692\", \"#B6E880\", \"#FF97FF\", \"#FECB52\"], \"font\": {\"color\": \"#2a3f5f\"}, \"geo\": {\"bgcolor\": \"white\", \"lakecolor\": \"white\", \"landcolor\": \"#E5ECF6\", \"showlakes\": true, \"showland\": true, \"subunitcolor\": \"white\"}, \"hoverlabel\": {\"align\": \"left\"}, \"hovermode\": \"closest\", \"mapbox\": {\"style\": \"light\"}, \"paper_bgcolor\": \"white\", \"plot_bgcolor\": \"#E5ECF6\", \"polar\": {\"angularaxis\": {\"gridcolor\": \"white\", \"linecolor\": \"white\", \"ticks\": \"\"}, \"bgcolor\": \"#E5ECF6\", \"radialaxis\": {\"gridcolor\": \"white\", \"linecolor\": \"white\", \"ticks\": \"\"}}, \"scene\": {\"xaxis\": {\"backgroundcolor\": \"#E5ECF6\", \"gridcolor\": \"white\", \"gridwidth\": 2, \"linecolor\": \"white\", \"showbackground\": true, \"ticks\": \"\", \"zerolinecolor\": \"white\"}, \"yaxis\": {\"backgroundcolor\": \"#E5ECF6\", \"gridcolor\": \"white\", \"gridwidth\": 2, \"linecolor\": \"white\", \"showbackground\": true, \"ticks\": \"\", \"zerolinecolor\": \"white\"}, \"zaxis\": {\"backgroundcolor\": \"#E5ECF6\", \"gridcolor\": \"white\", \"gridwidth\": 2, \"linecolor\": \"white\", \"showbackground\": true, \"ticks\": \"\", \"zerolinecolor\": \"white\"}}, \"shapedefaults\": {\"line\": {\"color\": \"#2a3f5f\"}}, \"ternary\": {\"aaxis\": {\"gridcolor\": \"white\", \"linecolor\": \"white\", \"ticks\": \"\"}, \"baxis\": {\"gridcolor\": \"white\", \"linecolor\": \"white\", \"ticks\": \"\"}, \"bgcolor\": \"#E5ECF6\", \"caxis\": {\"gridcolor\": \"white\", \"linecolor\": \"white\", \"ticks\": \"\"}}, \"title\": {\"x\": 0.05}, \"xaxis\": {\"automargin\": true, \"gridcolor\": \"white\", \"linecolor\": \"white\", \"ticks\": \"\", \"title\": {\"standoff\": 15}, \"zerolinecolor\": \"white\", \"zerolinewidth\": 2}, \"yaxis\": {\"automargin\": true, \"gridcolor\": \"white\", \"linecolor\": \"white\", \"ticks\": \"\", \"title\": {\"standoff\": 15}, \"zerolinecolor\": \"white\", \"zerolinewidth\": 2}}}, \"title\": {\"text\": \"The Top 10 popular breweries\"}, \"xaxis\": {\"title\": {\"text\": \"Count of breweries\"}}, \"yaxis\": {\"title\": {\"text\": \"Overall Rating\"}}},\n",
       "                        {\"responsive\": true}\n",
       "                    ).then(function(){\n",
       "                            \n",
       "var gd = document.getElementById('1401566b-a3cd-4318-b75c-75196b4f98f4');\n",
       "var x = new MutationObserver(function (mutations, observer) {{\n",
       "        var display = window.getComputedStyle(gd).display;\n",
       "        if (!display || display === 'none') {{\n",
       "            console.log([gd, 'removed!']);\n",
       "            Plotly.purge(gd);\n",
       "            observer.disconnect();\n",
       "        }}\n",
       "}});\n",
       "\n",
       "// Listen for the removal of the full notebook cells\n",
       "var notebookContainer = gd.closest('#notebook-container');\n",
       "if (notebookContainer) {{\n",
       "    x.observe(notebookContainer, {childList: true});\n",
       "}}\n",
       "\n",
       "// Listen for the clearing of the current output cell\n",
       "var outputEl = gd.closest('.output');\n",
       "if (outputEl) {{\n",
       "    x.observe(outputEl, {childList: true});\n",
       "}}\n",
       "\n",
       "                        })\n",
       "                };\n",
       "                });\n",
       "            </script>\n",
       "        </div>"
      ]
     },
     "metadata": {},
     "output_type": "display_data"
    }
   ],
   "source": [
    "bar = go.Bar(x=df[\"beer/brewerId\"].value_counts().head(10).sort_values(ascending=True),y=df[\"review/overall\"].value_counts().head(10).sort_values(ascending=True).index,\n",
    "             hoverinfo = 'x',text=df[\"beer/brewerId\"].value_counts().head(10).sort_values(ascending=True).index,textposition = 'inside',orientation = 'h',opacity=0.75, \n",
    "             marker=dict(color='rgb(1, 77, 102)'))\n",
    "\n",
    "layout = go.Layout(title='The Top 10 popular breweries',\n",
    "                   xaxis=dict(title=\"Count of breweries\",), yaxis=dict(title=\"Overall Rating\"),\n",
    "                   margin = dict(l = 220),\n",
    "                   font=dict(family='Comic Sans MS',\n",
    "                            color='dark gray'))\n",
    "\n",
    "fig = go.Figure(data=bar, layout=layout)\n",
    "\n",
    "# Plot it\n",
    "plotly.offline.iplot(fig)\n",
    "                    \n"
   ]
  },
  {
   "cell_type": "markdown",
   "metadata": {},
   "source": [
    "###  Feature Selection On the basis of correlation "
   ]
  },
  {
   "cell_type": "markdown",
   "metadata": {},
   "source": [
    "##### correlation between the independent variables which are the 'review/overall', 'review/aroma', 'review/appearance', 'review/palate', 'review/taste', 'beer/ABV'\n",
    "##### finding the least and highy correlated through correlation Matrix"
   ]
  },
  {
   "cell_type": "code",
   "execution_count": 88,
   "metadata": {},
   "outputs": [
    {
     "data": {
      "text/plain": [
       "Text(0.5, 1.0, 'Pearson Correlation')"
      ]
     },
     "execution_count": 88,
     "metadata": {},
     "output_type": "execute_result"
    },
    {
     "data": {
      "image/png": "[encoded data removed]",
      "text/plain": [
       "<Figure size 432x288 with 2 Axes>"
      ]
     },
     "metadata": {},
     "output_type": "display_data"
    }
   ],
   "source": [
    "# heat Map for corelation Matrix\n",
    "sns.heatmap(df[[ 'review/overall', 'review/aroma', 'review/appearance', 'review/palate', 'review/taste', 'beer/ABV',]].corr(), center = 0,  vmin = -1, vmax = 1 )\n",
    "plt.title( 'Pearson Correlation' )"
   ]
  },
  {
   "cell_type": "markdown",
   "metadata": {},
   "source": [
    "### Which of the factors (aroma, taste, appearance, palate) are most important in determining the overall quality of a beer?\n",
    "\n",
    "##### In terms of correlation (pearson or spearman), the ranking seems to be: beer/ABV,taste, palate, aroma, appearance , overall"
   ]
  },
  {
   "cell_type": "code",
   "execution_count": 89,
   "metadata": {},
   "outputs": [],
   "source": [
    "#pip install pandas_profiling"
   ]
  },
  {
   "cell_type": "code",
   "execution_count": 90,
   "metadata": {},
   "outputs": [],
   "source": [
    "import pandas_profiling\n",
    "import matplotlib.pyplot as plt\n",
    "\n",
    "\n",
    "from sklearn.linear_model import LinearRegression\n",
    "from sklearn.metrics import mean_squared_error"
   ]
  },
  {
   "cell_type": "code",
   "execution_count": 91,
   "metadata": {},
   "outputs": [],
   "source": [
    "# Defining the linear model\n",
    "linear_model = LinearRegression( normalize = True )"
   ]
  },
  {
   "cell_type": "code",
   "execution_count": 92,
   "metadata": {
    "jupyter": {
     "source_hidden": true
    }
   },
   "outputs": [],
   "source": [
    "from mpl_toolkits.mplot3d import Axes3D\n",
    "from sklearn.preprocessing import StandardScaler\n",
    "import matplotlib.pyplot as plt # plotting\n",
    "import numpy as np # linear algebra\n",
    "import os"
   ]
  },
  {
   "cell_type": "code",
   "execution_count": 93,
   "metadata": {},
   "outputs": [],
   "source": [
    "# Training and generating predictions for the model\n",
    "linear_model.fit( X = df[ [ 'review/aroma', 'review/appearance', 'review/palate', 'review/taste' ] ], y = df[ 'review/overall' ] )\n",
    "preds = linear_model.predict(df[ [ 'review/aroma', 'review/appearance', 'review/palate', 'review/taste' ] ] )"
   ]
  },
  {
   "cell_type": "code",
   "execution_count": 94,
   "metadata": {},
   "outputs": [
    {
     "data": {
      "text/plain": [
       "array([0.06046034, 0.03611679, 0.24751191, 0.53425281])"
      ]
     },
     "execution_count": 94,
     "metadata": {},
     "output_type": "execute_result"
    }
   ],
   "source": [
    "# Coeffifients for each feature (aroma, appearance, palate, taste)\n",
    "linear_model.coef_"
   ]
  },
  {
   "cell_type": "code",
   "execution_count": 95,
   "metadata": {},
   "outputs": [
    {
     "data": {
      "text/plain": [
       "0.4258088878753853"
      ]
     },
     "execution_count": 95,
     "metadata": {},
     "output_type": "execute_result"
    }
   ],
   "source": [
    "#Validating the error in the model\n",
    "# Apparently, a linear model is enough to represent the phenomenon evidencing a global error of 0.42 when the range of possible values for the target is betwenn 0 and 5\n",
    "# Most sophisitcated validation schemas must be developed\n",
    "np.sqrt( mean_squared_error(df[ 'review/overall' ], preds ) )"
   ]
  },
  {
   "cell_type": "markdown",
   "metadata": {},
   "source": [
    "### Similar to results by correlation, the coefficients contributing more information to the model are the corresponding to taste and aroma features."
   ]
  },
  {
   "cell_type": "markdown",
   "metadata": {},
   "source": [
    "#### TO  enjoy a beer due to its aroma and appearance, which beer style should I try?"
   ]
  },
  {
   "cell_type": "code",
   "execution_count": 96,
   "metadata": {},
   "outputs": [
    {
     "data": {
      "text/plain": [
       "['American Double / Imperial Stout',\n",
       " 'Russian Imperial Stout',\n",
       " 'American Porter',\n",
       " 'Belgian Strong Pale Ale',\n",
       " 'Rauchbier',\n",
       " 'American Double / Imperial IPA']"
      ]
     },
     "execution_count": 96,
     "metadata": {},
     "output_type": "execute_result"
    }
   ],
   "source": [
    "df.sort_values( by = [ 'review/aroma', 'review/appearance' ], ascending = False ).head( 10 ) [ 'beer/style' ].unique().tolist()\n"
   ]
  },
  {
   "cell_type": "code",
   "execution_count": 97,
   "metadata": {},
   "outputs": [
    {
     "data": {
      "text/plain": [
       "11757    402\n",
       "19960    313\n",
       "16074    225\n",
       "5441     223\n",
       "7463     209\n",
       "        ... \n",
       "37559      1\n",
       "62717      1\n",
       "53959      1\n",
       "53523      1\n",
       "59986      1\n",
       "Name: beer/beerId, Length: 778, dtype: int64"
      ]
     },
     "execution_count": 97,
     "metadata": {},
     "output_type": "execute_result"
    }
   ],
   "source": [
    "df[\"beer/beerId\"].value_counts()"
   ]
  },
  {
   "cell_type": "code",
   "execution_count": 98,
   "metadata": {},
   "outputs": [
    {
     "data": {
      "text/plain": [
       "4.0    2850\n",
       "4.5    1774\n",
       "3.5    1272\n",
       "3.0     651\n",
       "5.0     625\n",
       "2.5     246\n",
       "2.0     162\n",
       "1.5      47\n",
       "1.0      30\n",
       "Name: review/overall, dtype: int64"
      ]
     },
     "execution_count": 98,
     "metadata": {},
     "output_type": "execute_result"
    }
   ],
   "source": [
    "# No of ratings given by users\n",
    "df[\"review/overall\"].value_counts()"
   ]
  },
  {
   "cell_type": "code",
   "execution_count": 99,
   "metadata": {},
   "outputs": [
    {
     "data": {
      "text/plain": [
       "American Double / Imperial Stout    956\n",
       "American IPA                        645\n",
       "American Double / Imperial IPA      640\n",
       "Scotch Ale / Wee Heavy              458\n",
       "Russian Imperial Stout              419\n",
       "                                   ... \n",
       "Berliner Weissbier                    0\n",
       "Flanders Oud Bruin                    0\n",
       "Lambic - Fruit                        0\n",
       "Weizenbock                            0\n",
       "Lambic - Unblended                    0\n",
       "Name: beer/style, Length: 95, dtype: int64"
      ]
     },
     "execution_count": 99,
     "metadata": {},
     "output_type": "execute_result"
    }
   ],
   "source": [
    "# No of beers of each style\n",
    "\n",
    "df[\"beer/style\"].value_counts()"
   ]
  },
  {
   "cell_type": "code",
   "execution_count": 100,
   "metadata": {
    "scrolled": true
   },
   "outputs": [
    {
     "data": {
      "text/html": [
       "<div>\n",
       "<style scoped>\n",
       "    .dataframe tbody tr th:only-of-type {\n",
       "        vertical-align: middle;\n",
       "    }\n",
       "\n",
       "    .dataframe tbody tr th {\n",
       "        vertical-align: top;\n",
       "    }\n",
       "\n",
       "    .dataframe thead th {\n",
       "        text-align: right;\n",
       "    }\n",
       "</style>\n",
       "<table border=\"1\" class=\"dataframe\">\n",
       "  <thead>\n",
       "    <tr style=\"text-align: right;\">\n",
       "      <th></th>\n",
       "      <th>beer/ABV</th>\n",
       "      <th>beer/beerId</th>\n",
       "      <th>beer/brewerId</th>\n",
       "      <th>review/appearance</th>\n",
       "      <th>review/aroma</th>\n",
       "      <th>review/palate</th>\n",
       "      <th>review/taste</th>\n",
       "    </tr>\n",
       "    <tr>\n",
       "      <th>review/overall</th>\n",
       "      <th></th>\n",
       "      <th></th>\n",
       "      <th></th>\n",
       "      <th></th>\n",
       "      <th></th>\n",
       "      <th></th>\n",
       "      <th></th>\n",
       "    </tr>\n",
       "  </thead>\n",
       "  <tbody>\n",
       "    <tr>\n",
       "      <th>1.0</th>\n",
       "      <td>6.256667</td>\n",
       "      <td>20770.500000</td>\n",
       "      <td>3101.400000</td>\n",
       "      <td>3.000000</td>\n",
       "      <td>2.116667</td>\n",
       "      <td>2.050000</td>\n",
       "      <td>1.566667</td>\n",
       "    </tr>\n",
       "    <tr>\n",
       "      <th>1.5</th>\n",
       "      <td>6.370213</td>\n",
       "      <td>20892.744681</td>\n",
       "      <td>3515.276596</td>\n",
       "      <td>2.882979</td>\n",
       "      <td>2.382979</td>\n",
       "      <td>2.287234</td>\n",
       "      <td>1.840426</td>\n",
       "    </tr>\n",
       "    <tr>\n",
       "      <th>2.0</th>\n",
       "      <td>6.369568</td>\n",
       "      <td>25498.179012</td>\n",
       "      <td>4347.061728</td>\n",
       "      <td>3.157407</td>\n",
       "      <td>2.750000</td>\n",
       "      <td>2.580247</td>\n",
       "      <td>2.305556</td>\n",
       "    </tr>\n",
       "    <tr>\n",
       "      <th>2.5</th>\n",
       "      <td>6.775203</td>\n",
       "      <td>21790.406504</td>\n",
       "      <td>3814.817073</td>\n",
       "      <td>3.367886</td>\n",
       "      <td>3.105691</td>\n",
       "      <td>2.863821</td>\n",
       "      <td>2.804878</td>\n",
       "    </tr>\n",
       "    <tr>\n",
       "      <th>3.0</th>\n",
       "      <td>6.813702</td>\n",
       "      <td>23170.712750</td>\n",
       "      <td>3878.032258</td>\n",
       "      <td>3.537634</td>\n",
       "      <td>3.360983</td>\n",
       "      <td>3.281874</td>\n",
       "      <td>3.208909</td>\n",
       "    </tr>\n",
       "    <tr>\n",
       "      <th>3.5</th>\n",
       "      <td>7.076376</td>\n",
       "      <td>22017.024371</td>\n",
       "      <td>3179.939465</td>\n",
       "      <td>3.755110</td>\n",
       "      <td>3.670991</td>\n",
       "      <td>3.615566</td>\n",
       "      <td>3.667060</td>\n",
       "    </tr>\n",
       "    <tr>\n",
       "      <th>4.0</th>\n",
       "      <td>7.476895</td>\n",
       "      <td>21767.799649</td>\n",
       "      <td>3137.583860</td>\n",
       "      <td>3.944035</td>\n",
       "      <td>3.971228</td>\n",
       "      <td>3.942281</td>\n",
       "      <td>4.065263</td>\n",
       "    </tr>\n",
       "    <tr>\n",
       "      <th>4.5</th>\n",
       "      <td>7.866466</td>\n",
       "      <td>21161.154453</td>\n",
       "      <td>2622.798760</td>\n",
       "      <td>4.131623</td>\n",
       "      <td>4.214487</td>\n",
       "      <td>4.225197</td>\n",
       "      <td>4.388388</td>\n",
       "    </tr>\n",
       "    <tr>\n",
       "      <th>5.0</th>\n",
       "      <td>8.443104</td>\n",
       "      <td>21964.057600</td>\n",
       "      <td>2351.353600</td>\n",
       "      <td>4.379200</td>\n",
       "      <td>4.484000</td>\n",
       "      <td>4.551200</td>\n",
       "      <td>4.706400</td>\n",
       "    </tr>\n",
       "  </tbody>\n",
       "</table>\n",
       "</div>"
      ],
      "text/plain": [
       "                beer/ABV   beer/beerId  beer/brewerId  review/appearance  \\\n",
       "review/overall                                                             \n",
       "1.0             6.256667  20770.500000    3101.400000           3.000000   \n",
       "1.5             6.370213  20892.744681    3515.276596           2.882979   \n",
       "2.0             6.369568  25498.179012    4347.061728           3.157407   \n",
       "2.5             6.775203  21790.406504    3814.817073           3.367886   \n",
       "3.0             6.813702  23170.712750    3878.032258           3.537634   \n",
       "3.5             7.076376  22017.024371    3179.939465           3.755110   \n",
       "4.0             7.476895  21767.799649    3137.583860           3.944035   \n",
       "4.5             7.866466  21161.154453    2622.798760           4.131623   \n",
       "5.0             8.443104  21964.057600    2351.353600           4.379200   \n",
       "\n",
       "                review/aroma  review/palate  review/taste  \n",
       "review/overall                                             \n",
       "1.0                 2.116667       2.050000      1.566667  \n",
       "1.5                 2.382979       2.287234      1.840426  \n",
       "2.0                 2.750000       2.580247      2.305556  \n",
       "2.5                 3.105691       2.863821      2.804878  \n",
       "3.0                 3.360983       3.281874      3.208909  \n",
       "3.5                 3.670991       3.615566      3.667060  \n",
       "4.0                 3.971228       3.942281      4.065263  \n",
       "4.5                 4.214487       4.225197      4.388388  \n",
       "5.0                 4.484000       4.551200      4.706400  "
      ]
     },
     "execution_count": 100,
     "metadata": {},
     "output_type": "execute_result"
    }
   ],
   "source": [
    "# Based on overall rating \n",
    "df.groupby('review/overall').mean()\n",
    "\n"
   ]
  },
  {
   "cell_type": "code",
   "execution_count": null,
   "metadata": {},
   "outputs": [],
   "source": []
  },
  {
   "cell_type": "code",
   "execution_count": null,
   "metadata": {},
   "outputs": [],
   "source": []
  }
 ],
 "metadata": {
  "kernelspec": {
   "display_name": "Python 3",
   "language": "python",
   "name": "python3"
  },
  "language_info": {
   "codemirror_mode": {
    "name": "ipython",
    "version": 3
   },
   "file_extension": ".py",
   "mimetype": "text/x-python",
   "name": "python",
   "nbconvert_exporter": "python",
   "pygments_lexer": "ipython3",
   "version": "3.7.6"
  }
 },
 "nbformat": 4,
 "nbformat_minor": 4
}
